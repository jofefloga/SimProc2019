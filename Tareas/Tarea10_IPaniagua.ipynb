{
 "cells": [
  {
   "cell_type": "markdown",
   "metadata": {},
   "source": [
    "<img style=\"float: left; margin: 30px 15px 15px 15px;\" src=\"https://pngimage.net/wp-content/uploads/2018/06/logo-iteso-png-5.png\" width=\"300\" height=\"500\" /> \n",
    "    \n",
    "    \n",
    "### <font color='navy'> Simulación de procesos financieros. \n",
    "\n",
    "**Nombres:** Iván Paniagua García de León.\n",
    "\n",
    "**Fecha:** 06 de mayo del 2020.\n",
    "\n",
    "**Expediente** : 709025.\n",
    "**Profesor:** Oscar David Jaramillo Zuluaga.\n",
    "\n",
    "# Tarea 10: Clase 22"
   ]
  },
  {
   "cell_type": "markdown",
   "metadata": {},
   "source": [
    "## Replicar el procedimiento anterior para valoración de opciones 'call', pero en este caso para opciones tipo 'put'."
   ]
  },
  {
   "cell_type": "code",
   "execution_count": 1,
   "metadata": {},
   "outputs": [],
   "source": [
    "#importar los paquetes que se van a usar\n",
    "import pandas as pd\n",
    "import pandas_datareader.data as web\n",
    "import numpy as np\n",
    "import datetime\n",
    "import matplotlib.pyplot as plt\n",
    "import scipy.stats as st\n",
    "import seaborn as sns\n",
    "%matplotlib inline\n",
    "#algunas opciones para Pandas\n",
    "pd.set_option('display.notebook_repr_html', True)\n",
    "pd.set_option('display.max_columns', 6)\n",
    "pd.set_option('display.max_rows', 10)\n",
    "pd.set_option('display.width', 78)\n",
    "pd.set_option('precision', 3)"
   ]
  },
  {
   "cell_type": "code",
   "execution_count": 3,
   "metadata": {},
   "outputs": [
    {
     "data": {
      "text/html": [
       "<div>\n",
       "<style scoped>\n",
       "    .dataframe tbody tr th:only-of-type {\n",
       "        vertical-align: middle;\n",
       "    }\n",
       "\n",
       "    .dataframe tbody tr th {\n",
       "        vertical-align: top;\n",
       "    }\n",
       "\n",
       "    .dataframe thead th {\n",
       "        text-align: right;\n",
       "    }\n",
       "</style>\n",
       "<table border=\"1\" class=\"dataframe\">\n",
       "  <thead>\n",
       "    <tr style=\"text-align: right;\">\n",
       "      <th></th>\n",
       "      <th>Strike</th>\n",
       "      <th>Type</th>\n",
       "      <th>Symbol</th>\n",
       "      <th>...</th>\n",
       "      <th>Quote_Time</th>\n",
       "      <th>Last_Trade_Date</th>\n",
       "      <th>JSON</th>\n",
       "    </tr>\n",
       "    <tr>\n",
       "      <th>Expiry</th>\n",
       "      <th></th>\n",
       "      <th></th>\n",
       "      <th></th>\n",
       "      <th></th>\n",
       "      <th></th>\n",
       "      <th></th>\n",
       "      <th></th>\n",
       "    </tr>\n",
       "  </thead>\n",
       "  <tbody>\n",
       "    <tr>\n",
       "      <th>2020-06-19</th>\n",
       "      <td>75.0</td>\n",
       "      <td>call</td>\n",
       "      <td>AAPL200619C00075000</td>\n",
       "      <td>...</td>\n",
       "      <td>2020-05-06 09:17:56</td>\n",
       "      <td>2020-04-17 19:16:55</td>\n",
       "      <td>{'contractSymbol': 'AAPL200619C00075000', 'str...</td>\n",
       "    </tr>\n",
       "    <tr>\n",
       "      <th>2020-06-19</th>\n",
       "      <td>75.0</td>\n",
       "      <td>put</td>\n",
       "      <td>AAPL200619P00075000</td>\n",
       "      <td>...</td>\n",
       "      <td>2020-05-06 09:17:56</td>\n",
       "      <td>2020-05-05 17:53:41</td>\n",
       "      <td>{'contractSymbol': 'AAPL200619P00075000', 'str...</td>\n",
       "    </tr>\n",
       "    <tr>\n",
       "      <th>2021-01-15</th>\n",
       "      <td>75.0</td>\n",
       "      <td>call</td>\n",
       "      <td>AAPL210115C00075000</td>\n",
       "      <td>...</td>\n",
       "      <td>2020-05-06 09:17:56</td>\n",
       "      <td>2020-05-01 16:10:32</td>\n",
       "      <td>{'contractSymbol': 'AAPL210115C00075000', 'str...</td>\n",
       "    </tr>\n",
       "    <tr>\n",
       "      <th>2021-01-15</th>\n",
       "      <td>75.0</td>\n",
       "      <td>put</td>\n",
       "      <td>AAPL210115P00075000</td>\n",
       "      <td>...</td>\n",
       "      <td>2020-05-06 09:17:56</td>\n",
       "      <td>2020-05-05 18:36:18</td>\n",
       "      <td>{'contractSymbol': 'AAPL210115P00075000', 'str...</td>\n",
       "    </tr>\n",
       "    <tr>\n",
       "      <th>2021-06-18</th>\n",
       "      <td>75.0</td>\n",
       "      <td>call</td>\n",
       "      <td>AAPL210618C00075000</td>\n",
       "      <td>...</td>\n",
       "      <td>2020-05-06 09:17:56</td>\n",
       "      <td>2020-04-09 14:58:06</td>\n",
       "      <td>{'contractSymbol': 'AAPL210618C00075000', 'str...</td>\n",
       "    </tr>\n",
       "    <tr>\n",
       "      <th>...</th>\n",
       "      <td>...</td>\n",
       "      <td>...</td>\n",
       "      <td>...</td>\n",
       "      <td>...</td>\n",
       "      <td>...</td>\n",
       "      <td>...</td>\n",
       "      <td>...</td>\n",
       "    </tr>\n",
       "    <tr>\n",
       "      <th>2022-01-21</th>\n",
       "      <td>500.0</td>\n",
       "      <td>put</td>\n",
       "      <td>AAPL220121P00500000</td>\n",
       "      <td>...</td>\n",
       "      <td>2020-05-06 09:17:56</td>\n",
       "      <td>2020-05-05 19:50:00</td>\n",
       "      <td>{'contractSymbol': 'AAPL220121P00500000', 'str...</td>\n",
       "    </tr>\n",
       "    <tr>\n",
       "      <th>2022-01-21</th>\n",
       "      <td>505.0</td>\n",
       "      <td>call</td>\n",
       "      <td>AAPL220121C00505000</td>\n",
       "      <td>...</td>\n",
       "      <td>2020-05-06 09:17:56</td>\n",
       "      <td>2020-05-05 17:38:05</td>\n",
       "      <td>{'contractSymbol': 'AAPL220121C00505000', 'str...</td>\n",
       "    </tr>\n",
       "    <tr>\n",
       "      <th>2022-01-21</th>\n",
       "      <td>510.0</td>\n",
       "      <td>call</td>\n",
       "      <td>AAPL220121C00510000</td>\n",
       "      <td>...</td>\n",
       "      <td>2020-05-06 09:17:56</td>\n",
       "      <td>2020-05-05 18:56:16</td>\n",
       "      <td>{'contractSymbol': 'AAPL220121C00510000', 'str...</td>\n",
       "    </tr>\n",
       "    <tr>\n",
       "      <th>2022-01-21</th>\n",
       "      <td>515.0</td>\n",
       "      <td>call</td>\n",
       "      <td>AAPL220121C00515000</td>\n",
       "      <td>...</td>\n",
       "      <td>2020-05-06 09:17:56</td>\n",
       "      <td>2020-05-05 16:03:25</td>\n",
       "      <td>{'contractSymbol': 'AAPL220121C00515000', 'str...</td>\n",
       "    </tr>\n",
       "    <tr>\n",
       "      <th>2022-01-21</th>\n",
       "      <td>520.0</td>\n",
       "      <td>call</td>\n",
       "      <td>AAPL220121C00520000</td>\n",
       "      <td>...</td>\n",
       "      <td>2020-05-06 09:17:56</td>\n",
       "      <td>2020-05-04 19:32:04</td>\n",
       "      <td>{'contractSymbol': 'AAPL220121C00520000', 'str...</td>\n",
       "    </tr>\n",
       "  </tbody>\n",
       "</table>\n",
       "<p>1857 rows × 18 columns</p>\n",
       "</div>"
      ],
      "text/plain": [
       "            Strike  Type               Symbol  \\\n",
       "Expiry                                          \n",
       "2020-06-19    75.0  call  AAPL200619C00075000   \n",
       "2020-06-19    75.0   put  AAPL200619P00075000   \n",
       "2021-01-15    75.0  call  AAPL210115C00075000   \n",
       "2021-01-15    75.0   put  AAPL210115P00075000   \n",
       "2021-06-18    75.0  call  AAPL210618C00075000   \n",
       "...            ...   ...                  ...   \n",
       "2022-01-21   500.0   put  AAPL220121P00500000   \n",
       "2022-01-21   505.0  call  AAPL220121C00505000   \n",
       "2022-01-21   510.0  call  AAPL220121C00510000   \n",
       "2022-01-21   515.0  call  AAPL220121C00515000   \n",
       "2022-01-21   520.0  call  AAPL220121C00520000   \n",
       "\n",
       "                                  ...                          \\\n",
       "Expiry                            ...                           \n",
       "2020-06-19                        ...                           \n",
       "2020-06-19                        ...                           \n",
       "2021-01-15                        ...                           \n",
       "2021-01-15                        ...                           \n",
       "2021-06-18                        ...                           \n",
       "...                               ...                           \n",
       "2022-01-21                        ...                           \n",
       "2022-01-21                        ...                           \n",
       "2022-01-21                        ...                           \n",
       "2022-01-21                        ...                           \n",
       "2022-01-21                        ...                           \n",
       "\n",
       "                    Quote_Time     Last_Trade_Date  \\\n",
       "Expiry                                               \n",
       "2020-06-19 2020-05-06 09:17:56 2020-04-17 19:16:55   \n",
       "2020-06-19 2020-05-06 09:17:56 2020-05-05 17:53:41   \n",
       "2021-01-15 2020-05-06 09:17:56 2020-05-01 16:10:32   \n",
       "2021-01-15 2020-05-06 09:17:56 2020-05-05 18:36:18   \n",
       "2021-06-18 2020-05-06 09:17:56 2020-04-09 14:58:06   \n",
       "...                        ...                 ...   \n",
       "2022-01-21 2020-05-06 09:17:56 2020-05-05 19:50:00   \n",
       "2022-01-21 2020-05-06 09:17:56 2020-05-05 17:38:05   \n",
       "2022-01-21 2020-05-06 09:17:56 2020-05-05 18:56:16   \n",
       "2022-01-21 2020-05-06 09:17:56 2020-05-05 16:03:25   \n",
       "2022-01-21 2020-05-06 09:17:56 2020-05-04 19:32:04   \n",
       "\n",
       "                                                         JSON  \n",
       "Expiry                                                         \n",
       "2020-06-19  {'contractSymbol': 'AAPL200619C00075000', 'str...  \n",
       "2020-06-19  {'contractSymbol': 'AAPL200619P00075000', 'str...  \n",
       "2021-01-15  {'contractSymbol': 'AAPL210115C00075000', 'str...  \n",
       "2021-01-15  {'contractSymbol': 'AAPL210115P00075000', 'str...  \n",
       "2021-06-18  {'contractSymbol': 'AAPL210618C00075000', 'str...  \n",
       "...                                                       ...  \n",
       "2022-01-21  {'contractSymbol': 'AAPL220121P00500000', 'str...  \n",
       "2022-01-21  {'contractSymbol': 'AAPL220121C00505000', 'str...  \n",
       "2022-01-21  {'contractSymbol': 'AAPL220121C00510000', 'str...  \n",
       "2022-01-21  {'contractSymbol': 'AAPL220121C00515000', 'str...  \n",
       "2022-01-21  {'contractSymbol': 'AAPL220121C00520000', 'str...  \n",
       "\n",
       "[1857 rows x 18 columns]"
      ]
     },
     "execution_count": 3,
     "metadata": {},
     "output_type": "execute_result"
    }
   ],
   "source": [
    "aapl = web.YahooOptions('AAPL')\n",
    "aapl_opt = aapl.get_all_data().reset_index()\n",
    "aapl_opt.set_index('Expiry')\n",
    "# aapl"
   ]
  },
  {
   "cell_type": "code",
   "execution_count": 4,
   "metadata": {},
   "outputs": [
    {
     "data": {
      "text/plain": [
       "299.96"
      ]
     },
     "execution_count": 4,
     "metadata": {},
     "output_type": "execute_result"
    }
   ],
   "source": [
    "aapl_opt.Underlying_Price[0]"
   ]
  },
  {
   "cell_type": "code",
   "execution_count": 8,
   "metadata": {},
   "outputs": [
    {
     "data": {
      "text/html": [
       "<div>\n",
       "<style scoped>\n",
       "    .dataframe tbody tr th:only-of-type {\n",
       "        vertical-align: middle;\n",
       "    }\n",
       "\n",
       "    .dataframe tbody tr th {\n",
       "        vertical-align: top;\n",
       "    }\n",
       "\n",
       "    .dataframe thead th {\n",
       "        text-align: right;\n",
       "    }\n",
       "</style>\n",
       "<table border=\"1\" class=\"dataframe\">\n",
       "  <thead>\n",
       "    <tr style=\"text-align: right;\">\n",
       "      <th></th>\n",
       "      <th>Strike</th>\n",
       "      <th>Expiry</th>\n",
       "      <th>Type</th>\n",
       "      <th>...</th>\n",
       "      <th>Quote_Time</th>\n",
       "      <th>Last_Trade_Date</th>\n",
       "      <th>JSON</th>\n",
       "    </tr>\n",
       "  </thead>\n",
       "  <tbody>\n",
       "    <tr>\n",
       "      <th>1</th>\n",
       "      <td>75.0</td>\n",
       "      <td>2020-06-19</td>\n",
       "      <td>put</td>\n",
       "      <td>...</td>\n",
       "      <td>2020-05-06 09:17:56</td>\n",
       "      <td>2020-05-05 17:53:41</td>\n",
       "      <td>{'contractSymbol': 'AAPL200619P00075000', 'str...</td>\n",
       "    </tr>\n",
       "    <tr>\n",
       "      <th>7</th>\n",
       "      <td>80.0</td>\n",
       "      <td>2020-06-19</td>\n",
       "      <td>put</td>\n",
       "      <td>...</td>\n",
       "      <td>2020-05-06 09:17:56</td>\n",
       "      <td>2020-05-04 13:44:14</td>\n",
       "      <td>{'contractSymbol': 'AAPL200619P00080000', 'str...</td>\n",
       "    </tr>\n",
       "    <tr>\n",
       "      <th>13</th>\n",
       "      <td>85.0</td>\n",
       "      <td>2020-06-19</td>\n",
       "      <td>put</td>\n",
       "      <td>...</td>\n",
       "      <td>2020-05-06 09:17:56</td>\n",
       "      <td>2020-05-05 15:36:29</td>\n",
       "      <td>{'contractSymbol': 'AAPL200619P00085000', 'str...</td>\n",
       "    </tr>\n",
       "    <tr>\n",
       "      <th>19</th>\n",
       "      <td>90.0</td>\n",
       "      <td>2020-06-19</td>\n",
       "      <td>put</td>\n",
       "      <td>...</td>\n",
       "      <td>2020-05-06 09:17:56</td>\n",
       "      <td>2020-05-05 16:23:26</td>\n",
       "      <td>{'contractSymbol': 'AAPL200619P00090000', 'str...</td>\n",
       "    </tr>\n",
       "    <tr>\n",
       "      <th>25</th>\n",
       "      <td>95.0</td>\n",
       "      <td>2020-06-19</td>\n",
       "      <td>put</td>\n",
       "      <td>...</td>\n",
       "      <td>2020-05-06 09:17:56</td>\n",
       "      <td>2020-04-30 17:27:27</td>\n",
       "      <td>{'contractSymbol': 'AAPL200619P00095000', 'str...</td>\n",
       "    </tr>\n",
       "    <tr>\n",
       "      <th>...</th>\n",
       "      <td>...</td>\n",
       "      <td>...</td>\n",
       "      <td>...</td>\n",
       "      <td>...</td>\n",
       "      <td>...</td>\n",
       "      <td>...</td>\n",
       "      <td>...</td>\n",
       "    </tr>\n",
       "    <tr>\n",
       "      <th>1746</th>\n",
       "      <td>440.0</td>\n",
       "      <td>2020-06-19</td>\n",
       "      <td>put</td>\n",
       "      <td>...</td>\n",
       "      <td>2020-05-06 09:17:56</td>\n",
       "      <td>2020-04-30 13:47:33</td>\n",
       "      <td>{'contractSymbol': 'AAPL200619P00440000', 'str...</td>\n",
       "    </tr>\n",
       "    <tr>\n",
       "      <th>1764</th>\n",
       "      <td>450.0</td>\n",
       "      <td>2020-06-19</td>\n",
       "      <td>put</td>\n",
       "      <td>...</td>\n",
       "      <td>2020-05-06 09:17:56</td>\n",
       "      <td>2020-01-31 17:18:29</td>\n",
       "      <td>{'contractSymbol': 'AAPL200619P00450000', 'str...</td>\n",
       "    </tr>\n",
       "    <tr>\n",
       "      <th>1797</th>\n",
       "      <td>470.0</td>\n",
       "      <td>2020-06-19</td>\n",
       "      <td>put</td>\n",
       "      <td>...</td>\n",
       "      <td>2020-05-06 09:17:56</td>\n",
       "      <td>2020-01-31 17:16:19</td>\n",
       "      <td>{'contractSymbol': 'AAPL200619P00470000', 'str...</td>\n",
       "    </tr>\n",
       "    <tr>\n",
       "      <th>1831</th>\n",
       "      <td>490.0</td>\n",
       "      <td>2020-06-19</td>\n",
       "      <td>put</td>\n",
       "      <td>...</td>\n",
       "      <td>2020-05-06 09:17:56</td>\n",
       "      <td>2020-02-10 17:09:39</td>\n",
       "      <td>{'contractSymbol': 'AAPL200619P00490000', 'str...</td>\n",
       "    </tr>\n",
       "    <tr>\n",
       "      <th>1842</th>\n",
       "      <td>500.0</td>\n",
       "      <td>2020-06-19</td>\n",
       "      <td>put</td>\n",
       "      <td>...</td>\n",
       "      <td>2020-05-06 09:17:56</td>\n",
       "      <td>2020-02-10 17:09:39</td>\n",
       "      <td>{'contractSymbol': 'AAPL200619P00500000', 'str...</td>\n",
       "    </tr>\n",
       "  </tbody>\n",
       "</table>\n",
       "<p>71 rows × 19 columns</p>\n",
       "</div>"
      ],
      "text/plain": [
       "      Strike     Expiry Type  \\\n",
       "1       75.0 2020-06-19  put   \n",
       "7       80.0 2020-06-19  put   \n",
       "13      85.0 2020-06-19  put   \n",
       "19      90.0 2020-06-19  put   \n",
       "25      95.0 2020-06-19  put   \n",
       "...      ...        ...  ...   \n",
       "1746   440.0 2020-06-19  put   \n",
       "1764   450.0 2020-06-19  put   \n",
       "1797   470.0 2020-06-19  put   \n",
       "1831   490.0 2020-06-19  put   \n",
       "1842   500.0 2020-06-19  put   \n",
       "\n",
       "                            ...                                  Quote_Time  \\\n",
       "1                           ...                         2020-05-06 09:17:56   \n",
       "7                           ...                         2020-05-06 09:17:56   \n",
       "13                          ...                         2020-05-06 09:17:56   \n",
       "19                          ...                         2020-05-06 09:17:56   \n",
       "25                          ...                         2020-05-06 09:17:56   \n",
       "...                         ...                                         ...   \n",
       "1746                        ...                         2020-05-06 09:17:56   \n",
       "1764                        ...                         2020-05-06 09:17:56   \n",
       "1797                        ...                         2020-05-06 09:17:56   \n",
       "1831                        ...                         2020-05-06 09:17:56   \n",
       "1842                        ...                         2020-05-06 09:17:56   \n",
       "\n",
       "         Last_Trade_Date                                               JSON  \n",
       "1    2020-05-05 17:53:41  {'contractSymbol': 'AAPL200619P00075000', 'str...  \n",
       "7    2020-05-04 13:44:14  {'contractSymbol': 'AAPL200619P00080000', 'str...  \n",
       "13   2020-05-05 15:36:29  {'contractSymbol': 'AAPL200619P00085000', 'str...  \n",
       "19   2020-05-05 16:23:26  {'contractSymbol': 'AAPL200619P00090000', 'str...  \n",
       "25   2020-04-30 17:27:27  {'contractSymbol': 'AAPL200619P00095000', 'str...  \n",
       "...                  ...                                                ...  \n",
       "1746 2020-04-30 13:47:33  {'contractSymbol': 'AAPL200619P00440000', 'str...  \n",
       "1764 2020-01-31 17:18:29  {'contractSymbol': 'AAPL200619P00450000', 'str...  \n",
       "1797 2020-01-31 17:16:19  {'contractSymbol': 'AAPL200619P00470000', 'str...  \n",
       "1831 2020-02-10 17:09:39  {'contractSymbol': 'AAPL200619P00490000', 'str...  \n",
       "1842 2020-02-10 17:09:39  {'contractSymbol': 'AAPL200619P00500000', 'str...  \n",
       "\n",
       "[71 rows x 19 columns]"
      ]
     },
     "execution_count": 8,
     "metadata": {},
     "output_type": "execute_result"
    }
   ],
   "source": [
    "fecha1 = '2020-06-19'\n",
    "fecha2 = '2021-01-15'\n",
    "put06_f1 = aapl_opt.loc[(aapl_opt.Expiry== fecha1) & (aapl_opt.Type=='put')]\n",
    "put06_f2 = aapl_opt.loc[(aapl_opt.Expiry== fecha2) & (aapl_opt.Type=='put')]\n",
    "put06_f1"
   ]
  },
  {
   "cell_type": "code",
   "execution_count": 9,
   "metadata": {},
   "outputs": [
    {
     "data": {
      "image/png": "[encoded data removed]",
      "text/plain": [
       "<Figure size 576x432 with 1 Axes>"
      ]
     },
     "metadata": {},
     "output_type": "display_data"
    }
   ],
   "source": [
    "# sonrisa de volatilidad para los put de la fecha 1\n",
    "ax = put06_f1.set_index('Strike').loc[:, 'IV'].plot(figsize=(8,6))\n",
    "ax.axvline(put06_f1.Underlying_Price.iloc[0], color='g');"
   ]
  },
  {
   "cell_type": "code",
   "execution_count": 10,
   "metadata": {},
   "outputs": [
    {
     "data": {
      "image/png": "[encoded data removed]",
      "text/plain": [
       "<Figure size 576x432 with 1 Axes>"
      ]
     },
     "metadata": {},
     "output_type": "display_data"
    }
   ],
   "source": [
    "# para los put de la fecha 2\n",
    "ax = put06_f2.set_index('Strike').loc[:, 'IV'].plot(figsize=(8,6))\n",
    "ax.axvline(put06_f2.Underlying_Price.iloc[0], color='g');"
   ]
  },
  {
   "cell_type": "code",
   "execution_count": 11,
   "metadata": {},
   "outputs": [],
   "source": [
    "# Función para descargar precios de cierre ajustados:\n",
    "def get_adj_closes(tickers, start_date=None, end_date=None):\n",
    "    # Fecha inicio por defecto (start_date='2010-01-01') y fecha fin por defecto (end_date=today)\n",
    "    # Descargamos DataFrame con todos los datos\n",
    "    closes = web.DataReader(name=tickers, data_source='yahoo', start=start_date, end=end_date)\n",
    "    # Solo necesitamos los precios ajustados en el cierre\n",
    "    closes = closes['Adj Close']\n",
    "    # Se ordenan los índices de manera ascendente\n",
    "    closes.sort_index(inplace=True)\n",
    "    return closes"
   ]
  },
  {
   "cell_type": "code",
   "execution_count": 12,
   "metadata": {},
   "outputs": [
    {
     "data": {
      "image/png": "[encoded data removed]",
      "text/plain": [
       "<Figure size 576x360 with 1 Axes>"
      ]
     },
     "metadata": {},
     "output_type": "display_data"
    }
   ],
   "source": [
    "ticker = ['AAPL']\n",
    "start_date = '2017-01-01'\n",
    "\n",
    "closes_aapl = get_adj_closes(ticker, start_date)\n",
    "closes_aapl.plot(figsize=(8,5));\n",
    "plt.legend(ticker);"
   ]
  },
  {
   "cell_type": "code",
   "execution_count": 13,
   "metadata": {},
   "outputs": [],
   "source": [
    "def calc_daily_ret(closes):\n",
    "    return np.log(closes/closes.shift(1)).iloc[1:]"
   ]
  },
  {
   "cell_type": "code",
   "execution_count": 14,
   "metadata": {},
   "outputs": [
    {
     "data": {
      "image/png": "[encoded data removed]",
      "text/plain": [
       "<Figure size 576x432 with 1 Axes>"
      ]
     },
     "metadata": {},
     "output_type": "display_data"
    }
   ],
   "source": [
    "ret_aapl = calc_daily_ret(closes_aapl)\n",
    "ret_aapl.plot(figsize=(8,6));"
   ]
  },
  {
   "cell_type": "code",
   "execution_count": 15,
   "metadata": {},
   "outputs": [
    {
     "data": {
      "text/html": [
       "<div>\n",
       "<style scoped>\n",
       "    .dataframe tbody tr th:only-of-type {\n",
       "        vertical-align: middle;\n",
       "    }\n",
       "\n",
       "    .dataframe tbody tr th {\n",
       "        vertical-align: top;\n",
       "    }\n",
       "\n",
       "    .dataframe thead th {\n",
       "        text-align: right;\n",
       "    }\n",
       "</style>\n",
       "<table border=\"1\" class=\"dataframe\">\n",
       "  <thead>\n",
       "    <tr style=\"text-align: right;\">\n",
       "      <th></th>\n",
       "      <th>Strike</th>\n",
       "      <th>Type</th>\n",
       "      <th>Symbol</th>\n",
       "      <th>...</th>\n",
       "      <th>Quote_Time</th>\n",
       "      <th>Last_Trade_Date</th>\n",
       "      <th>JSON</th>\n",
       "    </tr>\n",
       "    <tr>\n",
       "      <th>Expiry</th>\n",
       "      <th></th>\n",
       "      <th></th>\n",
       "      <th></th>\n",
       "      <th></th>\n",
       "      <th></th>\n",
       "      <th></th>\n",
       "      <th></th>\n",
       "    </tr>\n",
       "  </thead>\n",
       "  <tbody>\n",
       "    <tr>\n",
       "      <th>2020-05-08</th>\n",
       "      <td>242.5</td>\n",
       "      <td>call</td>\n",
       "      <td>AAPL200508C00242500</td>\n",
       "      <td>...</td>\n",
       "      <td>2020-05-06 09:35:31</td>\n",
       "      <td>2020-05-04 19:59:25</td>\n",
       "      <td>{'contractSymbol': 'AAPL200508C00242500', 'str...</td>\n",
       "    </tr>\n",
       "    <tr>\n",
       "      <th>2020-05-08</th>\n",
       "      <td>285.0</td>\n",
       "      <td>put</td>\n",
       "      <td>AAPL200508P00285000</td>\n",
       "      <td>...</td>\n",
       "      <td>2020-05-06 09:35:31</td>\n",
       "      <td>2020-05-05 19:59:58</td>\n",
       "      <td>{'contractSymbol': 'AAPL200508P00285000', 'str...</td>\n",
       "    </tr>\n",
       "    <tr>\n",
       "      <th>2020-05-08</th>\n",
       "      <td>345.0</td>\n",
       "      <td>put</td>\n",
       "      <td>AAPL200508P00345000</td>\n",
       "      <td>...</td>\n",
       "      <td>2020-05-06 09:35:31</td>\n",
       "      <td>2020-05-05 19:18:34</td>\n",
       "      <td>{'contractSymbol': 'AAPL200508P00345000', 'str...</td>\n",
       "    </tr>\n",
       "    <tr>\n",
       "      <th>2020-05-08</th>\n",
       "      <td>345.0</td>\n",
       "      <td>call</td>\n",
       "      <td>AAPL200508C00345000</td>\n",
       "      <td>...</td>\n",
       "      <td>2020-05-06 09:35:31</td>\n",
       "      <td>2020-05-05 19:53:58</td>\n",
       "      <td>{'contractSymbol': 'AAPL200508C00345000', 'str...</td>\n",
       "    </tr>\n",
       "    <tr>\n",
       "      <th>2020-05-08</th>\n",
       "      <td>190.0</td>\n",
       "      <td>put</td>\n",
       "      <td>AAPL200508P00190000</td>\n",
       "      <td>...</td>\n",
       "      <td>2020-05-06 09:35:31</td>\n",
       "      <td>2020-05-01 14:56:10</td>\n",
       "      <td>{'contractSymbol': 'AAPL200508P00190000', 'str...</td>\n",
       "    </tr>\n",
       "    <tr>\n",
       "      <th>...</th>\n",
       "      <td>...</td>\n",
       "      <td>...</td>\n",
       "      <td>...</td>\n",
       "      <td>...</td>\n",
       "      <td>...</td>\n",
       "      <td>...</td>\n",
       "      <td>...</td>\n",
       "    </tr>\n",
       "    <tr>\n",
       "      <th>2022-06-17</th>\n",
       "      <td>160.0</td>\n",
       "      <td>call</td>\n",
       "      <td>AAPL220617C00160000</td>\n",
       "      <td>...</td>\n",
       "      <td>2020-05-06 09:35:31</td>\n",
       "      <td>2020-04-30 19:27:17</td>\n",
       "      <td>{'contractSymbol': 'AAPL220617C00160000', 'str...</td>\n",
       "    </tr>\n",
       "    <tr>\n",
       "      <th>2022-06-17</th>\n",
       "      <td>160.0</td>\n",
       "      <td>put</td>\n",
       "      <td>AAPL220617P00160000</td>\n",
       "      <td>...</td>\n",
       "      <td>2020-05-06 09:35:31</td>\n",
       "      <td>2020-04-30 13:43:43</td>\n",
       "      <td>{'contractSymbol': 'AAPL220617P00160000', 'str...</td>\n",
       "    </tr>\n",
       "    <tr>\n",
       "      <th>2022-06-17</th>\n",
       "      <td>300.0</td>\n",
       "      <td>put</td>\n",
       "      <td>AAPL220617P00300000</td>\n",
       "      <td>...</td>\n",
       "      <td>2020-05-06 09:35:31</td>\n",
       "      <td>2020-05-05 19:02:12</td>\n",
       "      <td>{'contractSymbol': 'AAPL220617P00300000', 'str...</td>\n",
       "    </tr>\n",
       "    <tr>\n",
       "      <th>2022-06-17</th>\n",
       "      <td>435.0</td>\n",
       "      <td>call</td>\n",
       "      <td>AAPL220617C00435000</td>\n",
       "      <td>...</td>\n",
       "      <td>2020-05-06 09:35:31</td>\n",
       "      <td>2020-05-04 15:19:38</td>\n",
       "      <td>{'contractSymbol': 'AAPL220617C00435000', 'str...</td>\n",
       "    </tr>\n",
       "    <tr>\n",
       "      <th>2022-06-17</th>\n",
       "      <td>240.0</td>\n",
       "      <td>call</td>\n",
       "      <td>AAPL220617C00240000</td>\n",
       "      <td>...</td>\n",
       "      <td>2020-05-06 09:35:31</td>\n",
       "      <td>2020-05-05 19:56:31</td>\n",
       "      <td>{'contractSymbol': 'AAPL220617C00240000', 'str...</td>\n",
       "    </tr>\n",
       "  </tbody>\n",
       "</table>\n",
       "<p>1857 rows × 18 columns</p>\n",
       "</div>"
      ],
      "text/plain": [
       "            Strike  Type               Symbol  \\\n",
       "Expiry                                          \n",
       "2020-05-08   242.5  call  AAPL200508C00242500   \n",
       "2020-05-08   285.0   put  AAPL200508P00285000   \n",
       "2020-05-08   345.0   put  AAPL200508P00345000   \n",
       "2020-05-08   345.0  call  AAPL200508C00345000   \n",
       "2020-05-08   190.0   put  AAPL200508P00190000   \n",
       "...            ...   ...                  ...   \n",
       "2022-06-17   160.0  call  AAPL220617C00160000   \n",
       "2022-06-17   160.0   put  AAPL220617P00160000   \n",
       "2022-06-17   300.0   put  AAPL220617P00300000   \n",
       "2022-06-17   435.0  call  AAPL220617C00435000   \n",
       "2022-06-17   240.0  call  AAPL220617C00240000   \n",
       "\n",
       "                                  ...                          \\\n",
       "Expiry                            ...                           \n",
       "2020-05-08                        ...                           \n",
       "2020-05-08                        ...                           \n",
       "2020-05-08                        ...                           \n",
       "2020-05-08                        ...                           \n",
       "2020-05-08                        ...                           \n",
       "...                               ...                           \n",
       "2022-06-17                        ...                           \n",
       "2022-06-17                        ...                           \n",
       "2022-06-17                        ...                           \n",
       "2022-06-17                        ...                           \n",
       "2022-06-17                        ...                           \n",
       "\n",
       "                    Quote_Time     Last_Trade_Date  \\\n",
       "Expiry                                               \n",
       "2020-05-08 2020-05-06 09:35:31 2020-05-04 19:59:25   \n",
       "2020-05-08 2020-05-06 09:35:31 2020-05-05 19:59:58   \n",
       "2020-05-08 2020-05-06 09:35:31 2020-05-05 19:18:34   \n",
       "2020-05-08 2020-05-06 09:35:31 2020-05-05 19:53:58   \n",
       "2020-05-08 2020-05-06 09:35:31 2020-05-01 14:56:10   \n",
       "...                        ...                 ...   \n",
       "2022-06-17 2020-05-06 09:35:31 2020-04-30 19:27:17   \n",
       "2022-06-17 2020-05-06 09:35:31 2020-04-30 13:43:43   \n",
       "2022-06-17 2020-05-06 09:35:31 2020-05-05 19:02:12   \n",
       "2022-06-17 2020-05-06 09:35:31 2020-05-04 15:19:38   \n",
       "2022-06-17 2020-05-06 09:35:31 2020-05-05 19:56:31   \n",
       "\n",
       "                                                         JSON  \n",
       "Expiry                                                         \n",
       "2020-05-08  {'contractSymbol': 'AAPL200508C00242500', 'str...  \n",
       "2020-05-08  {'contractSymbol': 'AAPL200508P00285000', 'str...  \n",
       "2020-05-08  {'contractSymbol': 'AAPL200508P00345000', 'str...  \n",
       "2020-05-08  {'contractSymbol': 'AAPL200508C00345000', 'str...  \n",
       "2020-05-08  {'contractSymbol': 'AAPL200508P00190000', 'str...  \n",
       "...                                                       ...  \n",
       "2022-06-17  {'contractSymbol': 'AAPL220617C00160000', 'str...  \n",
       "2022-06-17  {'contractSymbol': 'AAPL220617P00160000', 'str...  \n",
       "2022-06-17  {'contractSymbol': 'AAPL220617P00300000', 'str...  \n",
       "2022-06-17  {'contractSymbol': 'AAPL220617C00435000', 'str...  \n",
       "2022-06-17  {'contractSymbol': 'AAPL220617C00240000', 'str...  \n",
       "\n",
       "[1857 rows x 18 columns]"
      ]
     },
     "execution_count": 15,
     "metadata": {},
     "output_type": "execute_result"
    }
   ],
   "source": [
    "aapl = web.YahooOptions('AAPL')\n",
    "aapl_opt = aapl.get_all_data().reset_index()\n",
    "aapl_opt.set_index('Expiry').sort_index()"
   ]
  },
  {
   "cell_type": "code",
   "execution_count": 16,
   "metadata": {},
   "outputs": [
    {
     "data": {
      "text/html": [
       "<div>\n",
       "<style scoped>\n",
       "    .dataframe tbody tr th:only-of-type {\n",
       "        vertical-align: middle;\n",
       "    }\n",
       "\n",
       "    .dataframe tbody tr th {\n",
       "        vertical-align: top;\n",
       "    }\n",
       "\n",
       "    .dataframe thead th {\n",
       "        text-align: right;\n",
       "    }\n",
       "</style>\n",
       "<table border=\"1\" class=\"dataframe\">\n",
       "  <thead>\n",
       "    <tr style=\"text-align: right;\">\n",
       "      <th></th>\n",
       "      <th>Strike</th>\n",
       "      <th>Expiry</th>\n",
       "      <th>Type</th>\n",
       "      <th>...</th>\n",
       "      <th>Quote_Time</th>\n",
       "      <th>Last_Trade_Date</th>\n",
       "      <th>JSON</th>\n",
       "    </tr>\n",
       "  </thead>\n",
       "  <tbody>\n",
       "    <tr>\n",
       "      <th>1114</th>\n",
       "      <td>290.0</td>\n",
       "      <td>2021-01-15</td>\n",
       "      <td>put</td>\n",
       "      <td>...</td>\n",
       "      <td>2020-05-06 09:35:31</td>\n",
       "      <td>2020-05-05 19:34:16</td>\n",
       "      <td>{'contractSymbol': 'AAPL210115P00290000', 'str...</td>\n",
       "    </tr>\n",
       "  </tbody>\n",
       "</table>\n",
       "<p>1 rows × 19 columns</p>\n",
       "</div>"
      ],
      "text/plain": [
       "      Strike     Expiry Type  \\\n",
       "1114   290.0 2021-01-15  put   \n",
       "\n",
       "                            ...                                  Quote_Time  \\\n",
       "1114                        ...                         2020-05-06 09:35:31   \n",
       "\n",
       "         Last_Trade_Date                                               JSON  \n",
       "1114 2020-05-05 19:34:16  {'contractSymbol': 'AAPL210115P00290000', 'str...  \n",
       "\n",
       "[1 rows x 19 columns]"
      ]
     },
     "execution_count": 16,
     "metadata": {},
     "output_type": "execute_result"
    }
   ],
   "source": [
    "K = 290 # strike price\n",
    "indice_opt = aapl_opt.loc[(aapl_opt.Type=='put') & (aapl_opt.Strike==K) & (aapl_opt.Expiry=='2021-01-15')]\n",
    "indice_opt"
   ]
  },
  {
   "cell_type": "code",
   "execution_count": 17,
   "metadata": {},
   "outputs": [
    {
     "data": {
      "text/plain": [
       "{'contractSymbol': 'AAPL210115P00290000',\n",
       " 'strike': 290.0,\n",
       " 'currency': 'USD',\n",
       " 'lastPrice': 30.0,\n",
       " 'change': 0.0,\n",
       " 'percentChange': 0.0,\n",
       " 'volume': 187,\n",
       " 'openInterest': 0,\n",
       " 'bid': 0.0,\n",
       " 'ask': 0.0,\n",
       " 'contractSize': 'REGULAR',\n",
       " 'expiration': 1610668800,\n",
       " 'lastTradeDate': 1588707256,\n",
       " 'impliedVolatility': 0.007822421875,\n",
       " 'inTheMoney': False}"
      ]
     },
     "execution_count": 17,
     "metadata": {},
     "output_type": "execute_result"
    }
   ],
   "source": [
    "i_opt= indice_opt.index\n",
    "opcion_valuar = aapl_opt.loc[i_opt[0]]\n",
    "opcion_valuar['JSON']"
   ]
  },
  {
   "cell_type": "markdown",
   "metadata": {},
   "source": [
    "### Rendimiento Simple"
   ]
  },
  {
   "cell_type": "code",
   "execution_count": 18,
   "metadata": {},
   "outputs": [
    {
     "data": {
      "text/html": [
       "<div>\n",
       "<style scoped>\n",
       "    .dataframe tbody tr th:only-of-type {\n",
       "        vertical-align: middle;\n",
       "    }\n",
       "\n",
       "    .dataframe tbody tr th {\n",
       "        vertical-align: top;\n",
       "    }\n",
       "\n",
       "    .dataframe thead th {\n",
       "        text-align: right;\n",
       "    }\n",
       "</style>\n",
       "<table border=\"1\" class=\"dataframe\">\n",
       "  <thead>\n",
       "    <tr style=\"text-align: right;\">\n",
       "      <th>Symbols</th>\n",
       "      <th>AAPL</th>\n",
       "    </tr>\n",
       "    <tr>\n",
       "      <th>Date</th>\n",
       "      <th></th>\n",
       "    </tr>\n",
       "  </thead>\n",
       "  <tbody>\n",
       "    <tr>\n",
       "      <th>2017-01-04</th>\n",
       "      <td>-0.001</td>\n",
       "    </tr>\n",
       "    <tr>\n",
       "      <th>2017-01-05</th>\n",
       "      <td>0.005</td>\n",
       "    </tr>\n",
       "    <tr>\n",
       "      <th>2017-01-06</th>\n",
       "      <td>0.011</td>\n",
       "    </tr>\n",
       "    <tr>\n",
       "      <th>2017-01-09</th>\n",
       "      <td>0.009</td>\n",
       "    </tr>\n",
       "    <tr>\n",
       "      <th>2017-01-10</th>\n",
       "      <td>0.001</td>\n",
       "    </tr>\n",
       "    <tr>\n",
       "      <th>...</th>\n",
       "      <td>...</td>\n",
       "    </tr>\n",
       "    <tr>\n",
       "      <th>2020-04-29</th>\n",
       "      <td>0.033</td>\n",
       "    </tr>\n",
       "    <tr>\n",
       "      <th>2020-04-30</th>\n",
       "      <td>0.021</td>\n",
       "    </tr>\n",
       "    <tr>\n",
       "      <th>2020-05-01</th>\n",
       "      <td>-0.016</td>\n",
       "    </tr>\n",
       "    <tr>\n",
       "      <th>2020-05-04</th>\n",
       "      <td>0.014</td>\n",
       "    </tr>\n",
       "    <tr>\n",
       "      <th>2020-05-05</th>\n",
       "      <td>0.015</td>\n",
       "    </tr>\n",
       "  </tbody>\n",
       "</table>\n",
       "<p>839 rows × 1 columns</p>\n",
       "</div>"
      ],
      "text/plain": [
       "Symbols      AAPL\n",
       "Date             \n",
       "2017-01-04 -0.001\n",
       "2017-01-05  0.005\n",
       "2017-01-06  0.011\n",
       "2017-01-09  0.009\n",
       "2017-01-10  0.001\n",
       "...           ...\n",
       "2020-04-29  0.033\n",
       "2020-04-30  0.021\n",
       "2020-05-01 -0.016\n",
       "2020-05-04  0.014\n",
       "2020-05-05  0.015\n",
       "\n",
       "[839 rows x 1 columns]"
      ]
     },
     "execution_count": 18,
     "metadata": {},
     "output_type": "execute_result"
    }
   ],
   "source": [
    "# Obtenemos el rendimiento simple\n",
    "Ri = closes_aapl.pct_change(1).iloc[1:]\n",
    "# Obtenemos su media y desviación estándar de los rendimientos\n",
    "mu_R = Ri.mean()[0]\n",
    "sigma_R = Ri.std()[0]\n",
    "Ri"
   ]
  },
  {
   "cell_type": "code",
   "execution_count": 19,
   "metadata": {},
   "outputs": [
    {
     "data": {
      "text/plain": [
       "DatetimeIndex(['2020-05-06', '2020-05-07', '2020-05-08', '2020-05-11',\n",
       "               '2020-05-12', '2020-05-13', '2020-05-14', '2020-05-15',\n",
       "               '2020-05-18', '2020-05-19',\n",
       "               ...\n",
       "               '2021-01-04', '2021-01-05', '2021-01-06', '2021-01-07',\n",
       "               '2021-01-08', '2021-01-11', '2021-01-12', '2021-01-13',\n",
       "               '2021-01-14', '2021-01-15'],\n",
       "              dtype='datetime64[ns]', length=183, freq='B')"
      ]
     },
     "execution_count": 19,
     "metadata": {},
     "output_type": "execute_result"
    }
   ],
   "source": [
    "from datetime import date\n",
    "\n",
    "today = pd.Timestamp(date.today())\n",
    "expiry = opcion_valuar.Expiry\n",
    "\n",
    "nscen = 10\n",
    "dates = pd.date_range(start = today, end = expiry, freq='b')\n",
    "ndays = len(dates)\n",
    "dates"
   ]
  },
  {
   "cell_type": "code",
   "execution_count": 20,
   "metadata": {},
   "outputs": [
    {
     "data": {
      "text/html": [
       "<div>\n",
       "<style scoped>\n",
       "    .dataframe tbody tr th:only-of-type {\n",
       "        vertical-align: middle;\n",
       "    }\n",
       "\n",
       "    .dataframe tbody tr th {\n",
       "        vertical-align: top;\n",
       "    }\n",
       "\n",
       "    .dataframe thead th {\n",
       "        text-align: right;\n",
       "    }\n",
       "</style>\n",
       "<table border=\"1\" class=\"dataframe\">\n",
       "  <thead>\n",
       "    <tr style=\"text-align: right;\">\n",
       "      <th></th>\n",
       "      <th>0</th>\n",
       "      <th>1</th>\n",
       "      <th>2</th>\n",
       "      <th>...</th>\n",
       "      <th>7</th>\n",
       "      <th>8</th>\n",
       "      <th>9</th>\n",
       "    </tr>\n",
       "  </thead>\n",
       "  <tbody>\n",
       "    <tr>\n",
       "      <th>2020-05-06</th>\n",
       "      <td>-6.665e-03</td>\n",
       "      <td>-1.062e-02</td>\n",
       "      <td>-4.779e-02</td>\n",
       "      <td>...</td>\n",
       "      <td>-1.954e-02</td>\n",
       "      <td>1.680e-05</td>\n",
       "      <td>-2.598e-02</td>\n",
       "    </tr>\n",
       "    <tr>\n",
       "      <th>2020-05-07</th>\n",
       "      <td>2.396e-06</td>\n",
       "      <td>3.575e-04</td>\n",
       "      <td>-2.922e-04</td>\n",
       "      <td>...</td>\n",
       "      <td>-2.345e-04</td>\n",
       "      <td>2.059e-07</td>\n",
       "      <td>-7.211e-04</td>\n",
       "    </tr>\n",
       "    <tr>\n",
       "      <th>2020-05-08</th>\n",
       "      <td>-6.309e-08</td>\n",
       "      <td>3.461e-06</td>\n",
       "      <td>-1.205e-05</td>\n",
       "      <td>...</td>\n",
       "      <td>-1.136e-06</td>\n",
       "      <td>3.400e-09</td>\n",
       "      <td>-3.557e-06</td>\n",
       "    </tr>\n",
       "    <tr>\n",
       "      <th>2020-05-11</th>\n",
       "      <td>-5.444e-10</td>\n",
       "      <td>-6.919e-08</td>\n",
       "      <td>-2.069e-08</td>\n",
       "      <td>...</td>\n",
       "      <td>3.428e-08</td>\n",
       "      <td>-5.928e-11</td>\n",
       "      <td>6.273e-08</td>\n",
       "    </tr>\n",
       "    <tr>\n",
       "      <th>2020-05-12</th>\n",
       "      <td>-2.826e-12</td>\n",
       "      <td>-4.222e-10</td>\n",
       "      <td>3.763e-10</td>\n",
       "      <td>...</td>\n",
       "      <td>1.236e-10</td>\n",
       "      <td>5.644e-13</td>\n",
       "      <td>2.651e-10</td>\n",
       "    </tr>\n",
       "    <tr>\n",
       "      <th>...</th>\n",
       "      <td>...</td>\n",
       "      <td>...</td>\n",
       "      <td>...</td>\n",
       "      <td>...</td>\n",
       "      <td>...</td>\n",
       "      <td>...</td>\n",
       "      <td>...</td>\n",
       "    </tr>\n",
       "    <tr>\n",
       "      <th>2021-01-11</th>\n",
       "      <td>0.000e+00</td>\n",
       "      <td>-0.000e+00</td>\n",
       "      <td>0.000e+00</td>\n",
       "      <td>...</td>\n",
       "      <td>0.000e+00</td>\n",
       "      <td>0.000e+00</td>\n",
       "      <td>0.000e+00</td>\n",
       "    </tr>\n",
       "    <tr>\n",
       "      <th>2021-01-12</th>\n",
       "      <td>0.000e+00</td>\n",
       "      <td>-0.000e+00</td>\n",
       "      <td>-0.000e+00</td>\n",
       "      <td>...</td>\n",
       "      <td>-0.000e+00</td>\n",
       "      <td>0.000e+00</td>\n",
       "      <td>-0.000e+00</td>\n",
       "    </tr>\n",
       "    <tr>\n",
       "      <th>2021-01-13</th>\n",
       "      <td>0.000e+00</td>\n",
       "      <td>0.000e+00</td>\n",
       "      <td>-0.000e+00</td>\n",
       "      <td>...</td>\n",
       "      <td>-0.000e+00</td>\n",
       "      <td>-0.000e+00</td>\n",
       "      <td>0.000e+00</td>\n",
       "    </tr>\n",
       "    <tr>\n",
       "      <th>2021-01-14</th>\n",
       "      <td>0.000e+00</td>\n",
       "      <td>0.000e+00</td>\n",
       "      <td>-0.000e+00</td>\n",
       "      <td>...</td>\n",
       "      <td>-0.000e+00</td>\n",
       "      <td>-0.000e+00</td>\n",
       "      <td>0.000e+00</td>\n",
       "    </tr>\n",
       "    <tr>\n",
       "      <th>2021-01-15</th>\n",
       "      <td>0.000e+00</td>\n",
       "      <td>-0.000e+00</td>\n",
       "      <td>0.000e+00</td>\n",
       "      <td>...</td>\n",
       "      <td>-0.000e+00</td>\n",
       "      <td>0.000e+00</td>\n",
       "      <td>-0.000e+00</td>\n",
       "    </tr>\n",
       "  </tbody>\n",
       "</table>\n",
       "<p>183 rows × 10 columns</p>\n",
       "</div>"
      ],
      "text/plain": [
       "                    0          1          2    ...              7  \\\n",
       "2020-05-06 -6.665e-03 -1.062e-02 -4.779e-02    ...     -1.954e-02   \n",
       "2020-05-07  2.396e-06  3.575e-04 -2.922e-04    ...     -2.345e-04   \n",
       "2020-05-08 -6.309e-08  3.461e-06 -1.205e-05    ...     -1.136e-06   \n",
       "2020-05-11 -5.444e-10 -6.919e-08 -2.069e-08    ...      3.428e-08   \n",
       "2020-05-12 -2.826e-12 -4.222e-10  3.763e-10    ...      1.236e-10   \n",
       "...               ...        ...        ...    ...            ...   \n",
       "2021-01-11  0.000e+00 -0.000e+00  0.000e+00    ...      0.000e+00   \n",
       "2021-01-12  0.000e+00 -0.000e+00 -0.000e+00    ...     -0.000e+00   \n",
       "2021-01-13  0.000e+00  0.000e+00 -0.000e+00    ...     -0.000e+00   \n",
       "2021-01-14  0.000e+00  0.000e+00 -0.000e+00    ...     -0.000e+00   \n",
       "2021-01-15  0.000e+00 -0.000e+00  0.000e+00    ...     -0.000e+00   \n",
       "\n",
       "                    8          9  \n",
       "2020-05-06  1.680e-05 -2.598e-02  \n",
       "2020-05-07  2.059e-07 -7.211e-04  \n",
       "2020-05-08  3.400e-09 -3.557e-06  \n",
       "2020-05-11 -5.928e-11  6.273e-08  \n",
       "2020-05-12  5.644e-13  2.651e-10  \n",
       "...               ...        ...  \n",
       "2021-01-11  0.000e+00  0.000e+00  \n",
       "2021-01-12  0.000e+00 -0.000e+00  \n",
       "2021-01-13 -0.000e+00  0.000e+00  \n",
       "2021-01-14 -0.000e+00  0.000e+00  \n",
       "2021-01-15  0.000e+00 -0.000e+00  \n",
       "\n",
       "[183 rows x 10 columns]"
      ]
     },
     "execution_count": 20,
     "metadata": {},
     "output_type": "execute_result"
    }
   ],
   "source": [
    "dt = 1; # Rendimiento diario \n",
    "Z = np.random.randn(ndays,nscen)  # Z ~ N(0,1)\n",
    "# Simulación normal de los rendimientos\n",
    "Ri_dt = pd.DataFrame(mu_R*dt+Z*sigma_R*np.sqrt(dt),index=dates)\n",
    "Ri_dt.cumprod()"
   ]
  },
  {
   "cell_type": "code",
   "execution_count": 21,
   "metadata": {},
   "outputs": [
    {
     "data": {
      "image/png": "[encoded data removed]",
      "text/plain": [
       "<Figure size 576x432 with 1 Axes>"
      ]
     },
     "metadata": {},
     "output_type": "display_data"
    }
   ],
   "source": [
    "# Simulación del precio\n",
    "S_0 = closes_aapl.iloc[-1,0]\n",
    "S_T = S_0*(1+Ri_dt).cumprod()\n",
    "\n",
    "# Se muestran los precios simulados con los precios descargados\n",
    "pd.concat([closes_aapl,S_T]).plot(figsize=(8,6));\n",
    "plt.title('Simulación de precios usando rendimiento simple');"
   ]
  },
  {
   "cell_type": "markdown",
   "metadata": {},
   "source": [
    "### Rendimiento logarítmico"
   ]
  },
  {
   "cell_type": "code",
   "execution_count": 22,
   "metadata": {},
   "outputs": [
    {
     "data": {
      "text/plain": [
       "0.6953179825303627"
      ]
     },
     "execution_count": 22,
     "metadata": {},
     "output_type": "execute_result"
    }
   ],
   "source": [
    "ri = calc_daily_ret(closes_aapl)\n",
    "# Usando la media y desviación estándar de los rendimientos logarítmicos\n",
    "mu_r = ri.mean()[0]\n",
    "sigma_r = ri.std()[0]\n",
    "\n",
    "# # Usando la equivalencia teórica\n",
    "# mu_r2 = mu_R - (sigma_R**2)/2\n",
    "\n",
    "sim_ret_ri = pd.DataFrame(mu_r*dt+Z*sigma_r*np.sqrt(dt), index=dates)\n",
    "\n",
    "# Simulación del precio\n",
    "S_0 = closes_aapl.iloc[-1,0]\n",
    "S_T2 = S_0*np.exp(sim_ret_ri.cumsum())\n",
    "\n",
    "# Se muestran los precios simulados con los precios descargados\n",
    "# pd.concat([closes_aapl,S_T2]).plot(figsize=(8,6));\n",
    "# plt.title('Simulación de precios usando rendimiento logarítmico');\n",
    "\n",
    "# from sklearn.metrics import mean_absolute_error\n",
    "e1 = np.abs(S_T-S_T2).mean().mean()\n",
    "e1"
   ]
  },
  {
   "cell_type": "code",
   "execution_count": 23,
   "metadata": {},
   "outputs": [
    {
     "name": "stdout",
     "output_type": "stream",
     "text": [
      "Las std usando rendimientos logarítmicos y simples son similares\n"
     ]
    },
    {
     "data": {
      "text/plain": [
       "(0.019194817155124378, 0.019235552000953192)"
      ]
     },
     "execution_count": 23,
     "metadata": {},
     "output_type": "execute_result"
    }
   ],
   "source": [
    "print('Las std usando rendimientos logarítmicos y simples son similares')\n",
    "sigma_R,sigma_r"
   ]
  },
  {
   "cell_type": "code",
   "execution_count": 24,
   "metadata": {},
   "outputs": [
    {
     "data": {
      "text/plain": [
       "{'contractSymbol': 'AAPL210115P00290000',\n",
       " 'strike': 290.0,\n",
       " 'currency': 'USD',\n",
       " 'lastPrice': 30.0,\n",
       " 'change': 0.0,\n",
       " 'percentChange': 0.0,\n",
       " 'volume': 187,\n",
       " 'openInterest': 0,\n",
       " 'bid': 0.0,\n",
       " 'ask': 0.0,\n",
       " 'contractSize': 'REGULAR',\n",
       " 'expiration': 1610668800,\n",
       " 'lastTradeDate': 1588707256,\n",
       " 'impliedVolatility': 0.007822421875,\n",
       " 'inTheMoney': False}"
      ]
     },
     "execution_count": 24,
     "metadata": {},
     "output_type": "execute_result"
    }
   ],
   "source": [
    "opcion_valuar['JSON']"
   ]
  },
  {
   "cell_type": "code",
   "execution_count": 25,
   "metadata": {},
   "outputs": [
    {
     "data": {
      "image/png": "[encoded data removed]",
      "text/plain": [
       "<Figure size 432x288 with 1 Axes>"
      ]
     },
     "metadata": {},
     "output_type": "display_data"
    }
   ],
   "source": [
    "strike = pd.DataFrame(opcion_valuar['JSON']['strike']*np.ones([ndays,nscen]), index=dates)\n",
    "put = pd.DataFrame({'Prima':np.exp(-mu_r*ndays) \\\n",
    "              *np.fmax(strike-S_T2,np.zeros([ndays,nscen])).mean(axis=1)}, index=dates)\n",
    "put.plot();"
   ]
  },
  {
   "cell_type": "code",
   "execution_count": 26,
   "metadata": {},
   "outputs": [
    {
     "data": {
      "text/plain": [
       "(0.001178631639959826, 0.019235552000953192)"
      ]
     },
     "execution_count": 26,
     "metadata": {},
     "output_type": "execute_result"
    }
   ],
   "source": [
    "mu = ret_aapl.mean()[0]\n",
    "sigma = ret_aapl.std()[0]\n",
    "mu, sigma"
   ]
  },
  {
   "cell_type": "code",
   "execution_count": 27,
   "metadata": {},
   "outputs": [],
   "source": [
    "# Tasa de bonos de 1 yr de fecha 30/04/20 -> 0.16%\n",
    "r = 0.0016/360 # Tasa diaria"
   ]
  },
  {
   "cell_type": "code",
   "execution_count": 28,
   "metadata": {},
   "outputs": [
    {
     "data": {
      "text/plain": [
       "DatetimeIndex(['2019-11-14', '2019-11-15', '2019-11-16', '2019-11-17',\n",
       "               '2019-11-18', '2019-11-19', '2019-11-20', '2019-11-21',\n",
       "               '2019-11-22', '2019-11-23',\n",
       "               ...\n",
       "               '2020-07-15', '2020-07-16', '2020-07-17', '2020-07-18',\n",
       "               '2020-07-19', '2020-07-20', '2020-07-21', '2020-07-22',\n",
       "               '2020-07-23', '2020-07-24'],\n",
       "              dtype='datetime64[ns]', length=254, freq='D')"
      ]
     },
     "execution_count": 28,
     "metadata": {},
     "output_type": "execute_result"
    }
   ],
   "source": [
    "from datetime import date\n",
    "\n",
    "today = pd.Timestamp(date.today())\n",
    "expiry = opcion_valuar.Expiry\n",
    "\n",
    "ndays = (expiry - today).days\n",
    "nscen = 10\n",
    "dates = pd.date_range(start='2019-11-14', periods = ndays)\n",
    "dates"
   ]
  },
  {
   "cell_type": "code",
   "execution_count": 29,
   "metadata": {},
   "outputs": [
    {
     "data": {
      "text/html": [
       "<div>\n",
       "<style scoped>\n",
       "    .dataframe tbody tr th:only-of-type {\n",
       "        vertical-align: middle;\n",
       "    }\n",
       "\n",
       "    .dataframe tbody tr th {\n",
       "        vertical-align: top;\n",
       "    }\n",
       "\n",
       "    .dataframe thead th {\n",
       "        text-align: right;\n",
       "    }\n",
       "</style>\n",
       "<table border=\"1\" class=\"dataframe\">\n",
       "  <thead>\n",
       "    <tr style=\"text-align: right;\">\n",
       "      <th></th>\n",
       "      <th>0</th>\n",
       "      <th>1</th>\n",
       "      <th>2</th>\n",
       "      <th>...</th>\n",
       "      <th>7</th>\n",
       "      <th>8</th>\n",
       "      <th>9</th>\n",
       "    </tr>\n",
       "  </thead>\n",
       "  <tbody>\n",
       "    <tr>\n",
       "      <th>2019-11-14</th>\n",
       "      <td>-0.007</td>\n",
       "      <td>0.014</td>\n",
       "      <td>-0.022</td>\n",
       "      <td>...</td>\n",
       "      <td>-0.018</td>\n",
       "      <td>0.009</td>\n",
       "      <td>-0.011</td>\n",
       "    </tr>\n",
       "    <tr>\n",
       "      <th>2019-11-15</th>\n",
       "      <td>-0.033</td>\n",
       "      <td>0.011</td>\n",
       "      <td>-0.025</td>\n",
       "      <td>...</td>\n",
       "      <td>-0.027</td>\n",
       "      <td>0.025</td>\n",
       "      <td>0.002</td>\n",
       "    </tr>\n",
       "    <tr>\n",
       "      <th>2019-11-16</th>\n",
       "      <td>-0.017</td>\n",
       "      <td>0.040</td>\n",
       "      <td>-0.023</td>\n",
       "      <td>...</td>\n",
       "      <td>-0.022</td>\n",
       "      <td>0.033</td>\n",
       "      <td>-0.010</td>\n",
       "    </tr>\n",
       "    <tr>\n",
       "      <th>2019-11-17</th>\n",
       "      <td>0.024</td>\n",
       "      <td>0.040</td>\n",
       "      <td>-0.048</td>\n",
       "      <td>...</td>\n",
       "      <td>-0.031</td>\n",
       "      <td>0.035</td>\n",
       "      <td>-0.034</td>\n",
       "    </tr>\n",
       "    <tr>\n",
       "      <th>2019-11-18</th>\n",
       "      <td>0.066</td>\n",
       "      <td>0.051</td>\n",
       "      <td>-0.045</td>\n",
       "      <td>...</td>\n",
       "      <td>-0.068</td>\n",
       "      <td>0.047</td>\n",
       "      <td>-0.056</td>\n",
       "    </tr>\n",
       "    <tr>\n",
       "      <th>...</th>\n",
       "      <td>...</td>\n",
       "      <td>...</td>\n",
       "      <td>...</td>\n",
       "      <td>...</td>\n",
       "      <td>...</td>\n",
       "      <td>...</td>\n",
       "      <td>...</td>\n",
       "    </tr>\n",
       "    <tr>\n",
       "      <th>2020-07-20</th>\n",
       "      <td>0.405</td>\n",
       "      <td>0.379</td>\n",
       "      <td>0.203</td>\n",
       "      <td>...</td>\n",
       "      <td>-0.313</td>\n",
       "      <td>0.119</td>\n",
       "      <td>-0.122</td>\n",
       "    </tr>\n",
       "    <tr>\n",
       "      <th>2020-07-21</th>\n",
       "      <td>0.443</td>\n",
       "      <td>0.400</td>\n",
       "      <td>0.181</td>\n",
       "      <td>...</td>\n",
       "      <td>-0.306</td>\n",
       "      <td>0.092</td>\n",
       "      <td>-0.130</td>\n",
       "    </tr>\n",
       "    <tr>\n",
       "      <th>2020-07-22</th>\n",
       "      <td>0.471</td>\n",
       "      <td>0.364</td>\n",
       "      <td>0.183</td>\n",
       "      <td>...</td>\n",
       "      <td>-0.301</td>\n",
       "      <td>0.102</td>\n",
       "      <td>-0.132</td>\n",
       "    </tr>\n",
       "    <tr>\n",
       "      <th>2020-07-23</th>\n",
       "      <td>0.444</td>\n",
       "      <td>0.377</td>\n",
       "      <td>0.219</td>\n",
       "      <td>...</td>\n",
       "      <td>-0.280</td>\n",
       "      <td>0.085</td>\n",
       "      <td>-0.140</td>\n",
       "    </tr>\n",
       "    <tr>\n",
       "      <th>2020-07-24</th>\n",
       "      <td>0.458</td>\n",
       "      <td>0.397</td>\n",
       "      <td>0.231</td>\n",
       "      <td>...</td>\n",
       "      <td>-0.271</td>\n",
       "      <td>0.085</td>\n",
       "      <td>-0.162</td>\n",
       "    </tr>\n",
       "  </tbody>\n",
       "</table>\n",
       "<p>254 rows × 10 columns</p>\n",
       "</div>"
      ],
      "text/plain": [
       "                0      1      2  ...        7      8      9\n",
       "2019-11-14 -0.007  0.014 -0.022  ...   -0.018  0.009 -0.011\n",
       "2019-11-15 -0.033  0.011 -0.025  ...   -0.027  0.025  0.002\n",
       "2019-11-16 -0.017  0.040 -0.023  ...   -0.022  0.033 -0.010\n",
       "2019-11-17  0.024  0.040 -0.048  ...   -0.031  0.035 -0.034\n",
       "2019-11-18  0.066  0.051 -0.045  ...   -0.068  0.047 -0.056\n",
       "...           ...    ...    ...  ...      ...    ...    ...\n",
       "2020-07-20  0.405  0.379  0.203  ...   -0.313  0.119 -0.122\n",
       "2020-07-21  0.443  0.400  0.181  ...   -0.306  0.092 -0.130\n",
       "2020-07-22  0.471  0.364  0.183  ...   -0.301  0.102 -0.132\n",
       "2020-07-23  0.444  0.377  0.219  ...   -0.280  0.085 -0.140\n",
       "2020-07-24  0.458  0.397  0.231  ...   -0.271  0.085 -0.162\n",
       "\n",
       "[254 rows x 10 columns]"
      ]
     },
     "execution_count": 29,
     "metadata": {},
     "output_type": "execute_result"
    }
   ],
   "source": [
    "sim_ret = pd.DataFrame(sigma*np.random.randn(ndays,nscen)+r, index=dates)\n",
    "sim_ret.cumsum()\n",
    "# Las columnas son los escenarios y las filas son las días de contrato"
   ]
  },
  {
   "cell_type": "code",
   "execution_count": 30,
   "metadata": {},
   "outputs": [
    {
     "data": {
      "text/html": [
       "<div>\n",
       "<style scoped>\n",
       "    .dataframe tbody tr th:only-of-type {\n",
       "        vertical-align: middle;\n",
       "    }\n",
       "\n",
       "    .dataframe tbody tr th {\n",
       "        vertical-align: top;\n",
       "    }\n",
       "\n",
       "    .dataframe thead th {\n",
       "        text-align: right;\n",
       "    }\n",
       "</style>\n",
       "<table border=\"1\" class=\"dataframe\">\n",
       "  <thead>\n",
       "    <tr style=\"text-align: right;\">\n",
       "      <th></th>\n",
       "      <th>0</th>\n",
       "      <th>1</th>\n",
       "      <th>2</th>\n",
       "      <th>...</th>\n",
       "      <th>7</th>\n",
       "      <th>8</th>\n",
       "      <th>9</th>\n",
       "    </tr>\n",
       "  </thead>\n",
       "  <tbody>\n",
       "    <tr>\n",
       "      <th>2019-11-14</th>\n",
       "      <td>295.590</td>\n",
       "      <td>301.660</td>\n",
       "      <td>291.074</td>\n",
       "      <td>...</td>\n",
       "      <td>292.156</td>\n",
       "      <td>300.168</td>\n",
       "      <td>294.384</td>\n",
       "    </tr>\n",
       "    <tr>\n",
       "      <th>2019-11-15</th>\n",
       "      <td>287.874</td>\n",
       "      <td>300.893</td>\n",
       "      <td>290.190</td>\n",
       "      <td>...</td>\n",
       "      <td>289.572</td>\n",
       "      <td>305.116</td>\n",
       "      <td>298.028</td>\n",
       "    </tr>\n",
       "    <tr>\n",
       "      <th>2019-11-16</th>\n",
       "      <td>292.439</td>\n",
       "      <td>309.729</td>\n",
       "      <td>290.651</td>\n",
       "      <td>...</td>\n",
       "      <td>291.098</td>\n",
       "      <td>307.614</td>\n",
       "      <td>294.549</td>\n",
       "    </tr>\n",
       "    <tr>\n",
       "      <th>2019-11-17</th>\n",
       "      <td>304.863</td>\n",
       "      <td>309.730</td>\n",
       "      <td>283.635</td>\n",
       "      <td>...</td>\n",
       "      <td>288.402</td>\n",
       "      <td>308.114</td>\n",
       "      <td>287.728</td>\n",
       "    </tr>\n",
       "    <tr>\n",
       "      <th>2019-11-18</th>\n",
       "      <td>318.019</td>\n",
       "      <td>312.989</td>\n",
       "      <td>284.533</td>\n",
       "      <td>...</td>\n",
       "      <td>278.028</td>\n",
       "      <td>311.813</td>\n",
       "      <td>281.476</td>\n",
       "    </tr>\n",
       "    <tr>\n",
       "      <th>...</th>\n",
       "      <td>...</td>\n",
       "      <td>...</td>\n",
       "      <td>...</td>\n",
       "      <td>...</td>\n",
       "      <td>...</td>\n",
       "      <td>...</td>\n",
       "      <td>...</td>\n",
       "    </tr>\n",
       "    <tr>\n",
       "      <th>2020-07-20</th>\n",
       "      <td>446.124</td>\n",
       "      <td>434.882</td>\n",
       "      <td>364.610</td>\n",
       "      <td>...</td>\n",
       "      <td>217.646</td>\n",
       "      <td>335.188</td>\n",
       "      <td>263.343</td>\n",
       "    </tr>\n",
       "    <tr>\n",
       "      <th>2020-07-21</th>\n",
       "      <td>463.218</td>\n",
       "      <td>443.930</td>\n",
       "      <td>356.498</td>\n",
       "      <td>...</td>\n",
       "      <td>219.085</td>\n",
       "      <td>326.376</td>\n",
       "      <td>261.341</td>\n",
       "    </tr>\n",
       "    <tr>\n",
       "      <th>2020-07-22</th>\n",
       "      <td>476.678</td>\n",
       "      <td>428.206</td>\n",
       "      <td>357.189</td>\n",
       "      <td>...</td>\n",
       "      <td>220.210</td>\n",
       "      <td>329.675</td>\n",
       "      <td>260.634</td>\n",
       "    </tr>\n",
       "    <tr>\n",
       "      <th>2020-07-23</th>\n",
       "      <td>464.024</td>\n",
       "      <td>434.028</td>\n",
       "      <td>370.252</td>\n",
       "      <td>...</td>\n",
       "      <td>224.983</td>\n",
       "      <td>324.069</td>\n",
       "      <td>258.572</td>\n",
       "    </tr>\n",
       "    <tr>\n",
       "      <th>2020-07-24</th>\n",
       "      <td>470.496</td>\n",
       "      <td>442.720</td>\n",
       "      <td>374.941</td>\n",
       "      <td>...</td>\n",
       "      <td>226.965</td>\n",
       "      <td>323.940</td>\n",
       "      <td>253.159</td>\n",
       "    </tr>\n",
       "  </tbody>\n",
       "</table>\n",
       "<p>254 rows × 10 columns</p>\n",
       "</div>"
      ],
      "text/plain": [
       "                  0        1        2   ...           7        8        9\n",
       "2019-11-14  295.590  301.660  291.074   ...     292.156  300.168  294.384\n",
       "2019-11-15  287.874  300.893  290.190   ...     289.572  305.116  298.028\n",
       "2019-11-16  292.439  309.729  290.651   ...     291.098  307.614  294.549\n",
       "2019-11-17  304.863  309.730  283.635   ...     288.402  308.114  287.728\n",
       "2019-11-18  318.019  312.989  284.533   ...     278.028  311.813  281.476\n",
       "...             ...      ...      ...   ...         ...      ...      ...\n",
       "2020-07-20  446.124  434.882  364.610   ...     217.646  335.188  263.343\n",
       "2020-07-21  463.218  443.930  356.498   ...     219.085  326.376  261.341\n",
       "2020-07-22  476.678  428.206  357.189   ...     220.210  329.675  260.634\n",
       "2020-07-23  464.024  434.028  370.252   ...     224.983  324.069  258.572\n",
       "2020-07-24  470.496  442.720  374.941   ...     226.965  323.940  253.159\n",
       "\n",
       "[254 rows x 10 columns]"
      ]
     },
     "execution_count": 30,
     "metadata": {},
     "output_type": "execute_result"
    }
   ],
   "source": [
    "S0 = closes_aapl.iloc[-1,0]  # Condición inicial del precio a simular\n",
    "sim_closes = S0*np.exp(sim_ret.cumsum())\n",
    "sim_closes"
   ]
  },
  {
   "cell_type": "code",
   "execution_count": 31,
   "metadata": {},
   "outputs": [
    {
     "data": {
      "image/png": "[encoded data removed]",
      "text/plain": [
       "<Figure size 576x432 with 1 Axes>"
      ]
     },
     "metadata": {},
     "output_type": "display_data"
    }
   ],
   "source": [
    "# Se muestran los precios simulados con los precios descargados\n",
    "pd.concat([closes_aapl,sim_closes]).plot(figsize=(8,6));"
   ]
  },
  {
   "cell_type": "code",
   "execution_count": 32,
   "metadata": {},
   "outputs": [
    {
     "data": {
      "text/plain": [
       "{'contractSymbol': 'AAPL210115P00290000',\n",
       " 'strike': 290.0,\n",
       " 'currency': 'USD',\n",
       " 'lastPrice': 30.0,\n",
       " 'change': 0.0,\n",
       " 'percentChange': 0.0,\n",
       " 'volume': 187,\n",
       " 'openInterest': 0,\n",
       " 'bid': 0.0,\n",
       " 'ask': 0.0,\n",
       " 'contractSize': 'REGULAR',\n",
       " 'expiration': 1610668800,\n",
       " 'lastTradeDate': 1588707256,\n",
       " 'impliedVolatility': 0.007822421875,\n",
       " 'inTheMoney': False}"
      ]
     },
     "execution_count": 32,
     "metadata": {},
     "output_type": "execute_result"
    }
   ],
   "source": [
    "opcion_valuar['JSON']"
   ]
  },
  {
   "cell_type": "code",
   "execution_count": 47,
   "metadata": {},
   "outputs": [
    {
     "data": {
      "text/plain": [
       "0.007822421875"
      ]
     },
     "execution_count": 47,
     "metadata": {},
     "output_type": "execute_result"
    }
   ],
   "source": [
    "impliedv=opcion_valuar['JSON'].get(\"impliedVolatility\")\n",
    "impliedv"
   ]
  },
  {
   "cell_type": "code",
   "execution_count": 48,
   "metadata": {},
   "outputs": [
    {
     "data": {
      "text/plain": [
       "0.0004927662602733711"
      ]
     },
     "execution_count": 48,
     "metadata": {},
     "output_type": "execute_result"
    }
   ],
   "source": [
    "sigma = impliedv/np.sqrt(252)\n",
    "sigma"
   ]
  },
  {
   "cell_type": "code",
   "execution_count": 49,
   "metadata": {},
   "outputs": [],
   "source": [
    "from datetime import date\n",
    "Hoy = date.today()\n",
    "K = opcion_valuar['JSON']['strike']  # strike price\n",
    "ndays = (opcion_valuar.Expiry - today).days\n",
    "nscen = 100000\n",
    "dates = pd.date_range(start= Hoy, periods = ndays)\n",
    "S0 = closes_aapl.iloc[-1,0]  # Condición inicial del precio a simular\n",
    "\n",
    "sim_ret = pd.DataFrame(sigma*np.random.randn(ndays,nscen)+r,index=dates)\n",
    "sim_closes = S0*np.exp(sim_ret.cumsum())\n",
    "#strike = pd.DataFrame({'Strike':K*np.ones(ndays)}, index=dates)\n",
    "#simul = pd.concat([closes_aapl.T,strike.T,sim_closes.T]).T\n",
    "#simul.plot(figsize=(8,6),legend=False);"
   ]
  },
  {
   "cell_type": "code",
   "execution_count": 50,
   "metadata": {},
   "outputs": [
    {
     "data": {
      "image/png": "[encoded data removed]",
      "text/plain": [
       "<Figure size 432x288 with 1 Axes>"
      ]
     },
     "metadata": {},
     "output_type": "display_data"
    }
   ],
   "source": [
    "strike = pd.DataFrame(K*np.ones([ndays,nscen]), index=dates)\n",
    "put = pd.DataFrame({'Prima':np.exp(-r*ndays) \\\n",
    "              *np.fmax(strike-sim_closes,np.zeros([ndays,nscen])).mean(axis=1)}, index=dates)\n",
    "put.plot();"
   ]
  },
  {
   "cell_type": "code",
   "execution_count": 51,
   "metadata": {},
   "outputs": [
    {
     "data": {
      "text/plain": [
       "Prima    2.030e-04\n",
       "Name: 2021-01-14 00:00:00, dtype: float64"
      ]
     },
     "execution_count": 51,
     "metadata": {},
     "output_type": "execute_result"
    }
   ],
   "source": [
    "# Con un intervarlo de confianza del 99%\n",
    "put.iloc[-1]"
   ]
  },
  {
   "cell_type": "code",
   "execution_count": 52,
   "metadata": {},
   "outputs": [
    {
     "name": "stdout",
     "output_type": "stream",
     "text": [
      "(-0.018861878996835352, 0.01926794831122802)\n",
      "(-0.01886151509699201, 0.019267584411384677)\n"
     ]
    }
   ],
   "source": [
    "confianza = 0.99\n",
    "sigma_est = sim_closes.iloc[-1].sem()\n",
    "mean_est = put.iloc[-1].Prima\n",
    "i1 = st.t.interval(confianza,nscen-1, loc=mean_est, scale=sigma_est)\n",
    "i2 = st.norm.interval(confianza, loc=mean_est, scale=sigma_est)\n",
    "print(i1)\n",
    "print(i2)"
   ]
  },
  {
   "cell_type": "code",
   "execution_count": 53,
   "metadata": {},
   "outputs": [
    {
     "data": {
      "image/png": "[encoded data removed]",
      "text/plain": [
       "<Figure size 432x288 with 1 Axes>"
      ]
     },
     "metadata": {},
     "output_type": "display_data"
    }
   ],
   "source": [
    "# Usando muestreo estratificado----> #estratros = nscen\n",
    "U = (np.arange(0,nscen)+np.random.rand(ndays,nscen))/nscen\n",
    "Z = st.norm.ppf(U)\n",
    "\n",
    "sim_ret2 = pd.DataFrame(sigma*Z+r,index=dates)\n",
    "sim_closes2 = S0*np.exp(sim_ret.cumsum())\n",
    "\n",
    "# Función de pago\n",
    "strike = pd.DataFrame(K*np.ones([ndays,nscen]), index=dates)\n",
    "put = pd.DataFrame({'Prima':np.exp(-r*ndays) \\\n",
    "              *np.fmax(strike-sim_closes2,np.zeros([ndays,nscen])).T.mean()}, index=dates)\n",
    "put.plot();"
   ]
  },
  {
   "cell_type": "code",
   "execution_count": 54,
   "metadata": {},
   "outputs": [
    {
     "data": {
      "text/plain": [
       "Prima    2.030e-04\n",
       "Name: 2021-01-14 00:00:00, dtype: float64"
      ]
     },
     "execution_count": 54,
     "metadata": {},
     "output_type": "execute_result"
    }
   ],
   "source": [
    "put.iloc[-1]"
   ]
  },
  {
   "cell_type": "code",
   "execution_count": 55,
   "metadata": {},
   "outputs": [
    {
     "name": "stdout",
     "output_type": "stream",
     "text": [
      "(-0.018861878996835352, 0.01926794831122802)\n",
      "(-0.01886151509699201, 0.019267584411384677)\n"
     ]
    }
   ],
   "source": [
    "confianza = 0.99\n",
    "sigma_est = sim_closes2.iloc[-1].sem()\n",
    "mean_est = put.iloc[-1].Prima\n",
    "i1 = st.t.interval(confianza,nscen-1, loc=mean_est, scale=sigma_est)\n",
    "i2 = st.norm.interval(confianza, loc=mean_est, scale=sigma_est)\n",
    "print(i1)\n",
    "print(i2)"
   ]
  },
  {
   "cell_type": "markdown",
   "metadata": {},
   "source": [
    "### Análisis de la distribución de los rendimientos"
   ]
  },
  {
   "cell_type": "markdown",
   "metadata": {},
   "source": [
    "### Ajustando normal"
   ]
  },
  {
   "cell_type": "code",
   "execution_count": 56,
   "metadata": {},
   "outputs": [
    {
     "data": {
      "image/png": "[encoded data removed]",
      "text/plain": [
       "<Figure size 432x288 with 1 Axes>"
      ]
     },
     "metadata": {},
     "output_type": "display_data"
    }
   ],
   "source": [
    "ren = calc_daily_ret(closes_aapl) # rendimientos \n",
    "y,x,des = plt.hist(ren['AAPL'],bins=50,density=True,label='Histograma rendimientos')\n",
    "\n",
    "mu_fit,sd_fit = st.norm.fit(ren) # Se ajustan los parámetros de una normal\n",
    "# Valores máximo y mínimo de los rendiemientos a generar\n",
    "ren_max = max(x);ren_min = min(x)\n",
    "# Vector de rendimientos generados\n",
    "ren_gen = np.arange(ren_min,ren_max,0.001)\n",
    "# Generación de la normal ajustado con los parámetros encontrados\n",
    "curve_fit = st.norm.pdf(ren_gen,loc=mu_fit,scale=sd_fit)\n",
    "plt.plot(ren_gen,curve_fit,label='Distribución ajustada')\n",
    "plt.legend()\n",
    "plt.show()"
   ]
  },
  {
   "cell_type": "markdown",
   "metadata": {},
   "source": [
    "### Ajustando t"
   ]
  },
  {
   "cell_type": "code",
   "execution_count": 57,
   "metadata": {},
   "outputs": [
    {
     "data": {
      "image/png": "[encoded data removed]",
      "text/plain": [
       "<Figure size 432x288 with 1 Axes>"
      ]
     },
     "metadata": {},
     "output_type": "display_data"
    }
   ],
   "source": [
    "ren = calc_daily_ret(closes_aapl) # rendimientos \n",
    "y,x,des = plt.hist(ren['AAPL'],bins=50,density=True,label='Histograma rendimientos')\n",
    "\n",
    "dof,mu_fit,sd_fit = st.t.fit(ren) # Se ajustan los parámetros de una normal\n",
    "# Valores máximo y mínimo de los rendiemientos a generar\n",
    "# ren_max = max(x);ren_min = min(x)\n",
    "# Vector de rendimientos generados\n",
    "ren_gen = np.arange(ren_min,ren_max,0.001)\n",
    "# Generación de la normal ajustado con los parámetros encontrados\n",
    "curve_fit = st.t.pdf(ren_gen,df=dof,loc=mu_fit,scale=sd_fit)\n",
    "plt.plot(ren_gen,curve_fit,label='Distribución ajustada')\n",
    "plt.legend()\n",
    "plt.show()"
   ]
  },
  {
   "cell_type": "code",
   "execution_count": 58,
   "metadata": {},
   "outputs": [
    {
     "data": {
      "image/png": "[encoded data removed]",
      "text/plain": [
       "<Figure size 432x288 with 1 Axes>"
      ]
     },
     "metadata": {},
     "output_type": "display_data"
    }
   ],
   "source": [
    "st.probplot(ren['AAPL'],sparams= dof, dist='t', plot=plt);"
   ]
  },
  {
   "cell_type": "markdown",
   "metadata": {},
   "source": [
    "## 3. Valuación usando simulación: uso del histograma de rendimientos\n",
    "\n",
    "Todo el análisis anterior se mantiene. Solo cambia la forma de generar los números aleatorios para la simulación montecarlo.\n",
    "\n",
    "Ahora, generemos un histograma de los rendimientos diarios para generar valores aleatorios de los rendimientos simulados."
   ]
  },
  {
   "cell_type": "code",
   "execution_count": 59,
   "metadata": {},
   "outputs": [],
   "source": [
    "ndays = 109 \n",
    "nscen = 10"
   ]
  },
  {
   "cell_type": "code",
   "execution_count": 60,
   "metadata": {},
   "outputs": [],
   "source": [
    "prob = y/np.sum(y)\n",
    "values = x[1:]"
   ]
  },
  {
   "cell_type": "code",
   "execution_count": 61,
   "metadata": {},
   "outputs": [
    {
     "data": {
      "text/html": [
       "<div>\n",
       "<style scoped>\n",
       "    .dataframe tbody tr th:only-of-type {\n",
       "        vertical-align: middle;\n",
       "    }\n",
       "\n",
       "    .dataframe tbody tr th {\n",
       "        vertical-align: top;\n",
       "    }\n",
       "\n",
       "    .dataframe thead th {\n",
       "        text-align: right;\n",
       "    }\n",
       "</style>\n",
       "<table border=\"1\" class=\"dataframe\">\n",
       "  <thead>\n",
       "    <tr style=\"text-align: right;\">\n",
       "      <th></th>\n",
       "      <th>0</th>\n",
       "      <th>1</th>\n",
       "      <th>2</th>\n",
       "      <th>...</th>\n",
       "      <th>7</th>\n",
       "      <th>8</th>\n",
       "      <th>9</th>\n",
       "    </tr>\n",
       "  </thead>\n",
       "  <tbody>\n",
       "    <tr>\n",
       "      <th>2020-05-06</th>\n",
       "      <td>-0.002</td>\n",
       "      <td>-0.012</td>\n",
       "      <td>0.023</td>\n",
       "      <td>...</td>\n",
       "      <td>-0.002</td>\n",
       "      <td>0.003</td>\n",
       "      <td>-0.017</td>\n",
       "    </tr>\n",
       "    <tr>\n",
       "      <th>2020-05-07</th>\n",
       "      <td>0.038</td>\n",
       "      <td>0.018</td>\n",
       "      <td>-0.007</td>\n",
       "      <td>...</td>\n",
       "      <td>0.033</td>\n",
       "      <td>0.013</td>\n",
       "      <td>0.018</td>\n",
       "    </tr>\n",
       "    <tr>\n",
       "      <th>2020-05-08</th>\n",
       "      <td>-0.002</td>\n",
       "      <td>0.013</td>\n",
       "      <td>-0.002</td>\n",
       "      <td>...</td>\n",
       "      <td>0.018</td>\n",
       "      <td>-0.017</td>\n",
       "      <td>-0.022</td>\n",
       "    </tr>\n",
       "    <tr>\n",
       "      <th>2020-05-09</th>\n",
       "      <td>-0.017</td>\n",
       "      <td>-0.017</td>\n",
       "      <td>0.008</td>\n",
       "      <td>...</td>\n",
       "      <td>0.003</td>\n",
       "      <td>-0.002</td>\n",
       "      <td>0.013</td>\n",
       "    </tr>\n",
       "    <tr>\n",
       "      <th>2020-05-10</th>\n",
       "      <td>-0.002</td>\n",
       "      <td>0.038</td>\n",
       "      <td>-0.012</td>\n",
       "      <td>...</td>\n",
       "      <td>0.003</td>\n",
       "      <td>0.013</td>\n",
       "      <td>0.013</td>\n",
       "    </tr>\n",
       "    <tr>\n",
       "      <th>...</th>\n",
       "      <td>...</td>\n",
       "      <td>...</td>\n",
       "      <td>...</td>\n",
       "      <td>...</td>\n",
       "      <td>...</td>\n",
       "      <td>...</td>\n",
       "      <td>...</td>\n",
       "    </tr>\n",
       "    <tr>\n",
       "      <th>2020-08-18</th>\n",
       "      <td>-0.027</td>\n",
       "      <td>0.098</td>\n",
       "      <td>-0.047</td>\n",
       "      <td>...</td>\n",
       "      <td>-0.017</td>\n",
       "      <td>0.003</td>\n",
       "      <td>-0.007</td>\n",
       "    </tr>\n",
       "    <tr>\n",
       "      <th>2020-08-19</th>\n",
       "      <td>-0.017</td>\n",
       "      <td>0.003</td>\n",
       "      <td>0.018</td>\n",
       "      <td>...</td>\n",
       "      <td>-0.002</td>\n",
       "      <td>0.018</td>\n",
       "      <td>0.013</td>\n",
       "    </tr>\n",
       "    <tr>\n",
       "      <th>2020-08-20</th>\n",
       "      <td>0.003</td>\n",
       "      <td>0.113</td>\n",
       "      <td>-0.002</td>\n",
       "      <td>...</td>\n",
       "      <td>0.033</td>\n",
       "      <td>-0.017</td>\n",
       "      <td>-0.022</td>\n",
       "    </tr>\n",
       "    <tr>\n",
       "      <th>2020-08-21</th>\n",
       "      <td>-0.002</td>\n",
       "      <td>0.003</td>\n",
       "      <td>0.003</td>\n",
       "      <td>...</td>\n",
       "      <td>-0.002</td>\n",
       "      <td>-0.007</td>\n",
       "      <td>0.023</td>\n",
       "    </tr>\n",
       "    <tr>\n",
       "      <th>2020-08-22</th>\n",
       "      <td>0.013</td>\n",
       "      <td>-0.002</td>\n",
       "      <td>0.018</td>\n",
       "      <td>...</td>\n",
       "      <td>0.003</td>\n",
       "      <td>-0.012</td>\n",
       "      <td>0.013</td>\n",
       "    </tr>\n",
       "  </tbody>\n",
       "</table>\n",
       "<p>109 rows × 10 columns</p>\n",
       "</div>"
      ],
      "text/plain": [
       "                0      1      2  ...        7      8      9\n",
       "2020-05-06 -0.002 -0.012  0.023  ...   -0.002  0.003 -0.017\n",
       "2020-05-07  0.038  0.018 -0.007  ...    0.033  0.013  0.018\n",
       "2020-05-08 -0.002  0.013 -0.002  ...    0.018 -0.017 -0.022\n",
       "2020-05-09 -0.017 -0.017  0.008  ...    0.003 -0.002  0.013\n",
       "2020-05-10 -0.002  0.038 -0.012  ...    0.003  0.013  0.013\n",
       "...           ...    ...    ...  ...      ...    ...    ...\n",
       "2020-08-18 -0.027  0.098 -0.047  ...   -0.017  0.003 -0.007\n",
       "2020-08-19 -0.017  0.003  0.018  ...   -0.002  0.018  0.013\n",
       "2020-08-20  0.003  0.113 -0.002  ...    0.033 -0.017 -0.022\n",
       "2020-08-21 -0.002  0.003  0.003  ...   -0.002 -0.007  0.023\n",
       "2020-08-22  0.013 -0.002  0.018  ...    0.003 -0.012  0.013\n",
       "\n",
       "[109 rows x 10 columns]"
      ]
     },
     "execution_count": 61,
     "metadata": {},
     "output_type": "execute_result"
    }
   ],
   "source": [
    "ret = np.random.choice(values, ndays*nscen, p=prob)\n",
    "dates = pd.date_range(start=Hoy,periods=ndays)\n",
    "sim_ret_hist = pd.DataFrame(ret.reshape((ndays,nscen)),index=dates)\n",
    "sim_ret_hist"
   ]
  },
  {
   "cell_type": "code",
   "execution_count": 62,
   "metadata": {},
   "outputs": [
    {
     "data": {
      "text/html": [
       "<div>\n",
       "<style scoped>\n",
       "    .dataframe tbody tr th:only-of-type {\n",
       "        vertical-align: middle;\n",
       "    }\n",
       "\n",
       "    .dataframe tbody tr th {\n",
       "        vertical-align: top;\n",
       "    }\n",
       "\n",
       "    .dataframe thead th {\n",
       "        text-align: right;\n",
       "    }\n",
       "</style>\n",
       "<table border=\"1\" class=\"dataframe\">\n",
       "  <thead>\n",
       "    <tr style=\"text-align: right;\">\n",
       "      <th></th>\n",
       "      <th>0</th>\n",
       "      <th>1</th>\n",
       "      <th>2</th>\n",
       "      <th>...</th>\n",
       "      <th>7</th>\n",
       "      <th>8</th>\n",
       "      <th>9</th>\n",
       "    </tr>\n",
       "  </thead>\n",
       "  <tbody>\n",
       "    <tr>\n",
       "      <th>2020-05-06</th>\n",
       "      <td>296.894</td>\n",
       "      <td>293.930</td>\n",
       "      <td>304.436</td>\n",
       "      <td>...</td>\n",
       "      <td>296.894</td>\n",
       "      <td>298.387</td>\n",
       "      <td>292.459</td>\n",
       "    </tr>\n",
       "    <tr>\n",
       "      <th>2020-05-07</th>\n",
       "      <td>308.362</td>\n",
       "      <td>299.217</td>\n",
       "      <td>302.235</td>\n",
       "      <td>...</td>\n",
       "      <td>306.818</td>\n",
       "      <td>302.235</td>\n",
       "      <td>297.720</td>\n",
       "    </tr>\n",
       "    <tr>\n",
       "      <th>2020-05-08</th>\n",
       "      <td>307.671</td>\n",
       "      <td>303.075</td>\n",
       "      <td>301.558</td>\n",
       "      <td>...</td>\n",
       "      <td>312.337</td>\n",
       "      <td>297.053</td>\n",
       "      <td>291.151</td>\n",
       "    </tr>\n",
       "    <tr>\n",
       "      <th>2020-05-09</th>\n",
       "      <td>302.397</td>\n",
       "      <td>297.879</td>\n",
       "      <td>303.918</td>\n",
       "      <td>...</td>\n",
       "      <td>313.206</td>\n",
       "      <td>296.388</td>\n",
       "      <td>294.905</td>\n",
       "    </tr>\n",
       "    <tr>\n",
       "      <th>2020-05-10</th>\n",
       "      <td>301.720</td>\n",
       "      <td>309.385</td>\n",
       "      <td>300.210</td>\n",
       "      <td>...</td>\n",
       "      <td>314.077</td>\n",
       "      <td>300.210</td>\n",
       "      <td>298.707</td>\n",
       "    </tr>\n",
       "    <tr>\n",
       "      <th>...</th>\n",
       "      <td>...</td>\n",
       "      <td>...</td>\n",
       "      <td>...</td>\n",
       "      <td>...</td>\n",
       "      <td>...</td>\n",
       "      <td>...</td>\n",
       "      <td>...</td>\n",
       "    </tr>\n",
       "    <tr>\n",
       "      <th>2020-08-18</th>\n",
       "      <td>462.980</td>\n",
       "      <td>496.670</td>\n",
       "      <td>456.063</td>\n",
       "      <td>...</td>\n",
       "      <td>392.333</td>\n",
       "      <td>684.736</td>\n",
       "      <td>511.849</td>\n",
       "    </tr>\n",
       "    <tr>\n",
       "      <th>2020-08-19</th>\n",
       "      <td>455.042</td>\n",
       "      <td>498.051</td>\n",
       "      <td>464.267</td>\n",
       "      <td>...</td>\n",
       "      <td>391.455</td>\n",
       "      <td>697.053</td>\n",
       "      <td>518.448</td>\n",
       "    </tr>\n",
       "    <tr>\n",
       "      <th>2020-08-20</th>\n",
       "      <td>456.308</td>\n",
       "      <td>557.721</td>\n",
       "      <td>463.228</td>\n",
       "      <td>...</td>\n",
       "      <td>404.540</td>\n",
       "      <td>685.103</td>\n",
       "      <td>507.010</td>\n",
       "    </tr>\n",
       "    <tr>\n",
       "      <th>2020-08-21</th>\n",
       "      <td>455.286</td>\n",
       "      <td>559.272</td>\n",
       "      <td>464.516</td>\n",
       "      <td>...</td>\n",
       "      <td>403.635</td>\n",
       "      <td>680.149</td>\n",
       "      <td>518.726</td>\n",
       "    </tr>\n",
       "    <tr>\n",
       "      <th>2020-08-22</th>\n",
       "      <td>461.157</td>\n",
       "      <td>558.020</td>\n",
       "      <td>472.872</td>\n",
       "      <td>...</td>\n",
       "      <td>404.757</td>\n",
       "      <td>671.851</td>\n",
       "      <td>525.415</td>\n",
       "    </tr>\n",
       "  </tbody>\n",
       "</table>\n",
       "<p>109 rows × 10 columns</p>\n",
       "</div>"
      ],
      "text/plain": [
       "                  0        1        2   ...           7        8        9\n",
       "2020-05-06  296.894  293.930  304.436   ...     296.894  298.387  292.459\n",
       "2020-05-07  308.362  299.217  302.235   ...     306.818  302.235  297.720\n",
       "2020-05-08  307.671  303.075  301.558   ...     312.337  297.053  291.151\n",
       "2020-05-09  302.397  297.879  303.918   ...     313.206  296.388  294.905\n",
       "2020-05-10  301.720  309.385  300.210   ...     314.077  300.210  298.707\n",
       "...             ...      ...      ...   ...         ...      ...      ...\n",
       "2020-08-18  462.980  496.670  456.063   ...     392.333  684.736  511.849\n",
       "2020-08-19  455.042  498.051  464.267   ...     391.455  697.053  518.448\n",
       "2020-08-20  456.308  557.721  463.228   ...     404.540  685.103  507.010\n",
       "2020-08-21  455.286  559.272  464.516   ...     403.635  680.149  518.726\n",
       "2020-08-22  461.157  558.020  472.872   ...     404.757  671.851  525.415\n",
       "\n",
       "[109 rows x 10 columns]"
      ]
     },
     "execution_count": 62,
     "metadata": {},
     "output_type": "execute_result"
    }
   ],
   "source": [
    "sim_closes_hist = (closes_aapl.iloc[-1,0])*np.exp(sim_ret_hist.cumsum())\n",
    "sim_closes_hist"
   ]
  },
  {
   "cell_type": "code",
   "execution_count": 63,
   "metadata": {},
   "outputs": [
    {
     "data": {
      "image/png": "[encoded data removed]",
      "text/plain": [
       "<Figure size 576x432 with 1 Axes>"
      ]
     },
     "metadata": {},
     "output_type": "display_data"
    }
   ],
   "source": [
    "sim_closes_hist.plot(figsize=(8,6),legend=False);"
   ]
  },
  {
   "cell_type": "code",
   "execution_count": 64,
   "metadata": {},
   "outputs": [
    {
     "data": {
      "text/plain": [
       "Text(0.5,1,'Simulación usando el histograma de los rendimientos')"
      ]
     },
     "execution_count": 64,
     "metadata": {},
     "output_type": "execute_result"
    },
    {
     "data": {
      "image/png": "[encoded data removed]",
      "text/plain": [
       "<Figure size 576x432 with 1 Axes>"
      ]
     },
     "metadata": {},
     "output_type": "display_data"
    }
   ],
   "source": [
    "pd.concat([closes_aapl,sim_closes_hist]).plot(figsize=(8,6),legend=False);\n",
    "plt.title('Simulación usando el histograma de los rendimientos')"
   ]
  },
  {
   "cell_type": "code",
   "execution_count": 65,
   "metadata": {},
   "outputs": [],
   "source": [
    "K=240\n",
    "ndays = 109\n",
    "nscen = 10000\n",
    "freq, values = np.histogram(ret_aapl+r-mu, bins=2000)\n",
    "prob = freq/np.sum(freq)\n",
    "ret=np.random.choice(values[1:],ndays*nscen,p=prob)\n",
    "dates=pd.date_range('2018-10-29',periods=ndays)\n",
    "sim_ret_hist = pd.DataFrame(ret.reshape((ndays,nscen)),index=dates)\n",
    "sim_closes_hist = (closes_aapl.iloc[-1,0])*np.exp(sim_ret_hist.cumsum())"
   ]
  },
  {
   "cell_type": "code",
   "execution_count": 66,
   "metadata": {},
   "outputs": [
    {
     "data": {
      "image/png": "[encoded data removed]",
      "text/plain": [
       "<Figure size 432x288 with 1 Axes>"
      ]
     },
     "metadata": {},
     "output_type": "display_data"
    }
   ],
   "source": [
    "strike = pd.DataFrame(K*np.ones(ndays*nscen).reshape((ndays,nscen)), index=dates)\n",
    "put_hist = pd.DataFrame({'Prima':np.exp(-r*ndays)*np.fmax(strike-sim_closes_hist,np.zeros(ndays*nscen).reshape((ndays,nscen))).T.mean()}, index=dates)\n",
    "put_hist.plot();"
   ]
  },
  {
   "cell_type": "code",
   "execution_count": 67,
   "metadata": {},
   "outputs": [
    {
     "data": {
      "text/plain": [
       "Prima    3.253\n",
       "Name: 2019-02-14 00:00:00, dtype: float64"
      ]
     },
     "execution_count": 67,
     "metadata": {},
     "output_type": "execute_result"
    }
   ],
   "source": [
    "put_hist.iloc[-1]"
   ]
  },
  {
   "cell_type": "code",
   "execution_count": 68,
   "metadata": {},
   "outputs": [
    {
     "data": {
      "text/plain": [
       "{'contractSymbol': 'AAPL210115P00290000',\n",
       " 'strike': 290.0,\n",
       " 'currency': 'USD',\n",
       " 'lastPrice': 30.0,\n",
       " 'change': 0.0,\n",
       " 'percentChange': 0.0,\n",
       " 'volume': 187,\n",
       " 'openInterest': 0,\n",
       " 'bid': 0.0,\n",
       " 'ask': 0.0,\n",
       " 'contractSize': 'REGULAR',\n",
       " 'expiration': 1610668800,\n",
       " 'lastTradeDate': 1588707256,\n",
       " 'impliedVolatility': 0.007822421875,\n",
       " 'inTheMoney': False}"
      ]
     },
     "execution_count": 68,
     "metadata": {},
     "output_type": "execute_result"
    }
   ],
   "source": [
    "opcion_valuar['JSON']"
   ]
  },
  {
   "cell_type": "code",
   "execution_count": 69,
   "metadata": {},
   "outputs": [
    {
     "name": "stdout",
     "output_type": "stream",
     "text": [
      "(2.047452595397193, 4.458118436769645)\n",
      "(2.047598498929342, 4.457972533237497)\n"
     ]
    }
   ],
   "source": [
    "# Intervalo de confianza del 95%\n",
    "confianza = 0.95\n",
    "sigma_est = sim_closes_hist.iloc[-1].sem()\n",
    "mean_est = put_hist.iloc[-1].Prima\n",
    "i1 = st.t.interval(confianza,nscen-1, loc=mean_est, scale=sigma_est)\n",
    "i2 = st.norm.interval(confianza, loc=mean_est, scale=sigma_est)\n",
    "print(i1)\n",
    "print(i2)"
   ]
  },
  {
   "cell_type": "markdown",
   "metadata": {},
   "source": [
    "Como podemos observar, partiendo del mismo precio de ejercicio, el cual fue de 290, las primas en el caso put, fueron mucho más bajas en precio en comparación con lo que obtuvimos al hacer el ejercicio con las call. Esto se puede deber a que el precio de ejercicio es bajo, incluso más bajo que el precio actual de la acción, por lo que si quieres tener el derecho a comprar una acción a ese strike price, tendrías que pagar mucho más, en cambio si quisieras vender a ese precio mas bajo, sería por ende, más baja la prima."
   ]
  }
 ],
 "metadata": {
  "kernelspec": {
   "display_name": "Python 3",
   "language": "python",
   "name": "python3"
  },
  "language_info": {
   "codemirror_mode": {
    "name": "ipython",
    "version": 3
   },
   "file_extension": ".py",
   "mimetype": "text/x-python",
   "name": "python",
   "nbconvert_exporter": "python",
   "pygments_lexer": "ipython3",
   "version": "3.7.1"
  }
 },
 "nbformat": 4,
 "nbformat_minor": 2
}
