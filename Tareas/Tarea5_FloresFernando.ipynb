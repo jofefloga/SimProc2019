{
 "cells": [
  {
   "cell_type": "markdown",
   "metadata": {},
   "source": [
    "<img style=\"float: left; margin: 30px 15px 15px 15px;\" src=\"https://pngimage.net/wp-content/uploads/2018/06/logo-iteso-png-5.png\" width=\"300\" height=\"500\" /> \n",
    "    \n",
    "    \n",
    "### <font color='navy'> Simulación de procesos financieros. \n",
    "\n",
    "**Nombre:** José Fernando Flores.\n",
    "\n",
    "**Fecha:** 27 de febrero del 2020.\n",
    "\n",
    "**Expediente** : 714575.\n",
    "**Profesor:** Oscar David Jaramillo Zuluaga.\n",
    "\n",
    "# Tarea 5: Clase 9"
   ]
  },
  {
   "cell_type": "markdown",
   "metadata": {},
   "source": [
    "\n",
    "## Tarea 3\n",
    "> Usando notebook de jupyter resolver ejercicios de Distribución de Probabilidad."
   ]
  },
  {
   "cell_type": "markdown",
   "metadata": {},
   "source": [
    "### Ejercicio 1: \n",
    ">El tiempo en el cual un movimiento browniano se mantiene sobre su punto máximo en el intervalo [0,1] tiene una distribución\n",
    ">$$F(x)=\\frac{2}{\\pi}\\sin^{-1}(\\sqrt x),\\quad 0\\leq x\\leq 1$$ </font>\n",
    "Genere muestres aleatorias que distribuyan según la función dada usando el método de la transformada inversa y grafique en una gráfica el historias 100 muestras generadas y comparela con el función F(x) dada, esto con el fín de validar que el procedimiento fue realizado de manera correcta."
   ]
  },
  {
   "cell_type": "code",
   "execution_count": 2,
   "metadata": {
    "scrolled": true
   },
   "outputs": [
    {
     "data": {
      "image/png": "[encoded data removed]",
      "text/plain": [
       "<Figure size 432x288 with 1 Axes>"
      ]
     },
     "metadata": {
      "needs_background": "light"
     },
     "output_type": "display_data"
    }
   ],
   "source": [
    "# Código de solución\n",
    "import numpy as np\n",
    "import matplotlib.pyplot as plt\n",
    "#Se verifica la función\n",
    "\n",
    "w = np.arange(0.01,1,0.01)\n",
    "def f(x):\n",
    "    return (1/(np.pi*np.sqrt(1-w)*np.sqrt(w)))\n",
    "\n",
    "plt.plot(w,f(w), 'r-')\n",
    "plt.legend('f(x)')\n",
    "plt.xlabel('x')\n",
    "plt.ylabel('f(x)')\n",
    "plt.show()"
   ]
  },
  {
   "cell_type": "markdown",
   "metadata": {},
   "source": [
    ">$$F(x)=\\frac{2}{\\pi}\\sin^{-1}(\\sqrt x),\\quad 0\\leq x\\leq 1$$ </font>\n",
    "\n",
    ">$$x=\\sin^{2}(\\frac{u \\pi}{2})$$ </font>"
   ]
  },
  {
   "cell_type": "code",
   "execution_count": 13,
   "metadata": {},
   "outputs": [
    {
     "data": {
      "image/png": "[encoded data removed]",
      "text/plain": [
       "<Figure size 432x288 with 1 Axes>"
      ]
     },
     "metadata": {
      "needs_background": "light"
     },
     "output_type": "display_data"
    }
   ],
   "source": [
    "N=10**2\n",
    "y2 = np.sin((np.random.rand(N)*np.pi)/2)**2\n",
    "plt.hist(y2,bins=30,density=True)\n",
    "plt.plot(w,f(w), 'r--')\n",
    "plt.legend('F(x)')\n",
    "plt.xlabel('x')\n",
    "plt.ylabel('F(x)')\n",
    "plt.plot()\n",
    "plt.show()"
   ]
  },
  {
   "cell_type": "code",
   "execution_count": 4,
   "metadata": {},
   "outputs": [
    {
     "data": {
      "text/plain": [
       "array([9.80572396e-01, 5.74093241e-01, 3.82045874e-02, 6.80376156e-01,\n",
       "       6.50069069e-02, 7.60624262e-01, 3.17471651e-01, 3.28191376e-02,\n",
       "       9.98776673e-01, 3.94832898e-03, 2.07729541e-01, 2.95861262e-01,\n",
       "       2.31972112e-01, 2.08736677e-01, 5.72624011e-01, 8.43757456e-04,\n",
       "       1.62051480e-02, 9.07681071e-01, 8.30903243e-01, 9.96553569e-01,\n",
       "       3.66129141e-02, 6.49406430e-01, 7.06696728e-01, 1.02201145e-01,\n",
       "       1.74970634e-02, 9.52470675e-01, 9.23892094e-01, 6.79805553e-01,\n",
       "       2.41064103e-01, 9.91686597e-01, 7.26418711e-01, 8.10155156e-01,\n",
       "       3.43458729e-01, 7.96397133e-01, 9.03568402e-01, 9.98052334e-01,\n",
       "       9.92797263e-01, 5.07619980e-01, 2.03015775e-01, 9.77314951e-01,\n",
       "       4.53827901e-01, 1.24027996e-01, 9.67077756e-01, 3.56355469e-02,\n",
       "       7.52118095e-01, 1.21075373e-02, 1.61856846e-01, 9.13312480e-02,\n",
       "       4.23949673e-03, 2.57654242e-01, 1.47436240e-01, 9.47025837e-01,\n",
       "       1.38899816e-02, 9.96864082e-01, 2.96083642e-01, 5.50434103e-02,\n",
       "       3.50203618e-02, 6.43021080e-01, 9.79409043e-01, 1.13998007e-01,\n",
       "       9.32658171e-01, 7.40492757e-03, 9.42859679e-01, 2.57575911e-01,\n",
       "       6.07462624e-01, 9.07977128e-01, 7.03095039e-01, 1.87045004e-02,\n",
       "       7.53721416e-01, 1.06570157e-01, 4.27803415e-02, 1.13247266e-01,\n",
       "       3.80076228e-01, 9.08492364e-01, 1.04908394e-01, 5.49807580e-01,\n",
       "       2.52384996e-02, 8.98735937e-01, 9.98655000e-01, 8.53940507e-01,\n",
       "       2.09569791e-01, 9.71439155e-01, 8.48018404e-01, 4.19566205e-01,\n",
       "       1.08366434e-03, 9.99863179e-01, 4.57902228e-02, 3.16507434e-02,\n",
       "       7.26158833e-01, 1.51565633e-01, 6.41808741e-01, 5.47756335e-01,\n",
       "       9.08640677e-01, 4.21613400e-01, 7.73095776e-01, 9.99999493e-01,\n",
       "       5.77434583e-01, 9.00891930e-01, 5.23947323e-01, 3.80234843e-01])"
      ]
     },
     "execution_count": 4,
     "metadata": {},
     "output_type": "execute_result"
    }
   ],
   "source": [
    "y2"
   ]
  },
  {
   "cell_type": "markdown",
   "metadata": {},
   "source": [
    "### Ejercicio 2:\n",
    "\n",
    "Generar una variable aletoria binomial con parámetros $n=10$ y $p=0.7$. Recordar que\n",
    "$$X\\sim binomial(n,p) \\longrightarrow p_i=P(X=i)=\\frac{n!}{i!(n-i)!}p^i(1-p)^{n-i},\\quad i=0,1,\\cdots,n$$\n",
    "    \n",
    "> Demostrar la validez de la siguiente ecuación:\n",
    ">$$p_{i+1}=\\frac{n-i}{i+1}\\frac{p}{1-p} p_i \\longrightarrow \\text{Hablar de las ventajas que sea recursiva}$$"
   ]
  },
  {
   "cell_type": "code",
   "execution_count": 5,
   "metadata": {},
   "outputs": [
    {
     "data": {
      "text/plain": [
       "(array([5.90490000e-06, 1.37781000e-04, 1.44670050e-03, 9.00169200e-03,\n",
       "        3.67569090e-02, 1.02919345e-01, 2.00120949e-01, 2.66827932e-01,\n",
       "        2.33474440e-01, 1.21060821e-01]),\n",
       " array([5.90490000e-06, 1.37781000e-04, 1.44670050e-03, 9.00169200e-03,\n",
       "        3.67569090e-02, 1.02919345e-01, 2.00120949e-01, 2.66827932e-01,\n",
       "        2.33474441e-01, 1.21060821e-01]))"
      ]
     },
     "execution_count": 5,
     "metadata": {},
     "output_type": "execute_result"
    }
   ],
   "source": [
    "# Código de solución\n",
    "n = 10\n",
    "p = 0.7\n",
    "p0 = (np.math.factorial(n)/(np.math.factorial(0)*np.math.factorial(10-0)))*(p**0)*((1-p)**(10-0))\n",
    "\n",
    "# Ecuación recursiva\n",
    "def bin_rec(n,p,p0):\n",
    "    P = np.zeros(n)\n",
    "    P[0] = p0\n",
    "    \n",
    "    def f(i):\n",
    "        nonlocal P\n",
    "        P[i+1] = ((n-i)/(i+1))*(p/(1-p))*P[i]\n",
    "\n",
    "    [f(i) for i in range(0,n-1)]\n",
    "    return P\n",
    "\n",
    "\n",
    "# Ecuación no recursiva\n",
    "def bin_NoRec(n,p):\n",
    "    P = np.zeros(n)\n",
    "    def f(i):\n",
    "        nonlocal P\n",
    "        P[i] = (np.math.factorial(n)/(np.math.factorial(i)*np.math.factorial(n-i)))*(p**i)*((1-p)**(n-i))\n",
    "    \n",
    "    [f(i) for i in range(0,n)]\n",
    "    return P\n",
    "\n",
    "bin_NoRec(n,p), bin_rec(n,p,p0)"
   ]
  },
  {
   "cell_type": "markdown",
   "metadata": {},
   "source": [
    "La ventaja de la función recursiva sobre la no recursiva es la menor carga computacional, ya que al haber calculado previamente $p_i$ no es necesario volver a calcular tantos factoriales, simplemente multiplicas el valor anterior por $\\frac{n-i}{i+1}\\frac{p}{1-p}$, así eliminas los factoriales, unicamente se tiene que calcular $p_0$ previamente."
   ]
  },
  {
   "cell_type": "code",
   "execution_count": null,
   "metadata": {},
   "outputs": [],
   "source": []
  }
 ],
 "metadata": {
  "kernelspec": {
   "display_name": "Python 3",
   "language": "python",
   "name": "python3"
  },
  "language_info": {
   "codemirror_mode": {
    "name": "ipython",
    "version": 3
   },
   "file_extension": ".py",
   "mimetype": "text/x-python",
   "name": "python",
   "nbconvert_exporter": "python",
   "pygments_lexer": "ipython3",
   "version": "3.7.1"
  }
 },
 "nbformat": 4,
 "nbformat_minor": 2
}
