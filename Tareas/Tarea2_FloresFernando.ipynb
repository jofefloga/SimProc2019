{
 "cells": [
  {
   "cell_type": "markdown",
   "metadata": {},
   "source": [
    "<img style=\"float: left; margin: 30px 15px 15px 15px;\" src=\"https://pngimage.net/wp-content/uploads/2018/06/logo-iteso-png-5.png\" width=\"300\" height=\"500\" /> \n",
    "    \n",
    "    \n",
    "### <font color='navy'> Simulación de procesos financieros. \n",
    "\n",
    "**Nombre:** Fernando Flores.\n",
    "\n",
    "**Fecha:** 11 de febrero del 2020.\n",
    "\n",
    "**Expediente** : 714575.\n",
    "**Profesor:** Oscar David Jaramillo Zuluaga.\n",
    "\n",
    "# Tarea 2 - b): Clase 3"
   ]
  },
  {
   "cell_type": "markdown",
   "metadata": {},
   "source": [
    "\n",
    "## Tarea 2\n",
    "> Usando notebook de jupyter para generar programas de python."
   ]
  },
  {
   "cell_type": "markdown",
   "metadata": {},
   "source": [
    "### Ejercicio 1: \n",
    "- Write a Python program to convert a list of numeric value into a one-dimensional NumPy array.\n",
    "> \t- Expected Output:\\\\\n",
    "> \t- Original List: [12.23, 13.32, 100, 36.32]\\\\\n",
    "> \t- One-dimensional numpy array: [ 12.23 13.32 100. 36.32] "
   ]
  },
  {
   "cell_type": "code",
   "execution_count": 5,
   "metadata": {},
   "outputs": [
    {
     "data": {
      "text/plain": [
       "array([ 12.23,  13.32, 100.  ,  36.32])"
      ]
     },
     "execution_count": 5,
     "metadata": {},
     "output_type": "execute_result"
    }
   ],
   "source": [
    "# Código de solución \n",
    "import numpy as np\n",
    "lista = [12.23, 13.32, 100, 36.32]\n",
    "array = np.array(lista)\n",
    "array"
   ]
  },
  {
   "cell_type": "markdown",
   "metadata": {},
   "source": [
    "### Ejercicio 2: \n",
    "- Write a Python program to create a null vector of size 10 and update sixth value to 11."
   ]
  },
  {
   "cell_type": "code",
   "execution_count": 6,
   "metadata": {},
   "outputs": [
    {
     "data": {
      "text/plain": [
       "array([ 0.,  0.,  0.,  0.,  0.,  0., 11.,  0.,  0.,  0.])"
      ]
     },
     "execution_count": 6,
     "metadata": {},
     "output_type": "execute_result"
    }
   ],
   "source": [
    "# Código de solución\n",
    "x = np.zeros(10)\n",
    "x[6]=11\n",
    "x"
   ]
  },
  {
   "cell_type": "markdown",
   "metadata": {},
   "source": [
    "### Ejercicio 3: \n",
    "- Write a Python program to create a array with values ranging from 12 to 38."
   ]
  },
  {
   "cell_type": "code",
   "execution_count": 7,
   "metadata": {},
   "outputs": [
    {
     "data": {
      "text/plain": [
       "array([12, 13, 14, 15, 16, 17, 18, 19, 20, 21, 22, 23, 24, 25, 26, 27, 28,\n",
       "       29, 30, 31, 32, 33, 34, 35, 36, 37, 38])"
      ]
     },
     "execution_count": 7,
     "metadata": {},
     "output_type": "execute_result"
    }
   ],
   "source": [
    "# Código de solución\n",
    "z = np.arange(12,39)\n",
    "z"
   ]
  },
  {
   "cell_type": "markdown",
   "metadata": {},
   "source": [
    "### Ejercicio 4: \n",
    "- Write a Python program to reverse an array (first element becomes last)."
   ]
  },
  {
   "cell_type": "code",
   "execution_count": 8,
   "metadata": {},
   "outputs": [
    {
     "data": {
      "text/plain": [
       "(array([10, 11, 12, 13, 14, 15, 16, 17, 18, 19]),\n",
       " array([19, 18, 17, 16, 15, 14, 13, 12, 11, 10]))"
      ]
     },
     "execution_count": 8,
     "metadata": {},
     "output_type": "execute_result"
    }
   ],
   "source": [
    "# Código de solución\n",
    "c = np.arange(10,20)\n",
    "ct = c[::-1]\n",
    "c, ct"
   ]
  },
  {
   "cell_type": "markdown",
   "metadata": {},
   "source": [
    "### Ejercicio 5: \n",
    "> - Write a Python program to create a 2d array with 1 on the border and 0 inside.\n",
    ">     \n",
    ">     Expected Output:\n",
    "> \t- Original array:\n",
    "> \t$$\n",
    "     \\begin{pmatrix} \n",
    "     1. &1.& 1.& 1.& 1.\\\\\n",
    "     1. &1.& 1.& 1.& 1.\\\\\n",
    "     1. &1.& 1.& 1.& 1.\\\\\n",
    "     1. &1.& 1.& 1.& 1.\\\\\n",
    "     1. &1.& 1.& 1.& 1.\n",
    "     \\end{pmatrix}\n",
    "    $$\n",
    "> \t1 on the border and 0 inside in the array\n",
    "     $$\n",
    "     \\begin{pmatrix} \n",
    "     1. &1.& 1.& 1.& 1.\\\\\n",
    "     1. &0& 0& 0& 1.\\\\\n",
    "     1. &0& 0& 0& 1.\\\\\n",
    "     1. &0& 0& 0& 1.\\\\\n",
    "     1. &1.& 1.& 1.& 1.\n",
    "     \\end{pmatrix}\n",
    "    $$\n",
    "> \n",
    "> - Write a Python program to create a 8x8 matrix and fill it with a checkerboard pattern\n",
    "> \n",
    "> \t- Checkerboard pattern:\n",
    ">     $$\n",
    "     \\begin{pmatrix} \n",
    "        0 & 1 & 0 & 1 & 0 & 1 & 0 & 1\\\\\n",
    "        1 & 0 & 1 & 0 & 1 & 0 & 1 & 0\\\\\n",
    "        0 & 1 & 0 & 1 & 0 & 1 & 0 & 1\\\\\n",
    "        1 & 0 & 1 & 0 & 1 & 0 & 1 & 0\\\\\n",
    "        0 & 1 & 0 & 1 & 0 & 1 & 0 & 1 \\\\\n",
    "        1 & 0 & 1 & 0 & 1 & 0 & 1 & 0\\\\\n",
    "        0 & 1 & 0 & 1 & 0 & 1 & 0 & 1\\\\\n",
    "        1 & 0 & 1 & 0 & 1 & 0 & 1 & 0\n",
    "     \\end{pmatrix}\n",
    "     $$"
   ]
  },
  {
   "cell_type": "code",
   "execution_count": 9,
   "metadata": {},
   "outputs": [
    {
     "data": {
      "text/plain": [
       "array([[1, 1, 1, 1, 1, 1, 1, 1, 1, 1],\n",
       "       [1, 0, 0, 0, 0, 0, 0, 0, 0, 1],\n",
       "       [1, 0, 0, 0, 0, 0, 0, 0, 0, 1],\n",
       "       [1, 0, 0, 0, 0, 0, 0, 0, 0, 1],\n",
       "       [1, 0, 0, 0, 0, 0, 0, 0, 0, 1],\n",
       "       [1, 0, 0, 0, 0, 0, 0, 0, 0, 1],\n",
       "       [1, 0, 0, 0, 0, 0, 0, 0, 0, 1],\n",
       "       [1, 0, 0, 0, 0, 0, 0, 0, 0, 1],\n",
       "       [1, 0, 0, 0, 0, 0, 0, 0, 0, 1],\n",
       "       [1, 1, 1, 1, 1, 1, 1, 1, 1, 1]])"
      ]
     },
     "execution_count": 9,
     "metadata": {},
     "output_type": "execute_result"
    }
   ],
   "source": [
    "# Código de solución\n",
    "n = 10\n",
    "d = np.ones((n,n), dtype=int)\n",
    "d[1:-1,1:-1] = 0\n",
    "d"
   ]
  },
  {
   "cell_type": "markdown",
   "metadata": {},
   "source": [
    "### Ejercicio 6: \n",
    "- Write a Python program to create a 8x8 matrix and fill it with a checkerboard pattern."
   ]
  },
  {
   "cell_type": "code",
   "execution_count": 10,
   "metadata": {},
   "outputs": [
    {
     "data": {
      "text/plain": [
       "array([[0, 1, 0, 1, 0, 1, 0, 1],\n",
       "       [1, 0, 1, 0, 1, 0, 1, 0],\n",
       "       [0, 1, 0, 1, 0, 1, 0, 1],\n",
       "       [1, 0, 1, 0, 1, 0, 1, 0],\n",
       "       [0, 1, 0, 1, 0, 1, 0, 1],\n",
       "       [1, 0, 1, 0, 1, 0, 1, 0],\n",
       "       [0, 1, 0, 1, 0, 1, 0, 1],\n",
       "       [1, 0, 1, 0, 1, 0, 1, 0]])"
      ]
     },
     "execution_count": 10,
     "metadata": {},
     "output_type": "execute_result"
    }
   ],
   "source": [
    "# Código de solución\n",
    "x = np.zeros((8,8),dtype=int)\n",
    "x[1::2,::2] = 1\n",
    "x[::2,1::2] = 1\n",
    "x"
   ]
  },
  {
   "cell_type": "markdown",
   "metadata": {},
   "source": [
    "### Ejercicio 7: \n",
    "- Write a Python program to convert the values of Centigrade degrees into Fahrenheit degrees. Centigrade values are stored into a NumPy array.\n",
    ">     - Sample Array [0, 12, 45.21 ,34, 99.91]  \n",
    ">     - Expected Output:\n",
    ">     - Values in Fahrenheit degrees: [0.0 12.0 45.21 34.0 99.91]\n",
    ">     - Values in Centigrade degrees: [-17.77777778 -11.11111111 7.33888889 1.11111111 37.72777778]."
   ]
  },
  {
   "cell_type": "code",
   "execution_count": 25,
   "metadata": {},
   "outputs": [
    {
     "name": "stdout",
     "output_type": "stream",
     "text": [
      "Values in Fahrenheit degrees:  [0.0, 12.0, 45.21, 34.0, 99.91]\n",
      "Values in Centigrade degrees:  [-17.77777778 -11.11111111   7.33888889   1.11111111  37.72777778]\n"
     ]
    }
   ],
   "source": [
    "# Código de solución\n",
    "Farenheit = [0.0, 12.0, 45.21, 34.0, 99.91]\n",
    "Centigrades = (np.array(Farenheit) - 32)*5/9\n",
    "print('Values in Fahrenheit degrees: ', Farenheit)\n",
    "print('Values in Centigrade degrees: ',Centigrades)"
   ]
  }
 ],
 "metadata": {
  "kernelspec": {
   "display_name": "Python 3",
   "language": "python",
   "name": "python3"
  },
  "language_info": {
   "codemirror_mode": {
    "name": "ipython",
    "version": 3
   },
   "file_extension": ".py",
   "mimetype": "text/x-python",
   "name": "python",
   "nbconvert_exporter": "python",
   "pygments_lexer": "ipython3",
   "version": "3.7.1"
  }
 },
 "nbformat": 4,
 "nbformat_minor": 2
}
