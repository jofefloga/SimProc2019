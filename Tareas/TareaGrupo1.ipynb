{
 "cells": [
  {
   "cell_type": "code",
   "execution_count": 1,
   "metadata": {},
   "outputs": [],
   "source": [
    "# Importamos librerías a trabajar en todas las simulaciones\n",
    "import matplotlib.pyplot as plt\n",
    "import numpy as np\n",
    "from itertools import cycle  # Librería para hacer ciclos\n",
    "import scipy.stats as st     # Librería estadística\n",
    "from math import factorial as fac # Importo la operación factorial\n",
    "\n",
    "%matplotlib inline"
   ]
  },
  {
   "cell_type": "code",
   "execution_count": 4,
   "metadata": {},
   "outputs": [],
   "source": [
    "# Función que calcula la probabilidad acumulada optimizada\n",
    "def proba_binomial(n:'Cantidad de ensayos',p:'Probabilidad de los eventos',\n",
    "                   N:'Cantidad de puntos a graficar'):\n",
    "    Pr = np.zeros(N)\n",
    "    Pr[0] = (1-p)**n\n",
    "    def pr(i):\n",
    "        nonlocal Pr\n",
    "        c  = p/(1-p)\n",
    "        Pr[i+1]=(c*(n-i)/(i+1))*Pr[i]\n",
    "        \n",
    "    # Lleno el vector Pr usando compresión de listas\n",
    "    [pr(i) for i in range(N-1)]\n",
    "    return Pr"
   ]
  },
  {
   "cell_type": "code",
   "execution_count": 19,
   "metadata": {
    "scrolled": true
   },
   "outputs": [
    {
     "name": "stdout",
     "output_type": "stream",
     "text": [
      "(1, 2)\n"
     ]
    },
    {
     "data": {
      "image/png": "[encoded data removed]",
      "text/plain": [
       "<Figure size 720x288 with 2 Axes>"
      ]
     },
     "metadata": {
      "needs_background": "light"
     },
     "output_type": "display_data"
    }
   ],
   "source": [
    "# Comprobación de función creada\n",
    "# Distintos parámetros para graficar la función binomial\n",
    "n = [1]\n",
    "# Parámetro p de la dristribución\n",
    "p = 0.436\n",
    "# Resultado usando método convencional\n",
    "P = list(map(lambda x,n: proba_binomial(n,p,2),range(len(n)),n))\n",
    "P = np.asmatrix(P)\n",
    "print(P.shape)\n",
    "\n",
    "def grafica_distribucion_prob(P:'Matriz de probabilidades binomiales'):\n",
    "    # Gráfica de densidad de probabilidad\n",
    "    fig,(ax1,ax2) = plt.subplots(1,2)\n",
    "    fig.set_figwidth(10)\n",
    "    ax1.plot(P.T,'o',markersize=3)\n",
    "    #ax1.legend(['n=50','n=100','n=150'])\n",
    "    ax1.legend(['n=1'])\n",
    "    ax1.set_title('Densidad de probabilidad')\n",
    "    # ax1.show()\n",
    "\n",
    "    # Probabilidad acumulada\n",
    "    F = np.cumsum(P,axis=1)\n",
    "    # plt.figure(2)\n",
    "    ax2.plot(F.T,'o',markersize=3)\n",
    "    #ax2.legend(['n=%d'%n[0],'n=%d'%n[1],'n=%d'%n[2]])\n",
    "    ax2.legend(['n=%d'%n[0]])\n",
    "    ax2.set_title('Distribución acumulada')\n",
    "\n",
    "    plt.show()\n",
    "    \n",
    "# Gráfica del método convencional y vectorizado\n",
    "grafica_distribucion_prob(P)"
   ]
  },
  {
   "cell_type": "markdown",
   "metadata": {},
   "source": [
    "### <font color ='blue'> Función distribución Bernoulli\n",
    "Se puede observar como una función por partes de la siguiente morfa\n",
    "    $$f(k;p)=\\begin{cases}p,  &   k = 1\\\\ q = 1 - p ,& k = 0 \\end{cases}$$ \n",
    "    \n",
    "Por lo tanto\n",
    "\n",
    "$$P(X<b)=\\begin{cases}0,  &   b \\leq 0\\\\ q = 1-p ,& 0< b \\leq 1 \\\\ 1,& 1<b\\end{cases}$$ "
   ]
  },
  {
   "cell_type": "markdown",
   "metadata": {},
   "source": [
    "### Ejemplo de uso\n",
    "\n",
    "Stephen Curry, es reconocido como uno de los mejores tiradores de triples actualmente dentro de la NBA. Partiendo de una distribución binomial, la probabilidad de encestar un triple sabiendo que su probabilidad de encestar es de 43.6. En este caso tenemos una $X \\sim B(1, 0.436)$ que se muestra matematicamente como $P(X=1)$:\n",
    "\n",
    "$$P(X=1)={1 \\choose 1}(0.436)^{1}(1-0.436)^{1-1} $$\n",
    "\n",
    "$$P(X=1)={1 \\choose 1}(0.436) = 0.436$$\n"
   ]
  },
  {
   "cell_type": "code",
   "execution_count": null,
   "metadata": {},
   "outputs": [],
   "source": []
  },
  {
   "cell_type": "code",
   "execution_count": 32,
   "metadata": {},
   "outputs": [
    {
     "data": {
      "image/png": "[encoded data removed]",
      "text/plain": [
       "<Figure size 432x288 with 1 Axes>"
      ]
     },
     "metadata": {
      "needs_background": "light"
     },
     "output_type": "display_data"
    }
   ],
   "source": [
    "import numpy as np\n",
    "from scipy.stats import beta\n",
    "\n",
    "x=np.arange(0,1.01,0.01)\n",
    "plt.plot(x, beta.pdf(x,4,4))\n",
    "plt.show()"
   ]
  },
  {
   "cell_type": "code",
   "execution_count": 48,
   "metadata": {},
   "outputs": [
    {
     "name": "stdout",
     "output_type": "stream",
     "text": [
      "Help on function axis in module matplotlib.pyplot:\n",
      "\n",
      "axis(*v, **kwargs)\n",
      "    Convenience method to get or set axis properties.\n",
      "    \n",
      "    Calling with no arguments::\n",
      "    \n",
      "      >>> axis()\n",
      "    \n",
      "    returns the current axes limits ``[xmin, xmax, ymin, ymax]``.::\n",
      "    \n",
      "      >>> axis(v)\n",
      "    \n",
      "    sets the min and max of the x and y axes, with\n",
      "    ``v = [xmin, xmax, ymin, ymax]``.::\n",
      "    \n",
      "      >>> axis('off')\n",
      "    \n",
      "    turns off the axis lines and labels.::\n",
      "    \n",
      "      >>> axis('equal')\n",
      "    \n",
      "    changes limits of *x* or *y* axis so that equal increments of *x*\n",
      "    and *y* have the same length; a circle is circular.::\n",
      "    \n",
      "      >>> axis('scaled')\n",
      "    \n",
      "    achieves the same result by changing the dimensions of the plot box instead\n",
      "    of the axis data limits.::\n",
      "    \n",
      "      >>> axis('tight')\n",
      "    \n",
      "    changes *x* and *y* axis limits such that all data is shown. If\n",
      "    all data is already shown, it will move it to the center of the\n",
      "    figure without modifying (*xmax* - *xmin*) or (*ymax* -\n",
      "    *ymin*). Note this is slightly different than in MATLAB.::\n",
      "    \n",
      "      >>> axis('image')\n",
      "    \n",
      "    is 'scaled' with the axis limits equal to the data limits.::\n",
      "    \n",
      "      >>> axis('auto')\n",
      "    \n",
      "    and::\n",
      "    \n",
      "      >>> axis('normal')\n",
      "    \n",
      "    are deprecated. They restore default behavior; axis limits are automatically\n",
      "    scaled to make the data fit comfortably within the plot box.\n",
      "    \n",
      "    if ``len(*v)==0``, you can pass in *xmin*, *xmax*, *ymin*, *ymax*\n",
      "    as kwargs selectively to alter just those limits without changing\n",
      "    the others.\n",
      "    \n",
      "      >>> axis('square')\n",
      "    \n",
      "    changes the limit ranges (*xmax*-*xmin*) and (*ymax*-*ymin*) of\n",
      "    the *x* and *y* axes to be the same, and have the same scaling,\n",
      "    resulting in a square plot.\n",
      "    \n",
      "    The xmin, xmax, ymin, ymax tuple is returned\n",
      "    \n",
      "    .. seealso::\n",
      "    \n",
      "        :func:`xlim`, :func:`ylim`\n",
      "           For setting the x- and y-limits individually.\n",
      "\n"
     ]
    }
   ],
   "source": [
    "alfabeta = [1,1]\n",
    "help(plt.axis)"
   ]
  },
  {
   "cell_type": "code",
   "execution_count": 44,
   "metadata": {},
   "outputs": [
    {
     "data": {
      "text/plain": [
       "tuple"
      ]
     },
     "execution_count": 44,
     "metadata": {},
     "output_type": "execute_result"
    }
   ],
   "source": [
    "type(alfabeta)"
   ]
  },
  {
   "cell_type": "code",
   "execution_count": null,
   "metadata": {},
   "outputs": [],
   "source": []
  },
  {
   "cell_type": "code",
   "execution_count": null,
   "metadata": {},
   "outputs": [],
   "source": []
  }
 ],
 "metadata": {
  "kernelspec": {
   "display_name": "Python 3",
   "language": "python",
   "name": "python3"
  },
  "language_info": {
   "codemirror_mode": {
    "name": "ipython",
    "version": 3
   },
   "file_extension": ".py",
   "mimetype": "text/x-python",
   "name": "python",
   "nbconvert_exporter": "python",
   "pygments_lexer": "ipython3",
   "version": "3.7.1"
  }
 },
 "nbformat": 4,
 "nbformat_minor": 2
}
