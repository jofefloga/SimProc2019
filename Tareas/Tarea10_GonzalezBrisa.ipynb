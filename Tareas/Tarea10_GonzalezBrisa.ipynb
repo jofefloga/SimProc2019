{
 "cells": [
  {
   "cell_type": "markdown",
   "metadata": {},
   "source": [
    "<img style=\"float: left; margin: 30px 15px 15px 15px;\" src=\"https://pngimage.net/wp-content/uploads/2018/06/logo-iteso-png-5.png\" width=\"300\" height=\"500\" /> \n",
    "    \n",
    "    \n",
    "### <font color='navy'> Simulación de procesos financieros. \n",
    "\n",
    "**Nombre:** Brisa Fernanda González Arredondo.\n",
    "\n",
    "**Fecha:** 07 de mayo del 2020.\n",
    "\n",
    "**Expediente** : IF714993.\n",
    "**Profesor:** Oscar David Jaramillo Zuluaga.\n",
    "\n",
    "# Tarea 10: Clase 22"
   ]
  },
  {
   "cell_type": "markdown",
   "metadata": {},
   "source": [
    "## Enunciado de tarea.\n",
    "> Replicar el procedimiento visto en clase para valoración de opciones 'call', pero en este caso para opciones tipo 'put'."
   ]
  },
  {
   "cell_type": "markdown",
   "metadata": {},
   "source": [
    "### Ejercicio 1:"
   ]
  },
  {
   "cell_type": "code",
   "execution_count": 43,
   "metadata": {},
   "outputs": [],
   "source": [
    "#importar los paquetes que se van a usar\n",
    "import pandas as pd\n",
    "import pandas_datareader.data as web\n",
    "import numpy as np\n",
    "import datetime\n",
    "import matplotlib.pyplot as plt\n",
    "import scipy.stats as st\n",
    "import seaborn as sns\n",
    "%matplotlib inline\n",
    "#algunas opciones para Pandas\n",
    "pd.set_option('display.notebook_repr_html', True)\n",
    "pd.set_option('display.max_columns', 6)\n",
    "pd.set_option('display.max_rows', 10)\n",
    "pd.set_option('display.width', 78)\n",
    "pd.set_option('precision', 3)"
   ]
  },
  {
   "cell_type": "code",
   "execution_count": 44,
   "metadata": {},
   "outputs": [
    {
     "data": {
      "text/html": [
       "<div>\n",
       "<style scoped>\n",
       "    .dataframe tbody tr th:only-of-type {\n",
       "        vertical-align: middle;\n",
       "    }\n",
       "\n",
       "    .dataframe tbody tr th {\n",
       "        vertical-align: top;\n",
       "    }\n",
       "\n",
       "    .dataframe thead th {\n",
       "        text-align: right;\n",
       "    }\n",
       "</style>\n",
       "<table border=\"1\" class=\"dataframe\">\n",
       "  <thead>\n",
       "    <tr style=\"text-align: right;\">\n",
       "      <th></th>\n",
       "      <th>Strike</th>\n",
       "      <th>Type</th>\n",
       "      <th>Symbol</th>\n",
       "      <th>...</th>\n",
       "      <th>Quote_Time</th>\n",
       "      <th>Last_Trade_Date</th>\n",
       "      <th>JSON</th>\n",
       "    </tr>\n",
       "    <tr>\n",
       "      <th>Expiry</th>\n",
       "      <th></th>\n",
       "      <th></th>\n",
       "      <th></th>\n",
       "      <th></th>\n",
       "      <th></th>\n",
       "      <th></th>\n",
       "      <th></th>\n",
       "    </tr>\n",
       "  </thead>\n",
       "  <tbody>\n",
       "    <tr>\n",
       "      <th>2020-06-19</th>\n",
       "      <td>75.0</td>\n",
       "      <td>call</td>\n",
       "      <td>AAPL200619C00075000</td>\n",
       "      <td>...</td>\n",
       "      <td>2020-05-07 16:37:07</td>\n",
       "      <td>2020-04-17 19:16:55</td>\n",
       "      <td>{'contractSymbol': 'AAPL200619C00075000', 'str...</td>\n",
       "    </tr>\n",
       "    <tr>\n",
       "      <th>2020-06-19</th>\n",
       "      <td>75.0</td>\n",
       "      <td>put</td>\n",
       "      <td>AAPL200619P00075000</td>\n",
       "      <td>...</td>\n",
       "      <td>2020-05-07 16:37:07</td>\n",
       "      <td>2020-05-06 19:52:54</td>\n",
       "      <td>{'contractSymbol': 'AAPL200619P00075000', 'str...</td>\n",
       "    </tr>\n",
       "    <tr>\n",
       "      <th>2021-01-15</th>\n",
       "      <td>75.0</td>\n",
       "      <td>call</td>\n",
       "      <td>AAPL210115C00075000</td>\n",
       "      <td>...</td>\n",
       "      <td>2020-05-07 16:37:07</td>\n",
       "      <td>2020-05-01 16:10:32</td>\n",
       "      <td>{'contractSymbol': 'AAPL210115C00075000', 'str...</td>\n",
       "    </tr>\n",
       "    <tr>\n",
       "      <th>2021-01-15</th>\n",
       "      <td>75.0</td>\n",
       "      <td>put</td>\n",
       "      <td>AAPL210115P00075000</td>\n",
       "      <td>...</td>\n",
       "      <td>2020-05-07 16:37:07</td>\n",
       "      <td>2020-05-07 15:01:21</td>\n",
       "      <td>{'contractSymbol': 'AAPL210115P00075000', 'str...</td>\n",
       "    </tr>\n",
       "    <tr>\n",
       "      <th>2021-06-18</th>\n",
       "      <td>75.0</td>\n",
       "      <td>call</td>\n",
       "      <td>AAPL210618C00075000</td>\n",
       "      <td>...</td>\n",
       "      <td>2020-05-07 16:37:07</td>\n",
       "      <td>2020-04-09 14:58:06</td>\n",
       "      <td>{'contractSymbol': 'AAPL210618C00075000', 'str...</td>\n",
       "    </tr>\n",
       "    <tr>\n",
       "      <th>...</th>\n",
       "      <td>...</td>\n",
       "      <td>...</td>\n",
       "      <td>...</td>\n",
       "      <td>...</td>\n",
       "      <td>...</td>\n",
       "      <td>...</td>\n",
       "      <td>...</td>\n",
       "    </tr>\n",
       "    <tr>\n",
       "      <th>2022-01-21</th>\n",
       "      <td>500.0</td>\n",
       "      <td>put</td>\n",
       "      <td>AAPL220121P00500000</td>\n",
       "      <td>...</td>\n",
       "      <td>2020-05-07 16:37:10</td>\n",
       "      <td>2020-05-05 19:50:00</td>\n",
       "      <td>{'contractSymbol': 'AAPL220121P00500000', 'str...</td>\n",
       "    </tr>\n",
       "    <tr>\n",
       "      <th>2022-01-21</th>\n",
       "      <td>505.0</td>\n",
       "      <td>call</td>\n",
       "      <td>AAPL220121C00505000</td>\n",
       "      <td>...</td>\n",
       "      <td>2020-05-07 16:37:10</td>\n",
       "      <td>2020-05-05 17:38:05</td>\n",
       "      <td>{'contractSymbol': 'AAPL220121C00505000', 'str...</td>\n",
       "    </tr>\n",
       "    <tr>\n",
       "      <th>2022-01-21</th>\n",
       "      <td>510.0</td>\n",
       "      <td>call</td>\n",
       "      <td>AAPL220121C00510000</td>\n",
       "      <td>...</td>\n",
       "      <td>2020-05-07 16:37:10</td>\n",
       "      <td>2020-05-06 16:53:47</td>\n",
       "      <td>{'contractSymbol': 'AAPL220121C00510000', 'str...</td>\n",
       "    </tr>\n",
       "    <tr>\n",
       "      <th>2022-01-21</th>\n",
       "      <td>515.0</td>\n",
       "      <td>call</td>\n",
       "      <td>AAPL220121C00515000</td>\n",
       "      <td>...</td>\n",
       "      <td>2020-05-07 16:37:10</td>\n",
       "      <td>2020-05-06 19:45:34</td>\n",
       "      <td>{'contractSymbol': 'AAPL220121C00515000', 'str...</td>\n",
       "    </tr>\n",
       "    <tr>\n",
       "      <th>2022-01-21</th>\n",
       "      <td>520.0</td>\n",
       "      <td>call</td>\n",
       "      <td>AAPL220121C00520000</td>\n",
       "      <td>...</td>\n",
       "      <td>2020-05-07 16:37:10</td>\n",
       "      <td>2020-05-07 15:50:00</td>\n",
       "      <td>{'contractSymbol': 'AAPL220121C00520000', 'str...</td>\n",
       "    </tr>\n",
       "  </tbody>\n",
       "</table>\n",
       "<p>1857 rows × 18 columns</p>\n",
       "</div>"
      ],
      "text/plain": [
       "            Strike  Type               Symbol  ...          Quote_Time  \\\n",
       "Expiry                                         ...                       \n",
       "2020-06-19    75.0  call  AAPL200619C00075000  ... 2020-05-07 16:37:07   \n",
       "2020-06-19    75.0   put  AAPL200619P00075000  ... 2020-05-07 16:37:07   \n",
       "2021-01-15    75.0  call  AAPL210115C00075000  ... 2020-05-07 16:37:07   \n",
       "2021-01-15    75.0   put  AAPL210115P00075000  ... 2020-05-07 16:37:07   \n",
       "2021-06-18    75.0  call  AAPL210618C00075000  ... 2020-05-07 16:37:07   \n",
       "...            ...   ...                  ...  ...                 ...   \n",
       "2022-01-21   500.0   put  AAPL220121P00500000  ... 2020-05-07 16:37:10   \n",
       "2022-01-21   505.0  call  AAPL220121C00505000  ... 2020-05-07 16:37:10   \n",
       "2022-01-21   510.0  call  AAPL220121C00510000  ... 2020-05-07 16:37:10   \n",
       "2022-01-21   515.0  call  AAPL220121C00515000  ... 2020-05-07 16:37:10   \n",
       "2022-01-21   520.0  call  AAPL220121C00520000  ... 2020-05-07 16:37:10   \n",
       "\n",
       "               Last_Trade_Date  \\\n",
       "Expiry                           \n",
       "2020-06-19 2020-04-17 19:16:55   \n",
       "2020-06-19 2020-05-06 19:52:54   \n",
       "2021-01-15 2020-05-01 16:10:32   \n",
       "2021-01-15 2020-05-07 15:01:21   \n",
       "2021-06-18 2020-04-09 14:58:06   \n",
       "...                        ...   \n",
       "2022-01-21 2020-05-05 19:50:00   \n",
       "2022-01-21 2020-05-05 17:38:05   \n",
       "2022-01-21 2020-05-06 16:53:47   \n",
       "2022-01-21 2020-05-06 19:45:34   \n",
       "2022-01-21 2020-05-07 15:50:00   \n",
       "\n",
       "                                                         JSON  \n",
       "Expiry                                                         \n",
       "2020-06-19  {'contractSymbol': 'AAPL200619C00075000', 'str...  \n",
       "2020-06-19  {'contractSymbol': 'AAPL200619P00075000', 'str...  \n",
       "2021-01-15  {'contractSymbol': 'AAPL210115C00075000', 'str...  \n",
       "2021-01-15  {'contractSymbol': 'AAPL210115P00075000', 'str...  \n",
       "2021-06-18  {'contractSymbol': 'AAPL210618C00075000', 'str...  \n",
       "...                                                       ...  \n",
       "2022-01-21  {'contractSymbol': 'AAPL220121P00500000', 'str...  \n",
       "2022-01-21  {'contractSymbol': 'AAPL220121C00505000', 'str...  \n",
       "2022-01-21  {'contractSymbol': 'AAPL220121C00510000', 'str...  \n",
       "2022-01-21  {'contractSymbol': 'AAPL220121C00515000', 'str...  \n",
       "2022-01-21  {'contractSymbol': 'AAPL220121C00520000', 'str...  \n",
       "\n",
       "[1857 rows x 18 columns]"
      ]
     },
     "execution_count": 44,
     "metadata": {},
     "output_type": "execute_result"
    }
   ],
   "source": [
    "aapl = web.YahooOptions('AAPL')\n",
    "aapl_opt = aapl.get_all_data().reset_index()\n",
    "aapl_opt.set_index('Expiry')\n",
    "#aapl"
   ]
  },
  {
   "cell_type": "code",
   "execution_count": 45,
   "metadata": {},
   "outputs": [
    {
     "data": {
      "text/plain": [
       "303.6999"
      ]
     },
     "execution_count": 45,
     "metadata": {},
     "output_type": "execute_result"
    }
   ],
   "source": [
    "aapl_opt.Underlying_Price[0]"
   ]
  },
  {
   "cell_type": "code",
   "execution_count": 46,
   "metadata": {},
   "outputs": [
    {
     "data": {
      "text/plain": [
       "{'contractSymbol': 'AAPL200619C00075000',\n",
       " 'strike': 75.0,\n",
       " 'currency': 'USD',\n",
       " 'lastPrice': 204.0,\n",
       " 'change': 0.0,\n",
       " 'percentChange': 0.0,\n",
       " 'volume': 15,\n",
       " 'openInterest': 33,\n",
       " 'bid': 228.6,\n",
       " 'ask': 229.85,\n",
       " 'contractSize': 'REGULAR',\n",
       " 'expiration': 1592524800,\n",
       " 'lastTradeDate': 1587151015,\n",
       " 'impliedVolatility': 1.8710943945312501,\n",
       " 'inTheMoney': True}"
      ]
     },
     "execution_count": 46,
     "metadata": {},
     "output_type": "execute_result"
    }
   ],
   "source": [
    "aapl_opt.loc[0, 'JSON']"
   ]
  },
  {
   "cell_type": "code",
   "execution_count": 47,
   "metadata": {
    "scrolled": false
   },
   "outputs": [
    {
     "data": {
      "text/html": [
       "<div>\n",
       "<style scoped>\n",
       "    .dataframe tbody tr th:only-of-type {\n",
       "        vertical-align: middle;\n",
       "    }\n",
       "\n",
       "    .dataframe tbody tr th {\n",
       "        vertical-align: top;\n",
       "    }\n",
       "\n",
       "    .dataframe thead th {\n",
       "        text-align: right;\n",
       "    }\n",
       "</style>\n",
       "<table border=\"1\" class=\"dataframe\">\n",
       "  <thead>\n",
       "    <tr style=\"text-align: right;\">\n",
       "      <th></th>\n",
       "      <th>Strike</th>\n",
       "      <th>Expiry</th>\n",
       "      <th>Type</th>\n",
       "      <th>...</th>\n",
       "      <th>Quote_Time</th>\n",
       "      <th>Last_Trade_Date</th>\n",
       "      <th>JSON</th>\n",
       "    </tr>\n",
       "  </thead>\n",
       "  <tbody>\n",
       "    <tr>\n",
       "      <th>1</th>\n",
       "      <td>75.0</td>\n",
       "      <td>2020-06-19</td>\n",
       "      <td>put</td>\n",
       "      <td>...</td>\n",
       "      <td>2020-05-07 16:37:07</td>\n",
       "      <td>2020-05-06 19:52:54</td>\n",
       "      <td>{'contractSymbol': 'AAPL200619P00075000', 'str...</td>\n",
       "    </tr>\n",
       "    <tr>\n",
       "      <th>7</th>\n",
       "      <td>80.0</td>\n",
       "      <td>2020-06-19</td>\n",
       "      <td>put</td>\n",
       "      <td>...</td>\n",
       "      <td>2020-05-07 16:37:07</td>\n",
       "      <td>2020-05-04 13:44:14</td>\n",
       "      <td>{'contractSymbol': 'AAPL200619P00080000', 'str...</td>\n",
       "    </tr>\n",
       "    <tr>\n",
       "      <th>13</th>\n",
       "      <td>85.0</td>\n",
       "      <td>2020-06-19</td>\n",
       "      <td>put</td>\n",
       "      <td>...</td>\n",
       "      <td>2020-05-07 16:37:07</td>\n",
       "      <td>2020-05-05 15:36:29</td>\n",
       "      <td>{'contractSymbol': 'AAPL200619P00085000', 'str...</td>\n",
       "    </tr>\n",
       "    <tr>\n",
       "      <th>19</th>\n",
       "      <td>90.0</td>\n",
       "      <td>2020-06-19</td>\n",
       "      <td>put</td>\n",
       "      <td>...</td>\n",
       "      <td>2020-05-07 16:37:07</td>\n",
       "      <td>2020-05-06 19:15:45</td>\n",
       "      <td>{'contractSymbol': 'AAPL200619P00090000', 'str...</td>\n",
       "    </tr>\n",
       "    <tr>\n",
       "      <th>25</th>\n",
       "      <td>95.0</td>\n",
       "      <td>2020-06-19</td>\n",
       "      <td>put</td>\n",
       "      <td>...</td>\n",
       "      <td>2020-05-07 16:37:07</td>\n",
       "      <td>2020-04-30 17:27:27</td>\n",
       "      <td>{'contractSymbol': 'AAPL200619P00095000', 'str...</td>\n",
       "    </tr>\n",
       "    <tr>\n",
       "      <th>...</th>\n",
       "      <td>...</td>\n",
       "      <td>...</td>\n",
       "      <td>...</td>\n",
       "      <td>...</td>\n",
       "      <td>...</td>\n",
       "      <td>...</td>\n",
       "      <td>...</td>\n",
       "    </tr>\n",
       "    <tr>\n",
       "      <th>1746</th>\n",
       "      <td>440.0</td>\n",
       "      <td>2020-06-19</td>\n",
       "      <td>put</td>\n",
       "      <td>...</td>\n",
       "      <td>2020-05-07 16:37:07</td>\n",
       "      <td>2020-04-30 13:47:33</td>\n",
       "      <td>{'contractSymbol': 'AAPL200619P00440000', 'str...</td>\n",
       "    </tr>\n",
       "    <tr>\n",
       "      <th>1764</th>\n",
       "      <td>450.0</td>\n",
       "      <td>2020-06-19</td>\n",
       "      <td>put</td>\n",
       "      <td>...</td>\n",
       "      <td>2020-05-07 16:37:07</td>\n",
       "      <td>2020-01-31 17:18:29</td>\n",
       "      <td>{'contractSymbol': 'AAPL200619P00450000', 'str...</td>\n",
       "    </tr>\n",
       "    <tr>\n",
       "      <th>1797</th>\n",
       "      <td>470.0</td>\n",
       "      <td>2020-06-19</td>\n",
       "      <td>put</td>\n",
       "      <td>...</td>\n",
       "      <td>2020-05-07 16:37:07</td>\n",
       "      <td>2020-01-31 17:16:19</td>\n",
       "      <td>{'contractSymbol': 'AAPL200619P00470000', 'str...</td>\n",
       "    </tr>\n",
       "    <tr>\n",
       "      <th>1831</th>\n",
       "      <td>490.0</td>\n",
       "      <td>2020-06-19</td>\n",
       "      <td>put</td>\n",
       "      <td>...</td>\n",
       "      <td>2020-05-07 16:37:07</td>\n",
       "      <td>2020-02-10 17:09:39</td>\n",
       "      <td>{'contractSymbol': 'AAPL200619P00490000', 'str...</td>\n",
       "    </tr>\n",
       "    <tr>\n",
       "      <th>1842</th>\n",
       "      <td>500.0</td>\n",
       "      <td>2020-06-19</td>\n",
       "      <td>put</td>\n",
       "      <td>...</td>\n",
       "      <td>2020-05-07 16:37:07</td>\n",
       "      <td>2020-02-10 17:09:39</td>\n",
       "      <td>{'contractSymbol': 'AAPL200619P00500000', 'str...</td>\n",
       "    </tr>\n",
       "  </tbody>\n",
       "</table>\n",
       "<p>71 rows × 19 columns</p>\n",
       "</div>"
      ],
      "text/plain": [
       "      Strike     Expiry Type  ...          Quote_Time     Last_Trade_Date  \\\n",
       "1       75.0 2020-06-19  put  ... 2020-05-07 16:37:07 2020-05-06 19:52:54   \n",
       "7       80.0 2020-06-19  put  ... 2020-05-07 16:37:07 2020-05-04 13:44:14   \n",
       "13      85.0 2020-06-19  put  ... 2020-05-07 16:37:07 2020-05-05 15:36:29   \n",
       "19      90.0 2020-06-19  put  ... 2020-05-07 16:37:07 2020-05-06 19:15:45   \n",
       "25      95.0 2020-06-19  put  ... 2020-05-07 16:37:07 2020-04-30 17:27:27   \n",
       "...      ...        ...  ...  ...                 ...                 ...   \n",
       "1746   440.0 2020-06-19  put  ... 2020-05-07 16:37:07 2020-04-30 13:47:33   \n",
       "1764   450.0 2020-06-19  put  ... 2020-05-07 16:37:07 2020-01-31 17:18:29   \n",
       "1797   470.0 2020-06-19  put  ... 2020-05-07 16:37:07 2020-01-31 17:16:19   \n",
       "1831   490.0 2020-06-19  put  ... 2020-05-07 16:37:07 2020-02-10 17:09:39   \n",
       "1842   500.0 2020-06-19  put  ... 2020-05-07 16:37:07 2020-02-10 17:09:39   \n",
       "\n",
       "                                                   JSON  \n",
       "1     {'contractSymbol': 'AAPL200619P00075000', 'str...  \n",
       "7     {'contractSymbol': 'AAPL200619P00080000', 'str...  \n",
       "13    {'contractSymbol': 'AAPL200619P00085000', 'str...  \n",
       "19    {'contractSymbol': 'AAPL200619P00090000', 'str...  \n",
       "25    {'contractSymbol': 'AAPL200619P00095000', 'str...  \n",
       "...                                                 ...  \n",
       "1746  {'contractSymbol': 'AAPL200619P00440000', 'str...  \n",
       "1764  {'contractSymbol': 'AAPL200619P00450000', 'str...  \n",
       "1797  {'contractSymbol': 'AAPL200619P00470000', 'str...  \n",
       "1831  {'contractSymbol': 'AAPL200619P00490000', 'str...  \n",
       "1842  {'contractSymbol': 'AAPL200619P00500000', 'str...  \n",
       "\n",
       "[71 rows x 19 columns]"
      ]
     },
     "execution_count": 47,
     "metadata": {},
     "output_type": "execute_result"
    }
   ],
   "source": [
    "fecha1 = '2020-06-19'\n",
    "fecha2 = '2021-01-15'\n",
    "put06_f1 = aapl_opt.loc[(aapl_opt.Expiry== fecha1) & (aapl_opt.Type=='put')]\n",
    "put06_f2 = aapl_opt.loc[(aapl_opt.Expiry== fecha2) & (aapl_opt.Type=='put')]\n",
    "put06_f1"
   ]
  },
  {
   "cell_type": "code",
   "execution_count": 48,
   "metadata": {},
   "outputs": [],
   "source": [
    "# Función para descargar precios de cierre ajustados:\n",
    "def get_adj_closes(tickers, start_date=None, end_date=None):\n",
    "    # Fecha inicio por defecto (start_date='2010-01-01') y fecha fin por defecto (end_date=today)\n",
    "    # Descargamos DataFrame con todos los datos\n",
    "    closes = web.DataReader(name=tickers, data_source='yahoo', start=start_date, end=end_date)\n",
    "    # Solo necesitamos los precios ajustados en el cierre\n",
    "    closes = closes['Adj Close']\n",
    "    # Se ordenan los índices de manera ascendente\n",
    "    closes.sort_index(inplace=True)\n",
    "    return closes"
   ]
  },
  {
   "cell_type": "code",
   "execution_count": 49,
   "metadata": {},
   "outputs": [
    {
     "data": {
      "image/png": "[encoded data removed]",
      "text/plain": [
       "<Figure size 576x360 with 1 Axes>"
      ]
     },
     "metadata": {
      "needs_background": "light"
     },
     "output_type": "display_data"
    }
   ],
   "source": [
    "ticker = ['AAPL']\n",
    "start_date = '2017-01-01'\n",
    "\n",
    "closes_aapl = get_adj_closes(ticker, start_date)\n",
    "closes_aapl.plot(figsize=(8,5));\n",
    "plt.legend(ticker);"
   ]
  },
  {
   "cell_type": "code",
   "execution_count": 50,
   "metadata": {},
   "outputs": [],
   "source": [
    "def calc_daily_ret(closes):\n",
    "    return np.log(closes/closes.shift(1)).iloc[1:]"
   ]
  },
  {
   "cell_type": "code",
   "execution_count": 51,
   "metadata": {},
   "outputs": [
    {
     "data": {
      "image/png": "[encoded data removed]",
      "text/plain": [
       "<Figure size 576x432 with 1 Axes>"
      ]
     },
     "metadata": {
      "needs_background": "light"
     },
     "output_type": "display_data"
    }
   ],
   "source": [
    "ret_aapl = calc_daily_ret(closes_aapl)\n",
    "ret_aapl.plot(figsize=(8,6));"
   ]
  },
  {
   "cell_type": "code",
   "execution_count": 52,
   "metadata": {},
   "outputs": [
    {
     "data": {
      "text/html": [
       "<div>\n",
       "<style scoped>\n",
       "    .dataframe tbody tr th:only-of-type {\n",
       "        vertical-align: middle;\n",
       "    }\n",
       "\n",
       "    .dataframe tbody tr th {\n",
       "        vertical-align: top;\n",
       "    }\n",
       "\n",
       "    .dataframe thead th {\n",
       "        text-align: right;\n",
       "    }\n",
       "</style>\n",
       "<table border=\"1\" class=\"dataframe\">\n",
       "  <thead>\n",
       "    <tr style=\"text-align: right;\">\n",
       "      <th></th>\n",
       "      <th>Strike</th>\n",
       "      <th>Type</th>\n",
       "      <th>Symbol</th>\n",
       "      <th>...</th>\n",
       "      <th>Quote_Time</th>\n",
       "      <th>Last_Trade_Date</th>\n",
       "      <th>JSON</th>\n",
       "    </tr>\n",
       "    <tr>\n",
       "      <th>Expiry</th>\n",
       "      <th></th>\n",
       "      <th></th>\n",
       "      <th></th>\n",
       "      <th></th>\n",
       "      <th></th>\n",
       "      <th></th>\n",
       "      <th></th>\n",
       "    </tr>\n",
       "  </thead>\n",
       "  <tbody>\n",
       "    <tr>\n",
       "      <th>2020-05-08</th>\n",
       "      <td>242.5</td>\n",
       "      <td>call</td>\n",
       "      <td>AAPL200508C00242500</td>\n",
       "      <td>...</td>\n",
       "      <td>2020-05-07 16:37:20</td>\n",
       "      <td>2020-05-07 15:57:32</td>\n",
       "      <td>{'contractSymbol': 'AAPL200508C00242500', 'str...</td>\n",
       "    </tr>\n",
       "    <tr>\n",
       "      <th>2020-05-08</th>\n",
       "      <td>285.0</td>\n",
       "      <td>put</td>\n",
       "      <td>AAPL200508P00285000</td>\n",
       "      <td>...</td>\n",
       "      <td>2020-05-07 16:37:20</td>\n",
       "      <td>2020-05-07 16:21:21</td>\n",
       "      <td>{'contractSymbol': 'AAPL200508P00285000', 'str...</td>\n",
       "    </tr>\n",
       "    <tr>\n",
       "      <th>2020-05-08</th>\n",
       "      <td>345.0</td>\n",
       "      <td>put</td>\n",
       "      <td>AAPL200508P00345000</td>\n",
       "      <td>...</td>\n",
       "      <td>2020-05-07 16:37:20</td>\n",
       "      <td>2020-05-05 19:18:34</td>\n",
       "      <td>{'contractSymbol': 'AAPL200508P00345000', 'str...</td>\n",
       "    </tr>\n",
       "    <tr>\n",
       "      <th>2020-05-08</th>\n",
       "      <td>345.0</td>\n",
       "      <td>call</td>\n",
       "      <td>AAPL200508C00345000</td>\n",
       "      <td>...</td>\n",
       "      <td>2020-05-07 16:37:20</td>\n",
       "      <td>2020-05-07 15:53:26</td>\n",
       "      <td>{'contractSymbol': 'AAPL200508C00345000', 'str...</td>\n",
       "    </tr>\n",
       "    <tr>\n",
       "      <th>2020-05-08</th>\n",
       "      <td>190.0</td>\n",
       "      <td>put</td>\n",
       "      <td>AAPL200508P00190000</td>\n",
       "      <td>...</td>\n",
       "      <td>2020-05-07 16:37:20</td>\n",
       "      <td>2020-05-01 14:56:10</td>\n",
       "      <td>{'contractSymbol': 'AAPL200508P00190000', 'str...</td>\n",
       "    </tr>\n",
       "    <tr>\n",
       "      <th>...</th>\n",
       "      <td>...</td>\n",
       "      <td>...</td>\n",
       "      <td>...</td>\n",
       "      <td>...</td>\n",
       "      <td>...</td>\n",
       "      <td>...</td>\n",
       "      <td>...</td>\n",
       "    </tr>\n",
       "    <tr>\n",
       "      <th>2022-06-17</th>\n",
       "      <td>160.0</td>\n",
       "      <td>call</td>\n",
       "      <td>AAPL220617C00160000</td>\n",
       "      <td>...</td>\n",
       "      <td>2020-05-07 16:37:11</td>\n",
       "      <td>2020-04-30 19:27:17</td>\n",
       "      <td>{'contractSymbol': 'AAPL220617C00160000', 'str...</td>\n",
       "    </tr>\n",
       "    <tr>\n",
       "      <th>2022-06-17</th>\n",
       "      <td>160.0</td>\n",
       "      <td>put</td>\n",
       "      <td>AAPL220617P00160000</td>\n",
       "      <td>...</td>\n",
       "      <td>2020-05-07 16:37:11</td>\n",
       "      <td>2020-05-06 16:32:40</td>\n",
       "      <td>{'contractSymbol': 'AAPL220617P00160000', 'str...</td>\n",
       "    </tr>\n",
       "    <tr>\n",
       "      <th>2022-06-17</th>\n",
       "      <td>300.0</td>\n",
       "      <td>put</td>\n",
       "      <td>AAPL220617P00300000</td>\n",
       "      <td>...</td>\n",
       "      <td>2020-05-07 16:37:11</td>\n",
       "      <td>2020-05-07 16:11:08</td>\n",
       "      <td>{'contractSymbol': 'AAPL220617P00300000', 'str...</td>\n",
       "    </tr>\n",
       "    <tr>\n",
       "      <th>2022-06-17</th>\n",
       "      <td>435.0</td>\n",
       "      <td>call</td>\n",
       "      <td>AAPL220617C00435000</td>\n",
       "      <td>...</td>\n",
       "      <td>2020-05-07 16:37:11</td>\n",
       "      <td>2020-05-07 13:50:02</td>\n",
       "      <td>{'contractSymbol': 'AAPL220617C00435000', 'str...</td>\n",
       "    </tr>\n",
       "    <tr>\n",
       "      <th>2022-06-17</th>\n",
       "      <td>240.0</td>\n",
       "      <td>call</td>\n",
       "      <td>AAPL220617C00240000</td>\n",
       "      <td>...</td>\n",
       "      <td>2020-05-07 16:37:11</td>\n",
       "      <td>2020-05-07 14:00:54</td>\n",
       "      <td>{'contractSymbol': 'AAPL220617C00240000', 'str...</td>\n",
       "    </tr>\n",
       "  </tbody>\n",
       "</table>\n",
       "<p>1857 rows × 18 columns</p>\n",
       "</div>"
      ],
      "text/plain": [
       "            Strike  Type               Symbol  ...          Quote_Time  \\\n",
       "Expiry                                         ...                       \n",
       "2020-05-08   242.5  call  AAPL200508C00242500  ... 2020-05-07 16:37:20   \n",
       "2020-05-08   285.0   put  AAPL200508P00285000  ... 2020-05-07 16:37:20   \n",
       "2020-05-08   345.0   put  AAPL200508P00345000  ... 2020-05-07 16:37:20   \n",
       "2020-05-08   345.0  call  AAPL200508C00345000  ... 2020-05-07 16:37:20   \n",
       "2020-05-08   190.0   put  AAPL200508P00190000  ... 2020-05-07 16:37:20   \n",
       "...            ...   ...                  ...  ...                 ...   \n",
       "2022-06-17   160.0  call  AAPL220617C00160000  ... 2020-05-07 16:37:11   \n",
       "2022-06-17   160.0   put  AAPL220617P00160000  ... 2020-05-07 16:37:11   \n",
       "2022-06-17   300.0   put  AAPL220617P00300000  ... 2020-05-07 16:37:11   \n",
       "2022-06-17   435.0  call  AAPL220617C00435000  ... 2020-05-07 16:37:11   \n",
       "2022-06-17   240.0  call  AAPL220617C00240000  ... 2020-05-07 16:37:11   \n",
       "\n",
       "               Last_Trade_Date  \\\n",
       "Expiry                           \n",
       "2020-05-08 2020-05-07 15:57:32   \n",
       "2020-05-08 2020-05-07 16:21:21   \n",
       "2020-05-08 2020-05-05 19:18:34   \n",
       "2020-05-08 2020-05-07 15:53:26   \n",
       "2020-05-08 2020-05-01 14:56:10   \n",
       "...                        ...   \n",
       "2022-06-17 2020-04-30 19:27:17   \n",
       "2022-06-17 2020-05-06 16:32:40   \n",
       "2022-06-17 2020-05-07 16:11:08   \n",
       "2022-06-17 2020-05-07 13:50:02   \n",
       "2022-06-17 2020-05-07 14:00:54   \n",
       "\n",
       "                                                         JSON  \n",
       "Expiry                                                         \n",
       "2020-05-08  {'contractSymbol': 'AAPL200508C00242500', 'str...  \n",
       "2020-05-08  {'contractSymbol': 'AAPL200508P00285000', 'str...  \n",
       "2020-05-08  {'contractSymbol': 'AAPL200508P00345000', 'str...  \n",
       "2020-05-08  {'contractSymbol': 'AAPL200508C00345000', 'str...  \n",
       "2020-05-08  {'contractSymbol': 'AAPL200508P00190000', 'str...  \n",
       "...                                                       ...  \n",
       "2022-06-17  {'contractSymbol': 'AAPL220617C00160000', 'str...  \n",
       "2022-06-17  {'contractSymbol': 'AAPL220617P00160000', 'str...  \n",
       "2022-06-17  {'contractSymbol': 'AAPL220617P00300000', 'str...  \n",
       "2022-06-17  {'contractSymbol': 'AAPL220617C00435000', 'str...  \n",
       "2022-06-17  {'contractSymbol': 'AAPL220617C00240000', 'str...  \n",
       "\n",
       "[1857 rows x 18 columns]"
      ]
     },
     "execution_count": 52,
     "metadata": {},
     "output_type": "execute_result"
    }
   ],
   "source": [
    "aapl = web.YahooOptions('AAPL')\n",
    "aapl_opt = aapl.get_all_data().reset_index()\n",
    "aapl_opt.set_index('Expiry').sort_index()"
   ]
  },
  {
   "cell_type": "code",
   "execution_count": 53,
   "metadata": {},
   "outputs": [
    {
     "data": {
      "text/html": [
       "<div>\n",
       "<style scoped>\n",
       "    .dataframe tbody tr th:only-of-type {\n",
       "        vertical-align: middle;\n",
       "    }\n",
       "\n",
       "    .dataframe tbody tr th {\n",
       "        vertical-align: top;\n",
       "    }\n",
       "\n",
       "    .dataframe thead th {\n",
       "        text-align: right;\n",
       "    }\n",
       "</style>\n",
       "<table border=\"1\" class=\"dataframe\">\n",
       "  <thead>\n",
       "    <tr style=\"text-align: right;\">\n",
       "      <th></th>\n",
       "      <th>Strike</th>\n",
       "      <th>Expiry</th>\n",
       "      <th>Type</th>\n",
       "      <th>...</th>\n",
       "      <th>Quote_Time</th>\n",
       "      <th>Last_Trade_Date</th>\n",
       "      <th>JSON</th>\n",
       "    </tr>\n",
       "  </thead>\n",
       "  <tbody>\n",
       "    <tr>\n",
       "      <th>1114</th>\n",
       "      <td>290.0</td>\n",
       "      <td>2021-01-15</td>\n",
       "      <td>put</td>\n",
       "      <td>...</td>\n",
       "      <td>2020-05-07 16:37:22</td>\n",
       "      <td>2020-05-07 16:19:01</td>\n",
       "      <td>{'contractSymbol': 'AAPL210115P00290000', 'str...</td>\n",
       "    </tr>\n",
       "  </tbody>\n",
       "</table>\n",
       "<p>1 rows × 19 columns</p>\n",
       "</div>"
      ],
      "text/plain": [
       "      Strike     Expiry Type  ...          Quote_Time     Last_Trade_Date  \\\n",
       "1114   290.0 2021-01-15  put  ... 2020-05-07 16:37:22 2020-05-07 16:19:01   \n",
       "\n",
       "                                                   JSON  \n",
       "1114  {'contractSymbol': 'AAPL210115P00290000', 'str...  \n",
       "\n",
       "[1 rows x 19 columns]"
      ]
     },
     "execution_count": 53,
     "metadata": {},
     "output_type": "execute_result"
    }
   ],
   "source": [
    "K = 290 # strike price\n",
    "indice_opt = aapl_opt.loc[(aapl_opt.Type=='put') & (aapl_opt.Strike==K) & (aapl_opt.Expiry=='2021-01-15')]\n",
    "indice_opt"
   ]
  },
  {
   "cell_type": "code",
   "execution_count": 54,
   "metadata": {},
   "outputs": [
    {
     "data": {
      "text/plain": [
       "{'contractSymbol': 'AAPL210115P00290000',\n",
       " 'strike': 290.0,\n",
       " 'currency': 'USD',\n",
       " 'lastPrice': 27.49,\n",
       " 'change': -1.8600006,\n",
       " 'percentChange': -6.3373103,\n",
       " 'volume': 8,\n",
       " 'openInterest': 10112,\n",
       " 'bid': 27.05,\n",
       " 'ask': 27.6,\n",
       " 'contractSize': 'REGULAR',\n",
       " 'expiration': 1610668800,\n",
       " 'lastTradeDate': 1588868341,\n",
       " 'impliedVolatility': 0.3455570816040039,\n",
       " 'inTheMoney': False}"
      ]
     },
     "execution_count": 54,
     "metadata": {},
     "output_type": "execute_result"
    }
   ],
   "source": [
    "i_opt= indice_opt.index\n",
    "opcion_valuar = aapl_opt.loc[i_opt[0]]\n",
    "opcion_valuar['JSON']"
   ]
  },
  {
   "cell_type": "code",
   "execution_count": 55,
   "metadata": {},
   "outputs": [
    {
     "name": "stdout",
     "output_type": "stream",
     "text": [
      "Precio del activo subyacente actual =  303.68\n"
     ]
    }
   ],
   "source": [
    "print('Precio del activo subyacente actual = ',opcion_valuar.Underlying_Price)"
   ]
  },
  {
   "cell_type": "code",
   "execution_count": 56,
   "metadata": {},
   "outputs": [
    {
     "data": {
      "text/html": [
       "<div>\n",
       "<style scoped>\n",
       "    .dataframe tbody tr th:only-of-type {\n",
       "        vertical-align: middle;\n",
       "    }\n",
       "\n",
       "    .dataframe tbody tr th {\n",
       "        vertical-align: top;\n",
       "    }\n",
       "\n",
       "    .dataframe thead th {\n",
       "        text-align: right;\n",
       "    }\n",
       "</style>\n",
       "<table border=\"1\" class=\"dataframe\">\n",
       "  <thead>\n",
       "    <tr style=\"text-align: right;\">\n",
       "      <th>Symbols</th>\n",
       "      <th>AAPL</th>\n",
       "    </tr>\n",
       "    <tr>\n",
       "      <th>Date</th>\n",
       "      <th></th>\n",
       "    </tr>\n",
       "  </thead>\n",
       "  <tbody>\n",
       "    <tr>\n",
       "      <th>2017-01-04</th>\n",
       "      <td>-0.001</td>\n",
       "    </tr>\n",
       "    <tr>\n",
       "      <th>2017-01-05</th>\n",
       "      <td>0.005</td>\n",
       "    </tr>\n",
       "    <tr>\n",
       "      <th>2017-01-06</th>\n",
       "      <td>0.011</td>\n",
       "    </tr>\n",
       "    <tr>\n",
       "      <th>2017-01-09</th>\n",
       "      <td>0.009</td>\n",
       "    </tr>\n",
       "    <tr>\n",
       "      <th>2017-01-10</th>\n",
       "      <td>0.001</td>\n",
       "    </tr>\n",
       "    <tr>\n",
       "      <th>...</th>\n",
       "      <td>...</td>\n",
       "    </tr>\n",
       "    <tr>\n",
       "      <th>2020-05-01</th>\n",
       "      <td>-0.016</td>\n",
       "    </tr>\n",
       "    <tr>\n",
       "      <th>2020-05-04</th>\n",
       "      <td>0.014</td>\n",
       "    </tr>\n",
       "    <tr>\n",
       "      <th>2020-05-05</th>\n",
       "      <td>0.015</td>\n",
       "    </tr>\n",
       "    <tr>\n",
       "      <th>2020-05-06</th>\n",
       "      <td>0.010</td>\n",
       "    </tr>\n",
       "    <tr>\n",
       "      <th>2020-05-07</th>\n",
       "      <td>0.010</td>\n",
       "    </tr>\n",
       "  </tbody>\n",
       "</table>\n",
       "<p>841 rows × 1 columns</p>\n",
       "</div>"
      ],
      "text/plain": [
       "Symbols      AAPL\n",
       "Date             \n",
       "2017-01-04 -0.001\n",
       "2017-01-05  0.005\n",
       "2017-01-06  0.011\n",
       "2017-01-09  0.009\n",
       "2017-01-10  0.001\n",
       "...           ...\n",
       "2020-05-01 -0.016\n",
       "2020-05-04  0.014\n",
       "2020-05-05  0.015\n",
       "2020-05-06  0.010\n",
       "2020-05-07  0.010\n",
       "\n",
       "[841 rows x 1 columns]"
      ]
     },
     "execution_count": 56,
     "metadata": {},
     "output_type": "execute_result"
    }
   ],
   "source": [
    "# Obtenemos el rendimiento simple\n",
    "Ri = closes_aapl.pct_change(1).iloc[1:]\n",
    "# Obtenemos su media y desviación estándar de los rendimientos\n",
    "mu_R = Ri.mean()[0]\n",
    "sigma_R = Ri.std()[0]\n",
    "Ri"
   ]
  },
  {
   "cell_type": "code",
   "execution_count": 57,
   "metadata": {},
   "outputs": [
    {
     "data": {
      "text/plain": [
       "DatetimeIndex(['2020-05-07', '2020-05-08', '2020-05-11', '2020-05-12',\n",
       "               '2020-05-13', '2020-05-14', '2020-05-15', '2020-05-18',\n",
       "               '2020-05-19', '2020-05-20',\n",
       "               ...\n",
       "               '2021-01-04', '2021-01-05', '2021-01-06', '2021-01-07',\n",
       "               '2021-01-08', '2021-01-11', '2021-01-12', '2021-01-13',\n",
       "               '2021-01-14', '2021-01-15'],\n",
       "              dtype='datetime64[ns]', length=182, freq='B')"
      ]
     },
     "execution_count": 57,
     "metadata": {},
     "output_type": "execute_result"
    }
   ],
   "source": [
    "from datetime import date\n",
    "\n",
    "today = pd.Timestamp(date.today())\n",
    "expiry = opcion_valuar.Expiry\n",
    "\n",
    "\n",
    "nscen = 10\n",
    "dates = pd.date_range(start = today, end = expiry, freq='B')\n",
    "ndays = len(dates)\n",
    "dates"
   ]
  },
  {
   "cell_type": "code",
   "execution_count": 58,
   "metadata": {},
   "outputs": [
    {
     "data": {
      "text/html": [
       "<div>\n",
       "<style scoped>\n",
       "    .dataframe tbody tr th:only-of-type {\n",
       "        vertical-align: middle;\n",
       "    }\n",
       "\n",
       "    .dataframe tbody tr th {\n",
       "        vertical-align: top;\n",
       "    }\n",
       "\n",
       "    .dataframe thead th {\n",
       "        text-align: right;\n",
       "    }\n",
       "</style>\n",
       "<table border=\"1\" class=\"dataframe\">\n",
       "  <thead>\n",
       "    <tr style=\"text-align: right;\">\n",
       "      <th></th>\n",
       "      <th>0</th>\n",
       "      <th>1</th>\n",
       "      <th>2</th>\n",
       "      <th>...</th>\n",
       "      <th>7</th>\n",
       "      <th>8</th>\n",
       "      <th>9</th>\n",
       "    </tr>\n",
       "  </thead>\n",
       "  <tbody>\n",
       "    <tr>\n",
       "      <th>2020-05-07</th>\n",
       "      <td>3.847e-02</td>\n",
       "      <td>-1.938e-02</td>\n",
       "      <td>1.351e-02</td>\n",
       "      <td>...</td>\n",
       "      <td>-3.971e-02</td>\n",
       "      <td>2.700e-02</td>\n",
       "      <td>1.987e-02</td>\n",
       "    </tr>\n",
       "    <tr>\n",
       "      <th>2020-05-08</th>\n",
       "      <td>8.031e-05</td>\n",
       "      <td>-2.683e-04</td>\n",
       "      <td>2.049e-05</td>\n",
       "      <td>...</td>\n",
       "      <td>-6.701e-04</td>\n",
       "      <td>4.842e-04</td>\n",
       "      <td>-4.494e-04</td>\n",
       "    </tr>\n",
       "    <tr>\n",
       "      <th>2020-05-11</th>\n",
       "      <td>8.844e-07</td>\n",
       "      <td>-1.124e-06</td>\n",
       "      <td>-5.633e-08</td>\n",
       "      <td>...</td>\n",
       "      <td>-2.746e-06</td>\n",
       "      <td>6.868e-07</td>\n",
       "      <td>-2.903e-07</td>\n",
       "    </tr>\n",
       "    <tr>\n",
       "      <th>2020-05-12</th>\n",
       "      <td>1.623e-08</td>\n",
       "      <td>4.705e-10</td>\n",
       "      <td>6.174e-10</td>\n",
       "      <td>...</td>\n",
       "      <td>6.136e-08</td>\n",
       "      <td>-1.204e-08</td>\n",
       "      <td>-6.959e-10</td>\n",
       "    </tr>\n",
       "    <tr>\n",
       "      <th>2020-05-13</th>\n",
       "      <td>-2.485e-10</td>\n",
       "      <td>-2.744e-12</td>\n",
       "      <td>2.376e-11</td>\n",
       "      <td>...</td>\n",
       "      <td>-7.084e-10</td>\n",
       "      <td>1.604e-10</td>\n",
       "      <td>-4.949e-12</td>\n",
       "    </tr>\n",
       "    <tr>\n",
       "      <th>...</th>\n",
       "      <td>...</td>\n",
       "      <td>...</td>\n",
       "      <td>...</td>\n",
       "      <td>...</td>\n",
       "      <td>...</td>\n",
       "      <td>...</td>\n",
       "      <td>...</td>\n",
       "    </tr>\n",
       "    <tr>\n",
       "      <th>2021-01-11</th>\n",
       "      <td>-0.000e+00</td>\n",
       "      <td>0.000e+00</td>\n",
       "      <td>-0.000e+00</td>\n",
       "      <td>...</td>\n",
       "      <td>-0.000e+00</td>\n",
       "      <td>0.000e+00</td>\n",
       "      <td>-0.000e+00</td>\n",
       "    </tr>\n",
       "    <tr>\n",
       "      <th>2021-01-12</th>\n",
       "      <td>0.000e+00</td>\n",
       "      <td>-0.000e+00</td>\n",
       "      <td>-0.000e+00</td>\n",
       "      <td>...</td>\n",
       "      <td>0.000e+00</td>\n",
       "      <td>0.000e+00</td>\n",
       "      <td>-0.000e+00</td>\n",
       "    </tr>\n",
       "    <tr>\n",
       "      <th>2021-01-13</th>\n",
       "      <td>0.000e+00</td>\n",
       "      <td>-0.000e+00</td>\n",
       "      <td>-0.000e+00</td>\n",
       "      <td>...</td>\n",
       "      <td>0.000e+00</td>\n",
       "      <td>0.000e+00</td>\n",
       "      <td>0.000e+00</td>\n",
       "    </tr>\n",
       "    <tr>\n",
       "      <th>2021-01-14</th>\n",
       "      <td>0.000e+00</td>\n",
       "      <td>-0.000e+00</td>\n",
       "      <td>-0.000e+00</td>\n",
       "      <td>...</td>\n",
       "      <td>-0.000e+00</td>\n",
       "      <td>-0.000e+00</td>\n",
       "      <td>-0.000e+00</td>\n",
       "    </tr>\n",
       "    <tr>\n",
       "      <th>2021-01-15</th>\n",
       "      <td>-0.000e+00</td>\n",
       "      <td>0.000e+00</td>\n",
       "      <td>-0.000e+00</td>\n",
       "      <td>...</td>\n",
       "      <td>-0.000e+00</td>\n",
       "      <td>0.000e+00</td>\n",
       "      <td>-0.000e+00</td>\n",
       "    </tr>\n",
       "  </tbody>\n",
       "</table>\n",
       "<p>182 rows × 10 columns</p>\n",
       "</div>"
      ],
      "text/plain": [
       "                    0          1          2  ...          7          8  \\\n",
       "2020-05-07  3.847e-02 -1.938e-02  1.351e-02  ... -3.971e-02  2.700e-02   \n",
       "2020-05-08  8.031e-05 -2.683e-04  2.049e-05  ... -6.701e-04  4.842e-04   \n",
       "2020-05-11  8.844e-07 -1.124e-06 -5.633e-08  ... -2.746e-06  6.868e-07   \n",
       "2020-05-12  1.623e-08  4.705e-10  6.174e-10  ...  6.136e-08 -1.204e-08   \n",
       "2020-05-13 -2.485e-10 -2.744e-12  2.376e-11  ... -7.084e-10  1.604e-10   \n",
       "...               ...        ...        ...  ...        ...        ...   \n",
       "2021-01-11 -0.000e+00  0.000e+00 -0.000e+00  ... -0.000e+00  0.000e+00   \n",
       "2021-01-12  0.000e+00 -0.000e+00 -0.000e+00  ...  0.000e+00  0.000e+00   \n",
       "2021-01-13  0.000e+00 -0.000e+00 -0.000e+00  ...  0.000e+00  0.000e+00   \n",
       "2021-01-14  0.000e+00 -0.000e+00 -0.000e+00  ... -0.000e+00 -0.000e+00   \n",
       "2021-01-15 -0.000e+00  0.000e+00 -0.000e+00  ... -0.000e+00  0.000e+00   \n",
       "\n",
       "                    9  \n",
       "2020-05-07  1.987e-02  \n",
       "2020-05-08 -4.494e-04  \n",
       "2020-05-11 -2.903e-07  \n",
       "2020-05-12 -6.959e-10  \n",
       "2020-05-13 -4.949e-12  \n",
       "...               ...  \n",
       "2021-01-11 -0.000e+00  \n",
       "2021-01-12 -0.000e+00  \n",
       "2021-01-13  0.000e+00  \n",
       "2021-01-14 -0.000e+00  \n",
       "2021-01-15 -0.000e+00  \n",
       "\n",
       "[182 rows x 10 columns]"
      ]
     },
     "execution_count": 58,
     "metadata": {},
     "output_type": "execute_result"
    }
   ],
   "source": [
    "dt = 1; # Rendimiento diario \n",
    "Z = np.random.randn(ndays,nscen)  # Z ~ N(0,1)\n",
    "# Simulación normal de los rendimientos\n",
    "Ri_dt = pd.DataFrame(mu_R*dt+Z*sigma_R*np.sqrt(dt),index=dates)\n",
    "Ri_dt.cumprod()"
   ]
  },
  {
   "cell_type": "code",
   "execution_count": 59,
   "metadata": {},
   "outputs": [
    {
     "data": {
      "image/png": "[encoded data removed]",
      "text/plain": [
       "<Figure size 576x432 with 1 Axes>"
      ]
     },
     "metadata": {
      "needs_background": "light"
     },
     "output_type": "display_data"
    }
   ],
   "source": [
    "# Simulación del precio\n",
    "S_0 = closes_aapl.iloc[-1,0]\n",
    "S_T = S_0*(1+Ri_dt).cumprod()\n",
    "\n",
    "# Se muestran los precios simulados con los precios descargados\n",
    "pd.concat([closes_aapl,S_T]).plot(figsize=(8,6));\n",
    "plt.title('Simulación de precios usando rendimiento simple');"
   ]
  },
  {
   "cell_type": "code",
   "execution_count": 60,
   "metadata": {},
   "outputs": [
    {
     "data": {
      "text/plain": [
       "0.5142114344357236"
      ]
     },
     "execution_count": 60,
     "metadata": {},
     "output_type": "execute_result"
    }
   ],
   "source": [
    "ri = calc_daily_ret(closes_aapl)\n",
    "# Usando la media y desviación estándar de los rendimientos logarítmicos\n",
    "mu_r = ri.mean()[0]\n",
    "sigma_r = ri.std()[0]\n",
    "\n",
    "# # Usando la equivalencia teórica\n",
    "# mu_r2 = mu_R - (sigma_R**2)/2\n",
    "\n",
    "sim_ret_ri = pd.DataFrame(mu_r*dt+Z*sigma_r*np.sqrt(dt), index=dates)\n",
    "\n",
    "# Simulación del precio\n",
    "S_0 = closes_aapl.iloc[-1,0]\n",
    "S_T2 = S_0*np.exp(sim_ret_ri.cumsum())\n",
    "\n",
    "# Se muestran los precios simulados con los precios descargados\n",
    "# pd.concat([closes_aapl,S_T2]).plot(figsize=(8,6));\n",
    "# plt.title('Simulación de precios usando rendimiento logarítmico');\n",
    "\n",
    "# from sklearn.metrics import mean_absolute_error\n",
    "e1 = np.abs(S_T-S_T2).mean().mean()\n",
    "e1"
   ]
  },
  {
   "cell_type": "code",
   "execution_count": 61,
   "metadata": {},
   "outputs": [
    {
     "name": "stdout",
     "output_type": "stream",
     "text": [
      "Las std usando rendimientos logarítmicos y simples son similares\n"
     ]
    },
    {
     "data": {
      "text/plain": [
       "(0.019176841551830408, 0.019217664710921272)"
      ]
     },
     "execution_count": 61,
     "metadata": {},
     "output_type": "execute_result"
    }
   ],
   "source": [
    "print('Las std usando rendimientos logarítmicos y simples son similares')\n",
    "sigma_R,sigma_r"
   ]
  },
  {
   "cell_type": "code",
   "execution_count": 62,
   "metadata": {},
   "outputs": [
    {
     "data": {
      "text/plain": [
       "{'contractSymbol': 'AAPL210115P00290000',\n",
       " 'strike': 290.0,\n",
       " 'currency': 'USD',\n",
       " 'lastPrice': 27.49,\n",
       " 'change': -1.8600006,\n",
       " 'percentChange': -6.3373103,\n",
       " 'volume': 8,\n",
       " 'openInterest': 10112,\n",
       " 'bid': 27.05,\n",
       " 'ask': 27.6,\n",
       " 'contractSize': 'REGULAR',\n",
       " 'expiration': 1610668800,\n",
       " 'lastTradeDate': 1588868341,\n",
       " 'impliedVolatility': 0.3455570816040039,\n",
       " 'inTheMoney': False}"
      ]
     },
     "execution_count": 62,
     "metadata": {},
     "output_type": "execute_result"
    }
   ],
   "source": [
    "opcion_valuar['JSON']"
   ]
  },
  {
   "cell_type": "code",
   "execution_count": 63,
   "metadata": {},
   "outputs": [
    {
     "data": {
      "image/png": "[encoded data removed]",
      "text/plain": [
       "<Figure size 432x288 with 1 Axes>"
      ]
     },
     "metadata": {
      "needs_background": "light"
     },
     "output_type": "display_data"
    }
   ],
   "source": [
    "strike = pd.DataFrame(opcion_valuar['JSON']['strike']*np.ones([ndays,nscen]), index=dates)\n",
    "put = pd.DataFrame({'Prima':np.exp(-mu_r*ndays) \\\n",
    "              *np.fmax(strike-S_T2,np.zeros([ndays,nscen])).mean(axis=1)}, index=dates)\n",
    "put.plot();"
   ]
  },
  {
   "cell_type": "code",
   "execution_count": 64,
   "metadata": {},
   "outputs": [
    {
     "data": {
      "text/plain": [
       "(0.0012000755304706488, 0.019217664710921272)"
      ]
     },
     "execution_count": 64,
     "metadata": {},
     "output_type": "execute_result"
    }
   ],
   "source": [
    "mu = ret_aapl.mean()[0]\n",
    "sigma = ret_aapl.std()[0]\n",
    "mu, sigma"
   ]
  },
  {
   "cell_type": "code",
   "execution_count": 65,
   "metadata": {},
   "outputs": [],
   "source": [
    "# Tasa de bonos de 1 yr de fecha 30/04/20 -> 0.16%\n",
    "r = 0.0016/360 # Tasa diaria"
   ]
  },
  {
   "cell_type": "code",
   "execution_count": 66,
   "metadata": {},
   "outputs": [
    {
     "data": {
      "text/plain": [
       "DatetimeIndex(['2019-11-14', '2019-11-15', '2019-11-16', '2019-11-17',\n",
       "               '2019-11-18', '2019-11-19', '2019-11-20', '2019-11-21',\n",
       "               '2019-11-22', '2019-11-23',\n",
       "               ...\n",
       "               '2020-07-14', '2020-07-15', '2020-07-16', '2020-07-17',\n",
       "               '2020-07-18', '2020-07-19', '2020-07-20', '2020-07-21',\n",
       "               '2020-07-22', '2020-07-23'],\n",
       "              dtype='datetime64[ns]', length=253, freq='D')"
      ]
     },
     "execution_count": 66,
     "metadata": {},
     "output_type": "execute_result"
    }
   ],
   "source": [
    "from datetime import date\n",
    "\n",
    "today = pd.Timestamp(date.today())\n",
    "expiry = opcion_valuar.Expiry\n",
    "\n",
    "ndays = (expiry - today).days\n",
    "nscen = 10\n",
    "dates = pd.date_range(start='2019-11-14', periods = ndays)\n",
    "dates"
   ]
  },
  {
   "cell_type": "code",
   "execution_count": 67,
   "metadata": {},
   "outputs": [
    {
     "data": {
      "text/html": [
       "<div>\n",
       "<style scoped>\n",
       "    .dataframe tbody tr th:only-of-type {\n",
       "        vertical-align: middle;\n",
       "    }\n",
       "\n",
       "    .dataframe tbody tr th {\n",
       "        vertical-align: top;\n",
       "    }\n",
       "\n",
       "    .dataframe thead th {\n",
       "        text-align: right;\n",
       "    }\n",
       "</style>\n",
       "<table border=\"1\" class=\"dataframe\">\n",
       "  <thead>\n",
       "    <tr style=\"text-align: right;\">\n",
       "      <th></th>\n",
       "      <th>0</th>\n",
       "      <th>1</th>\n",
       "      <th>2</th>\n",
       "      <th>...</th>\n",
       "      <th>7</th>\n",
       "      <th>8</th>\n",
       "      <th>9</th>\n",
       "    </tr>\n",
       "  </thead>\n",
       "  <tbody>\n",
       "    <tr>\n",
       "      <th>2019-11-14</th>\n",
       "      <td>-0.062</td>\n",
       "      <td>3.815e-02</td>\n",
       "      <td>0.042</td>\n",
       "      <td>...</td>\n",
       "      <td>-0.030</td>\n",
       "      <td>0.002</td>\n",
       "      <td>-0.007</td>\n",
       "    </tr>\n",
       "    <tr>\n",
       "      <th>2019-11-15</th>\n",
       "      <td>-0.035</td>\n",
       "      <td>5.772e-02</td>\n",
       "      <td>0.042</td>\n",
       "      <td>...</td>\n",
       "      <td>0.003</td>\n",
       "      <td>-0.013</td>\n",
       "      <td>0.021</td>\n",
       "    </tr>\n",
       "    <tr>\n",
       "      <th>2019-11-16</th>\n",
       "      <td>-0.017</td>\n",
       "      <td>3.257e-02</td>\n",
       "      <td>0.059</td>\n",
       "      <td>...</td>\n",
       "      <td>-0.031</td>\n",
       "      <td>-0.024</td>\n",
       "      <td>0.004</td>\n",
       "    </tr>\n",
       "    <tr>\n",
       "      <th>2019-11-17</th>\n",
       "      <td>-0.022</td>\n",
       "      <td>1.513e-04</td>\n",
       "      <td>0.088</td>\n",
       "      <td>...</td>\n",
       "      <td>-0.048</td>\n",
       "      <td>-0.015</td>\n",
       "      <td>0.010</td>\n",
       "    </tr>\n",
       "    <tr>\n",
       "      <th>2019-11-18</th>\n",
       "      <td>-0.019</td>\n",
       "      <td>2.153e-03</td>\n",
       "      <td>0.085</td>\n",
       "      <td>...</td>\n",
       "      <td>-0.062</td>\n",
       "      <td>0.010</td>\n",
       "      <td>-0.018</td>\n",
       "    </tr>\n",
       "    <tr>\n",
       "      <th>...</th>\n",
       "      <td>...</td>\n",
       "      <td>...</td>\n",
       "      <td>...</td>\n",
       "      <td>...</td>\n",
       "      <td>...</td>\n",
       "      <td>...</td>\n",
       "      <td>...</td>\n",
       "    </tr>\n",
       "    <tr>\n",
       "      <th>2020-07-19</th>\n",
       "      <td>0.410</td>\n",
       "      <td>4.629e-02</td>\n",
       "      <td>0.040</td>\n",
       "      <td>...</td>\n",
       "      <td>0.009</td>\n",
       "      <td>0.231</td>\n",
       "      <td>-0.253</td>\n",
       "    </tr>\n",
       "    <tr>\n",
       "      <th>2020-07-20</th>\n",
       "      <td>0.410</td>\n",
       "      <td>2.649e-02</td>\n",
       "      <td>0.037</td>\n",
       "      <td>...</td>\n",
       "      <td>0.024</td>\n",
       "      <td>0.236</td>\n",
       "      <td>-0.283</td>\n",
       "    </tr>\n",
       "    <tr>\n",
       "      <th>2020-07-21</th>\n",
       "      <td>0.403</td>\n",
       "      <td>-7.518e-04</td>\n",
       "      <td>0.002</td>\n",
       "      <td>...</td>\n",
       "      <td>0.014</td>\n",
       "      <td>0.241</td>\n",
       "      <td>-0.274</td>\n",
       "    </tr>\n",
       "    <tr>\n",
       "      <th>2020-07-22</th>\n",
       "      <td>0.392</td>\n",
       "      <td>-1.586e-02</td>\n",
       "      <td>-0.004</td>\n",
       "      <td>...</td>\n",
       "      <td>0.045</td>\n",
       "      <td>0.199</td>\n",
       "      <td>-0.262</td>\n",
       "    </tr>\n",
       "    <tr>\n",
       "      <th>2020-07-23</th>\n",
       "      <td>0.403</td>\n",
       "      <td>2.282e-02</td>\n",
       "      <td>0.039</td>\n",
       "      <td>...</td>\n",
       "      <td>0.065</td>\n",
       "      <td>0.161</td>\n",
       "      <td>-0.228</td>\n",
       "    </tr>\n",
       "  </tbody>\n",
       "</table>\n",
       "<p>253 rows × 10 columns</p>\n",
       "</div>"
      ],
      "text/plain": [
       "                0          1      2  ...      7      8      9\n",
       "2019-11-14 -0.062  3.815e-02  0.042  ... -0.030  0.002 -0.007\n",
       "2019-11-15 -0.035  5.772e-02  0.042  ...  0.003 -0.013  0.021\n",
       "2019-11-16 -0.017  3.257e-02  0.059  ... -0.031 -0.024  0.004\n",
       "2019-11-17 -0.022  1.513e-04  0.088  ... -0.048 -0.015  0.010\n",
       "2019-11-18 -0.019  2.153e-03  0.085  ... -0.062  0.010 -0.018\n",
       "...           ...        ...    ...  ...    ...    ...    ...\n",
       "2020-07-19  0.410  4.629e-02  0.040  ...  0.009  0.231 -0.253\n",
       "2020-07-20  0.410  2.649e-02  0.037  ...  0.024  0.236 -0.283\n",
       "2020-07-21  0.403 -7.518e-04  0.002  ...  0.014  0.241 -0.274\n",
       "2020-07-22  0.392 -1.586e-02 -0.004  ...  0.045  0.199 -0.262\n",
       "2020-07-23  0.403  2.282e-02  0.039  ...  0.065  0.161 -0.228\n",
       "\n",
       "[253 rows x 10 columns]"
      ]
     },
     "execution_count": 67,
     "metadata": {},
     "output_type": "execute_result"
    }
   ],
   "source": [
    "sim_ret = pd.DataFrame(sigma*np.random.randn(ndays,nscen)+r, index=dates)\n",
    "sim_ret.cumsum()\n",
    "# Las columnas son los escenarios y las filas son las días de contrato"
   ]
  },
  {
   "cell_type": "code",
   "execution_count": 68,
   "metadata": {},
   "outputs": [
    {
     "data": {
      "text/html": [
       "<div>\n",
       "<style scoped>\n",
       "    .dataframe tbody tr th:only-of-type {\n",
       "        vertical-align: middle;\n",
       "    }\n",
       "\n",
       "    .dataframe tbody tr th {\n",
       "        vertical-align: top;\n",
       "    }\n",
       "\n",
       "    .dataframe thead th {\n",
       "        text-align: right;\n",
       "    }\n",
       "</style>\n",
       "<table border=\"1\" class=\"dataframe\">\n",
       "  <thead>\n",
       "    <tr style=\"text-align: right;\">\n",
       "      <th></th>\n",
       "      <th>0</th>\n",
       "      <th>1</th>\n",
       "      <th>2</th>\n",
       "      <th>...</th>\n",
       "      <th>7</th>\n",
       "      <th>8</th>\n",
       "      <th>9</th>\n",
       "    </tr>\n",
       "  </thead>\n",
       "  <tbody>\n",
       "    <tr>\n",
       "      <th>2019-11-14</th>\n",
       "      <td>285.302</td>\n",
       "      <td>315.500</td>\n",
       "      <td>316.845</td>\n",
       "      <td>...</td>\n",
       "      <td>294.653</td>\n",
       "      <td>304.344</td>\n",
       "      <td>301.702</td>\n",
       "    </tr>\n",
       "    <tr>\n",
       "      <th>2019-11-15</th>\n",
       "      <td>293.306</td>\n",
       "      <td>321.734</td>\n",
       "      <td>316.567</td>\n",
       "      <td>...</td>\n",
       "      <td>304.549</td>\n",
       "      <td>299.689</td>\n",
       "      <td>310.233</td>\n",
       "    </tr>\n",
       "    <tr>\n",
       "      <th>2019-11-16</th>\n",
       "      <td>298.673</td>\n",
       "      <td>313.745</td>\n",
       "      <td>322.088</td>\n",
       "      <td>...</td>\n",
       "      <td>294.296</td>\n",
       "      <td>296.422</td>\n",
       "      <td>305.015</td>\n",
       "    </tr>\n",
       "    <tr>\n",
       "      <th>2019-11-17</th>\n",
       "      <td>297.087</td>\n",
       "      <td>303.736</td>\n",
       "      <td>331.768</td>\n",
       "      <td>...</td>\n",
       "      <td>289.572</td>\n",
       "      <td>299.119</td>\n",
       "      <td>306.696</td>\n",
       "    </tr>\n",
       "    <tr>\n",
       "      <th>2019-11-18</th>\n",
       "      <td>297.904</td>\n",
       "      <td>304.345</td>\n",
       "      <td>330.505</td>\n",
       "      <td>...</td>\n",
       "      <td>285.396</td>\n",
       "      <td>306.838</td>\n",
       "      <td>298.416</td>\n",
       "    </tr>\n",
       "    <tr>\n",
       "      <th>...</th>\n",
       "      <td>...</td>\n",
       "      <td>...</td>\n",
       "      <td>...</td>\n",
       "      <td>...</td>\n",
       "      <td>...</td>\n",
       "      <td>...</td>\n",
       "      <td>...</td>\n",
       "    </tr>\n",
       "    <tr>\n",
       "      <th>2020-07-19</th>\n",
       "      <td>457.381</td>\n",
       "      <td>318.078</td>\n",
       "      <td>316.236</td>\n",
       "      <td>...</td>\n",
       "      <td>306.385</td>\n",
       "      <td>382.619</td>\n",
       "      <td>235.923</td>\n",
       "    </tr>\n",
       "    <tr>\n",
       "      <th>2020-07-20</th>\n",
       "      <td>457.796</td>\n",
       "      <td>311.844</td>\n",
       "      <td>315.109</td>\n",
       "      <td>...</td>\n",
       "      <td>311.214</td>\n",
       "      <td>384.535</td>\n",
       "      <td>228.839</td>\n",
       "    </tr>\n",
       "    <tr>\n",
       "      <th>2020-07-21</th>\n",
       "      <td>454.544</td>\n",
       "      <td>303.462</td>\n",
       "      <td>304.344</td>\n",
       "      <td>...</td>\n",
       "      <td>307.900</td>\n",
       "      <td>386.327</td>\n",
       "      <td>230.865</td>\n",
       "    </tr>\n",
       "    <tr>\n",
       "      <th>2020-07-22</th>\n",
       "      <td>449.613</td>\n",
       "      <td>298.911</td>\n",
       "      <td>302.578</td>\n",
       "      <td>...</td>\n",
       "      <td>317.523</td>\n",
       "      <td>370.674</td>\n",
       "      <td>233.732</td>\n",
       "    </tr>\n",
       "    <tr>\n",
       "      <th>2020-07-23</th>\n",
       "      <td>454.579</td>\n",
       "      <td>310.701</td>\n",
       "      <td>315.627</td>\n",
       "      <td>...</td>\n",
       "      <td>324.151</td>\n",
       "      <td>356.660</td>\n",
       "      <td>241.838</td>\n",
       "    </tr>\n",
       "  </tbody>\n",
       "</table>\n",
       "<p>253 rows × 10 columns</p>\n",
       "</div>"
      ],
      "text/plain": [
       "                  0        1        2  ...        7        8        9\n",
       "2019-11-14  285.302  315.500  316.845  ...  294.653  304.344  301.702\n",
       "2019-11-15  293.306  321.734  316.567  ...  304.549  299.689  310.233\n",
       "2019-11-16  298.673  313.745  322.088  ...  294.296  296.422  305.015\n",
       "2019-11-17  297.087  303.736  331.768  ...  289.572  299.119  306.696\n",
       "2019-11-18  297.904  304.345  330.505  ...  285.396  306.838  298.416\n",
       "...             ...      ...      ...  ...      ...      ...      ...\n",
       "2020-07-19  457.381  318.078  316.236  ...  306.385  382.619  235.923\n",
       "2020-07-20  457.796  311.844  315.109  ...  311.214  384.535  228.839\n",
       "2020-07-21  454.544  303.462  304.344  ...  307.900  386.327  230.865\n",
       "2020-07-22  449.613  298.911  302.578  ...  317.523  370.674  233.732\n",
       "2020-07-23  454.579  310.701  315.627  ...  324.151  356.660  241.838\n",
       "\n",
       "[253 rows x 10 columns]"
      ]
     },
     "execution_count": 68,
     "metadata": {},
     "output_type": "execute_result"
    }
   ],
   "source": [
    "S0 = closes_aapl.iloc[-1,0]  # Condición inicial del precio a simular\n",
    "sim_closes = S0*np.exp(sim_ret.cumsum())\n",
    "sim_closes"
   ]
  },
  {
   "cell_type": "code",
   "execution_count": 69,
   "metadata": {},
   "outputs": [
    {
     "data": {
      "image/png": "[encoded data removed]",
      "text/plain": [
       "<Figure size 576x432 with 1 Axes>"
      ]
     },
     "metadata": {
      "needs_background": "light"
     },
     "output_type": "display_data"
    }
   ],
   "source": [
    "# Se muestran los precios simulados con los precios descargados\n",
    "pd.concat([closes_aapl,sim_closes]).plot(figsize=(8,6));"
   ]
  },
  {
   "cell_type": "code",
   "execution_count": 70,
   "metadata": {},
   "outputs": [
    {
     "data": {
      "text/plain": [
       "{'contractSymbol': 'AAPL210115P00290000',\n",
       " 'strike': 290.0,\n",
       " 'currency': 'USD',\n",
       " 'lastPrice': 27.49,\n",
       " 'change': -1.8600006,\n",
       " 'percentChange': -6.3373103,\n",
       " 'volume': 8,\n",
       " 'openInterest': 10112,\n",
       " 'bid': 27.05,\n",
       " 'ask': 27.6,\n",
       " 'contractSize': 'REGULAR',\n",
       " 'expiration': 1610668800,\n",
       " 'lastTradeDate': 1588868341,\n",
       " 'impliedVolatility': 0.3455570816040039,\n",
       " 'inTheMoney': False}"
      ]
     },
     "execution_count": 70,
     "metadata": {},
     "output_type": "execute_result"
    }
   ],
   "source": [
    "opcion_valuar['JSON']"
   ]
  },
  {
   "cell_type": "code",
   "execution_count": 71,
   "metadata": {},
   "outputs": [
    {
     "data": {
      "text/plain": [
       "0.02176805004051064"
      ]
     },
     "execution_count": 71,
     "metadata": {},
     "output_type": "execute_result"
    }
   ],
   "source": [
    "sigma = 0.3455570816040039/np.sqrt(252)\n",
    "sigma"
   ]
  },
  {
   "cell_type": "code",
   "execution_count": 72,
   "metadata": {},
   "outputs": [],
   "source": [
    "from datetime import date\n",
    "Hoy = date.today()\n",
    "K = opcion_valuar['JSON']['strike']  # strike price\n",
    "ndays = (opcion_valuar.Expiry - today).days\n",
    "nscen = 100000\n",
    "dates = pd.date_range(start= Hoy, periods = ndays)\n",
    "S0 = closes_aapl.iloc[-1,0]  # Condición inicial del precio a simular\n",
    "\n",
    "sim_ret = pd.DataFrame(sigma*np.random.randn(ndays,nscen)+r,index=dates)\n",
    "sim_closes = S0*np.exp(sim_ret.cumsum())\n",
    "#strike = pd.DataFrame({'Strike':K*np.ones(ndays)}, index=dates)\n",
    "#simul = pd.concat([closes_aapl.T,strike.T,sim_closes.T]).T\n",
    "#simul.plot(figsize=(8,6),legend=False);"
   ]
  },
  {
   "cell_type": "code",
   "execution_count": 73,
   "metadata": {},
   "outputs": [
    {
     "data": {
      "image/png": "[encoded data removed]",
      "text/plain": [
       "<Figure size 432x288 with 1 Axes>"
      ]
     },
     "metadata": {
      "needs_background": "light"
     },
     "output_type": "display_data"
    }
   ],
   "source": [
    "strike = pd.DataFrame(K*np.ones([ndays,nscen]), index=dates)\n",
    "put = pd.DataFrame({'Prima':np.exp(-r*ndays) \\\n",
    "              *np.fmax(strike-sim_closes,np.zeros([ndays,nscen])).mean(axis=1)}, index=dates)\n",
    "put.plot();"
   ]
  },
  {
   "cell_type": "code",
   "execution_count": 74,
   "metadata": {},
   "outputs": [
    {
     "data": {
      "text/plain": [
       "Prima    27.734\n",
       "Name: 2021-01-14 00:00:00, dtype: float64"
      ]
     },
     "execution_count": 74,
     "metadata": {},
     "output_type": "execute_result"
    }
   ],
   "source": [
    "# Con un intervarlo de confianza del 99%\n",
    "put.iloc[-1]"
   ]
  },
  {
   "cell_type": "code",
   "execution_count": 75,
   "metadata": {},
   "outputs": [
    {
     "name": "stdout",
     "output_type": "stream",
     "text": [
      "(26.795893130448675, 28.671196991922464)\n",
      "(26.79591102779649, 28.67117909457465)\n"
     ]
    }
   ],
   "source": [
    "confianza = 0.99\n",
    "sigma_est = sim_closes.iloc[-1].sem()\n",
    "mean_est = put.iloc[-1].Prima\n",
    "i1 = st.t.interval(confianza,nscen-1, loc=mean_est, scale=sigma_est)\n",
    "i2 = st.norm.interval(confianza, loc=mean_est, scale=sigma_est)\n",
    "print(i1)\n",
    "print(i2)"
   ]
  },
  {
   "cell_type": "code",
   "execution_count": 77,
   "metadata": {},
   "outputs": [
    {
     "data": {
      "image/png": "[encoded data removed]",
      "text/plain": [
       "<Figure size 432x288 with 1 Axes>"
      ]
     },
     "metadata": {
      "needs_background": "light"
     },
     "output_type": "display_data"
    }
   ],
   "source": [
    "# Usando muestreo estratificado----> #estratros = nscen\n",
    "U = (np.arange(0,nscen)+np.random.rand(ndays,nscen))/nscen\n",
    "Z = st.norm.ppf(U)\n",
    "\n",
    "sim_ret2 = pd.DataFrame(sigma*Z+r,index=dates)\n",
    "sim_closes2 = S0*np.exp(sim_ret.cumsum())\n",
    "\n",
    "# Función de pago\n",
    "strike = pd.DataFrame(K*np.ones([ndays,nscen]), index=dates)\n",
    "put = pd.DataFrame({'Prima':np.exp(-r*ndays) \\\n",
    "              *np.fmax(strike-sim_closes2,np.zeros([ndays,nscen])).T.mean()}, index=dates)\n",
    "put.plot();"
   ]
  },
  {
   "cell_type": "code",
   "execution_count": 79,
   "metadata": {},
   "outputs": [
    {
     "data": {
      "text/plain": [
       "Prima    27.734\n",
       "Name: 2021-01-14 00:00:00, dtype: float64"
      ]
     },
     "execution_count": 79,
     "metadata": {},
     "output_type": "execute_result"
    }
   ],
   "source": [
    "put.iloc[-1]"
   ]
  },
  {
   "cell_type": "code",
   "execution_count": 80,
   "metadata": {},
   "outputs": [
    {
     "name": "stdout",
     "output_type": "stream",
     "text": [
      "(26.795893130448675, 28.671196991922464)\n",
      "(26.79591102779649, 28.67117909457465)\n"
     ]
    }
   ],
   "source": [
    "confianza = 0.99\n",
    "sigma_est = sim_closes2.iloc[-1].sem()\n",
    "mean_est = put.iloc[-1].Prima\n",
    "i1 = st.t.interval(confianza,nscen-1, loc=mean_est, scale=sigma_est)\n",
    "i2 = st.norm.interval(confianza, loc=mean_est, scale=sigma_est)\n",
    "print(i1)\n",
    "print(i2)"
   ]
  },
  {
   "cell_type": "code",
   "execution_count": 81,
   "metadata": {},
   "outputs": [
    {
     "data": {
      "image/png": "[encoded data removed]",
      "text/plain": [
       "<Figure size 432x288 with 1 Axes>"
      ]
     },
     "metadata": {
      "needs_background": "light"
     },
     "output_type": "display_data"
    }
   ],
   "source": [
    "#Ajustando Norm\n",
    "ren = calc_daily_ret(closes_aapl) # rendimientos \n",
    "y,x,des = plt.hist(ren['AAPL'],bins=50,density=True,label='Histograma rendimientos')\n",
    "\n",
    "mu_fit,sd_fit = st.norm.fit(ren) # Se ajustan los parámetros de una normal\n",
    "# Valores máximo y mínimo de los rendiemientos a generar\n",
    "ren_max = max(x);ren_min = min(x)\n",
    "# Vector de rendimientos generados\n",
    "ren_gen = np.arange(ren_min,ren_max,0.001)\n",
    "# Generación de la normal ajustado con los parámetros encontrados\n",
    "curve_fit = st.norm.pdf(ren_gen,loc=mu_fit,scale=sd_fit)\n",
    "plt.plot(ren_gen,curve_fit,label='Distribución ajustada')\n",
    "plt.legend()\n",
    "plt.show()"
   ]
  },
  {
   "cell_type": "code",
   "execution_count": 82,
   "metadata": {},
   "outputs": [
    {
     "data": {
      "image/png": "[encoded data removed]",
      "text/plain": [
       "<Figure size 432x288 with 1 Axes>"
      ]
     },
     "metadata": {
      "needs_background": "light"
     },
     "output_type": "display_data"
    }
   ],
   "source": [
    "#Ajustando t\n",
    "ren = calc_daily_ret(closes_aapl) # rendimientos \n",
    "y,x,des = plt.hist(ren['AAPL'],bins=50,density=True,label='Histograma rendimientos')\n",
    "\n",
    "dof,mu_fit,sd_fit = st.t.fit(ren) # Se ajustan los parámetros de una normal\n",
    "# Valores máximo y mínimo de los rendiemientos a generar\n",
    "# ren_max = max(x);ren_min = min(x)\n",
    "# Vector de rendimientos generados\n",
    "ren_gen = np.arange(ren_min,ren_max,0.001)\n",
    "# Generación de la normal ajustado con los parámetros encontrados\n",
    "curve_fit = st.t.pdf(ren_gen,df=dof,loc=mu_fit,scale=sd_fit)\n",
    "plt.plot(ren_gen,curve_fit,label='Distribución ajustada')\n",
    "plt.legend()\n",
    "plt.show()"
   ]
  },
  {
   "cell_type": "code",
   "execution_count": 83,
   "metadata": {},
   "outputs": [
    {
     "data": {
      "image/png": "[encoded data removed]",
      "text/plain": [
       "<Figure size 432x288 with 1 Axes>"
      ]
     },
     "metadata": {
      "needs_background": "light"
     },
     "output_type": "display_data"
    }
   ],
   "source": [
    "st.probplot(ren['AAPL'],sparams= dof, dist='t', plot=plt);"
   ]
  },
  {
   "cell_type": "code",
   "execution_count": 100,
   "metadata": {},
   "outputs": [],
   "source": [
    "#Valuación\n",
    "ndays = 109 \n",
    "nscen = 10"
   ]
  },
  {
   "cell_type": "code",
   "execution_count": 101,
   "metadata": {},
   "outputs": [],
   "source": [
    "prob = y/np.sum(y)\n",
    "values = x[1:]"
   ]
  },
  {
   "cell_type": "code",
   "execution_count": 102,
   "metadata": {},
   "outputs": [
    {
     "data": {
      "text/html": [
       "<div>\n",
       "<style scoped>\n",
       "    .dataframe tbody tr th:only-of-type {\n",
       "        vertical-align: middle;\n",
       "    }\n",
       "\n",
       "    .dataframe tbody tr th {\n",
       "        vertical-align: top;\n",
       "    }\n",
       "\n",
       "    .dataframe thead th {\n",
       "        text-align: right;\n",
       "    }\n",
       "</style>\n",
       "<table border=\"1\" class=\"dataframe\">\n",
       "  <thead>\n",
       "    <tr style=\"text-align: right;\">\n",
       "      <th></th>\n",
       "      <th>0</th>\n",
       "      <th>1</th>\n",
       "      <th>2</th>\n",
       "      <th>...</th>\n",
       "      <th>7</th>\n",
       "      <th>8</th>\n",
       "      <th>9</th>\n",
       "    </tr>\n",
       "  </thead>\n",
       "  <tbody>\n",
       "    <tr>\n",
       "      <th>2020-05-07</th>\n",
       "      <td>0.008</td>\n",
       "      <td>-0.002</td>\n",
       "      <td>0.003</td>\n",
       "      <td>...</td>\n",
       "      <td>0.003</td>\n",
       "      <td>0.008</td>\n",
       "      <td>-0.002</td>\n",
       "    </tr>\n",
       "    <tr>\n",
       "      <th>2020-05-08</th>\n",
       "      <td>0.098</td>\n",
       "      <td>0.018</td>\n",
       "      <td>-0.012</td>\n",
       "      <td>...</td>\n",
       "      <td>-0.002</td>\n",
       "      <td>0.008</td>\n",
       "      <td>-0.002</td>\n",
       "    </tr>\n",
       "    <tr>\n",
       "      <th>2020-05-09</th>\n",
       "      <td>-0.022</td>\n",
       "      <td>0.008</td>\n",
       "      <td>0.063</td>\n",
       "      <td>...</td>\n",
       "      <td>0.008</td>\n",
       "      <td>0.013</td>\n",
       "      <td>-0.012</td>\n",
       "    </tr>\n",
       "    <tr>\n",
       "      <th>2020-05-10</th>\n",
       "      <td>0.033</td>\n",
       "      <td>0.008</td>\n",
       "      <td>0.113</td>\n",
       "      <td>...</td>\n",
       "      <td>0.008</td>\n",
       "      <td>0.003</td>\n",
       "      <td>0.008</td>\n",
       "    </tr>\n",
       "    <tr>\n",
       "      <th>2020-05-11</th>\n",
       "      <td>0.008</td>\n",
       "      <td>0.013</td>\n",
       "      <td>0.003</td>\n",
       "      <td>...</td>\n",
       "      <td>-0.002</td>\n",
       "      <td>0.013</td>\n",
       "      <td>-0.002</td>\n",
       "    </tr>\n",
       "    <tr>\n",
       "      <th>...</th>\n",
       "      <td>...</td>\n",
       "      <td>...</td>\n",
       "      <td>...</td>\n",
       "      <td>...</td>\n",
       "      <td>...</td>\n",
       "      <td>...</td>\n",
       "      <td>...</td>\n",
       "    </tr>\n",
       "    <tr>\n",
       "      <th>2020-08-19</th>\n",
       "      <td>-0.007</td>\n",
       "      <td>-0.007</td>\n",
       "      <td>-0.002</td>\n",
       "      <td>...</td>\n",
       "      <td>-0.002</td>\n",
       "      <td>0.008</td>\n",
       "      <td>0.063</td>\n",
       "    </tr>\n",
       "    <tr>\n",
       "      <th>2020-08-20</th>\n",
       "      <td>0.003</td>\n",
       "      <td>-0.002</td>\n",
       "      <td>0.003</td>\n",
       "      <td>...</td>\n",
       "      <td>0.028</td>\n",
       "      <td>0.018</td>\n",
       "      <td>-0.007</td>\n",
       "    </tr>\n",
       "    <tr>\n",
       "      <th>2020-08-21</th>\n",
       "      <td>-0.022</td>\n",
       "      <td>0.013</td>\n",
       "      <td>0.018</td>\n",
       "      <td>...</td>\n",
       "      <td>0.038</td>\n",
       "      <td>0.003</td>\n",
       "      <td>-0.012</td>\n",
       "    </tr>\n",
       "    <tr>\n",
       "      <th>2020-08-22</th>\n",
       "      <td>0.003</td>\n",
       "      <td>0.008</td>\n",
       "      <td>0.033</td>\n",
       "      <td>...</td>\n",
       "      <td>-0.017</td>\n",
       "      <td>0.023</td>\n",
       "      <td>0.033</td>\n",
       "    </tr>\n",
       "    <tr>\n",
       "      <th>2020-08-23</th>\n",
       "      <td>0.033</td>\n",
       "      <td>-0.002</td>\n",
       "      <td>-0.017</td>\n",
       "      <td>...</td>\n",
       "      <td>-0.007</td>\n",
       "      <td>-0.002</td>\n",
       "      <td>0.018</td>\n",
       "    </tr>\n",
       "  </tbody>\n",
       "</table>\n",
       "<p>109 rows × 10 columns</p>\n",
       "</div>"
      ],
      "text/plain": [
       "                0      1      2  ...      7      8      9\n",
       "2020-05-07  0.008 -0.002  0.003  ...  0.003  0.008 -0.002\n",
       "2020-05-08  0.098  0.018 -0.012  ... -0.002  0.008 -0.002\n",
       "2020-05-09 -0.022  0.008  0.063  ...  0.008  0.013 -0.012\n",
       "2020-05-10  0.033  0.008  0.113  ...  0.008  0.003  0.008\n",
       "2020-05-11  0.008  0.013  0.003  ... -0.002  0.013 -0.002\n",
       "...           ...    ...    ...  ...    ...    ...    ...\n",
       "2020-08-19 -0.007 -0.007 -0.002  ... -0.002  0.008  0.063\n",
       "2020-08-20  0.003 -0.002  0.003  ...  0.028  0.018 -0.007\n",
       "2020-08-21 -0.022  0.013  0.018  ...  0.038  0.003 -0.012\n",
       "2020-08-22  0.003  0.008  0.033  ... -0.017  0.023  0.033\n",
       "2020-08-23  0.033 -0.002 -0.017  ... -0.007 -0.002  0.018\n",
       "\n",
       "[109 rows x 10 columns]"
      ]
     },
     "execution_count": 102,
     "metadata": {},
     "output_type": "execute_result"
    }
   ],
   "source": [
    "ret = np.random.choice(values, ndays*nscen, p=prob)\n",
    "dates = pd.date_range(start=Hoy,periods=ndays)\n",
    "sim_ret_hist = pd.DataFrame(ret.reshape((ndays,nscen)),index=dates)\n",
    "sim_ret_hist"
   ]
  },
  {
   "cell_type": "code",
   "execution_count": 103,
   "metadata": {
    "scrolled": false
   },
   "outputs": [
    {
     "data": {
      "text/html": [
       "<div>\n",
       "<style scoped>\n",
       "    .dataframe tbody tr th:only-of-type {\n",
       "        vertical-align: middle;\n",
       "    }\n",
       "\n",
       "    .dataframe tbody tr th {\n",
       "        vertical-align: top;\n",
       "    }\n",
       "\n",
       "    .dataframe thead th {\n",
       "        text-align: right;\n",
       "    }\n",
       "</style>\n",
       "<table border=\"1\" class=\"dataframe\">\n",
       "  <thead>\n",
       "    <tr style=\"text-align: right;\">\n",
       "      <th></th>\n",
       "      <th>0</th>\n",
       "      <th>1</th>\n",
       "      <th>2</th>\n",
       "      <th>...</th>\n",
       "      <th>7</th>\n",
       "      <th>8</th>\n",
       "      <th>9</th>\n",
       "    </tr>\n",
       "  </thead>\n",
       "  <tbody>\n",
       "    <tr>\n",
       "      <th>2020-05-07</th>\n",
       "      <td>306.066</td>\n",
       "      <td>303.010</td>\n",
       "      <td>304.534</td>\n",
       "      <td>...</td>\n",
       "      <td>304.534</td>\n",
       "      <td>306.066</td>\n",
       "      <td>303.010</td>\n",
       "    </tr>\n",
       "    <tr>\n",
       "      <th>2020-05-08</th>\n",
       "      <td>337.615</td>\n",
       "      <td>308.461</td>\n",
       "      <td>300.819</td>\n",
       "      <td>...</td>\n",
       "      <td>303.853</td>\n",
       "      <td>308.461</td>\n",
       "      <td>302.332</td>\n",
       "    </tr>\n",
       "    <tr>\n",
       "      <th>2020-05-09</th>\n",
       "      <td>330.166</td>\n",
       "      <td>310.875</td>\n",
       "      <td>320.375</td>\n",
       "      <td>...</td>\n",
       "      <td>306.230</td>\n",
       "      <td>312.438</td>\n",
       "      <td>298.644</td>\n",
       "    </tr>\n",
       "    <tr>\n",
       "      <th>2020-05-10</th>\n",
       "      <td>341.203</td>\n",
       "      <td>313.307</td>\n",
       "      <td>358.759</td>\n",
       "      <td>...</td>\n",
       "      <td>308.626</td>\n",
       "      <td>313.307</td>\n",
       "      <td>300.980</td>\n",
       "    </tr>\n",
       "    <tr>\n",
       "      <th>2020-05-11</th>\n",
       "      <td>343.873</td>\n",
       "      <td>317.347</td>\n",
       "      <td>359.756</td>\n",
       "      <td>...</td>\n",
       "      <td>307.936</td>\n",
       "      <td>317.347</td>\n",
       "      <td>300.307</td>\n",
       "    </tr>\n",
       "    <tr>\n",
       "      <th>...</th>\n",
       "      <td>...</td>\n",
       "      <td>...</td>\n",
       "      <td>...</td>\n",
       "      <td>...</td>\n",
       "      <td>...</td>\n",
       "      <td>...</td>\n",
       "      <td>...</td>\n",
       "    </tr>\n",
       "    <tr>\n",
       "      <th>2020-08-19</th>\n",
       "      <td>601.187</td>\n",
       "      <td>436.068</td>\n",
       "      <td>622.676</td>\n",
       "      <td>...</td>\n",
       "      <td>449.395</td>\n",
       "      <td>592.205</td>\n",
       "      <td>460.811</td>\n",
       "    </tr>\n",
       "    <tr>\n",
       "      <th>2020-08-20</th>\n",
       "      <td>602.858</td>\n",
       "      <td>435.092</td>\n",
       "      <td>624.408</td>\n",
       "      <td>...</td>\n",
       "      <td>462.092</td>\n",
       "      <td>602.858</td>\n",
       "      <td>457.479</td>\n",
       "    </tr>\n",
       "    <tr>\n",
       "      <th>2020-08-21</th>\n",
       "      <td>589.557</td>\n",
       "      <td>440.702</td>\n",
       "      <td>635.640</td>\n",
       "      <td>...</td>\n",
       "      <td>479.941</td>\n",
       "      <td>604.535</td>\n",
       "      <td>451.897</td>\n",
       "    </tr>\n",
       "    <tr>\n",
       "      <th>2020-08-22</th>\n",
       "      <td>591.197</td>\n",
       "      <td>444.150</td>\n",
       "      <td>656.887</td>\n",
       "      <td>...</td>\n",
       "      <td>471.713</td>\n",
       "      <td>618.505</td>\n",
       "      <td>467.003</td>\n",
       "    </tr>\n",
       "    <tr>\n",
       "      <th>2020-08-23</th>\n",
       "      <td>610.959</td>\n",
       "      <td>443.156</td>\n",
       "      <td>645.626</td>\n",
       "      <td>...</td>\n",
       "      <td>468.301</td>\n",
       "      <td>617.120</td>\n",
       "      <td>475.403</td>\n",
       "    </tr>\n",
       "  </tbody>\n",
       "</table>\n",
       "<p>109 rows × 10 columns</p>\n",
       "</div>"
      ],
      "text/plain": [
       "                  0        1        2  ...        7        8        9\n",
       "2020-05-07  306.066  303.010  304.534  ...  304.534  306.066  303.010\n",
       "2020-05-08  337.615  308.461  300.819  ...  303.853  308.461  302.332\n",
       "2020-05-09  330.166  310.875  320.375  ...  306.230  312.438  298.644\n",
       "2020-05-10  341.203  313.307  358.759  ...  308.626  313.307  300.980\n",
       "2020-05-11  343.873  317.347  359.756  ...  307.936  317.347  300.307\n",
       "...             ...      ...      ...  ...      ...      ...      ...\n",
       "2020-08-19  601.187  436.068  622.676  ...  449.395  592.205  460.811\n",
       "2020-08-20  602.858  435.092  624.408  ...  462.092  602.858  457.479\n",
       "2020-08-21  589.557  440.702  635.640  ...  479.941  604.535  451.897\n",
       "2020-08-22  591.197  444.150  656.887  ...  471.713  618.505  467.003\n",
       "2020-08-23  610.959  443.156  645.626  ...  468.301  617.120  475.403\n",
       "\n",
       "[109 rows x 10 columns]"
      ]
     },
     "execution_count": 103,
     "metadata": {},
     "output_type": "execute_result"
    }
   ],
   "source": [
    "sim_closes_hist = (closes_aapl.iloc[-1,0])*np.exp(sim_ret_hist.cumsum())\n",
    "sim_closes_hist"
   ]
  },
  {
   "cell_type": "code",
   "execution_count": 104,
   "metadata": {},
   "outputs": [
    {
     "data": {
      "image/png": "[encoded data removed]",
      "text/plain": [
       "<Figure size 576x432 with 1 Axes>"
      ]
     },
     "metadata": {
      "needs_background": "light"
     },
     "output_type": "display_data"
    }
   ],
   "source": [
    "sim_closes_hist.plot(figsize=(8,6),legend=False);"
   ]
  },
  {
   "cell_type": "code",
   "execution_count": 105,
   "metadata": {},
   "outputs": [
    {
     "data": {
      "text/plain": [
       "Text(0.5, 1.0, 'Simulación usando el histograma de los rendimientos')"
      ]
     },
     "execution_count": 105,
     "metadata": {},
     "output_type": "execute_result"
    },
    {
     "data": {
      "image/png": "[encoded data removed]",
      "text/plain": [
       "<Figure size 576x432 with 1 Axes>"
      ]
     },
     "metadata": {
      "needs_background": "light"
     },
     "output_type": "display_data"
    }
   ],
   "source": [
    "pd.concat([closes_aapl,sim_closes_hist]).plot(figsize=(8,6),legend=False);\n",
    "plt.title('Simulación usando el histograma de los rendimientos')"
   ]
  },
  {
   "cell_type": "code",
   "execution_count": 106,
   "metadata": {},
   "outputs": [],
   "source": [
    "K=240\n",
    "ndays = 109\n",
    "nscen = 10000\n",
    "freq, values = np.histogram(ret_aapl+r-mu, bins=2000)\n",
    "prob = freq/np.sum(freq)\n",
    "ret=np.random.choice(values[1:],ndays*nscen,p=prob)\n",
    "dates=pd.date_range('2018-10-29',periods=ndays)\n",
    "sim_ret_hist = pd.DataFrame(ret.reshape((ndays,nscen)),index=dates)\n",
    "sim_closes_hist = (closes_aapl.iloc[-1,0])*np.exp(sim_ret_hist.cumsum())"
   ]
  },
  {
   "cell_type": "code",
   "execution_count": 107,
   "metadata": {},
   "outputs": [
    {
     "data": {
      "image/png": "[encoded data removed]",
      "text/plain": [
       "<Figure size 432x288 with 1 Axes>"
      ]
     },
     "metadata": {
      "needs_background": "light"
     },
     "output_type": "display_data"
    }
   ],
   "source": [
    "strike = pd.DataFrame(K*np.ones(ndays*nscen).reshape((ndays,nscen)), index=dates)\n",
    "put_hist = pd.DataFrame({'Prima':np.exp(-r*ndays)*np.fmax(strike-sim_closes_hist,np.zeros(ndays*nscen).reshape((ndays,nscen))).T.mean()}, index=dates)\n",
    "put_hist.plot();"
   ]
  },
  {
   "cell_type": "code",
   "execution_count": 108,
   "metadata": {},
   "outputs": [
    {
     "data": {
      "text/plain": [
       "Prima    2.536\n",
       "Name: 2019-02-14 00:00:00, dtype: float64"
      ]
     },
     "execution_count": 108,
     "metadata": {},
     "output_type": "execute_result"
    }
   ],
   "source": [
    "put_hist.iloc[-1]"
   ]
  },
  {
   "cell_type": "code",
   "execution_count": 109,
   "metadata": {},
   "outputs": [
    {
     "data": {
      "text/plain": [
       "{'contractSymbol': 'AAPL210115P00290000',\n",
       " 'strike': 290.0,\n",
       " 'currency': 'USD',\n",
       " 'lastPrice': 27.49,\n",
       " 'change': -1.8600006,\n",
       " 'percentChange': -6.3373103,\n",
       " 'volume': 8,\n",
       " 'openInterest': 10112,\n",
       " 'bid': 27.05,\n",
       " 'ask': 27.6,\n",
       " 'contractSize': 'REGULAR',\n",
       " 'expiration': 1610668800,\n",
       " 'lastTradeDate': 1588868341,\n",
       " 'impliedVolatility': 0.3455570816040039,\n",
       " 'inTheMoney': False}"
      ]
     },
     "execution_count": 109,
     "metadata": {},
     "output_type": "execute_result"
    }
   ],
   "source": [
    "opcion_valuar['JSON']"
   ]
  },
  {
   "cell_type": "code",
   "execution_count": 110,
   "metadata": {
    "scrolled": true
   },
   "outputs": [
    {
     "name": "stdout",
     "output_type": "stream",
     "text": [
      "(1.2985421660361034, 3.774182978936957)\n",
      "(1.2985421660361034, 3.774182978936957)\n"
     ]
    }
   ],
   "source": [
    "confianza = 0.95\n",
    "sigma_est = sim_closes_hist.iloc[-1].sem()\n",
    "mean_est = put_hist.iloc[-1].Prima\n",
    "i1 = st.t.interval(confianza,nscen-1, loc=mean_est, scale=sigma_est)\n",
    "i2 = st.norm.interval(confianza, loc=mean_est, scale=sigma_est)\n",
    "print(i1)\n",
    "print(i1)"
   ]
  }
 ],
 "metadata": {
  "kernelspec": {
   "display_name": "Python 3",
   "language": "python",
   "name": "python3"
  },
  "language_info": {
   "codemirror_mode": {
    "name": "ipython",
    "version": 3
   },
   "file_extension": ".py",
   "mimetype": "text/x-python",
   "name": "python",
   "nbconvert_exporter": "python",
   "pygments_lexer": "ipython3",
   "version": "3.7.1"
  }
 },
 "nbformat": 4,
 "nbformat_minor": 2
}
