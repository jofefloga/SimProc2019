{
 "cells": [
  {
   "cell_type": "markdown",
   "metadata": {},
   "source": [
    "<img style=\"float: left; margin: 30px 15px 15px 15px;\" src=\"https://pngimage.net/wp-content/uploads/2018/06/logo-iteso-png-5.png\" width=\"300\" height=\"500\" /> \n",
    "    \n",
    "    \n",
    "### <font color='navy'> Simulación de procesos financieros. \n",
    "\n",
    "**Nombre:** José Fernando Flores.\n",
    "\n",
    "**Fecha:** 19 de marzo del 2020.\n",
    "\n",
    "**Expediente** : 714575.\n",
    "**Profesor:** Oscar David Jaramillo Zuluaga.\n",
    "\n",
    "# Tarea 7: Clase 12"
   ]
  },
  {
   "cell_type": "markdown",
   "metadata": {},
   "source": [
    "\n",
    "## Tarea 7\n",
    "> Usando notebook de jupyter resolver ejercicios de Distribución de Probabilidad."
   ]
  },
  {
   "attachments": {},
   "cell_type": "markdown",
   "metadata": {},
   "source": [
    "\n",
    "    \n",
    "> **Ayuda**: - Aprender a utlizar el solucionador de ecuaciones no lineales https://stackoverflow.com/questions/19843116/passing-arguments-to-fsolve\n",
    "- Leer el help de la función beta del paquete estadístico para aprender a graficar funciones beta en un intervalo diferente a 0 y 1.\n",
    "\n",
    ">2.Suponer que $T$ distribuye triangular donde el valor mas probable es $\\mu_p$ el valor pesimista es $p=49$ y el valor optimista es $o=40$ y responder cual es la probabilidad $P(T\\leq d)$. Nuevamente aprender a graficar una función triangular en un intervalro [a,b], usando el help."
   ]
  },
  {
   "attachments": {
    "imagen.png": {
     "image/png": "[encoded data removed]"
    }
   },
   "cell_type": "markdown",
   "metadata": {},
   "source": [
    "### Ejercicio 1: \n",
    "\n",
    ">Suponer que $T$ distribuye beta donde la media es $\\mu_p$ y varianza $\\sigma_p^2$ y responder cual es la probabilidad $P(T\\leq d)$.\n",
    "    ![imagen.png](attachment:imagen.png)"
   ]
  },
  {
   "cell_type": "code",
   "execution_count": 253,
   "metadata": {},
   "outputs": [],
   "source": [
    "#Código de solución\n",
    "#Importar paquetes\n",
    "import numpy as np\n",
    "from scipy.optimize import fsolve\n",
    "import matplotlib.pyplot as plt\n",
    "from scipy.stats import beta,triang\n",
    "\n",
    "#Definir valores dados\n",
    "Mu = 44\n",
    "Var = 9\n",
    "a = 40\n",
    "b = 49"
   ]
  },
  {
   "cell_type": "code",
   "execution_count": 62,
   "metadata": {
    "scrolled": true
   },
   "outputs": [
    {
     "name": "stdout",
     "output_type": "stream",
     "text": [
      "Alpha: 0.54321  Beta: 0.679012\n"
     ]
    }
   ],
   "source": [
    "#Código solución\n",
    "#Solución ecuaciones lineales de dos variables\n",
    "def myFunction(z):\n",
    "    x = z[0]\n",
    "    y = z[1]\n",
    "    #w = z[2]\n",
    "\n",
    "    F = np.empty((2))\n",
    "    F[0] = ((a*y+b*x)/(x+y))-Mu\n",
    "    F[1] = ((x*y)*(b-a)**2)/((1+x+y)*(x+y)**2)-Var\n",
    "    #F[2] = w + 5 - x*y\n",
    "    return F\n",
    "\n",
    "zGuess = np.array([1,1])\n",
    "z = fsolve(myFunction,zGuess)\n",
    "alpha_ = z[0]\n",
    "beta_ = z[1]\n",
    "\n",
    "print('Alpha:',alpha_.round(6),' Beta:',beta_.round(6))"
   ]
  },
  {
   "cell_type": "code",
   "execution_count": 252,
   "metadata": {},
   "outputs": [
    {
     "name": "stdout",
     "output_type": "stream",
     "text": [
      "La probabilidad de terminar el proyecto en 47 semanas es de: 0.929\n"
     ]
    }
   ],
   "source": [
    "d=47/((b-a)+a)\n",
    "prob = beta.cdf(d,alpha_,beta_)\n",
    "print('La probabilidad de terminar el proyecto en 47 semanas es de:', prob.round(3))"
   ]
  },
  {
   "cell_type": "markdown",
   "metadata": {},
   "source": [
    "### Ejercicio 2:\n",
    ">Suponer que $T$ distribuye triangular donde el valor mas probable es $\\mu_p$ el valor pesimista es $p=49$ y el valor optimista es $o=40$ y responder cual es la probabilidad $P(T\\leq d)$. Nuevamente aprender a graficar una función triangular en un intervalro [a,b], usando el help."
   ]
  },
  {
   "cell_type": "code",
   "execution_count": 254,
   "metadata": {},
   "outputs": [
    {
     "data": {
      "image/png": "[encoded data removed]",
      "text/plain": [
       "<Figure size 432x288 with 1 Axes>"
      ]
     },
     "metadata": {
      "needs_background": "light"
     },
     "output_type": "display_data"
    }
   ],
   "source": [
    "#código de solución\n",
    "x=np.linspace(39,50,100)\n",
    "loc= a\n",
    "scale=(b-a)\n",
    "c=4/9\n",
    "plt.plot(x,triang.pdf(x,c,loc,scale),'r--',lw=0.5,label='Distribución Triangular')\n",
    "plt.legend(loc='best')\n",
    "plt.show()"
   ]
  },
  {
   "cell_type": "code",
   "execution_count": 255,
   "metadata": {},
   "outputs": [
    {
     "name": "stdout",
     "output_type": "stream",
     "text": [
      "De acuerdo a la distribución triangular, la probabilidad de terminar el proyecto en 47 semanas es de: 0.911\n"
     ]
    }
   ],
   "source": [
    "prob_triang=triang.cdf(47,c,loc,scale)\n",
    "print('De acuerdo a la distribución triangular, la probabilidad',\n",
    "      'de terminar el proyecto en 47 semanas es de:',prob_triang.round(3))"
   ]
  },
  {
   "cell_type": "code",
   "execution_count": null,
   "metadata": {},
   "outputs": [],
   "source": []
  }
 ],
 "metadata": {
  "kernelspec": {
   "display_name": "Python 3",
   "language": "python",
   "name": "python3"
  },
  "language_info": {
   "codemirror_mode": {
    "name": "ipython",
    "version": 3
   },
   "file_extension": ".py",
   "mimetype": "text/x-python",
   "name": "python",
   "nbconvert_exporter": "python",
   "pygments_lexer": "ipython3",
   "version": "3.7.1"
  }
 },
 "nbformat": 4,
 "nbformat_minor": 2
}
