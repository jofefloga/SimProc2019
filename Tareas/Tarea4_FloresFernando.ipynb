{
 "cells": [
  {
   "cell_type": "markdown",
   "metadata": {},
   "source": [
    "<img style=\"float: left; margin: 30px 15px 15px 15px;\" src=\"https://pngimage.net/wp-content/uploads/2018/06/logo-iteso-png-5.png\" width=\"300\" height=\"500\" /> \n",
    "    \n",
    "    \n",
    "### <font color='navy'> Simulación de procesos financieros. \n",
    "\n",
    "**Nombre:** José Fernando Flores.\n",
    "\n",
    "**Fecha:** 25 de febrero del 2020.\n",
    "\n",
    "**Expediente** : 714575.\n",
    "**Profesor:** Oscar David Jaramillo Zuluaga.\n",
    "\n",
    "# Tarea 4: Clase 7"
   ]
  },
  {
   "cell_type": "markdown",
   "metadata": {},
   "source": [
    "\n",
    "## Tarea 4\n",
    "> Aplicaciones de simulación."
   ]
  },
  {
   "cell_type": "markdown",
   "metadata": {},
   "source": [
    "### Ejercicio 1: \n",
    "**Un juego de lanzamiento de una moneda:** Eres el afortunado ganador de un concurso de sorteos. Su premio es unas vacaciones con todos los gastos pagados en un hotel importante en Las Vegas, incluyendo algunas ﬁchas para apostar en el casino del hotel. Al ingresar al casino, descubres que, además de los juegos habituales (blackjack, ruleta, etc.), ofrecen un nuevo juego interesante con las siguientes reglas. Reglas del juego. \n",
    "\n",
    "1. Cada jugada del juego consiste en lanzar repetidamente una moneda imparcial hasta que la diferencia entre el número de caras lanzadas y el número de sellos es 3. \n",
    "2. Si decides jugar el juego, debes pagar 1 peso por cada lanzamiento de la moneda. No puedes salir durante una jugada del juego. \n",
    "3. Usted recibe 8 pesos al ﬁnal de cada uno de los juego. Por lo tanto, ganas dinero si el número de lanzamientos requeridos es menor a 8, pero pierdes dinero si se requieren más de 8 lanzamientos. Con el juego planteado anteriormente, responda las siguientes preguntas:\n",
    "    \n",
    "    a) ¿Cuál es el promedio de tiradas hasta que termina un juego? ¿cuál es su desviación estándar? (dibuja su histograma). \n",
    "    \n",
    "    b) Para el inciso anterior ¿Cuál es la probabilidad de que tires más de 10 veces para terminar un juego? ¿ y de que tires menos de 5 veces?. \n",
    "    \n",
    "    c) Imagina que lanzas 100 tiros exactos la moneda. ¿Cuál es tu valor esperado de $$ ganado/perdido? ¿Y tu valor más probable?¿Cuál es la probabilidad de ganar dinero? (Graﬁca el histograma de simulaciones). \n",
    "    \n",
    "    d) Imagina que comienzas con $30 ¿Cuál es el valor esperado del número de tiradas que debes realizar antes de quedarte sin dinero? ¿Cuál es la probabilidad de realizar más de 150 tiradas? (graﬁca el histograma correspondiente).\n"
   ]
  },
  {
   "cell_type": "code",
   "execution_count": 1,
   "metadata": {},
   "outputs": [],
   "source": [
    "# Código de solución\n",
    "# Importar librerías\n",
    "import numpy as np\n",
    "import matplotlib.pyplot as plt\n",
    "# Inciso a\n",
    "\n",
    "# Funcion para juego\n",
    "def juego():\n",
    "    a = 0\n",
    "    cont = 0\n",
    "    while abs(a) < 3:\n",
    "        x = np.random.randint(0,2)\n",
    "        if x == 0:\n",
    "            a+=1\n",
    "        else:\n",
    "            a-=1\n",
    "        cont+=1\n",
    "    return cont"
   ]
  },
  {
   "cell_type": "code",
   "execution_count": 2,
   "metadata": {},
   "outputs": [
    {
     "name": "stdout",
     "output_type": "stream",
     "text": [
      "El promedio de tiradas hasta ganar el juego es: 9.0058 mientras que la desviación es de: 6.949328482666509\n"
     ]
    }
   ],
   "source": [
    "# Promedio y desviación\n",
    "N = 10000\n",
    "x = np.array([juego() for i in range(N)])\n",
    "print('El promedio de tiradas hasta ganar el juego es:',x.mean(),'mientras que la desviación es de:', x.std())"
   ]
  },
  {
   "cell_type": "code",
   "execution_count": 3,
   "metadata": {
    "scrolled": true
   },
   "outputs": [
    {
     "data": {
      "image/png": "[encoded data removed]",
      "text/plain": [
       "<Figure size 432x288 with 1 Axes>"
      ]
     },
     "metadata": {
      "needs_background": "light"
     },
     "output_type": "display_data"
    }
   ],
   "source": [
    "plt.hist(x,bins = 30, density=True)\n",
    "plt.show()"
   ]
  },
  {
   "cell_type": "code",
   "execution_count": 4,
   "metadata": {
    "scrolled": true
   },
   "outputs": [
    {
     "name": "stdout",
     "output_type": "stream",
     "text": [
      "La probabilidad de tirar menos de 5 veces hasta ganar es de: 0.2356613523409895\n",
      "La probabilidad de tirar más de 10 veces es de: 0.3870703337151794\n"
     ]
    }
   ],
   "source": [
    "# Inciso b\n",
    "import scipy.stats\n",
    "a = scipy.stats.norm(x.mean(), x.std()).cdf(4)\n",
    "b = 1 - scipy.stats.norm(x.mean(), x.std()).cdf(11)\n",
    "print('La probabilidad de tirar menos de 5 veces hasta ganar es de:',a)\n",
    "print('La probabilidad de tirar más de 10 veces es de:',b)"
   ]
  },
  {
   "cell_type": "code",
   "execution_count": 5,
   "metadata": {},
   "outputs": [
    {
     "name": "stdout",
     "output_type": "stream",
     "text": [
      "El promedio de ganancias con 100 tiros es de: -12.1368 pesos.\n",
      "El valor más probable de ganancia es de: -20 pesos.\n",
      "La probabilidad de ganar dinero después de 100 tiros es de: 0.27822286918090444\n"
     ]
    }
   ],
   "source": [
    "# Inciso c\n",
    "import statistics\n",
    "# Funcion para n tiros\n",
    "def tiros(n):\n",
    "    cont = 0\n",
    "    a = 0\n",
    "    ganancia=0\n",
    "    while cont < n:\n",
    "        x = np.random.randint(0,2)\n",
    "        if x == 0:\n",
    "            a+=1\n",
    "        else:\n",
    "            a-=1\n",
    "        if abs(a) ==3:\n",
    "            ganancia +=7 \n",
    "            a = 0\n",
    "        else:\n",
    "            ganancia -=1\n",
    "        cont+=1\n",
    "    return ganancia\n",
    "\n",
    "ganancias = np.array([tiros(100) for i in range(N)])\n",
    "r = 1 - scipy.stats.norm(ganancias.mean(), ganancias.std()).cdf(0)\n",
    "print('El promedio de ganancias con 100 tiros es de:', ganancias.mean(),'pesos.')\n",
    "print('El valor más probable de ganancia es de:', statistics.mode(ganancias), 'pesos.')\n",
    "print('La probabilidad de ganar dinero después de 100 tiros es de:' ,r)"
   ]
  },
  {
   "cell_type": "code",
   "execution_count": 6,
   "metadata": {},
   "outputs": [
    {
     "data": {
      "image/png": "[encoded data removed]",
      "text/plain": [
       "<Figure size 432x288 with 1 Axes>"
      ]
     },
     "metadata": {
      "needs_background": "light"
     },
     "output_type": "display_data"
    }
   ],
   "source": [
    "plt.hist(ganancias,bins = 30, density=True)\n",
    "plt.show()"
   ]
  },
  {
   "cell_type": "code",
   "execution_count": 7,
   "metadata": {},
   "outputs": [
    {
     "data": {
      "text/plain": [
       "0.6420234639671547"
      ]
     },
     "execution_count": 7,
     "metadata": {},
     "output_type": "execute_result"
    }
   ],
   "source": [
    "#Inciso d\n",
    "# Funcion para n pesos\n",
    "def gan(n):\n",
    "    cont = 0\n",
    "    a = 0\n",
    "    ganancia=0\n",
    "    while ganancia > -n:\n",
    "        x = np.random.randint(0,2)\n",
    "        if x == 0:\n",
    "            a+=1\n",
    "        else:\n",
    "            a-=1\n",
    "        if abs(a) ==3:\n",
    "            ganancia +=7 \n",
    "            a = 0\n",
    "        else:\n",
    "            ganancia -=1\n",
    "        cont+=1\n",
    "    return cont\n",
    "\n",
    "\n",
    "f = np.array([gan(30) for i in range(N)])\n",
    "f.mean()\n",
    "k = 1 - scipy.stats.norm(f.mean(), f.std()).cdf(151)\n",
    "k"
   ]
  },
  {
   "cell_type": "code",
   "execution_count": 8,
   "metadata": {},
   "outputs": [
    {
     "data": {
      "image/png": "[encoded data removed]",
      "text/plain": [
       "<Figure size 432x288 with 1 Axes>"
      ]
     },
     "metadata": {
      "needs_background": "light"
     },
     "output_type": "display_data"
    }
   ],
   "source": [
    "plt.hist(f,bins = 30, density=True)\n",
    "plt.show()"
   ]
  },
  {
   "cell_type": "markdown",
   "metadata": {},
   "source": [
    "### Ejercicio 2:\n",
    "- El juego de dados requiere que el jugador arroje dos dados una o más veces hasta que se llegue a una decisión sobre si él (o ella) gana o pierde. Él gana si la primera tirada resulta en una suma de 7 u 11 o, alternativamente, si la primera suma es 4, 5, 6, 8, 9 o 10 y la misma suma reaparece antes de que aparezca una suma de 7. Por el contrario, pierde si la primera tirada resulta en una suma de 2, 3 o 12 o, alternativamente, si la primera suma es 4, 5, 6, 8, 9 o 10 y aparece una suma de 7 antes de la primera suma reaparece.\n",
    "\n",
    "a) calcule la probabilidad de ganar corriendo 10,000 simulaciones. \n",
    "\n",
    "b) Imagina que cada juego ganas o pierdes 50 pesos. Si inicias con 500 pesos. ¿Cuál es tu valor esperado de dinero después de 10 juegos? ¿y el más probable? ¿Cuál es la probabilidad de ganar dinero?.\n"
   ]
  },
  {
   "cell_type": "code",
   "execution_count": 9,
   "metadata": {
    "scrolled": true
   },
   "outputs": [],
   "source": [
    "# Codigo de solucion\n",
    "def juego711():\n",
    "    n=100\n",
    "    suma = np.random.randint(1,7,n)+np.random.randint(1,7,n)\n",
    "    \n",
    "        \n",
    "    a = 0\n",
    "    b = []\n",
    "    while abs(a)<1:\n",
    "        if suma[0] in (7,11):\n",
    "            a+=1\n",
    "            b.append(1)\n",
    "        elif suma[0] in (2,3,12):\n",
    "            a+=1\n",
    "            b.append(-1)\n",
    "            \n",
    "        else:\n",
    "            d=0\n",
    "            j=1\n",
    "            while abs(d)<1 and j<10000:\n",
    "                if suma[j] == 7:\n",
    "                    d+=1\n",
    "                    b.append(-1)\n",
    "                elif suma[j]==suma[j-1]:\n",
    "                    b.append(1)\n",
    "                    d-=1\n",
    "                j+=1\n",
    "        return b"
   ]
  },
  {
   "cell_type": "code",
   "execution_count": 10,
   "metadata": {},
   "outputs": [
    {
     "name": "stdout",
     "output_type": "stream",
     "text": [
      "La probabilidad de ganar es de: 0.4701\n"
     ]
    }
   ],
   "source": [
    "# Probabilidad de ganar\n",
    "sim711 = np.array([juego711() for i in range(10000)])\n",
    "Gan = list(filter(lambda x: x== 1, sim711 ))\n",
    "Prob_Gan711 = len(Gan)/len(sim711)\n",
    "print('La probabilidad de ganar es de:',Prob_Gan711)"
   ]
  },
  {
   "cell_type": "code",
   "execution_count": 11,
   "metadata": {},
   "outputs": [
    {
     "name": "stdout",
     "output_type": "stream",
     "text": [
      "Tu valor esperado después de 10 juegos iniciando con $500 es de: 478.58\n",
      "El valor más frecuente de dinero después de 10 juegos iniciando con $500 es de: [500]\n",
      "La probabilidad de ganar dinero después de 10 juegos es de: 0.326\n"
     ]
    }
   ],
   "source": [
    "# Para 10 juegos, iniciando con $500\n",
    "from scipy import stats\n",
    "z = np.array([np.array([juego711() for i in range(10)]).sum()*50+500 for j in range(10000)])\n",
    "u = list(filter(lambda x: x>500, z ))\n",
    "pgan = len(u)/len(z)\n",
    "print('Tu valor esperado después de 10 juegos iniciando con $500 es de:',z.mean())\n",
    "print('El valor más frecuente de dinero después de 10 juegos iniciando con $500 es de:',stats.mode(z)[0])\n",
    "print('La probabilidad de ganar dinero después de 10 juegos es de:',pgan)"
   ]
  },
  {
   "cell_type": "markdown",
   "metadata": {},
   "source": [
    "### Ejercicio 3:\n",
    "- Una inversión en cetes actualmente promete un rendimiento que va entre el 8% y el 12% anual.\n",
    "\n",
    "a) Considera la cantidad total de dinero que obtendrás al ﬁnal del año dado una inversión inicial de $300000. Realiza un programa que simule 10,000 escenarios diferentes que puedan suceder, calcula su media, su desviación estándar y graﬁca su histograma. \n",
    "\n",
    "b) Ahora supón que dejas el dinero durante 6 años, Realiza un programa que simule 10,000 escenarios diferentes que puedan suceder, calcula su media, su desviación estándar y graﬁca su histograma. ¿Cuál es la probabilidad de ganar más de $58000? ¿Cuál es la probabilidad de ganar menos de 55000 pesos?.\n",
    "\n",
    "\n",
    "c) Repite el inciso b), pero suponiendo que el rendimiento es discreto, es decir, solo puede tomar los valores enteros 8,9,10,11,12. ¿Cuál es la probabilidad de ganar entre $53000 y 56000 pesos?\n"
   ]
  },
  {
   "cell_type": "code",
   "execution_count": 12,
   "metadata": {},
   "outputs": [
    {
     "name": "stdout",
     "output_type": "stream",
     "text": [
      "media: 330006.14938329277 y desviación estándar: 3416.496718691956\n"
     ]
    }
   ],
   "source": [
    "# Código de solución \n",
    "# Inciso a\n",
    "\n",
    "rend = np.random.uniform(low=0.08, high=0.12, size=(10000,))\n",
    "a = np.array([300000*i + 300000 for i in rend])\n",
    "print('media:', a.mean(),'y desviación estándar:', a.std())"
   ]
  },
  {
   "cell_type": "code",
   "execution_count": 13,
   "metadata": {
    "scrolled": true
   },
   "outputs": [
    {
     "data": {
      "image/png": "[encoded data removed]",
      "text/plain": [
       "<Figure size 432x288 with 1 Axes>"
      ]
     },
     "metadata": {
      "needs_background": "light"
     },
     "output_type": "display_data"
    }
   ],
   "source": [
    "# Inciso a\n",
    "plt.hist(a, bins = 30, density= True)\n",
    "plt.show()"
   ]
  },
  {
   "cell_type": "code",
   "execution_count": 14,
   "metadata": {},
   "outputs": [
    {
     "name": "stdout",
     "output_type": "stream",
     "text": [
      "media: 531547.3412528166 y desviación estándar: 13580.94402893692\n"
     ]
    }
   ],
   "source": [
    "# Inciso b \n",
    "inv = 300000*np.ones(10000)\n",
    "x=0\n",
    "while x <6:\n",
    "    r = np.random.uniform(low=0.08, high=0.12, size=(10000,))\n",
    "    b = np.array([inv[i]*r[i] + inv[i] for i in range(len(r))])\n",
    "    inv = b\n",
    "    x+=1\n",
    "print('media:', b.mean(),'y desviación estándar:', b.std())"
   ]
  },
  {
   "cell_type": "code",
   "execution_count": 15,
   "metadata": {},
   "outputs": [
    {
     "data": {
      "image/png": "[encoded data removed]",
      "text/plain": [
       "<Figure size 432x288 with 1 Axes>"
      ]
     },
     "metadata": {
      "needs_background": "light"
     },
     "output_type": "display_data"
    }
   ],
   "source": [
    "plt.hist(b, bins = 30, density= True)\n",
    "plt.show()"
   ]
  },
  {
   "cell_type": "code",
   "execution_count": 16,
   "metadata": {
    "scrolled": true
   },
   "outputs": [
    {
     "name": "stdout",
     "output_type": "stream",
     "text": [
      "La probabilidad de ganar más de 580,000 es de: 0.00018006804847781055\n",
      "La probabilidad de ganar menos de 530,000 es de: 0.4546447653267958\n"
     ]
    }
   ],
   "source": [
    "# El inciso indica $58,000, pero se suponen $580,000 ya que de lo contrario las probabilidades\n",
    "# serían 100% y 0%\n",
    "\n",
    "P_mayor58 = 1 - scipy.stats.norm(b.mean(), b.std()).cdf(580000)\n",
    "P_menor53 = scipy.stats.norm(b.mean(), b.std()).cdf(530000)\n",
    "print('La probabilidad de ganar más de 580,000 es de:',P_mayor58)\n",
    "print('La probabilidad de ganar menos de 530,000 es de:',P_menor53)"
   ]
  },
  {
   "cell_type": "code",
   "execution_count": 17,
   "metadata": {},
   "outputs": [
    {
     "name": "stdout",
     "output_type": "stream",
     "text": [
      "Media: 517089.85029566335 y desviación estándar: 12955.09315516198\n",
      "La probabilidad de ganar más de 560,000 es de: 0.00046278967153945416\n",
      "La probabilidad de ganar menos de 530,000 es de: 0.8405038518492782\n"
     ]
    }
   ],
   "source": [
    "# Inciso c\n",
    "inv = 300000*np.ones(10000)\n",
    "x=0\n",
    "while x <6:\n",
    "    r = np.array([0.01*np.random.randint(8,12) for i in range(10000)])\n",
    "    c = np.array([inv[i]*r[i] + inv[i] for i in range(len(r))])\n",
    "    inv = c\n",
    "    x+=1\n",
    "p_mayor56 = 1 - scipy.stats.norm(c.mean(), c.std()).cdf(560000)\n",
    "p_menor53 = scipy.stats.norm(c.mean(), c.std()).cdf(530000)\n",
    "                                                    \n",
    "print('Media:', c.mean(),'y desviación estándar:', c.std())\n",
    "print('La probabilidad de ganar más de 560,000 es de:',p_mayor56)\n",
    "print('La probabilidad de ganar menos de 530,000 es de:',p_menor53)"
   ]
  },
  {
   "cell_type": "code",
   "execution_count": 18,
   "metadata": {},
   "outputs": [
    {
     "data": {
      "image/png": "[encoded data removed]",
      "text/plain": [
       "<Figure size 432x288 with 1 Axes>"
      ]
     },
     "metadata": {
      "needs_background": "light"
     },
     "output_type": "display_data"
    }
   ],
   "source": [
    "plt.hist(c, bins = 30, density= True)\n",
    "plt.show()"
   ]
  },
  {
   "cell_type": "markdown",
   "metadata": {},
   "source": [
    "### Ejercicio 4:\n",
    "-  Use the mixed congruential method to generate the following sequences of random numbers.\n",
    "\n",
    "a) A sequence of 10 one-digit random integer numbers such that xn+1 = (xn + 3)(mod10) and x0 = 2 \n",
    "\n",
    "b) A sequence of eight random integer numbers between 0 and 7 such thatxn+1 = (5xn +1)(mod8) and x0 = 1. \n",
    "\n",
    "c) A sequence of ﬁve two-digit random integer numbers such that xn+1 = (61xn + 27)(mod100) and x0 = 10.\n"
   ]
  },
  {
   "cell_type": "code",
   "execution_count": 36,
   "metadata": {},
   "outputs": [],
   "source": [
    "def cong_method1(x0:\"Semilla inicial\",a:\"Multiplicador\",b:\"Incremento\", m:\"Módulo\",\n",
    "                 n:\"Número de elementos\"):\n",
    "    '''\n",
    "    Esta función contiene la programación del método congruencial para la sucesión x_n = (ax_{n−1} + b) mod m\n",
    "    sin utilizar ciclo for convencional     \n",
    "    '''\n",
    "    x = np.zeros(n)\n",
    "    x[0] = x0\n",
    "    def llenar_vector(i):\n",
    "        nonlocal x\n",
    "        x[i+1] = (a * x[i] + b) % m\n",
    "    [llenar_vector(i) for i in range(n-1)]\n",
    "    return x"
   ]
  },
  {
   "cell_type": "code",
   "execution_count": 38,
   "metadata": {},
   "outputs": [
    {
     "name": "stdout",
     "output_type": "stream",
     "text": [
      "[2. 5. 8. 1. 4. 7. 0. 3. 6. 9.]\n"
     ]
    }
   ],
   "source": [
    "# inciso a\n",
    "print(cong_method1(2,1,3,10,10))"
   ]
  },
  {
   "cell_type": "code",
   "execution_count": 39,
   "metadata": {},
   "outputs": [
    {
     "name": "stdout",
     "output_type": "stream",
     "text": [
      "[1. 6. 7. 4. 5. 2. 3. 0.]\n"
     ]
    }
   ],
   "source": [
    "# Inciso b\n",
    "print(cong_method1(1,5,1,8,8))"
   ]
  },
  {
   "cell_type": "code",
   "execution_count": 40,
   "metadata": {},
   "outputs": [
    {
     "name": "stdout",
     "output_type": "stream",
     "text": [
      "[10. 37. 84. 51. 38.]\n"
     ]
    }
   ],
   "source": [
    "# Inciso c\n",
    "print(cong_method1(10,61,27,100,5))"
   ]
  }
 ],
 "metadata": {
  "kernelspec": {
   "display_name": "Python 3",
   "language": "python",
   "name": "python3"
  },
  "language_info": {
   "codemirror_mode": {
    "name": "ipython",
    "version": 3
   },
   "file_extension": ".py",
   "mimetype": "text/x-python",
   "name": "python",
   "nbconvert_exporter": "python",
   "pygments_lexer": "ipython3",
   "version": "3.7.1"
  }
 },
 "nbformat": 4,
 "nbformat_minor": 2
}
