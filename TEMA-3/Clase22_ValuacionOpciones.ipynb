{
 "cells": [
  {
   "cell_type": "markdown",
   "metadata": {},
   "source": [
    "<img style=\"float: right; margin: 0px 0px 15px 15px;\" src=\"https://encrypted-tbn0.gstatic.com/images?q=tbn:ANd9GcSQt6eQo8JPYzYO4p6WmxLtccdtJ4X8WR6GzVVKbsMjyGvUDEn1mg\" width=\"300px\" height=\"100px\" />\n",
    "\n",
    "# Trabajando con opciones"
   ]
  },
  {
   "cell_type": "markdown",
   "metadata": {},
   "source": [
    "Una opción puede negociarse en el mercado secundario por lo que es importante determinar su valor $V_t$ para cada tiempo $t\\in [0, T]$. La ganancia que obtiene quién adquiere la opción se llama función de pago o \"payoff\" y claramente depende del valor del subyacente. \n",
    "\n",
    "Hay una gran variedad de opciones en el mercado y éstas se clasiflcan según su función de pago y la forma en que pueden ejercerse.  Las opciones que tienen como función de pago a\n",
    "$$ P(S(t),t)=max\\{S(T)-K,0\\} \\rightarrow \\text{En el caso de Call}$$ \n",
    "$$ P(S(t),t)=max\\{K-S(T),0\\} \\rightarrow \\text{En el caso de Put}$$ \n",
    "se llaman opciones **Vainilla**, con $h:[0,\\infty) \\to [0,\\infty)$.\n",
    "\n",
    "La opción se llama **europea** si puede ejercerse sólo en la fecha de vencimiento.\n",
    "\n",
    "Se dice que una opción es **americana** si puede ejercerse en cualquier momento antes o en la fecha de vencimiento.\n",
    "\n",
    "Una opción compleja popular son las llamadas **opciones asiáticas** cuyos pagos dependen de todas las trayectorias del precio de los activos subyacentes. Las opciones cuyos pagos dependen de las trayectorias de los precios de los activos subyacentes se denominan opciones dependientes de la ruta.\n",
    "\n",
    "Principalmente, se puede resumir que las dos razones con más peso de importancia para utilizar opciones son el **aseguramiento** y la **especulación**.\n",
    "\n",
    "## Opciones Plan Vainilla: opción de compra y opción de venta europea\n",
    "\n",
    "Una opción vainilla o estándar es una opción normal de compra o venta que no tiene características especiales o inusuales. Puede ser para tamaños y vencimientos estandarizados, y negociarse en un intercambio.\n",
    "En comparación con otras estructuras de opciones, las opciones de vanilla no son sofisticadas o complicadas.\n"
   ]
  },
  {
   "cell_type": "markdown",
   "metadata": {},
   "source": [
    "## 1. ¿Cómo descargar datos de opciones?"
   ]
  },
  {
   "cell_type": "code",
   "execution_count": 1,
   "metadata": {},
   "outputs": [],
   "source": [
    "#importar los paquetes que se van a usar\n",
    "import pandas as pd\n",
    "import pandas_datareader.data as web\n",
    "import numpy as np\n",
    "import datetime\n",
    "import matplotlib.pyplot as plt\n",
    "import scipy.stats as st\n",
    "import seaborn as sns\n",
    "%matplotlib inline\n",
    "#algunas opciones para Pandas\n",
    "pd.set_option('display.notebook_repr_html', True)\n",
    "pd.set_option('display.max_columns', 6)\n",
    "pd.set_option('display.max_rows', 10)\n",
    "pd.set_option('display.width', 78)\n",
    "pd.set_option('precision', 3)"
   ]
  },
  {
   "cell_type": "markdown",
   "metadata": {},
   "source": [
    "Usando el paquete `pandas_datareader` también podemos descargar datos de opciones. Por ejemplo, descarguemos los datos de las opciones cuyo activo subyacente son las acciones de Apple"
   ]
  },
  {
   "cell_type": "code",
   "execution_count": 2,
   "metadata": {
    "scrolled": false
   },
   "outputs": [
    {
     "data": {
      "text/html": [
       "<div>\n",
       "<style scoped>\n",
       "    .dataframe tbody tr th:only-of-type {\n",
       "        vertical-align: middle;\n",
       "    }\n",
       "\n",
       "    .dataframe tbody tr th {\n",
       "        vertical-align: top;\n",
       "    }\n",
       "\n",
       "    .dataframe thead th {\n",
       "        text-align: right;\n",
       "    }\n",
       "</style>\n",
       "<table border=\"1\" class=\"dataframe\">\n",
       "  <thead>\n",
       "    <tr style=\"text-align: right;\">\n",
       "      <th></th>\n",
       "      <th>Strike</th>\n",
       "      <th>Type</th>\n",
       "      <th>Symbol</th>\n",
       "      <th>...</th>\n",
       "      <th>Quote_Time</th>\n",
       "      <th>Last_Trade_Date</th>\n",
       "      <th>JSON</th>\n",
       "    </tr>\n",
       "    <tr>\n",
       "      <th>Expiry</th>\n",
       "      <th></th>\n",
       "      <th></th>\n",
       "      <th></th>\n",
       "      <th></th>\n",
       "      <th></th>\n",
       "      <th></th>\n",
       "      <th></th>\n",
       "    </tr>\n",
       "  </thead>\n",
       "  <tbody>\n",
       "    <tr>\n",
       "      <th>2021-01-15</th>\n",
       "      <td>18.75</td>\n",
       "      <td>call</td>\n",
       "      <td>AAPL210115C00018750</td>\n",
       "      <td>...</td>\n",
       "      <td>2020-11-10 20:11:22</td>\n",
       "      <td>2020-11-09 19:45:32</td>\n",
       "      <td>{'contractSymbol': 'AAPL210115C00018750', 'str...</td>\n",
       "    </tr>\n",
       "    <tr>\n",
       "      <th>2021-01-15</th>\n",
       "      <td>18.75</td>\n",
       "      <td>put</td>\n",
       "      <td>AAPL210115P00018750</td>\n",
       "      <td>...</td>\n",
       "      <td>2020-11-10 20:11:22</td>\n",
       "      <td>2020-11-10 15:40:38</td>\n",
       "      <td>{'contractSymbol': 'AAPL210115P00018750', 'str...</td>\n",
       "    </tr>\n",
       "    <tr>\n",
       "      <th>2021-06-18</th>\n",
       "      <td>18.75</td>\n",
       "      <td>call</td>\n",
       "      <td>AAPL210618C00018750</td>\n",
       "      <td>...</td>\n",
       "      <td>2020-11-10 20:11:24</td>\n",
       "      <td>2020-11-09 15:45:10</td>\n",
       "      <td>{'contractSymbol': 'AAPL210618C00018750', 'str...</td>\n",
       "    </tr>\n",
       "    <tr>\n",
       "      <th>2021-06-18</th>\n",
       "      <td>18.75</td>\n",
       "      <td>put</td>\n",
       "      <td>AAPL210618P00018750</td>\n",
       "      <td>...</td>\n",
       "      <td>2020-11-10 20:11:24</td>\n",
       "      <td>2020-11-09 18:26:07</td>\n",
       "      <td>{'contractSymbol': 'AAPL210618P00018750', 'str...</td>\n",
       "    </tr>\n",
       "    <tr>\n",
       "      <th>2020-11-20</th>\n",
       "      <td>20.00</td>\n",
       "      <td>call</td>\n",
       "      <td>AAPL201120C00020000</td>\n",
       "      <td>...</td>\n",
       "      <td>2020-11-10 20:11:22</td>\n",
       "      <td>2020-11-09 16:19:19</td>\n",
       "      <td>{'contractSymbol': 'AAPL201120C00020000', 'str...</td>\n",
       "    </tr>\n",
       "    <tr>\n",
       "      <th>...</th>\n",
       "      <td>...</td>\n",
       "      <td>...</td>\n",
       "      <td>...</td>\n",
       "      <td>...</td>\n",
       "      <td>...</td>\n",
       "      <td>...</td>\n",
       "      <td>...</td>\n",
       "    </tr>\n",
       "    <tr>\n",
       "      <th>2021-09-17</th>\n",
       "      <td>1000.00</td>\n",
       "      <td>call</td>\n",
       "      <td>AAPL210917C01000000</td>\n",
       "      <td>...</td>\n",
       "      <td>2020-11-10 20:11:24</td>\n",
       "      <td>2020-08-28 19:58:31</td>\n",
       "      <td>{'contractSymbol': 'AAPL210917C01000000', 'str...</td>\n",
       "    </tr>\n",
       "    <tr>\n",
       "      <th>2022-01-21</th>\n",
       "      <td>1000.00</td>\n",
       "      <td>call</td>\n",
       "      <td>AAPL220121C01000000</td>\n",
       "      <td>...</td>\n",
       "      <td>2020-11-10 20:11:24</td>\n",
       "      <td>2020-08-28 19:59:43</td>\n",
       "      <td>{'contractSymbol': 'AAPL220121C01000000', 'str...</td>\n",
       "    </tr>\n",
       "    <tr>\n",
       "      <th>2022-06-17</th>\n",
       "      <td>1000.00</td>\n",
       "      <td>call</td>\n",
       "      <td>AAPL220617C01000000</td>\n",
       "      <td>...</td>\n",
       "      <td>2020-11-10 20:11:25</td>\n",
       "      <td>2020-08-28 19:48:09</td>\n",
       "      <td>{'contractSymbol': 'AAPL220617C01000000', 'str...</td>\n",
       "    </tr>\n",
       "    <tr>\n",
       "      <th>2022-09-16</th>\n",
       "      <td>1000.00</td>\n",
       "      <td>call</td>\n",
       "      <td>AAPL220916C01000000</td>\n",
       "      <td>...</td>\n",
       "      <td>2020-11-10 20:11:25</td>\n",
       "      <td>2020-08-28 19:59:03</td>\n",
       "      <td>{'contractSymbol': 'AAPL220916C01000000', 'str...</td>\n",
       "    </tr>\n",
       "    <tr>\n",
       "      <th>2022-09-16</th>\n",
       "      <td>1000.00</td>\n",
       "      <td>put</td>\n",
       "      <td>AAPL220916P01000000</td>\n",
       "      <td>...</td>\n",
       "      <td>2020-11-10 20:11:25</td>\n",
       "      <td>2020-08-28 17:27:35</td>\n",
       "      <td>{'contractSymbol': 'AAPL220916P01000000', 'str...</td>\n",
       "    </tr>\n",
       "  </tbody>\n",
       "</table>\n",
       "<p>3400 rows × 18 columns</p>\n",
       "</div>"
      ],
      "text/plain": [
       "             Strike  Type               Symbol  ...          Quote_Time  \\\n",
       "Expiry                                          ...                       \n",
       "2021-01-15    18.75  call  AAPL210115C00018750  ... 2020-11-10 20:11:22   \n",
       "2021-01-15    18.75   put  AAPL210115P00018750  ... 2020-11-10 20:11:22   \n",
       "2021-06-18    18.75  call  AAPL210618C00018750  ... 2020-11-10 20:11:24   \n",
       "2021-06-18    18.75   put  AAPL210618P00018750  ... 2020-11-10 20:11:24   \n",
       "2020-11-20    20.00  call  AAPL201120C00020000  ... 2020-11-10 20:11:22   \n",
       "...             ...   ...                  ...  ...                 ...   \n",
       "2021-09-17  1000.00  call  AAPL210917C01000000  ... 2020-11-10 20:11:24   \n",
       "2022-01-21  1000.00  call  AAPL220121C01000000  ... 2020-11-10 20:11:24   \n",
       "2022-06-17  1000.00  call  AAPL220617C01000000  ... 2020-11-10 20:11:25   \n",
       "2022-09-16  1000.00  call  AAPL220916C01000000  ... 2020-11-10 20:11:25   \n",
       "2022-09-16  1000.00   put  AAPL220916P01000000  ... 2020-11-10 20:11:25   \n",
       "\n",
       "               Last_Trade_Date  \\\n",
       "Expiry                           \n",
       "2021-01-15 2020-11-09 19:45:32   \n",
       "2021-01-15 2020-11-10 15:40:38   \n",
       "2021-06-18 2020-11-09 15:45:10   \n",
       "2021-06-18 2020-11-09 18:26:07   \n",
       "2020-11-20 2020-11-09 16:19:19   \n",
       "...                        ...   \n",
       "2021-09-17 2020-08-28 19:58:31   \n",
       "2022-01-21 2020-08-28 19:59:43   \n",
       "2022-06-17 2020-08-28 19:48:09   \n",
       "2022-09-16 2020-08-28 19:59:03   \n",
       "2022-09-16 2020-08-28 17:27:35   \n",
       "\n",
       "                                                         JSON  \n",
       "Expiry                                                         \n",
       "2021-01-15  {'contractSymbol': 'AAPL210115C00018750', 'str...  \n",
       "2021-01-15  {'contractSymbol': 'AAPL210115P00018750', 'str...  \n",
       "2021-06-18  {'contractSymbol': 'AAPL210618C00018750', 'str...  \n",
       "2021-06-18  {'contractSymbol': 'AAPL210618P00018750', 'str...  \n",
       "2020-11-20  {'contractSymbol': 'AAPL201120C00020000', 'str...  \n",
       "...                                                       ...  \n",
       "2021-09-17  {'contractSymbol': 'AAPL210917C01000000', 'str...  \n",
       "2022-01-21  {'contractSymbol': 'AAPL220121C01000000', 'str...  \n",
       "2022-06-17  {'contractSymbol': 'AAPL220617C01000000', 'str...  \n",
       "2022-09-16  {'contractSymbol': 'AAPL220916C01000000', 'str...  \n",
       "2022-09-16  {'contractSymbol': 'AAPL220916P01000000', 'str...  \n",
       "\n",
       "[3400 rows x 18 columns]"
      ]
     },
     "execution_count": 2,
     "metadata": {},
     "output_type": "execute_result"
    }
   ],
   "source": [
    "aapl = web.YahooOptions('AAPL')\n",
    "aapl_opt = aapl.get_all_data().reset_index()\n",
    "aapl_opt.set_index('Expiry')\n",
    "# aapl"
   ]
  },
  {
   "cell_type": "markdown",
   "metadata": {},
   "source": [
    "Precio del activo subyacente"
   ]
  },
  {
   "cell_type": "code",
   "execution_count": 3,
   "metadata": {
    "scrolled": true
   },
   "outputs": [
    {
     "data": {
      "text/plain": [
       "116.525"
      ]
     },
     "execution_count": 3,
     "metadata": {},
     "output_type": "execute_result"
    }
   ],
   "source": [
    "aapl_opt.Underlying_Price[0]"
   ]
  },
  {
   "cell_type": "markdown",
   "metadata": {},
   "source": [
    "Datos de la opción "
   ]
  },
  {
   "cell_type": "code",
   "execution_count": 9,
   "metadata": {},
   "outputs": [
    {
     "data": {
      "text/plain": [
       "Strike                                                           18.8\n",
       "Expiry                                            2021-01-15 00:00:00\n",
       "Type                                                             call\n",
       "Symbol                                            AAPL210115C00018750\n",
       "Last                                                              100\n",
       "                                          ...                        \n",
       "Underlying                                                       AAPL\n",
       "Underlying_Price                                                  117\n",
       "Quote_Time                                        2020-11-10 20:11:22\n",
       "Last_Trade_Date                                   2020-11-09 19:45:32\n",
       "JSON                {'contractSymbol': 'AAPL210115C00018750', 'str...\n",
       "Name: 0, Length: 19, dtype: object"
      ]
     },
     "execution_count": 9,
     "metadata": {},
     "output_type": "execute_result"
    }
   ],
   "source": [
    "aapl_opt.loc[0]"
   ]
  },
  {
   "cell_type": "code",
   "execution_count": 13,
   "metadata": {
    "scrolled": true
   },
   "outputs": [
    {
     "data": {
      "text/plain": [
       "{'contractSymbol': 'AAPL210115C00018750',\n",
       " 'strike': 18.75,\n",
       " 'currency': 'USD',\n",
       " 'lastPrice': 100.4,\n",
       " 'change': 0.0,\n",
       " 'percentChange': 0.0,\n",
       " 'volume': 1,\n",
       " 'openInterest': 256,\n",
       " 'bid': 97.85,\n",
       " 'ask': 98.55,\n",
       " 'contractSize': 'REGULAR',\n",
       " 'expiration': 1610668800,\n",
       " 'lastTradeDate': 1604951132,\n",
       " 'impliedVolatility': 2.2187544531249994,\n",
       " 'inTheMoney': True}"
      ]
     },
     "execution_count": 13,
     "metadata": {},
     "output_type": "execute_result"
    }
   ],
   "source": [
    "\n",
    "aapl_opt.loc[0, 'JSON']"
   ]
  },
  {
   "cell_type": "markdown",
   "metadata": {},
   "source": [
    "### Conceptos claves\n",
    "- El precio de la oferta ('bid') se refiere al precio más alto que un comprador pagará por un activo.\n",
    "- El precio de venta ('ask') se refiere al precio más bajo que un vendedor aceptará por un activo.\n",
    "- La diferencia entre estos dos precios se conoce como 'spread'; cuanto menor es el spread, mayor es la liquidez de la garantía dada.\n",
    "- Liquidez: facilidad de convertir cierta opción en efectivo.\n",
    "- La volatilidad implícita es el pronóstico del mercado de un probable movimiento en el precio de un valor.\n",
    "- La volatilidad implícita aumenta en los mercados bajistas y disminuye cuando el mercado es alcista.\n",
    "- El último precio ('lastprice') representa el precio al que ocurrió la última operación, de una opción dada."
   ]
  },
  {
   "cell_type": "markdown",
   "metadata": {},
   "source": [
    "Una vez tenemos la información, podemos consultar de qué tipo son las opciones"
   ]
  },
  {
   "cell_type": "code",
   "execution_count": 16,
   "metadata": {},
   "outputs": [
    {
     "data": {
      "text/plain": [
       "0       call\n",
       "1        put\n",
       "2       call\n",
       "3        put\n",
       "4       call\n",
       "        ... \n",
       "3395    call\n",
       "3396    call\n",
       "3397    call\n",
       "3398    call\n",
       "3399     put\n",
       "Name: Type, Length: 3400, dtype: object"
      ]
     },
     "execution_count": 16,
     "metadata": {},
     "output_type": "execute_result"
    }
   ],
   "source": [
    "aapl_opt.loc[:, 'Type']"
   ]
  },
  {
   "cell_type": "markdown",
   "metadata": {},
   "source": [
    "o en que fecha expiran"
   ]
  },
  {
   "cell_type": "code",
   "execution_count": 15,
   "metadata": {
    "scrolled": true
   },
   "outputs": [
    {
     "data": {
      "text/plain": [
       "0      2021-01-15\n",
       "1      2021-01-15\n",
       "2      2021-06-18\n",
       "3      2021-06-18\n",
       "4      2020-11-20\n",
       "          ...    \n",
       "3395   2021-09-17\n",
       "3396   2022-01-21\n",
       "3397   2022-06-17\n",
       "3398   2022-09-16\n",
       "3399   2022-09-16\n",
       "Name: Expiry, Length: 3400, dtype: datetime64[ns]"
      ]
     },
     "execution_count": 15,
     "metadata": {},
     "output_type": "execute_result"
    }
   ],
   "source": [
    "pd.set_option('display.max_rows', 10)\n",
    "aapl_opt.loc[:, 'Expiry']"
   ]
  },
  {
   "cell_type": "markdown",
   "metadata": {},
   "source": [
    "Por otra parte, podríamos querer consultar todas las opciones de compra (call) que expiran en cierta fecha (2020-06-19)"
   ]
  },
  {
   "cell_type": "code",
   "execution_count": 20,
   "metadata": {
    "scrolled": false
   },
   "outputs": [
    {
     "data": {
      "text/html": [
       "<div>\n",
       "<style scoped>\n",
       "    .dataframe tbody tr th:only-of-type {\n",
       "        vertical-align: middle;\n",
       "    }\n",
       "\n",
       "    .dataframe tbody tr th {\n",
       "        vertical-align: top;\n",
       "    }\n",
       "\n",
       "    .dataframe thead th {\n",
       "        text-align: right;\n",
       "    }\n",
       "</style>\n",
       "<table border=\"1\" class=\"dataframe\">\n",
       "  <thead>\n",
       "    <tr style=\"text-align: right;\">\n",
       "      <th></th>\n",
       "      <th>Strike</th>\n",
       "      <th>Expiry</th>\n",
       "      <th>Type</th>\n",
       "      <th>...</th>\n",
       "      <th>Quote_Time</th>\n",
       "      <th>Last_Trade_Date</th>\n",
       "      <th>JSON</th>\n",
       "    </tr>\n",
       "  </thead>\n",
       "  <tbody>\n",
       "    <tr>\n",
       "      <th>173</th>\n",
       "      <td>40.00</td>\n",
       "      <td>2022-09-16</td>\n",
       "      <td>call</td>\n",
       "      <td>...</td>\n",
       "      <td>2020-11-10 20:11:25</td>\n",
       "      <td>2020-11-04 17:01:54</td>\n",
       "      <td>{'contractSymbol': 'AAPL220916C00040000', 'str...</td>\n",
       "    </tr>\n",
       "    <tr>\n",
       "      <th>191</th>\n",
       "      <td>41.25</td>\n",
       "      <td>2022-09-16</td>\n",
       "      <td>call</td>\n",
       "      <td>...</td>\n",
       "      <td>2020-11-10 20:11:25</td>\n",
       "      <td>2020-10-01 16:37:20</td>\n",
       "      <td>{'contractSymbol': 'AAPL220916C00041250', 'str...</td>\n",
       "    </tr>\n",
       "    <tr>\n",
       "      <th>222</th>\n",
       "      <td>43.75</td>\n",
       "      <td>2022-09-16</td>\n",
       "      <td>call</td>\n",
       "      <td>...</td>\n",
       "      <td>2020-11-10 20:11:25</td>\n",
       "      <td>2020-11-10 18:12:12</td>\n",
       "      <td>{'contractSymbol': 'AAPL220916C00043750', 'str...</td>\n",
       "    </tr>\n",
       "    <tr>\n",
       "      <th>238</th>\n",
       "      <td>45.00</td>\n",
       "      <td>2022-09-16</td>\n",
       "      <td>call</td>\n",
       "      <td>...</td>\n",
       "      <td>2020-11-10 20:11:25</td>\n",
       "      <td>2020-11-02 20:03:57</td>\n",
       "      <td>{'contractSymbol': 'AAPL220916C00045000', 'str...</td>\n",
       "    </tr>\n",
       "    <tr>\n",
       "      <th>254</th>\n",
       "      <td>46.25</td>\n",
       "      <td>2022-09-16</td>\n",
       "      <td>call</td>\n",
       "      <td>...</td>\n",
       "      <td>2020-11-10 20:11:25</td>\n",
       "      <td>2020-09-30 13:30:20</td>\n",
       "      <td>{'contractSymbol': 'AAPL220916C00046250', 'str...</td>\n",
       "    </tr>\n",
       "    <tr>\n",
       "      <th>...</th>\n",
       "      <td>...</td>\n",
       "      <td>...</td>\n",
       "      <td>...</td>\n",
       "      <td>...</td>\n",
       "      <td>...</td>\n",
       "      <td>...</td>\n",
       "      <td>...</td>\n",
       "    </tr>\n",
       "    <tr>\n",
       "      <th>3348</th>\n",
       "      <td>720.00</td>\n",
       "      <td>2022-09-16</td>\n",
       "      <td>call</td>\n",
       "      <td>...</td>\n",
       "      <td>2020-11-10 20:11:25</td>\n",
       "      <td>2020-08-28 19:57:38</td>\n",
       "      <td>{'contractSymbol': 'AAPL220916C00720000', 'str...</td>\n",
       "    </tr>\n",
       "    <tr>\n",
       "      <th>3362</th>\n",
       "      <td>740.00</td>\n",
       "      <td>2022-09-16</td>\n",
       "      <td>call</td>\n",
       "      <td>...</td>\n",
       "      <td>2020-11-10 20:11:25</td>\n",
       "      <td>2020-08-28 19:48:09</td>\n",
       "      <td>{'contractSymbol': 'AAPL220916C00740000', 'str...</td>\n",
       "    </tr>\n",
       "    <tr>\n",
       "      <th>3375</th>\n",
       "      <td>800.00</td>\n",
       "      <td>2022-09-16</td>\n",
       "      <td>call</td>\n",
       "      <td>...</td>\n",
       "      <td>2020-11-10 20:11:25</td>\n",
       "      <td>2020-08-28 19:31:51</td>\n",
       "      <td>{'contractSymbol': 'AAPL220916C00800000', 'str...</td>\n",
       "    </tr>\n",
       "    <tr>\n",
       "      <th>3384</th>\n",
       "      <td>900.00</td>\n",
       "      <td>2022-09-16</td>\n",
       "      <td>call</td>\n",
       "      <td>...</td>\n",
       "      <td>2020-11-10 20:11:25</td>\n",
       "      <td>2020-08-28 19:46:07</td>\n",
       "      <td>{'contractSymbol': 'AAPL220916C00900000', 'str...</td>\n",
       "    </tr>\n",
       "    <tr>\n",
       "      <th>3398</th>\n",
       "      <td>1000.00</td>\n",
       "      <td>2022-09-16</td>\n",
       "      <td>call</td>\n",
       "      <td>...</td>\n",
       "      <td>2020-11-10 20:11:25</td>\n",
       "      <td>2020-08-28 19:59:03</td>\n",
       "      <td>{'contractSymbol': 'AAPL220916C01000000', 'str...</td>\n",
       "    </tr>\n",
       "  </tbody>\n",
       "</table>\n",
       "<p>109 rows × 19 columns</p>\n",
       "</div>"
      ],
      "text/plain": [
       "       Strike     Expiry  Type  ...          Quote_Time     Last_Trade_Date  \\\n",
       "173     40.00 2022-09-16  call  ... 2020-11-10 20:11:25 2020-11-04 17:01:54   \n",
       "191     41.25 2022-09-16  call  ... 2020-11-10 20:11:25 2020-10-01 16:37:20   \n",
       "222     43.75 2022-09-16  call  ... 2020-11-10 20:11:25 2020-11-10 18:12:12   \n",
       "238     45.00 2022-09-16  call  ... 2020-11-10 20:11:25 2020-11-02 20:03:57   \n",
       "254     46.25 2022-09-16  call  ... 2020-11-10 20:11:25 2020-09-30 13:30:20   \n",
       "...       ...        ...   ...  ...                 ...                 ...   \n",
       "3348   720.00 2022-09-16  call  ... 2020-11-10 20:11:25 2020-08-28 19:57:38   \n",
       "3362   740.00 2022-09-16  call  ... 2020-11-10 20:11:25 2020-08-28 19:48:09   \n",
       "3375   800.00 2022-09-16  call  ... 2020-11-10 20:11:25 2020-08-28 19:31:51   \n",
       "3384   900.00 2022-09-16  call  ... 2020-11-10 20:11:25 2020-08-28 19:46:07   \n",
       "3398  1000.00 2022-09-16  call  ... 2020-11-10 20:11:25 2020-08-28 19:59:03   \n",
       "\n",
       "                                                   JSON  \n",
       "173   {'contractSymbol': 'AAPL220916C00040000', 'str...  \n",
       "191   {'contractSymbol': 'AAPL220916C00041250', 'str...  \n",
       "222   {'contractSymbol': 'AAPL220916C00043750', 'str...  \n",
       "238   {'contractSymbol': 'AAPL220916C00045000', 'str...  \n",
       "254   {'contractSymbol': 'AAPL220916C00046250', 'str...  \n",
       "...                                                 ...  \n",
       "3348  {'contractSymbol': 'AAPL220916C00720000', 'str...  \n",
       "3362  {'contractSymbol': 'AAPL220916C00740000', 'str...  \n",
       "3375  {'contractSymbol': 'AAPL220916C00800000', 'str...  \n",
       "3384  {'contractSymbol': 'AAPL220916C00900000', 'str...  \n",
       "3398  {'contractSymbol': 'AAPL220916C01000000', 'str...  \n",
       "\n",
       "[109 rows x 19 columns]"
      ]
     },
     "execution_count": 20,
     "metadata": {},
     "output_type": "execute_result"
    }
   ],
   "source": [
    "fecha1 = '2022-09-16'\n",
    "fecha2 = '2021-01-15'\n",
    "call06_f1 = aapl_opt.loc[(aapl_opt.Expiry== fecha1) & (aapl_opt.Type=='call')]\n",
    "call06_f2 = aapl_opt.loc[(aapl_opt.Expiry== fecha2) & (aapl_opt.Type=='call')]\n",
    "call06_f1\n"
   ]
  },
  {
   "cell_type": "markdown",
   "metadata": {},
   "source": [
    "## 2. ¿Qué es la volatilidad implícita?"
   ]
  },
  {
   "cell_type": "markdown",
   "metadata": {},
   "source": [
    "**Volatilidad:** desviación estándar de los rendimientos.\n",
    "- ¿Cómo se calcula?\n",
    "- ¿Para qué calcular la volatilidad?"
   ]
  },
  {
   "attachments": {
    "imagen.png": {
     "image/png": "[encoded data removed]"
    }
   },
   "cell_type": "markdown",
   "metadata": {},
   "source": [
    "- **Para valuar derivados**, por ejemplo **opciones**.\n",
    "- Método de valuación de riesgo neutral (se supone que el precio del activo $S_t$ no se ve afectado por el riesgo de mercado).\n",
    "\n",
    "Recorderis de cuantitativas:\n",
    "1. Ecuación de Black-Scholes\n",
    "$$ dS(t) = \\mu S(t) + \\sigma S(t)dW_t$$\n",
    "2. Solución de la ecuación\n",
    "\n",
    "El valor de una opción Europea de vainilla $V_t$ puede obtenerse por:\n",
    "$$V_t = F(t,S_t)$$ donde\n",
    "![imagen.png](attachment:imagen.png)\n",
    "3. Opción de compra europea, suponiendo que los precios del activo son lognormales\n",
    "4. Opción de venta europea, suponiendo que los precios del activo son lognormales"
   ]
  },
  {
   "cell_type": "markdown",
   "metadata": {},
   "source": [
    "Entonces, ¿qué es la **volatilidad implícita**?\n",
    "\n",
    "La volatilidad es una medida de la incertidumbre sobre el comportamiento futuro de un activo, que se mide habitualmente como la desviación típica de la rentabilidad de dicho activo. "
   ]
  },
  {
   "attachments": {
    "imagen.png": {
     "image/png": "[encoded data removed]"
    }
   },
   "cell_type": "markdown",
   "metadata": {},
   "source": [
    "## Volatility smile \n",
    "-  Cuando las opciones con la misma fecha de vencimiento y el mismo activo subyacente, pero diferentes precios de ejercicio, se grafican por la volatilidad implícita, la tendencia es que ese gráfico muestre una sonrisa.\n",
    "-  La sonrisa muestra que las opciones más alejadas 'in- or out-of-the-money' tienen la mayor volatilidad implícita.\n",
    "- No todas las opciones tendrán una sonrisa de volatilidad implícita. Las opciones de acciones a corto plazo y las opciones relacionadas con la moneda tienen más probabilidades de tener una sonrisa de volatilidad\n",
    "\n",
    "![imagen.png](attachment:imagen.png)\n",
    "\n",
    "> Fuente: https://www.investopedia.com/terms/v/volatilitysmile.asp"
   ]
  },
  {
   "cell_type": "markdown",
   "metadata": {},
   "source": [
    "> ### Validar para la `fecha = 2020-06-19` y para la fecha `fecha = '2021-01-15'`"
   ]
  },
  {
   "cell_type": "code",
   "execution_count": 23,
   "metadata": {
    "scrolled": false
   },
   "outputs": [
    {
     "data": {
      "image/png": "[encoded data removed]",
      "text/plain": [
       "<Figure size 576x432 with 1 Axes>"
      ]
     },
     "metadata": {
      "needs_background": "light"
     },
     "output_type": "display_data"
    }
   ],
   "source": [
    "# para los call de la fecha 1\n",
    "ax = call06_f1.set_index('Strike').loc[:, 'IV'].plot(figsize=(8,6))\n",
    "ax.axvline(call06_f1.Underlying_Price.iloc[0], color='g');"
   ]
  },
  {
   "cell_type": "code",
   "execution_count": 24,
   "metadata": {},
   "outputs": [
    {
     "data": {
      "image/png": "[encoded data removed]",
      "text/plain": [
       "<Figure size 576x432 with 1 Axes>"
      ]
     },
     "metadata": {
      "needs_background": "light"
     },
     "output_type": "display_data"
    }
   ],
   "source": [
    "# para los call de la fecha 2\n",
    "ax = call06_f2.set_index('Strike').loc[:, 'IV'].plot(figsize=(8,6))\n",
    "ax.axvline(call06_f2.Underlying_Price.iloc[0], color='g');"
   ]
  },
  {
   "cell_type": "markdown",
   "metadata": {},
   "source": [
    "Analicemos ahora datos de los `put`"
   ]
  },
  {
   "cell_type": "code",
   "execution_count": 25,
   "metadata": {},
   "outputs": [
    {
     "data": {
      "text/html": [
       "<div>\n",
       "<style scoped>\n",
       "    .dataframe tbody tr th:only-of-type {\n",
       "        vertical-align: middle;\n",
       "    }\n",
       "\n",
       "    .dataframe tbody tr th {\n",
       "        vertical-align: top;\n",
       "    }\n",
       "\n",
       "    .dataframe thead th {\n",
       "        text-align: right;\n",
       "    }\n",
       "</style>\n",
       "<table border=\"1\" class=\"dataframe\">\n",
       "  <thead>\n",
       "    <tr style=\"text-align: right;\">\n",
       "      <th></th>\n",
       "      <th>Strike</th>\n",
       "      <th>Expiry</th>\n",
       "      <th>Type</th>\n",
       "      <th>...</th>\n",
       "      <th>Quote_Time</th>\n",
       "      <th>Last_Trade_Date</th>\n",
       "      <th>JSON</th>\n",
       "    </tr>\n",
       "  </thead>\n",
       "  <tbody>\n",
       "    <tr>\n",
       "      <th>174</th>\n",
       "      <td>40.00</td>\n",
       "      <td>2022-09-16</td>\n",
       "      <td>put</td>\n",
       "      <td>...</td>\n",
       "      <td>2020-11-10 20:11:25</td>\n",
       "      <td>2020-11-09 15:09:21</td>\n",
       "      <td>{'contractSymbol': 'AAPL220916P00040000', 'str...</td>\n",
       "    </tr>\n",
       "    <tr>\n",
       "      <th>192</th>\n",
       "      <td>41.25</td>\n",
       "      <td>2022-09-16</td>\n",
       "      <td>put</td>\n",
       "      <td>...</td>\n",
       "      <td>2020-11-10 20:11:25</td>\n",
       "      <td>2020-11-09 18:15:34</td>\n",
       "      <td>{'contractSymbol': 'AAPL220916P00041250', 'str...</td>\n",
       "    </tr>\n",
       "    <tr>\n",
       "      <th>207</th>\n",
       "      <td>42.50</td>\n",
       "      <td>2022-09-16</td>\n",
       "      <td>put</td>\n",
       "      <td>...</td>\n",
       "      <td>2020-11-10 20:11:25</td>\n",
       "      <td>2020-11-06 19:12:07</td>\n",
       "      <td>{'contractSymbol': 'AAPL220916P00042500', 'str...</td>\n",
       "    </tr>\n",
       "    <tr>\n",
       "      <th>223</th>\n",
       "      <td>43.75</td>\n",
       "      <td>2022-09-16</td>\n",
       "      <td>put</td>\n",
       "      <td>...</td>\n",
       "      <td>2020-11-10 20:11:25</td>\n",
       "      <td>2020-11-09 17:34:30</td>\n",
       "      <td>{'contractSymbol': 'AAPL220916P00043750', 'str...</td>\n",
       "    </tr>\n",
       "    <tr>\n",
       "      <th>239</th>\n",
       "      <td>45.00</td>\n",
       "      <td>2022-09-16</td>\n",
       "      <td>put</td>\n",
       "      <td>...</td>\n",
       "      <td>2020-11-10 20:11:25</td>\n",
       "      <td>2020-11-04 18:24:40</td>\n",
       "      <td>{'contractSymbol': 'AAPL220916P00045000', 'str...</td>\n",
       "    </tr>\n",
       "    <tr>\n",
       "      <th>...</th>\n",
       "      <td>...</td>\n",
       "      <td>...</td>\n",
       "      <td>...</td>\n",
       "      <td>...</td>\n",
       "      <td>...</td>\n",
       "      <td>...</td>\n",
       "      <td>...</td>\n",
       "    </tr>\n",
       "    <tr>\n",
       "      <th>3332</th>\n",
       "      <td>700.00</td>\n",
       "      <td>2022-09-16</td>\n",
       "      <td>put</td>\n",
       "      <td>...</td>\n",
       "      <td>2020-11-10 20:11:25</td>\n",
       "      <td>2020-08-27 19:44:48</td>\n",
       "      <td>{'contractSymbol': 'AAPL220916P00700000', 'str...</td>\n",
       "    </tr>\n",
       "    <tr>\n",
       "      <th>3349</th>\n",
       "      <td>720.00</td>\n",
       "      <td>2022-09-16</td>\n",
       "      <td>put</td>\n",
       "      <td>...</td>\n",
       "      <td>2020-11-10 20:11:25</td>\n",
       "      <td>2020-08-25 19:59:35</td>\n",
       "      <td>{'contractSymbol': 'AAPL220916P00720000', 'str...</td>\n",
       "    </tr>\n",
       "    <tr>\n",
       "      <th>3363</th>\n",
       "      <td>740.00</td>\n",
       "      <td>2022-09-16</td>\n",
       "      <td>put</td>\n",
       "      <td>...</td>\n",
       "      <td>2020-11-10 20:11:25</td>\n",
       "      <td>2020-08-26 18:55:57</td>\n",
       "      <td>{'contractSymbol': 'AAPL220916P00740000', 'str...</td>\n",
       "    </tr>\n",
       "    <tr>\n",
       "      <th>3385</th>\n",
       "      <td>900.00</td>\n",
       "      <td>2022-09-16</td>\n",
       "      <td>put</td>\n",
       "      <td>...</td>\n",
       "      <td>2020-11-10 20:11:25</td>\n",
       "      <td>2020-08-27 18:51:13</td>\n",
       "      <td>{'contractSymbol': 'AAPL220916P00900000', 'str...</td>\n",
       "    </tr>\n",
       "    <tr>\n",
       "      <th>3399</th>\n",
       "      <td>1000.00</td>\n",
       "      <td>2022-09-16</td>\n",
       "      <td>put</td>\n",
       "      <td>...</td>\n",
       "      <td>2020-11-10 20:11:25</td>\n",
       "      <td>2020-08-28 17:27:35</td>\n",
       "      <td>{'contractSymbol': 'AAPL220916P01000000', 'str...</td>\n",
       "    </tr>\n",
       "  </tbody>\n",
       "</table>\n",
       "<p>107 rows × 19 columns</p>\n",
       "</div>"
      ],
      "text/plain": [
       "       Strike     Expiry Type  ...          Quote_Time     Last_Trade_Date  \\\n",
       "174     40.00 2022-09-16  put  ... 2020-11-10 20:11:25 2020-11-09 15:09:21   \n",
       "192     41.25 2022-09-16  put  ... 2020-11-10 20:11:25 2020-11-09 18:15:34   \n",
       "207     42.50 2022-09-16  put  ... 2020-11-10 20:11:25 2020-11-06 19:12:07   \n",
       "223     43.75 2022-09-16  put  ... 2020-11-10 20:11:25 2020-11-09 17:34:30   \n",
       "239     45.00 2022-09-16  put  ... 2020-11-10 20:11:25 2020-11-04 18:24:40   \n",
       "...       ...        ...  ...  ...                 ...                 ...   \n",
       "3332   700.00 2022-09-16  put  ... 2020-11-10 20:11:25 2020-08-27 19:44:48   \n",
       "3349   720.00 2022-09-16  put  ... 2020-11-10 20:11:25 2020-08-25 19:59:35   \n",
       "3363   740.00 2022-09-16  put  ... 2020-11-10 20:11:25 2020-08-26 18:55:57   \n",
       "3385   900.00 2022-09-16  put  ... 2020-11-10 20:11:25 2020-08-27 18:51:13   \n",
       "3399  1000.00 2022-09-16  put  ... 2020-11-10 20:11:25 2020-08-28 17:27:35   \n",
       "\n",
       "                                                   JSON  \n",
       "174   {'contractSymbol': 'AAPL220916P00040000', 'str...  \n",
       "192   {'contractSymbol': 'AAPL220916P00041250', 'str...  \n",
       "207   {'contractSymbol': 'AAPL220916P00042500', 'str...  \n",
       "223   {'contractSymbol': 'AAPL220916P00043750', 'str...  \n",
       "239   {'contractSymbol': 'AAPL220916P00045000', 'str...  \n",
       "...                                                 ...  \n",
       "3332  {'contractSymbol': 'AAPL220916P00700000', 'str...  \n",
       "3349  {'contractSymbol': 'AAPL220916P00720000', 'str...  \n",
       "3363  {'contractSymbol': 'AAPL220916P00740000', 'str...  \n",
       "3385  {'contractSymbol': 'AAPL220916P00900000', 'str...  \n",
       "3399  {'contractSymbol': 'AAPL220916P01000000', 'str...  \n",
       "\n",
       "[107 rows x 19 columns]"
      ]
     },
     "execution_count": 25,
     "metadata": {},
     "output_type": "execute_result"
    }
   ],
   "source": [
    "put06_f1 = aapl_opt.loc[(aapl_opt.Expiry==fecha1) & (aapl_opt.Type=='put')]\n",
    "put06_f1"
   ]
  },
  {
   "cell_type": "markdown",
   "metadata": {},
   "source": [
    "Para los `put` de la `fecha 1`"
   ]
  },
  {
   "cell_type": "code",
   "execution_count": 23,
   "metadata": {},
   "outputs": [
    {
     "data": {
      "text/plain": [
       "<matplotlib.lines.Line2D at 0x7f64ccca4850>"
      ]
     },
     "execution_count": 23,
     "metadata": {},
     "output_type": "execute_result"
    },
    {
     "data": {
      "image/png": "[encoded data removed]",
      "text/plain": [
       "<Figure size 576x432 with 1 Axes>"
      ]
     },
     "metadata": {
      "needs_background": "light"
     },
     "output_type": "display_data"
    }
   ],
   "source": [
    "ax = put06_f1.set_index('Strike').loc[:, 'IV'].plot(figsize=(8,6))\n",
    "ax.axvline(put06_f1.Underlying_Price.iloc[0], color='g')"
   ]
  },
  {
   "cell_type": "markdown",
   "metadata": {},
   "source": [
    "Con lo que hemos aprendido, deberíamos ser capaces de crear una función que nos devuelva un `DataFrame` de `pandas` con los precios de cierre ajustados de ciertas compañías en ciertas fechas:\n",
    "- Escribir la función a continuación"
   ]
  },
  {
   "cell_type": "code",
   "execution_count": 27,
   "metadata": {},
   "outputs": [],
   "source": [
    "# Función para descargar precios de cierre ajustados:\n",
    "def get_adj_closes(tickers, start_date=None, end_date=None):\n",
    "    # Fecha inicio por defecto (start_date='2010-01-01') y fecha fin por defecto (end_date=today)\n",
    "    # Descargamos DataFrame con todos los datos\n",
    "    closes = web.DataReader(name=tickers, data_source='yahoo', start=start_date, end=end_date)\n",
    "    # Solo necesitamos los precios ajustados en el cierre\n",
    "    closes = closes['Adj Close']\n",
    "    # Se ordenan los índices de manera ascendente\n",
    "    closes.sort_index(inplace=True)\n",
    "    return closes"
   ]
  },
  {
   "cell_type": "markdown",
   "metadata": {},
   "source": [
    "- Obtener como ejemplo los precios de cierre de Apple del año pasado hasta la fecha. Graficar..."
   ]
  },
  {
   "cell_type": "code",
   "execution_count": 28,
   "metadata": {},
   "outputs": [
    {
     "data": {
      "image/png": "[encoded data removed]",
      "text/plain": [
       "<Figure size 576x360 with 1 Axes>"
      ]
     },
     "metadata": {
      "needs_background": "light"
     },
     "output_type": "display_data"
    }
   ],
   "source": [
    "ticker = ['AAPL']\n",
    "start_date = '2017-01-01'\n",
    "\n",
    "closes_aapl = get_adj_closes(ticker, start_date)\n",
    "closes_aapl.plot(figsize=(8,5));\n",
    "plt.legend(ticker);"
   ]
  },
  {
   "cell_type": "markdown",
   "metadata": {},
   "source": [
    "- Escribir una función que pasándole el histórico de precios devuelva los rendimientos logarítmicos:"
   ]
  },
  {
   "cell_type": "code",
   "execution_count": 32,
   "metadata": {},
   "outputs": [],
   "source": [
    "def calc_daily_ret(closes):\n",
    "    return np.log(closes/closes.shift(1)).iloc[1:]"
   ]
  },
  {
   "cell_type": "markdown",
   "metadata": {},
   "source": [
    "- Graficar..."
   ]
  },
  {
   "cell_type": "code",
   "execution_count": 31,
   "metadata": {},
   "outputs": [
    {
     "data": {
      "image/png": "[encoded data removed]",
      "text/plain": [
       "<Figure size 576x432 with 1 Axes>"
      ]
     },
     "metadata": {
      "needs_background": "light"
     },
     "output_type": "display_data"
    }
   ],
   "source": [
    "ret_aapl = calc_daily_ret(closes_aapl)\n",
    "ret_aapl.plot(figsize=(8,6));"
   ]
  },
  {
   "cell_type": "markdown",
   "metadata": {},
   "source": [
    "También, descargar datos de opciones de Apple:"
   ]
  },
  {
   "cell_type": "code",
   "execution_count": 33,
   "metadata": {
    "scrolled": false
   },
   "outputs": [
    {
     "data": {
      "text/html": [
       "<div>\n",
       "<style scoped>\n",
       "    .dataframe tbody tr th:only-of-type {\n",
       "        vertical-align: middle;\n",
       "    }\n",
       "\n",
       "    .dataframe tbody tr th {\n",
       "        vertical-align: top;\n",
       "    }\n",
       "\n",
       "    .dataframe thead th {\n",
       "        text-align: right;\n",
       "    }\n",
       "</style>\n",
       "<table border=\"1\" class=\"dataframe\">\n",
       "  <thead>\n",
       "    <tr style=\"text-align: right;\">\n",
       "      <th></th>\n",
       "      <th>Strike</th>\n",
       "      <th>Type</th>\n",
       "      <th>Symbol</th>\n",
       "      <th>...</th>\n",
       "      <th>Quote_Time</th>\n",
       "      <th>Last_Trade_Date</th>\n",
       "      <th>JSON</th>\n",
       "    </tr>\n",
       "    <tr>\n",
       "      <th>Expiry</th>\n",
       "      <th></th>\n",
       "      <th></th>\n",
       "      <th></th>\n",
       "      <th></th>\n",
       "      <th></th>\n",
       "      <th></th>\n",
       "      <th></th>\n",
       "    </tr>\n",
       "  </thead>\n",
       "  <tbody>\n",
       "    <tr>\n",
       "      <th>2020-05-01</th>\n",
       "      <td>217.5</td>\n",
       "      <td>put</td>\n",
       "      <td>AAPL200501P00217500</td>\n",
       "      <td>...</td>\n",
       "      <td>2020-04-30 20:00:02</td>\n",
       "      <td>2020-04-30 16:30:07</td>\n",
       "      <td>{'contractSymbol': 'AAPL200501P00217500', 'str...</td>\n",
       "    </tr>\n",
       "    <tr>\n",
       "      <th>2020-05-01</th>\n",
       "      <td>250.0</td>\n",
       "      <td>put</td>\n",
       "      <td>AAPL200501P00250000</td>\n",
       "      <td>...</td>\n",
       "      <td>2020-04-30 20:00:02</td>\n",
       "      <td>2020-04-30 19:59:55</td>\n",
       "      <td>{'contractSymbol': 'AAPL200501P00250000', 'str...</td>\n",
       "    </tr>\n",
       "    <tr>\n",
       "      <th>2020-05-01</th>\n",
       "      <td>250.0</td>\n",
       "      <td>call</td>\n",
       "      <td>AAPL200501C00250000</td>\n",
       "      <td>...</td>\n",
       "      <td>2020-04-30 20:00:02</td>\n",
       "      <td>2020-04-30 19:59:47</td>\n",
       "      <td>{'contractSymbol': 'AAPL200501C00250000', 'str...</td>\n",
       "    </tr>\n",
       "    <tr>\n",
       "      <th>2020-05-01</th>\n",
       "      <td>320.0</td>\n",
       "      <td>put</td>\n",
       "      <td>AAPL200501P00320000</td>\n",
       "      <td>...</td>\n",
       "      <td>2020-04-30 20:00:02</td>\n",
       "      <td>2020-04-30 18:50:33</td>\n",
       "      <td>{'contractSymbol': 'AAPL200501P00320000', 'str...</td>\n",
       "    </tr>\n",
       "    <tr>\n",
       "      <th>2020-05-01</th>\n",
       "      <td>125.0</td>\n",
       "      <td>call</td>\n",
       "      <td>AAPL200501C00125000</td>\n",
       "      <td>...</td>\n",
       "      <td>2020-04-30 20:00:02</td>\n",
       "      <td>2020-04-29 19:55:28</td>\n",
       "      <td>{'contractSymbol': 'AAPL200501C00125000', 'str...</td>\n",
       "    </tr>\n",
       "    <tr>\n",
       "      <th>...</th>\n",
       "      <td>...</td>\n",
       "      <td>...</td>\n",
       "      <td>...</td>\n",
       "      <td>...</td>\n",
       "      <td>...</td>\n",
       "      <td>...</td>\n",
       "      <td>...</td>\n",
       "    </tr>\n",
       "    <tr>\n",
       "      <th>2022-06-17</th>\n",
       "      <td>310.0</td>\n",
       "      <td>put</td>\n",
       "      <td>AAPL220617P00310000</td>\n",
       "      <td>...</td>\n",
       "      <td>2020-04-30 20:00:02</td>\n",
       "      <td>2020-04-28 15:20:44</td>\n",
       "      <td>{'contractSymbol': 'AAPL220617P00310000', 'str...</td>\n",
       "    </tr>\n",
       "    <tr>\n",
       "      <th>2022-06-17</th>\n",
       "      <td>180.0</td>\n",
       "      <td>put</td>\n",
       "      <td>AAPL220617P00180000</td>\n",
       "      <td>...</td>\n",
       "      <td>2020-04-30 20:00:02</td>\n",
       "      <td>2020-04-29 19:23:26</td>\n",
       "      <td>{'contractSymbol': 'AAPL220617P00180000', 'str...</td>\n",
       "    </tr>\n",
       "    <tr>\n",
       "      <th>2022-06-17</th>\n",
       "      <td>180.0</td>\n",
       "      <td>call</td>\n",
       "      <td>AAPL220617C00180000</td>\n",
       "      <td>...</td>\n",
       "      <td>2020-04-30 20:00:02</td>\n",
       "      <td>2020-04-29 19:10:59</td>\n",
       "      <td>{'contractSymbol': 'AAPL220617C00180000', 'str...</td>\n",
       "    </tr>\n",
       "    <tr>\n",
       "      <th>2022-06-17</th>\n",
       "      <td>350.0</td>\n",
       "      <td>call</td>\n",
       "      <td>AAPL220617C00350000</td>\n",
       "      <td>...</td>\n",
       "      <td>2020-04-30 20:00:02</td>\n",
       "      <td>2020-04-30 19:59:51</td>\n",
       "      <td>{'contractSymbol': 'AAPL220617C00350000', 'str...</td>\n",
       "    </tr>\n",
       "    <tr>\n",
       "      <th>2022-06-17</th>\n",
       "      <td>445.0</td>\n",
       "      <td>call</td>\n",
       "      <td>AAPL220617C00445000</td>\n",
       "      <td>...</td>\n",
       "      <td>2020-04-30 20:00:02</td>\n",
       "      <td>2020-04-17 18:15:46</td>\n",
       "      <td>{'contractSymbol': 'AAPL220617C00445000', 'str...</td>\n",
       "    </tr>\n",
       "  </tbody>\n",
       "</table>\n",
       "<p>1830 rows × 18 columns</p>\n",
       "</div>"
      ],
      "text/plain": [
       "            Strike  Type               Symbol  ...          Quote_Time  \\\n",
       "Expiry                                         ...                       \n",
       "2020-05-01   217.5   put  AAPL200501P00217500  ... 2020-04-30 20:00:02   \n",
       "2020-05-01   250.0   put  AAPL200501P00250000  ... 2020-04-30 20:00:02   \n",
       "2020-05-01   250.0  call  AAPL200501C00250000  ... 2020-04-30 20:00:02   \n",
       "2020-05-01   320.0   put  AAPL200501P00320000  ... 2020-04-30 20:00:02   \n",
       "2020-05-01   125.0  call  AAPL200501C00125000  ... 2020-04-30 20:00:02   \n",
       "...            ...   ...                  ...  ...                 ...   \n",
       "2022-06-17   310.0   put  AAPL220617P00310000  ... 2020-04-30 20:00:02   \n",
       "2022-06-17   180.0   put  AAPL220617P00180000  ... 2020-04-30 20:00:02   \n",
       "2022-06-17   180.0  call  AAPL220617C00180000  ... 2020-04-30 20:00:02   \n",
       "2022-06-17   350.0  call  AAPL220617C00350000  ... 2020-04-30 20:00:02   \n",
       "2022-06-17   445.0  call  AAPL220617C00445000  ... 2020-04-30 20:00:02   \n",
       "\n",
       "               Last_Trade_Date  \\\n",
       "Expiry                           \n",
       "2020-05-01 2020-04-30 16:30:07   \n",
       "2020-05-01 2020-04-30 19:59:55   \n",
       "2020-05-01 2020-04-30 19:59:47   \n",
       "2020-05-01 2020-04-30 18:50:33   \n",
       "2020-05-01 2020-04-29 19:55:28   \n",
       "...                        ...   \n",
       "2022-06-17 2020-04-28 15:20:44   \n",
       "2022-06-17 2020-04-29 19:23:26   \n",
       "2022-06-17 2020-04-29 19:10:59   \n",
       "2022-06-17 2020-04-30 19:59:51   \n",
       "2022-06-17 2020-04-17 18:15:46   \n",
       "\n",
       "                                                         JSON  \n",
       "Expiry                                                         \n",
       "2020-05-01  {'contractSymbol': 'AAPL200501P00217500', 'str...  \n",
       "2020-05-01  {'contractSymbol': 'AAPL200501P00250000', 'str...  \n",
       "2020-05-01  {'contractSymbol': 'AAPL200501C00250000', 'str...  \n",
       "2020-05-01  {'contractSymbol': 'AAPL200501P00320000', 'str...  \n",
       "2020-05-01  {'contractSymbol': 'AAPL200501C00125000', 'str...  \n",
       "...                                                       ...  \n",
       "2022-06-17  {'contractSymbol': 'AAPL220617P00310000', 'str...  \n",
       "2022-06-17  {'contractSymbol': 'AAPL220617P00180000', 'str...  \n",
       "2022-06-17  {'contractSymbol': 'AAPL220617C00180000', 'str...  \n",
       "2022-06-17  {'contractSymbol': 'AAPL220617C00350000', 'str...  \n",
       "2022-06-17  {'contractSymbol': 'AAPL220617C00445000', 'str...  \n",
       "\n",
       "[1830 rows x 18 columns]"
      ]
     },
     "execution_count": 33,
     "metadata": {},
     "output_type": "execute_result"
    }
   ],
   "source": [
    "aapl = web.YahooOptions('AAPL')\n",
    "aapl_opt = aapl.get_all_data().reset_index()\n",
    "aapl_opt.set_index('Expiry').sort_index()"
   ]
  },
  {
   "cell_type": "code",
   "execution_count": 143,
   "metadata": {},
   "outputs": [
    {
     "data": {
      "text/html": [
       "<div>\n",
       "<style scoped>\n",
       "    .dataframe tbody tr th:only-of-type {\n",
       "        vertical-align: middle;\n",
       "    }\n",
       "\n",
       "    .dataframe tbody tr th {\n",
       "        vertical-align: top;\n",
       "    }\n",
       "\n",
       "    .dataframe thead th {\n",
       "        text-align: right;\n",
       "    }\n",
       "</style>\n",
       "<table border=\"1\" class=\"dataframe\">\n",
       "  <thead>\n",
       "    <tr style=\"text-align: right;\">\n",
       "      <th></th>\n",
       "      <th>Strike</th>\n",
       "      <th>Expiry</th>\n",
       "      <th>Type</th>\n",
       "      <th>...</th>\n",
       "      <th>Quote_Time</th>\n",
       "      <th>Last_Trade_Date</th>\n",
       "      <th>JSON</th>\n",
       "    </tr>\n",
       "  </thead>\n",
       "  <tbody>\n",
       "    <tr>\n",
       "      <th>1147</th>\n",
       "      <td>290.0</td>\n",
       "      <td>2021-01-15</td>\n",
       "      <td>call</td>\n",
       "      <td>...</td>\n",
       "      <td>2020-04-30 20:00:02</td>\n",
       "      <td>2020-04-30 19:59:55</td>\n",
       "      <td>{'contractSymbol': 'AAPL210115C00290000', 'str...</td>\n",
       "    </tr>\n",
       "  </tbody>\n",
       "</table>\n",
       "<p>1 rows × 19 columns</p>\n",
       "</div>"
      ],
      "text/plain": [
       "      Strike     Expiry  Type  ...          Quote_Time     Last_Trade_Date  \\\n",
       "1147   290.0 2021-01-15  call  ... 2020-04-30 20:00:02 2020-04-30 19:59:55   \n",
       "\n",
       "                                                   JSON  \n",
       "1147  {'contractSymbol': 'AAPL210115C00290000', 'str...  \n",
       "\n",
       "[1 rows x 19 columns]"
      ]
     },
     "execution_count": 143,
     "metadata": {},
     "output_type": "execute_result"
    }
   ],
   "source": [
    "K = 290 # strike price\n",
    "indice_opt = aapl_opt.loc[(aapl_opt.Type=='call') & (aapl_opt.Strike==K) & (aapl_opt.Expiry=='2021-01-15')]\n",
    "indice_opt"
   ]
  },
  {
   "cell_type": "code",
   "execution_count": 35,
   "metadata": {
    "scrolled": false
   },
   "outputs": [
    {
     "data": {
      "text/plain": [
       "{'contractSymbol': 'AAPL210115C00290000',\n",
       " 'strike': 290.0,\n",
       " 'currency': 'USD',\n",
       " 'lastPrice': 33.4,\n",
       " 'change': 3.4000015,\n",
       " 'percentChange': 11.333339,\n",
       " 'volume': 440,\n",
       " 'openInterest': 7855,\n",
       " 'bid': 31.25,\n",
       " 'ask': 35.0,\n",
       " 'contractSize': 'REGULAR',\n",
       " 'expiration': 1610668800,\n",
       " 'lastTradeDate': 1588276795,\n",
       " 'impliedVolatility': 0.33682914154052734,\n",
       " 'inTheMoney': True}"
      ]
     },
     "execution_count": 35,
     "metadata": {},
     "output_type": "execute_result"
    }
   ],
   "source": [
    "i_opt= indice_opt.index\n",
    "opcion_valuar = aapl_opt.loc[i_opt[0]]\n",
    "opcion_valuar['JSON']"
   ]
  },
  {
   "cell_type": "code",
   "execution_count": 36,
   "metadata": {},
   "outputs": [
    {
     "name": "stdout",
     "output_type": "stream",
     "text": [
      "Precio del activo subyacente actual =  293.8\n"
     ]
    }
   ],
   "source": [
    "print('Precio del activo subyacente actual = ',opcion_valuar.Underlying_Price)"
   ]
  },
  {
   "cell_type": "markdown",
   "metadata": {},
   "source": [
    "# Simulación de precios usando rendimiento simple y logarítmico "
   ]
  },
  {
   "cell_type": "markdown",
   "metadata": {},
   "source": [
    "* Comenzaremos por suponer que los rendimientos son un p.e. estacionario que distribuyen $\\mathcal{N}(\\mu,\\sigma)$."
   ]
  },
  {
   "cell_type": "markdown",
   "metadata": {},
   "source": [
    "## Rendimiento Simple"
   ]
  },
  {
   "cell_type": "code",
   "execution_count": 147,
   "metadata": {
    "scrolled": false
   },
   "outputs": [
    {
     "data": {
      "text/html": [
       "<div>\n",
       "<style scoped>\n",
       "    .dataframe tbody tr th:only-of-type {\n",
       "        vertical-align: middle;\n",
       "    }\n",
       "\n",
       "    .dataframe tbody tr th {\n",
       "        vertical-align: top;\n",
       "    }\n",
       "\n",
       "    .dataframe thead th {\n",
       "        text-align: right;\n",
       "    }\n",
       "</style>\n",
       "<table border=\"1\" class=\"dataframe\">\n",
       "  <thead>\n",
       "    <tr style=\"text-align: right;\">\n",
       "      <th>Symbols</th>\n",
       "      <th>AAPL</th>\n",
       "    </tr>\n",
       "    <tr>\n",
       "      <th>Date</th>\n",
       "      <th></th>\n",
       "    </tr>\n",
       "  </thead>\n",
       "  <tbody>\n",
       "    <tr>\n",
       "      <th>2017-01-04</th>\n",
       "      <td>-1.119e-03</td>\n",
       "    </tr>\n",
       "    <tr>\n",
       "      <th>2017-01-05</th>\n",
       "      <td>5.085e-03</td>\n",
       "    </tr>\n",
       "    <tr>\n",
       "      <th>2017-01-06</th>\n",
       "      <td>1.115e-02</td>\n",
       "    </tr>\n",
       "    <tr>\n",
       "      <th>2017-01-09</th>\n",
       "      <td>9.159e-03</td>\n",
       "    </tr>\n",
       "    <tr>\n",
       "      <th>2017-01-10</th>\n",
       "      <td>1.009e-03</td>\n",
       "    </tr>\n",
       "    <tr>\n",
       "      <th>...</th>\n",
       "      <td>...</td>\n",
       "    </tr>\n",
       "    <tr>\n",
       "      <th>2020-04-24</th>\n",
       "      <td>2.887e-02</td>\n",
       "    </tr>\n",
       "    <tr>\n",
       "      <th>2020-04-27</th>\n",
       "      <td>7.068e-04</td>\n",
       "    </tr>\n",
       "    <tr>\n",
       "      <th>2020-04-28</th>\n",
       "      <td>-1.621e-02</td>\n",
       "    </tr>\n",
       "    <tr>\n",
       "      <th>2020-04-29</th>\n",
       "      <td>3.285e-02</td>\n",
       "    </tr>\n",
       "    <tr>\n",
       "      <th>2020-04-30</th>\n",
       "      <td>2.110e-02</td>\n",
       "    </tr>\n",
       "  </tbody>\n",
       "</table>\n",
       "<p>836 rows × 1 columns</p>\n",
       "</div>"
      ],
      "text/plain": [
       "Symbols          AAPL\n",
       "Date                 \n",
       "2017-01-04 -1.119e-03\n",
       "2017-01-05  5.085e-03\n",
       "2017-01-06  1.115e-02\n",
       "2017-01-09  9.159e-03\n",
       "2017-01-10  1.009e-03\n",
       "...               ...\n",
       "2020-04-24  2.887e-02\n",
       "2020-04-27  7.068e-04\n",
       "2020-04-28 -1.621e-02\n",
       "2020-04-29  3.285e-02\n",
       "2020-04-30  2.110e-02\n",
       "\n",
       "[836 rows x 1 columns]"
      ]
     },
     "execution_count": 147,
     "metadata": {},
     "output_type": "execute_result"
    }
   ],
   "source": [
    "# Obtenemos el rendimiento simple\n",
    "Ri = closes_aapl.pct_change(1).iloc[1:]\n",
    "# Obtenemos su media y desviación estándar de los rendimientos\n",
    "mu_R = Ri.mean()[0]\n",
    "sigma_R = Ri.std()[0]\n",
    "Ri"
   ]
  },
  {
   "cell_type": "code",
   "execution_count": 159,
   "metadata": {},
   "outputs": [
    {
     "data": {
      "text/plain": [
       "DatetimeIndex(['2020-04-30', '2020-05-01', '2020-05-04', '2020-05-05',\n",
       "               '2020-05-06', '2020-05-07', '2020-05-08', '2020-05-11',\n",
       "               '2020-05-12', '2020-05-13',\n",
       "               ...\n",
       "               '2021-01-04', '2021-01-05', '2021-01-06', '2021-01-07',\n",
       "               '2021-01-08', '2021-01-11', '2021-01-12', '2021-01-13',\n",
       "               '2021-01-14', '2021-01-15'],\n",
       "              dtype='datetime64[ns]', length=187, freq='B')"
      ]
     },
     "execution_count": 159,
     "metadata": {},
     "output_type": "execute_result"
    }
   ],
   "source": [
    "from datetime import date\n",
    "\n",
    "today = pd.Timestamp(date.today())\n",
    "expiry = opcion_valuar.Expiry\n",
    "\n",
    "nscen = 10000\n",
    "dates = pd.date_range(start = today, end = expiry, freq='B')\n",
    "ndays = len(dates)\n",
    "dates"
   ]
  },
  {
   "cell_type": "code",
   "execution_count": 160,
   "metadata": {},
   "outputs": [
    {
     "data": {
      "text/html": [
       "<div>\n",
       "<style scoped>\n",
       "    .dataframe tbody tr th:only-of-type {\n",
       "        vertical-align: middle;\n",
       "    }\n",
       "\n",
       "    .dataframe tbody tr th {\n",
       "        vertical-align: top;\n",
       "    }\n",
       "\n",
       "    .dataframe thead th {\n",
       "        text-align: right;\n",
       "    }\n",
       "</style>\n",
       "<table border=\"1\" class=\"dataframe\">\n",
       "  <thead>\n",
       "    <tr style=\"text-align: right;\">\n",
       "      <th></th>\n",
       "      <th>0</th>\n",
       "      <th>1</th>\n",
       "      <th>2</th>\n",
       "      <th>...</th>\n",
       "      <th>9997</th>\n",
       "      <th>9998</th>\n",
       "      <th>9999</th>\n",
       "    </tr>\n",
       "  </thead>\n",
       "  <tbody>\n",
       "    <tr>\n",
       "      <th>2020-04-30</th>\n",
       "      <td>1.017e-02</td>\n",
       "      <td>3.090e-02</td>\n",
       "      <td>1.409e-02</td>\n",
       "      <td>...</td>\n",
       "      <td>3.902e-02</td>\n",
       "      <td>-3.526e-02</td>\n",
       "      <td>1.756e-02</td>\n",
       "    </tr>\n",
       "    <tr>\n",
       "      <th>2020-05-01</th>\n",
       "      <td>1.330e-04</td>\n",
       "      <td>-1.078e-03</td>\n",
       "      <td>-2.430e-04</td>\n",
       "      <td>...</td>\n",
       "      <td>6.429e-04</td>\n",
       "      <td>-5.771e-04</td>\n",
       "      <td>2.308e-04</td>\n",
       "    </tr>\n",
       "    <tr>\n",
       "      <th>2020-05-04</th>\n",
       "      <td>4.203e-06</td>\n",
       "      <td>-4.773e-05</td>\n",
       "      <td>-1.486e-06</td>\n",
       "      <td>...</td>\n",
       "      <td>-2.255e-06</td>\n",
       "      <td>-9.713e-06</td>\n",
       "      <td>8.413e-06</td>\n",
       "    </tr>\n",
       "    <tr>\n",
       "      <th>2020-05-05</th>\n",
       "      <td>1.171e-08</td>\n",
       "      <td>1.821e-07</td>\n",
       "      <td>5.205e-08</td>\n",
       "      <td>...</td>\n",
       "      <td>-3.446e-08</td>\n",
       "      <td>-1.843e-08</td>\n",
       "      <td>1.676e-08</td>\n",
       "    </tr>\n",
       "    <tr>\n",
       "      <th>2020-05-06</th>\n",
       "      <td>-6.516e-11</td>\n",
       "      <td>4.015e-10</td>\n",
       "      <td>6.124e-11</td>\n",
       "      <td>...</td>\n",
       "      <td>1.051e-09</td>\n",
       "      <td>3.058e-10</td>\n",
       "      <td>5.431e-10</td>\n",
       "    </tr>\n",
       "    <tr>\n",
       "      <th>...</th>\n",
       "      <td>...</td>\n",
       "      <td>...</td>\n",
       "      <td>...</td>\n",
       "      <td>...</td>\n",
       "      <td>...</td>\n",
       "      <td>...</td>\n",
       "      <td>...</td>\n",
       "    </tr>\n",
       "    <tr>\n",
       "      <th>2021-01-11</th>\n",
       "      <td>0.000e+00</td>\n",
       "      <td>0.000e+00</td>\n",
       "      <td>-0.000e+00</td>\n",
       "      <td>...</td>\n",
       "      <td>0.000e+00</td>\n",
       "      <td>-0.000e+00</td>\n",
       "      <td>0.000e+00</td>\n",
       "    </tr>\n",
       "    <tr>\n",
       "      <th>2021-01-12</th>\n",
       "      <td>0.000e+00</td>\n",
       "      <td>0.000e+00</td>\n",
       "      <td>-0.000e+00</td>\n",
       "      <td>...</td>\n",
       "      <td>-0.000e+00</td>\n",
       "      <td>0.000e+00</td>\n",
       "      <td>-0.000e+00</td>\n",
       "    </tr>\n",
       "    <tr>\n",
       "      <th>2021-01-13</th>\n",
       "      <td>0.000e+00</td>\n",
       "      <td>-0.000e+00</td>\n",
       "      <td>0.000e+00</td>\n",
       "      <td>...</td>\n",
       "      <td>-0.000e+00</td>\n",
       "      <td>0.000e+00</td>\n",
       "      <td>-0.000e+00</td>\n",
       "    </tr>\n",
       "    <tr>\n",
       "      <th>2021-01-14</th>\n",
       "      <td>-0.000e+00</td>\n",
       "      <td>-0.000e+00</td>\n",
       "      <td>0.000e+00</td>\n",
       "      <td>...</td>\n",
       "      <td>0.000e+00</td>\n",
       "      <td>-0.000e+00</td>\n",
       "      <td>0.000e+00</td>\n",
       "    </tr>\n",
       "    <tr>\n",
       "      <th>2021-01-15</th>\n",
       "      <td>0.000e+00</td>\n",
       "      <td>-0.000e+00</td>\n",
       "      <td>0.000e+00</td>\n",
       "      <td>...</td>\n",
       "      <td>-0.000e+00</td>\n",
       "      <td>-0.000e+00</td>\n",
       "      <td>0.000e+00</td>\n",
       "    </tr>\n",
       "  </tbody>\n",
       "</table>\n",
       "<p>187 rows × 10000 columns</p>\n",
       "</div>"
      ],
      "text/plain": [
       "                 0          1          2     ...       9997       9998  \\\n",
       "2020-04-30  1.017e-02  3.090e-02  1.409e-02  ...  3.902e-02 -3.526e-02   \n",
       "2020-05-01  1.330e-04 -1.078e-03 -2.430e-04  ...  6.429e-04 -5.771e-04   \n",
       "2020-05-04  4.203e-06 -4.773e-05 -1.486e-06  ... -2.255e-06 -9.713e-06   \n",
       "2020-05-05  1.171e-08  1.821e-07  5.205e-08  ... -3.446e-08 -1.843e-08   \n",
       "2020-05-06 -6.516e-11  4.015e-10  6.124e-11  ...  1.051e-09  3.058e-10   \n",
       "...               ...        ...        ...  ...        ...        ...   \n",
       "2021-01-11  0.000e+00  0.000e+00 -0.000e+00  ...  0.000e+00 -0.000e+00   \n",
       "2021-01-12  0.000e+00  0.000e+00 -0.000e+00  ... -0.000e+00  0.000e+00   \n",
       "2021-01-13  0.000e+00 -0.000e+00  0.000e+00  ... -0.000e+00  0.000e+00   \n",
       "2021-01-14 -0.000e+00 -0.000e+00  0.000e+00  ...  0.000e+00 -0.000e+00   \n",
       "2021-01-15  0.000e+00 -0.000e+00  0.000e+00  ... -0.000e+00 -0.000e+00   \n",
       "\n",
       "                 9999  \n",
       "2020-04-30  1.756e-02  \n",
       "2020-05-01  2.308e-04  \n",
       "2020-05-04  8.413e-06  \n",
       "2020-05-05  1.676e-08  \n",
       "2020-05-06  5.431e-10  \n",
       "...               ...  \n",
       "2021-01-11  0.000e+00  \n",
       "2021-01-12 -0.000e+00  \n",
       "2021-01-13 -0.000e+00  \n",
       "2021-01-14  0.000e+00  \n",
       "2021-01-15  0.000e+00  \n",
       "\n",
       "[187 rows x 10000 columns]"
      ]
     },
     "execution_count": 160,
     "metadata": {},
     "output_type": "execute_result"
    }
   ],
   "source": [
    "dt = 1; # Rendimiento diario \n",
    "Z = np.random.randn(ndays,nscen)  # Z ~ N(0,1)\n",
    "# Simulación normal de los rendimientos\n",
    "Ri_dt = pd.DataFrame(mu_R*dt+Z*sigma_R*np.sqrt(dt),index=dates)\n",
    "Ri_dt.cumprod()"
   ]
  },
  {
   "cell_type": "code",
   "execution_count": 161,
   "metadata": {},
   "outputs": [],
   "source": [
    "# Simulación del precio\n",
    "S_0 = closes_aapl.iloc[-1,0]\n",
    "S_T = S_0*(1+Ri_dt).cumprod()\n",
    "\n",
    "# Se muestran los precios simulados con los precios descargados\n",
    "# pd.concat([closes_aapl,S_T]).plot(figsize=(8,6));\n",
    "# plt.title('Simulación de precios usando rendimiento simple');"
   ]
  },
  {
   "cell_type": "markdown",
   "metadata": {},
   "source": [
    "## Rendimiento Logarítmico"
   ]
  },
  {
   "cell_type": "code",
   "execution_count": 162,
   "metadata": {},
   "outputs": [
    {
     "data": {
      "text/plain": [
       "0.671789499286292"
      ]
     },
     "execution_count": 162,
     "metadata": {},
     "output_type": "execute_result"
    }
   ],
   "source": [
    "ri = calc_daily_ret(closes_aapl)\n",
    "# Usando la media y desviación estándar de los rendimientos logarítmicos\n",
    "mu_r = ri.mean()[0]\n",
    "sigma_r = ri.std()[0]\n",
    "\n",
    "# # Usando la equivalencia teórica\n",
    "# mu_r2 = mu_R - (sigma_R**2)/2\n",
    "\n",
    "sim_ret_ri = pd.DataFrame(mu_r*dt+Z*sigma_r*np.sqrt(dt), index=dates)\n",
    "\n",
    "# Simulación del precio\n",
    "S_0 = closes_aapl.iloc[-1,0]\n",
    "S_T2 = S_0*np.exp(sim_ret_ri.cumsum())\n",
    "\n",
    "# Se muestran los precios simulados con los precios descargados\n",
    "# pd.concat([closes_aapl,S_T2]).plot(figsize=(8,6));\n",
    "# plt.title('Simulación de precios usando rendimiento logarítmico');\n",
    "\n",
    "# from sklearn.metrics import mean_absolute_error\n",
    "e1 = np.abs(S_T-S_T2).mean().mean()\n",
    "e1"
   ]
  },
  {
   "cell_type": "code",
   "execution_count": 110,
   "metadata": {},
   "outputs": [
    {
     "name": "stdout",
     "output_type": "stream",
     "text": [
      "Las std usando rendimientos logarítmicos y simples son similares\n"
     ]
    },
    {
     "data": {
      "text/plain": [
       "(0.019208869670809783, 0.01924964812915329)"
      ]
     },
     "execution_count": 110,
     "metadata": {},
     "output_type": "execute_result"
    }
   ],
   "source": [
    "print('Las std usando rendimientos logarítmicos y simples son similares')\n",
    "sigma_R,sigma_r"
   ]
  },
  {
   "cell_type": "markdown",
   "metadata": {},
   "source": [
    "Con los precios simulados debemos de encontrar el valor de la opción según la función de pago correspondiente. Para este caso es:\n",
    "$$\n",
    "max(S_T - K,0)\n",
    "$$"
   ]
  },
  {
   "cell_type": "code",
   "execution_count": 157,
   "metadata": {},
   "outputs": [
    {
     "data": {
      "text/plain": [
       "{'contractSymbol': 'AAPL210115C00290000',\n",
       " 'strike': 290.0,\n",
       " 'currency': 'USD',\n",
       " 'lastPrice': 33.4,\n",
       " 'change': 3.4000015,\n",
       " 'percentChange': 11.333339,\n",
       " 'volume': 440,\n",
       " 'openInterest': 7855,\n",
       " 'bid': 31.25,\n",
       " 'ask': 35.0,\n",
       " 'contractSize': 'REGULAR',\n",
       " 'expiration': 1610668800,\n",
       " 'lastTradeDate': 1588276795,\n",
       " 'impliedVolatility': 0.33682914154052734,\n",
       " 'inTheMoney': True}"
      ]
     },
     "execution_count": 157,
     "metadata": {},
     "output_type": "execute_result"
    }
   ],
   "source": [
    "opcion_valuar['JSON']"
   ]
  },
  {
   "cell_type": "code",
   "execution_count": null,
   "metadata": {},
   "outputs": [
    {
     "data": {
      "text/plain": [
       "Prima    77.069\n",
       "Name: 2021-01-15 00:00:00, dtype: float64"
      ]
     },
     "execution_count": 170,
     "metadata": {},
     "output_type": "execute_result"
    }
   ],
   "source": [
    "strike = pd.DataFrame(opcion_valuar['JSON']['strike']*np.ones([ndays,nscen]), index=dates)\n",
    "call = pd.DataFrame({'Prima':np.exp(-mu_r*ndays) \\\n",
    "              *np.fmax(S_T2-strike,np.zeros([ndays,nscen])).mean(axis=1)}, index=dates)\n",
    "call.plot();\n",
    "call.iloc[-1]"
   ]
  },
  {
   "cell_type": "markdown",
   "metadata": {},
   "source": [
    "## 2. Valuación usando simulación: modelo normal para los rendimientos"
   ]
  },
  {
   "cell_type": "markdown",
   "metadata": {},
   "source": [
    "- Hallar media y desviación estándar muestral de los rendimientos logarítmicos"
   ]
  },
  {
   "cell_type": "code",
   "execution_count": 134,
   "metadata": {
    "scrolled": true
   },
   "outputs": [
    {
     "data": {
      "text/plain": [
       "(0.0011676498696159131, 0.01924964812915329)"
      ]
     },
     "execution_count": 134,
     "metadata": {},
     "output_type": "execute_result"
    }
   ],
   "source": [
    "mu = ret_aapl.mean()[0]\n",
    "sigma = ret_aapl.std()[0]\n",
    "mu, sigma"
   ]
  },
  {
   "cell_type": "markdown",
   "metadata": {},
   "source": [
    "No se toma la media sino la tasa libre de riesgo\n",
    "> Referencia: https://www.treasury.gov/resource-center/data-chart-center/interest-rates/Pages/TextView.aspx?data=yield"
   ]
  },
  {
   "cell_type": "code",
   "execution_count": 132,
   "metadata": {},
   "outputs": [],
   "source": [
    "# Tasa de bonos de 1 yr de fecha 30/04/20 -> 0.16%\n",
    "r = 0.0016/360 # Tasa diaria"
   ]
  },
  {
   "cell_type": "markdown",
   "metadata": {},
   "source": [
    "- Simularemos el tiempo de contrato desde `HOY` hasta la fecha de `Expiry`, 10 escenarios:\n",
    "    \n",
    "    - Generar fechas"
   ]
  },
  {
   "cell_type": "code",
   "execution_count": 131,
   "metadata": {},
   "outputs": [
    {
     "data": {
      "text/plain": [
       "DatetimeIndex(['2019-11-14', '2019-11-15', '2019-11-16', '2019-11-17',\n",
       "               '2019-11-18', '2019-11-19', '2019-11-20', '2019-11-21',\n",
       "               '2019-11-22', '2019-11-23',\n",
       "               ...\n",
       "               '2020-07-21', '2020-07-22', '2020-07-23', '2020-07-24',\n",
       "               '2020-07-25', '2020-07-26', '2020-07-27', '2020-07-28',\n",
       "               '2020-07-29', '2020-07-30'],\n",
       "              dtype='datetime64[ns]', length=260, freq='D')"
      ]
     },
     "execution_count": 131,
     "metadata": {},
     "output_type": "execute_result"
    }
   ],
   "source": [
    "from datetime import date\n",
    "\n",
    "today = pd.Timestamp(date.today())\n",
    "expiry = opcion_valuar.Expiry\n",
    "\n",
    "ndays = (expiry - today).days\n",
    "nscen = 10\n",
    "dates = pd.date_range(start='2019-11-14', periods = ndays)\n",
    "dates"
   ]
  },
  {
   "cell_type": "markdown",
   "metadata": {},
   "source": [
    "- Generamos 10 escenarios de rendimientos simulados y guardamos en un dataframe"
   ]
  },
  {
   "cell_type": "code",
   "execution_count": 28,
   "metadata": {
    "scrolled": false
   },
   "outputs": [
    {
     "data": {
      "text/html": [
       "<div>\n",
       "<style scoped>\n",
       "    .dataframe tbody tr th:only-of-type {\n",
       "        vertical-align: middle;\n",
       "    }\n",
       "\n",
       "    .dataframe tbody tr th {\n",
       "        vertical-align: top;\n",
       "    }\n",
       "\n",
       "    .dataframe thead th {\n",
       "        text-align: right;\n",
       "    }\n",
       "</style>\n",
       "<table border=\"1\" class=\"dataframe\">\n",
       "  <thead>\n",
       "    <tr style=\"text-align: right;\">\n",
       "      <th></th>\n",
       "      <th>0</th>\n",
       "      <th>1</th>\n",
       "      <th>2</th>\n",
       "      <th>...</th>\n",
       "      <th>7</th>\n",
       "      <th>8</th>\n",
       "      <th>9</th>\n",
       "    </tr>\n",
       "  </thead>\n",
       "  <tbody>\n",
       "    <tr>\n",
       "      <th>2019-11-12</th>\n",
       "      <td>0.018</td>\n",
       "      <td>0.013</td>\n",
       "      <td>-0.014</td>\n",
       "      <td>...</td>\n",
       "      <td>0.043</td>\n",
       "      <td>0.022</td>\n",
       "      <td>0.003</td>\n",
       "    </tr>\n",
       "    <tr>\n",
       "      <th>2019-11-13</th>\n",
       "      <td>0.006</td>\n",
       "      <td>0.005</td>\n",
       "      <td>-0.038</td>\n",
       "      <td>...</td>\n",
       "      <td>0.034</td>\n",
       "      <td>-0.020</td>\n",
       "      <td>-0.009</td>\n",
       "    </tr>\n",
       "    <tr>\n",
       "      <th>2019-11-14</th>\n",
       "      <td>0.017</td>\n",
       "      <td>0.003</td>\n",
       "      <td>-0.040</td>\n",
       "      <td>...</td>\n",
       "      <td>0.034</td>\n",
       "      <td>-0.039</td>\n",
       "      <td>0.003</td>\n",
       "    </tr>\n",
       "    <tr>\n",
       "      <th>2019-11-15</th>\n",
       "      <td>-0.013</td>\n",
       "      <td>0.026</td>\n",
       "      <td>-0.023</td>\n",
       "      <td>...</td>\n",
       "      <td>0.045</td>\n",
       "      <td>-0.039</td>\n",
       "      <td>-0.019</td>\n",
       "    </tr>\n",
       "    <tr>\n",
       "      <th>2019-11-16</th>\n",
       "      <td>-0.019</td>\n",
       "      <td>0.023</td>\n",
       "      <td>-0.010</td>\n",
       "      <td>...</td>\n",
       "      <td>0.027</td>\n",
       "      <td>-0.039</td>\n",
       "      <td>-0.013</td>\n",
       "    </tr>\n",
       "    <tr>\n",
       "      <th>...</th>\n",
       "      <td>...</td>\n",
       "      <td>...</td>\n",
       "      <td>...</td>\n",
       "      <td>...</td>\n",
       "      <td>...</td>\n",
       "      <td>...</td>\n",
       "      <td>...</td>\n",
       "    </tr>\n",
       "    <tr>\n",
       "      <th>2020-02-24</th>\n",
       "      <td>-0.062</td>\n",
       "      <td>-0.127</td>\n",
       "      <td>-0.165</td>\n",
       "      <td>...</td>\n",
       "      <td>0.050</td>\n",
       "      <td>-0.135</td>\n",
       "      <td>0.023</td>\n",
       "    </tr>\n",
       "    <tr>\n",
       "      <th>2020-02-25</th>\n",
       "      <td>-0.064</td>\n",
       "      <td>-0.123</td>\n",
       "      <td>-0.153</td>\n",
       "      <td>...</td>\n",
       "      <td>0.054</td>\n",
       "      <td>-0.110</td>\n",
       "      <td>0.010</td>\n",
       "    </tr>\n",
       "    <tr>\n",
       "      <th>2020-02-26</th>\n",
       "      <td>-0.069</td>\n",
       "      <td>-0.117</td>\n",
       "      <td>-0.171</td>\n",
       "      <td>...</td>\n",
       "      <td>0.070</td>\n",
       "      <td>-0.090</td>\n",
       "      <td>-0.011</td>\n",
       "    </tr>\n",
       "    <tr>\n",
       "      <th>2020-02-27</th>\n",
       "      <td>-0.086</td>\n",
       "      <td>-0.117</td>\n",
       "      <td>-0.193</td>\n",
       "      <td>...</td>\n",
       "      <td>0.059</td>\n",
       "      <td>-0.092</td>\n",
       "      <td>-0.025</td>\n",
       "    </tr>\n",
       "    <tr>\n",
       "      <th>2020-02-28</th>\n",
       "      <td>-0.077</td>\n",
       "      <td>-0.101</td>\n",
       "      <td>-0.216</td>\n",
       "      <td>...</td>\n",
       "      <td>0.066</td>\n",
       "      <td>-0.090</td>\n",
       "      <td>-0.030</td>\n",
       "    </tr>\n",
       "  </tbody>\n",
       "</table>\n",
       "<p>109 rows × 10 columns</p>\n",
       "</div>"
      ],
      "text/plain": [
       "                0      1      2  ...        7      8      9\n",
       "2019-11-12  0.018  0.013 -0.014  ...    0.043  0.022  0.003\n",
       "2019-11-13  0.006  0.005 -0.038  ...    0.034 -0.020 -0.009\n",
       "2019-11-14  0.017  0.003 -0.040  ...    0.034 -0.039  0.003\n",
       "2019-11-15 -0.013  0.026 -0.023  ...    0.045 -0.039 -0.019\n",
       "2019-11-16 -0.019  0.023 -0.010  ...    0.027 -0.039 -0.013\n",
       "...           ...    ...    ...  ...      ...    ...    ...\n",
       "2020-02-24 -0.062 -0.127 -0.165  ...    0.050 -0.135  0.023\n",
       "2020-02-25 -0.064 -0.123 -0.153  ...    0.054 -0.110  0.010\n",
       "2020-02-26 -0.069 -0.117 -0.171  ...    0.070 -0.090 -0.011\n",
       "2020-02-27 -0.086 -0.117 -0.193  ...    0.059 -0.092 -0.025\n",
       "2020-02-28 -0.077 -0.101 -0.216  ...    0.066 -0.090 -0.030\n",
       "\n",
       "[109 rows x 10 columns]"
      ]
     },
     "execution_count": 28,
     "metadata": {},
     "output_type": "execute_result"
    }
   ],
   "source": [
    "sim_ret = pd.DataFrame(sigma*np.random.randn(ndays,nscen)+r, index=dates)\n",
    "sim_ret.cumsum()\n",
    "# Las columnas son los escenarios y las filas son las días de contrato"
   ]
  },
  {
   "cell_type": "markdown",
   "metadata": {},
   "source": [
    "- Con los rendimientos simulados, calcular los escenarios de precios respectivos:"
   ]
  },
  {
   "cell_type": "code",
   "execution_count": 55,
   "metadata": {},
   "outputs": [
    {
     "data": {
      "text/html": [
       "<div>\n",
       "<style scoped>\n",
       "    .dataframe tbody tr th:only-of-type {\n",
       "        vertical-align: middle;\n",
       "    }\n",
       "\n",
       "    .dataframe tbody tr th {\n",
       "        vertical-align: top;\n",
       "    }\n",
       "\n",
       "    .dataframe thead th {\n",
       "        text-align: right;\n",
       "    }\n",
       "</style>\n",
       "<table border=\"1\" class=\"dataframe\">\n",
       "  <thead>\n",
       "    <tr style=\"text-align: right;\">\n",
       "      <th></th>\n",
       "      <th>0</th>\n",
       "      <th>1</th>\n",
       "      <th>2</th>\n",
       "      <th>...</th>\n",
       "      <th>99997</th>\n",
       "      <th>99998</th>\n",
       "      <th>99999</th>\n",
       "    </tr>\n",
       "  </thead>\n",
       "  <tbody>\n",
       "    <tr>\n",
       "      <th>2019-11-14</th>\n",
       "      <td>262.850</td>\n",
       "      <td>259.234</td>\n",
       "      <td>260.558</td>\n",
       "      <td>...</td>\n",
       "      <td>264.840</td>\n",
       "      <td>265.783</td>\n",
       "      <td>258.683</td>\n",
       "    </tr>\n",
       "    <tr>\n",
       "      <th>2019-11-15</th>\n",
       "      <td>267.078</td>\n",
       "      <td>260.961</td>\n",
       "      <td>261.625</td>\n",
       "      <td>...</td>\n",
       "      <td>263.834</td>\n",
       "      <td>263.963</td>\n",
       "      <td>260.232</td>\n",
       "    </tr>\n",
       "    <tr>\n",
       "      <th>2019-11-16</th>\n",
       "      <td>265.663</td>\n",
       "      <td>261.425</td>\n",
       "      <td>261.808</td>\n",
       "      <td>...</td>\n",
       "      <td>269.708</td>\n",
       "      <td>263.861</td>\n",
       "      <td>259.248</td>\n",
       "    </tr>\n",
       "    <tr>\n",
       "      <th>2019-11-17</th>\n",
       "      <td>274.593</td>\n",
       "      <td>263.144</td>\n",
       "      <td>259.387</td>\n",
       "      <td>...</td>\n",
       "      <td>268.595</td>\n",
       "      <td>264.321</td>\n",
       "      <td>261.338</td>\n",
       "    </tr>\n",
       "    <tr>\n",
       "      <th>2019-11-18</th>\n",
       "      <td>270.858</td>\n",
       "      <td>264.384</td>\n",
       "      <td>262.056</td>\n",
       "      <td>...</td>\n",
       "      <td>278.187</td>\n",
       "      <td>263.167</td>\n",
       "      <td>264.645</td>\n",
       "    </tr>\n",
       "    <tr>\n",
       "      <th>...</th>\n",
       "      <td>...</td>\n",
       "      <td>...</td>\n",
       "      <td>...</td>\n",
       "      <td>...</td>\n",
       "      <td>...</td>\n",
       "      <td>...</td>\n",
       "      <td>...</td>\n",
       "    </tr>\n",
       "    <tr>\n",
       "      <th>2020-02-26</th>\n",
       "      <td>225.503</td>\n",
       "      <td>249.221</td>\n",
       "      <td>264.476</td>\n",
       "      <td>...</td>\n",
       "      <td>261.389</td>\n",
       "      <td>376.696</td>\n",
       "      <td>348.646</td>\n",
       "    </tr>\n",
       "    <tr>\n",
       "      <th>2020-02-27</th>\n",
       "      <td>226.053</td>\n",
       "      <td>255.628</td>\n",
       "      <td>256.328</td>\n",
       "      <td>...</td>\n",
       "      <td>258.088</td>\n",
       "      <td>378.798</td>\n",
       "      <td>350.816</td>\n",
       "    </tr>\n",
       "    <tr>\n",
       "      <th>2020-02-28</th>\n",
       "      <td>222.790</td>\n",
       "      <td>257.654</td>\n",
       "      <td>255.705</td>\n",
       "      <td>...</td>\n",
       "      <td>256.333</td>\n",
       "      <td>386.645</td>\n",
       "      <td>346.941</td>\n",
       "    </tr>\n",
       "    <tr>\n",
       "      <th>2020-02-29</th>\n",
       "      <td>225.952</td>\n",
       "      <td>257.591</td>\n",
       "      <td>256.144</td>\n",
       "      <td>...</td>\n",
       "      <td>254.894</td>\n",
       "      <td>384.577</td>\n",
       "      <td>335.518</td>\n",
       "    </tr>\n",
       "    <tr>\n",
       "      <th>2020-03-01</th>\n",
       "      <td>228.726</td>\n",
       "      <td>250.639</td>\n",
       "      <td>254.556</td>\n",
       "      <td>...</td>\n",
       "      <td>259.988</td>\n",
       "      <td>379.296</td>\n",
       "      <td>334.039</td>\n",
       "    </tr>\n",
       "  </tbody>\n",
       "</table>\n",
       "<p>109 rows × 100000 columns</p>\n",
       "</div>"
      ],
      "text/plain": [
       "              0        1        2       ...       99997    99998    99999\n",
       "2019-11-14  262.850  259.234  260.558   ...     264.840  265.783  258.683\n",
       "2019-11-15  267.078  260.961  261.625   ...     263.834  263.963  260.232\n",
       "2019-11-16  265.663  261.425  261.808   ...     269.708  263.861  259.248\n",
       "2019-11-17  274.593  263.144  259.387   ...     268.595  264.321  261.338\n",
       "2019-11-18  270.858  264.384  262.056   ...     278.187  263.167  264.645\n",
       "...             ...      ...      ...   ...         ...      ...      ...\n",
       "2020-02-26  225.503  249.221  264.476   ...     261.389  376.696  348.646\n",
       "2020-02-27  226.053  255.628  256.328   ...     258.088  378.798  350.816\n",
       "2020-02-28  222.790  257.654  255.705   ...     256.333  386.645  346.941\n",
       "2020-02-29  225.952  257.591  256.144   ...     254.894  384.577  335.518\n",
       "2020-03-01  228.726  250.639  254.556   ...     259.988  379.296  334.039\n",
       "\n",
       "[109 rows x 100000 columns]"
      ]
     },
     "execution_count": 55,
     "metadata": {},
     "output_type": "execute_result"
    }
   ],
   "source": [
    "S0 = closes_aapl.iloc[-1,0]  # Condición inicial del precio a simular\n",
    "sim_closes = S0*np.exp(sim_ret.cumsum())\n",
    "sim_closes"
   ]
  },
  {
   "cell_type": "markdown",
   "metadata": {},
   "source": [
    "- Graficar:"
   ]
  },
  {
   "cell_type": "code",
   "execution_count": 30,
   "metadata": {},
   "outputs": [],
   "source": [
    "# sim_closes.plot(figsize=(8,6));"
   ]
  },
  {
   "cell_type": "code",
   "execution_count": 31,
   "metadata": {
    "scrolled": false
   },
   "outputs": [
    {
     "data": {
      "image/png": "[encoded data removed]",
      "text/plain": [
       "<Figure size 576x432 with 1 Axes>"
      ]
     },
     "metadata": {},
     "output_type": "display_data"
    }
   ],
   "source": [
    "# Se muestran los precios simulados con los precios descargados\n",
    "pd.concat([closes_aapl,sim_closes]).plot(figsize=(8,6));"
   ]
  },
  {
   "cell_type": "code",
   "execution_count": 32,
   "metadata": {
    "scrolled": false
   },
   "outputs": [
    {
     "data": {
      "text/plain": [
       "{'contractSymbol': 'AAPL210115C00240000',\n",
       " 'strike': 240.0,\n",
       " 'currency': 'USD',\n",
       " 'lastPrice': 42.47,\n",
       " 'change': -1.0299988,\n",
       " 'percentChange': -2.3678133,\n",
       " 'volume': 40,\n",
       " 'openInterest': 2663,\n",
       " 'bid': 41.9,\n",
       " 'ask': 42.65,\n",
       " 'contractSize': 'REGULAR',\n",
       " 'expiration': 1610668800,\n",
       " 'lastTradeDate': 1573763308,\n",
       " 'impliedVolatility': 0.27719839019775383,\n",
       " 'inTheMoney': True}"
      ]
     },
     "execution_count": 32,
     "metadata": {},
     "output_type": "execute_result"
    }
   ],
   "source": [
    "opcion_valuar['JSON']"
   ]
  },
  {
   "cell_type": "code",
   "execution_count": 75,
   "metadata": {},
   "outputs": [
    {
     "data": {
      "text/plain": [
       "0.01746185724501669"
      ]
     },
     "execution_count": 75,
     "metadata": {},
     "output_type": "execute_result"
    }
   ],
   "source": [
    "sigma = 0.27719839019775383/np.sqrt(252)\n",
    "sigma"
   ]
  },
  {
   "cell_type": "code",
   "execution_count": 135,
   "metadata": {},
   "outputs": [],
   "source": [
    "from datetime import date\n",
    "Hoy = date.today()\n",
    "K = opcion_valuar['JSON']['strike']  # strike price\n",
    "ndays = (opcion_valuar.Expiry - today).days\n",
    "nscen = 100000\n",
    "dates = pd.date_range(start= Hoy, periods = ndays)\n",
    "S0 = closes_aapl.iloc[-1,0]  # Condición inicial del precio a simular\n",
    "\n",
    "sim_ret = pd.DataFrame(sigma*np.random.randn(ndays,nscen)+r,index=dates)\n",
    "sim_closes = S0*np.exp(sim_ret.cumsum())\n",
    "#strike = pd.DataFrame({'Strike':K*np.ones(ndays)}, index=dates)\n",
    "#simul = pd.concat([closes_aapl.T,strike.T,sim_closes.T]).T\n",
    "#simul.plot(figsize=(8,6),legend=False);"
   ]
  },
  {
   "cell_type": "code",
   "execution_count": 136,
   "metadata": {},
   "outputs": [
    {
     "data": {
      "image/png": "[encoded data removed]",
      "text/plain": [
       "<Figure size 432x288 with 1 Axes>"
      ]
     },
     "metadata": {
      "needs_background": "light"
     },
     "output_type": "display_data"
    }
   ],
   "source": [
    "strike = pd.DataFrame(K*np.ones([ndays,nscen]), index=dates)\n",
    "call = pd.DataFrame({'Prima':np.exp(-r*ndays) \\\n",
    "              *np.fmax(sim_closes-strike,np.zeros([ndays,nscen])).mean(axis=1)}, index=dates)\n",
    "call.plot();\n"
   ]
  },
  {
   "cell_type": "markdown",
   "metadata": {},
   "source": [
    "La valuación de la opción es:"
   ]
  },
  {
   "cell_type": "code",
   "execution_count": 137,
   "metadata": {},
   "outputs": [
    {
     "data": {
      "text/plain": [
       "Prima    46.522\n",
       "Name: 2021-01-14 00:00:00, dtype: float64"
      ]
     },
     "execution_count": 137,
     "metadata": {},
     "output_type": "execute_result"
    }
   ],
   "source": [
    "call.iloc[-1]"
   ]
  },
  {
   "cell_type": "markdown",
   "metadata": {},
   "source": [
    "Intervalo de confianza del 99%"
   ]
  },
  {
   "cell_type": "code",
   "execution_count": 138,
   "metadata": {
    "scrolled": true
   },
   "outputs": [
    {
     "name": "stdout",
     "output_type": "stream",
     "text": [
      "(45.7246314697357, 47.3199308196603)\n",
      "(45.7246314697357, 47.3199308196603)\n"
     ]
    }
   ],
   "source": [
    "confianza = 0.99\n",
    "sigma_est = sim_closes.iloc[-1].sem()\n",
    "mean_est = call.iloc[-1].Prima\n",
    "i1 = st.t.interval(confianza,nscen-1, loc=mean_est, scale=sigma_est)\n",
    "i2 = st.norm.interval(confianza, loc=mean_est, scale=sigma_est)\n",
    "print(i1)\n",
    "print(i2)\n"
   ]
  },
  {
   "cell_type": "markdown",
   "metadata": {},
   "source": [
    "## Precios simulados usando técnicas de reducción de varianza"
   ]
  },
  {
   "cell_type": "code",
   "execution_count": 139,
   "metadata": {},
   "outputs": [
    {
     "data": {
      "image/png": "[encoded data removed]",
      "text/plain": [
       "<Figure size 432x288 with 1 Axes>"
      ]
     },
     "metadata": {
      "needs_background": "light"
     },
     "output_type": "display_data"
    }
   ],
   "source": [
    "# Usando muestreo estratificado----> #estratros = nscen\n",
    "U = (np.arange(0,nscen)+np.random.rand(ndays,nscen))/nscen\n",
    "Z = st.norm.ppf(U)\n",
    "\n",
    "sim_ret2 = pd.DataFrame(sigma*Z+r,index=dates)\n",
    "sim_closes2 = S0*np.exp(sim_ret.cumsum())\n",
    "\n",
    "# Función de pago\n",
    "strike = pd.DataFrame(K*np.ones([ndays,nscen]), index=dates)\n",
    "call = pd.DataFrame({'Prima':np.exp(-r*ndays) \\\n",
    "              *np.fmax(sim_closes2-strike,np.zeros([ndays,nscen])).T.mean()}, index=dates)\n",
    "call.plot();"
   ]
  },
  {
   "cell_type": "markdown",
   "metadata": {},
   "source": [
    "La valuación de la opción es:"
   ]
  },
  {
   "cell_type": "code",
   "execution_count": 140,
   "metadata": {},
   "outputs": [
    {
     "data": {
      "text/plain": [
       "Prima    46.522\n",
       "Name: 2021-01-14 00:00:00, dtype: float64"
      ]
     },
     "execution_count": 140,
     "metadata": {},
     "output_type": "execute_result"
    }
   ],
   "source": [
    "call.iloc[-1]"
   ]
  },
  {
   "cell_type": "markdown",
   "metadata": {},
   "source": [
    "Intervalo de confianza del 99%"
   ]
  },
  {
   "cell_type": "code",
   "execution_count": 141,
   "metadata": {
    "scrolled": true
   },
   "outputs": [
    {
     "name": "stdout",
     "output_type": "stream",
     "text": [
      "(45.7246314697357, 47.3199308196603)\n",
      "(45.7246314697357, 47.3199308196603)\n"
     ]
    }
   ],
   "source": [
    "confianza = 0.99\n",
    "sigma_est = sim_closes2.iloc[-1].sem()\n",
    "mean_est = call.iloc[-1].Prima\n",
    "i1 = st.t.interval(confianza,nscen-1, loc=mean_est, scale=sigma_est)\n",
    "i2 = st.norm.interval(confianza, loc=mean_est, scale=sigma_est)\n",
    "print(i1)\n",
    "print(i2)\n"
   ]
  },
  {
   "cell_type": "markdown",
   "metadata": {},
   "source": [
    "### Análisis de la distribución de los rendimientos"
   ]
  },
  {
   "cell_type": "markdown",
   "metadata": {},
   "source": [
    "### Ajustando norm"
   ]
  },
  {
   "cell_type": "code",
   "execution_count": 93,
   "metadata": {},
   "outputs": [
    {
     "data": {
      "image/png": "[encoded data removed]",
      "text/plain": [
       "<Figure size 432x288 with 1 Axes>"
      ]
     },
     "metadata": {},
     "output_type": "display_data"
    }
   ],
   "source": [
    "ren = calc_daily_ret(closes_aapl) # rendimientos \n",
    "y,x,des = plt.hist(ren['AAPL'],bins=50,density=True,label='Histograma rendimientos')\n",
    "\n",
    "mu_fit,sd_fit = st.norm.fit(ren) # Se ajustan los parámetros de una normal\n",
    "# Valores máximo y mínimo de los rendiemientos a generar\n",
    "ren_max = max(x);ren_min = min(x)\n",
    "# Vector de rendimientos generados\n",
    "ren_gen = np.arange(ren_min,ren_max,0.001)\n",
    "# Generación de la normal ajustado con los parámetros encontrados\n",
    "curve_fit = st.norm.pdf(ren_gen,loc=mu_fit,scale=sd_fit)\n",
    "plt.plot(ren_gen,curve_fit,label='Distribución ajustada')\n",
    "plt.legend()\n",
    "plt.show()\n"
   ]
  },
  {
   "cell_type": "markdown",
   "metadata": {},
   "source": [
    "### Ajustando t"
   ]
  },
  {
   "cell_type": "code",
   "execution_count": 86,
   "metadata": {},
   "outputs": [
    {
     "data": {
      "image/png": "[encoded data removed]",
      "text/plain": [
       "<Figure size 432x288 with 1 Axes>"
      ]
     },
     "metadata": {},
     "output_type": "display_data"
    }
   ],
   "source": [
    "ren = calc_daily_ret(closes_aapl) # rendimientos \n",
    "y,x,des = plt.hist(ren['AAPL'],bins=50,density=True,label='Histograma rendimientos')\n",
    "\n",
    "dof,mu_fit,sd_fit = st.t.fit(ren) # Se ajustan los parámetros de una t\n",
    "# Valores máximo y mínimo de los rendiemientos a generar\n",
    "# ren_max = max(x);ren_min = min(x)\n",
    "# Vector de rendimientos generados\n",
    "ren_gen = np.arange(ren_min,ren_max,0.001)\n",
    "# Generación de la normal ajustado con los parámetros encontrados\n",
    "curve_fit = st.t.pdf(ren_gen,df=dof,loc=mu_fit,scale=sd_fit)\n",
    "plt.plot(ren_gen,curve_fit,label='Distribución ajustada')\n",
    "plt.legend()\n",
    "plt.show()"
   ]
  },
  {
   "cell_type": "code",
   "execution_count": 91,
   "metadata": {},
   "outputs": [
    {
     "data": {
      "image/png": "[encoded data removed]",
      "text/plain": [
       "<Figure size 432x288 with 1 Axes>"
      ]
     },
     "metadata": {},
     "output_type": "display_data"
    }
   ],
   "source": [
    "st.probplot(ren['AAPL'],sparams= dof, dist='t', plot=plt);"
   ]
  },
  {
   "cell_type": "markdown",
   "metadata": {},
   "source": [
    "## 3. Valuación usando simulación: uso del histograma de rendimientos\n",
    "\n",
    "Todo el análisis anterior se mantiene. Solo cambia la forma de generar los números aleatorios para la simulación montecarlo.\n",
    "\n",
    "Ahora, generemos un histograma de los rendimientos diarios para generar valores aleatorios de los rendimientos simulados."
   ]
  },
  {
   "cell_type": "markdown",
   "metadata": {},
   "source": [
    "- Primero, cantidad de días y número de escenarios de simulación"
   ]
  },
  {
   "cell_type": "code",
   "execution_count": 92,
   "metadata": {},
   "outputs": [],
   "source": [
    "ndays = 109 \n",
    "nscen = 10"
   ]
  },
  {
   "cell_type": "markdown",
   "metadata": {},
   "source": [
    "- Del histograma anterior, ya conocemos las probabilidades de ocurrencia, lo que se llamó como variable `y`"
   ]
  },
  {
   "cell_type": "code",
   "execution_count": 95,
   "metadata": {},
   "outputs": [],
   "source": [
    "prob = y/np.sum(y)\n",
    "values = x[1:]"
   ]
  },
  {
   "cell_type": "markdown",
   "metadata": {},
   "source": [
    "- Con esto, generamos los números aleatorios correspondientes a los rendimientos (tantos como días por número de escenarios)."
   ]
  },
  {
   "cell_type": "code",
   "execution_count": 96,
   "metadata": {},
   "outputs": [
    {
     "data": {
      "text/html": [
       "<div>\n",
       "<style scoped>\n",
       "    .dataframe tbody tr th:only-of-type {\n",
       "        vertical-align: middle;\n",
       "    }\n",
       "\n",
       "    .dataframe tbody tr th {\n",
       "        vertical-align: top;\n",
       "    }\n",
       "\n",
       "    .dataframe thead th {\n",
       "        text-align: right;\n",
       "    }\n",
       "</style>\n",
       "<table border=\"1\" class=\"dataframe\">\n",
       "  <thead>\n",
       "    <tr style=\"text-align: right;\">\n",
       "      <th></th>\n",
       "      <th>0</th>\n",
       "      <th>1</th>\n",
       "      <th>2</th>\n",
       "      <th>...</th>\n",
       "      <th>7</th>\n",
       "      <th>8</th>\n",
       "      <th>9</th>\n",
       "    </tr>\n",
       "  </thead>\n",
       "  <tbody>\n",
       "    <tr>\n",
       "      <th>2019-11-14</th>\n",
       "      <td>0.002</td>\n",
       "      <td>-0.001</td>\n",
       "      <td>0.016</td>\n",
       "      <td>...</td>\n",
       "      <td>-0.001</td>\n",
       "      <td>0.020</td>\n",
       "      <td>0.006</td>\n",
       "    </tr>\n",
       "    <tr>\n",
       "      <th>2019-11-15</th>\n",
       "      <td>-0.039</td>\n",
       "      <td>-0.001</td>\n",
       "      <td>0.006</td>\n",
       "      <td>...</td>\n",
       "      <td>-0.005</td>\n",
       "      <td>-0.008</td>\n",
       "      <td>0.002</td>\n",
       "    </tr>\n",
       "    <tr>\n",
       "      <th>2019-11-16</th>\n",
       "      <td>0.006</td>\n",
       "      <td>0.016</td>\n",
       "      <td>-0.018</td>\n",
       "      <td>...</td>\n",
       "      <td>0.002</td>\n",
       "      <td>-0.008</td>\n",
       "      <td>0.013</td>\n",
       "    </tr>\n",
       "    <tr>\n",
       "      <th>2019-11-17</th>\n",
       "      <td>-0.012</td>\n",
       "      <td>-0.001</td>\n",
       "      <td>-0.005</td>\n",
       "      <td>...</td>\n",
       "      <td>0.016</td>\n",
       "      <td>0.006</td>\n",
       "      <td>0.006</td>\n",
       "    </tr>\n",
       "    <tr>\n",
       "      <th>2019-11-18</th>\n",
       "      <td>-0.005</td>\n",
       "      <td>0.009</td>\n",
       "      <td>0.023</td>\n",
       "      <td>...</td>\n",
       "      <td>0.006</td>\n",
       "      <td>0.009</td>\n",
       "      <td>0.016</td>\n",
       "    </tr>\n",
       "    <tr>\n",
       "      <th>...</th>\n",
       "      <td>...</td>\n",
       "      <td>...</td>\n",
       "      <td>...</td>\n",
       "      <td>...</td>\n",
       "      <td>...</td>\n",
       "      <td>...</td>\n",
       "      <td>...</td>\n",
       "    </tr>\n",
       "    <tr>\n",
       "      <th>2020-02-26</th>\n",
       "      <td>0.020</td>\n",
       "      <td>0.006</td>\n",
       "      <td>0.006</td>\n",
       "      <td>...</td>\n",
       "      <td>-0.015</td>\n",
       "      <td>-0.018</td>\n",
       "      <td>0.002</td>\n",
       "    </tr>\n",
       "    <tr>\n",
       "      <th>2020-02-27</th>\n",
       "      <td>0.009</td>\n",
       "      <td>-0.025</td>\n",
       "      <td>0.006</td>\n",
       "      <td>...</td>\n",
       "      <td>-0.001</td>\n",
       "      <td>0.002</td>\n",
       "      <td>0.020</td>\n",
       "    </tr>\n",
       "    <tr>\n",
       "      <th>2020-02-28</th>\n",
       "      <td>0.006</td>\n",
       "      <td>-0.005</td>\n",
       "      <td>0.009</td>\n",
       "      <td>...</td>\n",
       "      <td>0.006</td>\n",
       "      <td>0.044</td>\n",
       "      <td>-0.008</td>\n",
       "    </tr>\n",
       "    <tr>\n",
       "      <th>2020-02-29</th>\n",
       "      <td>-0.025</td>\n",
       "      <td>-0.053</td>\n",
       "      <td>0.020</td>\n",
       "      <td>...</td>\n",
       "      <td>-0.005</td>\n",
       "      <td>0.006</td>\n",
       "      <td>0.006</td>\n",
       "    </tr>\n",
       "    <tr>\n",
       "      <th>2020-03-01</th>\n",
       "      <td>-0.025</td>\n",
       "      <td>0.002</td>\n",
       "      <td>-0.008</td>\n",
       "      <td>...</td>\n",
       "      <td>0.009</td>\n",
       "      <td>-0.001</td>\n",
       "      <td>0.013</td>\n",
       "    </tr>\n",
       "  </tbody>\n",
       "</table>\n",
       "<p>109 rows × 10 columns</p>\n",
       "</div>"
      ],
      "text/plain": [
       "                0      1      2  ...        7      8      9\n",
       "2019-11-14  0.002 -0.001  0.016  ...   -0.001  0.020  0.006\n",
       "2019-11-15 -0.039 -0.001  0.006  ...   -0.005 -0.008  0.002\n",
       "2019-11-16  0.006  0.016 -0.018  ...    0.002 -0.008  0.013\n",
       "2019-11-17 -0.012 -0.001 -0.005  ...    0.016  0.006  0.006\n",
       "2019-11-18 -0.005  0.009  0.023  ...    0.006  0.009  0.016\n",
       "...           ...    ...    ...  ...      ...    ...    ...\n",
       "2020-02-26  0.020  0.006  0.006  ...   -0.015 -0.018  0.002\n",
       "2020-02-27  0.009 -0.025  0.006  ...   -0.001  0.002  0.020\n",
       "2020-02-28  0.006 -0.005  0.009  ...    0.006  0.044 -0.008\n",
       "2020-02-29 -0.025 -0.053  0.020  ...   -0.005  0.006  0.006\n",
       "2020-03-01 -0.025  0.002 -0.008  ...    0.009 -0.001  0.013\n",
       "\n",
       "[109 rows x 10 columns]"
      ]
     },
     "execution_count": 96,
     "metadata": {},
     "output_type": "execute_result"
    }
   ],
   "source": [
    "ret = np.random.choice(values, ndays*nscen, p=prob)\n",
    "dates = pd.date_range(start=Hoy,periods=ndays)\n",
    "sim_ret_hist = pd.DataFrame(ret.reshape((ndays,nscen)),index=dates)\n",
    "sim_ret_hist"
   ]
  },
  {
   "cell_type": "code",
   "execution_count": 97,
   "metadata": {
    "scrolled": false
   },
   "outputs": [
    {
     "data": {
      "text/html": [
       "<div>\n",
       "<style scoped>\n",
       "    .dataframe tbody tr th:only-of-type {\n",
       "        vertical-align: middle;\n",
       "    }\n",
       "\n",
       "    .dataframe tbody tr th {\n",
       "        vertical-align: top;\n",
       "    }\n",
       "\n",
       "    .dataframe thead th {\n",
       "        text-align: right;\n",
       "    }\n",
       "</style>\n",
       "<table border=\"1\" class=\"dataframe\">\n",
       "  <thead>\n",
       "    <tr style=\"text-align: right;\">\n",
       "      <th></th>\n",
       "      <th>0</th>\n",
       "      <th>1</th>\n",
       "      <th>2</th>\n",
       "      <th>...</th>\n",
       "      <th>7</th>\n",
       "      <th>8</th>\n",
       "      <th>9</th>\n",
       "    </tr>\n",
       "  </thead>\n",
       "  <tbody>\n",
       "    <tr>\n",
       "      <th>2019-11-14</th>\n",
       "      <td>263.250</td>\n",
       "      <td>262.341</td>\n",
       "      <td>266.919</td>\n",
       "      <td>...</td>\n",
       "      <td>262.341</td>\n",
       "      <td>267.844</td>\n",
       "      <td>264.163</td>\n",
       "    </tr>\n",
       "    <tr>\n",
       "      <th>2019-11-15</th>\n",
       "      <td>253.132</td>\n",
       "      <td>262.043</td>\n",
       "      <td>268.466</td>\n",
       "      <td>...</td>\n",
       "      <td>261.138</td>\n",
       "      <td>265.694</td>\n",
       "      <td>264.777</td>\n",
       "    </tr>\n",
       "    <tr>\n",
       "      <th>2019-11-16</th>\n",
       "      <td>254.600</td>\n",
       "      <td>266.312</td>\n",
       "      <td>263.562</td>\n",
       "      <td>...</td>\n",
       "      <td>261.745</td>\n",
       "      <td>263.562</td>\n",
       "      <td>268.161</td>\n",
       "    </tr>\n",
       "    <tr>\n",
       "      <th>2019-11-17</th>\n",
       "      <td>251.685</td>\n",
       "      <td>266.009</td>\n",
       "      <td>262.353</td>\n",
       "      <td>...</td>\n",
       "      <td>266.009</td>\n",
       "      <td>265.090</td>\n",
       "      <td>269.715</td>\n",
       "    </tr>\n",
       "    <tr>\n",
       "      <th>2019-11-18</th>\n",
       "      <td>250.530</td>\n",
       "      <td>268.478</td>\n",
       "      <td>268.478</td>\n",
       "      <td>...</td>\n",
       "      <td>267.551</td>\n",
       "      <td>267.551</td>\n",
       "      <td>274.109</td>\n",
       "    </tr>\n",
       "    <tr>\n",
       "      <th>...</th>\n",
       "      <td>...</td>\n",
       "      <td>...</td>\n",
       "      <td>...</td>\n",
       "      <td>...</td>\n",
       "      <td>...</td>\n",
       "      <td>...</td>\n",
       "      <td>...</td>\n",
       "    </tr>\n",
       "    <tr>\n",
       "      <th>2020-02-26</th>\n",
       "      <td>261.239</td>\n",
       "      <td>330.526</td>\n",
       "      <td>500.611</td>\n",
       "      <td>...</td>\n",
       "      <td>371.783</td>\n",
       "      <td>493.731</td>\n",
       "      <td>359.141</td>\n",
       "    </tr>\n",
       "    <tr>\n",
       "      <th>2020-02-27</th>\n",
       "      <td>263.664</td>\n",
       "      <td>322.251</td>\n",
       "      <td>503.513</td>\n",
       "      <td>...</td>\n",
       "      <td>371.360</td>\n",
       "      <td>494.879</td>\n",
       "      <td>366.256</td>\n",
       "    </tr>\n",
       "    <tr>\n",
       "      <th>2020-02-28</th>\n",
       "      <td>265.193</td>\n",
       "      <td>320.773</td>\n",
       "      <td>508.188</td>\n",
       "      <td>...</td>\n",
       "      <td>373.513</td>\n",
       "      <td>517.055</td>\n",
       "      <td>363.317</td>\n",
       "    </tr>\n",
       "    <tr>\n",
       "      <th>2020-02-29</th>\n",
       "      <td>258.554</td>\n",
       "      <td>304.205</td>\n",
       "      <td>518.256</td>\n",
       "      <td>...</td>\n",
       "      <td>371.799</td>\n",
       "      <td>520.052</td>\n",
       "      <td>365.423</td>\n",
       "    </tr>\n",
       "    <tr>\n",
       "      <th>2020-03-01</th>\n",
       "      <td>252.080</td>\n",
       "      <td>304.912</td>\n",
       "      <td>514.097</td>\n",
       "      <td>...</td>\n",
       "      <td>375.251</td>\n",
       "      <td>519.461</td>\n",
       "      <td>370.094</td>\n",
       "    </tr>\n",
       "  </tbody>\n",
       "</table>\n",
       "<p>109 rows × 10 columns</p>\n",
       "</div>"
      ],
      "text/plain": [
       "                  0        1        2   ...           7        8        9\n",
       "2019-11-14  263.250  262.341  266.919   ...     262.341  267.844  264.163\n",
       "2019-11-15  253.132  262.043  268.466   ...     261.138  265.694  264.777\n",
       "2019-11-16  254.600  266.312  263.562   ...     261.745  263.562  268.161\n",
       "2019-11-17  251.685  266.009  262.353   ...     266.009  265.090  269.715\n",
       "2019-11-18  250.530  268.478  268.478   ...     267.551  267.551  274.109\n",
       "...             ...      ...      ...   ...         ...      ...      ...\n",
       "2020-02-26  261.239  330.526  500.611   ...     371.783  493.731  359.141\n",
       "2020-02-27  263.664  322.251  503.513   ...     371.360  494.879  366.256\n",
       "2020-02-28  265.193  320.773  508.188   ...     373.513  517.055  363.317\n",
       "2020-02-29  258.554  304.205  518.256   ...     371.799  520.052  365.423\n",
       "2020-03-01  252.080  304.912  514.097   ...     375.251  519.461  370.094\n",
       "\n",
       "[109 rows x 10 columns]"
      ]
     },
     "execution_count": 97,
     "metadata": {},
     "output_type": "execute_result"
    }
   ],
   "source": [
    "sim_closes_hist = (closes_aapl.iloc[-1,0])*np.exp(sim_ret_hist.cumsum())\n",
    "sim_closes_hist"
   ]
  },
  {
   "cell_type": "code",
   "execution_count": 46,
   "metadata": {},
   "outputs": [
    {
     "data": {
      "image/png": "[encoded data removed]",
      "text/plain": [
       "<Figure size 576x432 with 1 Axes>"
      ]
     },
     "metadata": {},
     "output_type": "display_data"
    }
   ],
   "source": [
    "sim_closes_hist.plot(figsize=(8,6),legend=False);"
   ]
  },
  {
   "cell_type": "code",
   "execution_count": 47,
   "metadata": {},
   "outputs": [
    {
     "data": {
      "text/plain": [
       "Text(0.5,1,'Simulación usando el histograma de los rendimientos')"
      ]
     },
     "execution_count": 47,
     "metadata": {},
     "output_type": "execute_result"
    },
    {
     "data": {
      "image/png": "[encoded data removed]",
      "text/plain": [
       "<Figure size 576x432 with 1 Axes>"
      ]
     },
     "metadata": {},
     "output_type": "display_data"
    }
   ],
   "source": [
    "pd.concat([closes_aapl,sim_closes_hist]).plot(figsize=(8,6),legend=False);\n",
    "plt.title('Simulación usando el histograma de los rendimientos')"
   ]
  },
  {
   "cell_type": "code",
   "execution_count": 98,
   "metadata": {},
   "outputs": [],
   "source": [
    "K=240\n",
    "ndays = 109\n",
    "nscen = 10000\n",
    "freq, values = np.histogram(ret_aapl+r-mu, bins=2000)\n",
    "prob = freq/np.sum(freq)\n",
    "ret=np.random.choice(values[1:],ndays*nscen,p=prob)\n",
    "dates=pd.date_range('2018-10-29',periods=ndays)\n",
    "sim_ret_hist = pd.DataFrame(ret.reshape((ndays,nscen)),index=dates)\n",
    "sim_closes_hist = (closes_aapl.iloc[-1,0])*np.exp(sim_ret_hist.cumsum())"
   ]
  },
  {
   "cell_type": "code",
   "execution_count": 99,
   "metadata": {},
   "outputs": [
    {
     "data": {
      "image/png": "[encoded data removed]",
      "text/plain": [
       "<Figure size 432x288 with 1 Axes>"
      ]
     },
     "metadata": {},
     "output_type": "display_data"
    }
   ],
   "source": [
    "strike = pd.DataFrame(K*np.ones(ndays*nscen).reshape((ndays,nscen)), index=dates)\n",
    "call_hist = pd.DataFrame({'Prima':np.exp(-r*ndays)*np.fmax(sim_closes_hist-strike,np.zeros(ndays*nscen).reshape((ndays,nscen))).T.mean()}, index=dates)\n",
    "call_hist.plot();"
   ]
  },
  {
   "cell_type": "code",
   "execution_count": 100,
   "metadata": {
    "scrolled": true
   },
   "outputs": [
    {
     "data": {
      "text/plain": [
       "Prima    35.286\n",
       "Name: 2019-02-14 00:00:00, dtype: float64"
      ]
     },
     "execution_count": 100,
     "metadata": {},
     "output_type": "execute_result"
    }
   ],
   "source": [
    "call_hist.iloc[-1]"
   ]
  },
  {
   "cell_type": "code",
   "execution_count": 51,
   "metadata": {},
   "outputs": [
    {
     "data": {
      "text/plain": [
       "{'contractSymbol': 'AAPL210115C00240000',\n",
       " 'strike': 240.0,\n",
       " 'currency': 'USD',\n",
       " 'lastPrice': 42.47,\n",
       " 'change': -1.0299988,\n",
       " 'percentChange': -2.3678133,\n",
       " 'volume': 40,\n",
       " 'openInterest': 2663,\n",
       " 'bid': 41.9,\n",
       " 'ask': 42.65,\n",
       " 'contractSize': 'REGULAR',\n",
       " 'expiration': 1610668800,\n",
       " 'lastTradeDate': 1573763308,\n",
       " 'impliedVolatility': 0.27719839019775383,\n",
       " 'inTheMoney': True}"
      ]
     },
     "execution_count": 51,
     "metadata": {},
     "output_type": "execute_result"
    }
   ],
   "source": [
    "opcion_valuar['JSON']"
   ]
  },
  {
   "cell_type": "markdown",
   "metadata": {},
   "source": [
    "Intervalo de confianza del 95%"
   ]
  },
  {
   "cell_type": "code",
   "execution_count": 101,
   "metadata": {
    "scrolled": true
   },
   "outputs": [
    {
     "name": "stdout",
     "output_type": "stream",
     "text": [
      "(34.419657128757756, 36.152767091478275)\n",
      "(34.419657128757756, 36.152767091478275)\n"
     ]
    }
   ],
   "source": [
    "confianza = 0.95\n",
    "sigma_est = sim_closes_hist.iloc[-1].sem()\n",
    "mean_est = call_hist.iloc[-1].Prima\n",
    "i1 = st.t.interval(confianza,nscen-1, loc=mean_est, scale=sigma_est)\n",
    "i2 = st.norm.interval(confianza, loc=mean_est, scale=sigma_est)\n",
    "print(i1)\n",
    "print(i1)\n"
   ]
  },
  {
   "cell_type": "markdown",
   "metadata": {},
   "source": [
    "# <font color = 'red'> Tarea: </font>\n",
    "\n",
    "Replicar el procedimiento anterior para valoración de opciones 'call', pero en este caso para opciones tipo 'put'."
   ]
  },
  {
   "cell_type": "markdown",
   "metadata": {},
   "source": [
    "<script>\n",
    "  $(document).ready(function(){\n",
    "    $('div.prompt').hide();\n",
    "    $('div.back-to-top').hide();\n",
    "    $('nav#menubar').hide();\n",
    "    $('.breadcrumb').hide();\n",
    "    $('.hidden-print').hide();\n",
    "  });\n",
    "</script>\n",
    "\n",
    "<footer id=\"attribution\" style=\"float:right; color:#808080; background:#fff;\">\n",
    "Created with Jupyter by Esteban Jiménez Rodríguez and modify by Oscar Jaramillo Z.\n",
    "</footer>"
   ]
  }
 ],
 "metadata": {
  "kernelspec": {
   "display_name": "Python 3",
   "language": "python",
   "name": "python3"
  },
  "language_info": {
   "codemirror_mode": {
    "name": "ipython",
    "version": 3
   },
   "file_extension": ".py",
   "mimetype": "text/x-python",
   "name": "python",
   "nbconvert_exporter": "python",
   "pygments_lexer": "ipython3",
   "version": "3.7.1"
  }
 },
 "nbformat": 4,
 "nbformat_minor": 2
}
