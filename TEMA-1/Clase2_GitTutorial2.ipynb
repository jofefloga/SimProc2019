{
 "cells": [
  {
   "cell_type": "markdown",
   "metadata": {},
   "source": [
    "# `git`, `GitHub`, `GitKraken` (continuación)\n",
    "\n",
    "<img style=\"float: left; margin: 15px 15px 15px 15px;\" src=\"http://conociendogithub.readthedocs.io/en/latest/_images/Git.png\" width=\"180\" height=\"50\" />\n",
    "<img style=\"float: left; margin: 15px 15px 15px 15px;\" src=\"https://c1.staticflickr.com/3/2238/13158675193_2892abac95_z.jpg\" title=\"github\" width=\"180\" height=\"50\" />\n",
    "<img style=\"float: left; margin: 15px 15px 15px 15px;\" src=\"https://www.gitkraken.com/downloads/brand-assets/gitkraken-keif-teal-sq.png\" title=\"gitkraken\" width=\"180\" height=\"50\" />"
   ]
  },
  {
   "cell_type": "markdown",
   "metadata": {},
   "source": [
    "___\n",
    "## Recuento de la clase pasada\n",
    "En la clase pasada vimos como sincronizar el repositorio remoto con los cambios que hemos realizado y documentado localmente. *En la práctica, esto se da cuando nosotros mismos editamos alguna parte de un proyecto en el que estamos trabajando*.\n",
    "\n",
    "Ahora aprenderemos a hacer lo contrario. Es decir, como sincronizar el repositorio local con los cambios que se hayan hecho en el repositorio remoto. *En la práctica, esto se da cuando otros colaboradores del proyecto hacen algún cambio y nosotros queremos ver esos cambios*.\n",
    "\n",
    "Seguimos basándonos en el siguiente video de `YouTube`."
   ]
  },
  {
   "cell_type": "code",
   "execution_count": 1,
   "metadata": {},
   "outputs": [
    {
     "data": {
      "image/jpeg": "[encoded data removed]",
      "text/html": [
       "\n",
       "        <iframe\n",
       "            width=\"400\"\n",
       "            height=\"300\"\n",
       "            src=\"https://www.youtube.com/embed/f0y_xCeM1Rk\"\n",
       "            frameborder=\"0\"\n",
       "            allowfullscreen\n",
       "        ></iframe>\n",
       "        "
      ],
      "text/plain": [
       "<IPython.lib.display.YouTubeVideo at 0x1b3a2a77fd0>"
      ]
     },
     "execution_count": 1,
     "metadata": {},
     "output_type": "execute_result"
    }
   ],
   "source": [
    "from IPython.display import YouTubeVideo\n",
    "YouTubeVideo('f0y_xCeM1Rk')"
   ]
  },
  {
   "cell_type": "markdown",
   "metadata": {},
   "source": [
    "### Receta (continuación)\n",
    "\n",
    "1. Estando en `GitHub` en el repositorio `hello-world`, picar en *Create new file*.\n",
    "    - Normalmente la gente no crea ni edita archivos en `GitHub`, sin embargo esta será nuestra forma de emular que alguien incluyó un nuevo archivo en nuestro proyecto.\n",
    "    - Darle algún nombre al archivo y poner algo en el cuerpo de texto.\n",
    "    - Poner un mensaje describiendo que se añadió un nuevo archivo.\n",
    "    - Picar en *Commit new file*.\n",
    "    - Ver que en el repositorio remoto en `GitHub` ya existe el nuevo archivo, pero en el repositorio local no.\n",
    "2. Revisar el arbol de cambios en `GitKraken`. Vemos que ahora el ícono que revela los cambios en `GitHub` va un paso adelante del ícono que revela los cambios en el repositorio local.\n",
    "3. Para incorporar los cambios del repositorio remoto en el repositorio local debemos picar en *Pull* en la parte superior. De nuevo, los íconos deberían juntarse.\n",
    "4. Revisar el repositorio local para ver que el nuevo archivo ya está ahí."
   ]
  },
  {
   "cell_type": "markdown",
   "metadata": {},
   "source": [
    "### Hasta ahora...\n",
    "Hemos aprendido como manejar repositorios remotos de forma básica con `GitKraken`:\n",
    "\n",
    "1. Teniendo un repositorio remoto guardado en `GitHub`, *jalamos* (pulled) esos archivos a nuestro disco local para trabajar. El tipo de operaciones que llevamos a cabo fueron:\n",
    "    1. Clone:<font color= red > descripción</font>.\n",
    "    2. Pull:<font color= red > descripción</font>.\n",
    "2. También hicimos lo opuesto. Si hacemos cambios en nustro repositorio local, pudimos actualizar nuestro repositorio de `GitHub`. El tipo de operación que llevamos a cabo fue:\n",
    "    1. Push:<font color= red > descripción</font>."
   ]
  },
  {
   "cell_type": "markdown",
   "metadata": {
    "collapsed": true
   },
   "source": [
    "___\n",
    "## ¿Y si cometemos algún error?\n",
    "Los errores son inherentes a nuestra condición humana. Por tanto, es muy probable que en el desarrollo de un proyecto cometamos algún error.\n",
    "\n",
    "Una de las características de gestionar versiones con `git` (y por ende con `GitKraken`), es que podemos volver a un commit anterior si cometimos algún error.\n",
    "\n",
    "<font color= red > Mostrar cómo hacer esto en GitKraken.</font>"
   ]
  },
  {
   "cell_type": "markdown",
   "metadata": {
    "collapsed": true
   },
   "source": [
    "___\n",
    "## Branching\n",
    "Cuando hicimos el ejercicio *hello-world* al abrir la cuenta en `GitHub`, nos dieron una pequeña introducción al *branching* (creamos una rama de edición, editamos el archivo `README`, para finalmente fusionar los cambios en la rama *master*).\n",
    "\n",
    "*Branching*: \n",
    "- Es una forma <font color=green>segura</font> de realizar cambios importantes en un proyecto con `git`.\n",
    "- Consiste en crear ramas adicionales para hacer modificaciones en el proyecto sin modificar la rama *master* hasta que se esté completamente seguro de las modificaciones.\n",
    "- Una vez se esté seguro de que las modificaciones están bien, dichas modificaciones se incluyen en la rama *master*\n",
    "\n",
    "### Ejemplo\n",
    "1. En `GitKraken`, en el repositorio *hello-world*, crear una rama llamada *add_file*.\n",
    "    - Click derecho sobre el icono master, y picar en *Create branch here*.\n",
    "    - Dar nombre *add_file* y presionar la tecla enter.\n",
    "    - Notar que automáticamente `GitKraken` nos pone en la rama recién creada.\n",
    "2. Ir al directorio local del repositorio y añadir un archivo nuevo.\n",
    "3. Hacer el proceso de *stage* y *commit* en la rama.\n",
    "4. Revisar que pasa con el directorio cuando cambiamos de rama (para cambiar de rama, dar doble click sobre la rama a la que se quiere pasar).\n",
    "5. Incluir los cambios en la rama *master* (arrastrar una rama sobre la otra, y picar en la opción *Merge add_file into master*).\n",
    "6. Cambiar a la rama *master* y borrar la rama *add_file*.\n",
    "7. Hacer un *push* para actualizar el repositorio remoto.\n",
    "\n",
    "> Página de imágenes con caracteres: https://norfipc.com/facebook/ejemplos-arte-ascii-usando-caracteres.html"
   ]
  },
  {
   "cell_type": "markdown",
   "metadata": {},
   "source": [
    "___\n",
    "## Forking\n",
    "Una bifurcación (*fork*) es una copia de un repositorio. Bifurcar un repositorio te permite experimentar cambios libremente sin afectar el proyecto original.\n",
    "\n",
    "Existen varias aplicaciones del *Forking*:\n",
    "\n",
    "### Seguir un proyecto de otra persona\n",
    "Como ejemplo, van a seguir el proyecto de la asignatura **SPF-2018-II**.\n",
    "\n",
    "Los siguientes pasos nos enseñarán como mantener nuestro repositorio local actualizado con el repositorio de la asignatura.\n",
    "1. Entrar al repositorio https://github.com/odjaramilloz/SPF-2020-I-G1\n",
    "2. En la esquina superior derecha, dar click en *fork* y esperar un momento. Esta acción copia en su cuenta de `GitHub` un repositorio idéntico al de la materia (con el mismo nombre).\n",
    "3. Desde `GitKraken`, clonar el repositorio (el que ya está en su cuenta).\n",
    "4. En la pestaña *REMOTE* dar click en el signo `+`.\n",
    "    - Picar en `GitHub`.\n",
    "    - Desplegar la pestaña y elegir odjaramilloz/SPF-2020-I-G1.\n",
    "    - Picar en *Add remote*.\n",
    "5. <font color=red>Añadiré un nuevo archivo en el repositorio de la materia y ustedes verán qué pasa en `GitKraken`</font>.\n",
    "6. Arrastrar el repositorio remoto ajeno a la rama *master* y dar click en la opción *Merge odjaramilloz/master into master*. Ya el repositorio local está actualizado.\n",
    "7. Para actualizar el repositorio remoto propio hacer un *push*.\n",
    "\n",
    "### Proyectos colaborativos\n",
    "Normalmente, los *forks* se usan para proponer cambios en el proyecto de otra persona (hacer proyectos colaborativos).\n",
    "\n",
    "<font color=red>Hacer un cambio en el repositorio propio y mostrar como hacer el *pull request* y el *merge*</font>.\n",
    "\n",
    "**Referencias:**\n",
    "- https://help.github.com/articles/fork-a-repo/\n",
    "- https://guides.github.com/activities/forking/"
   ]
  },
  {
   "cell_type": "markdown",
   "metadata": {},
   "source": [
    "> <font color=blue>**Actividad**</font>: por parejas harán un proyecto colaborativo. En canvas subiré como hacerlo paso a paso y qué es lo que se debe entregar.\n",
    "\n",
    "> Fecha de entrega: Martes 4 de Febrero.\n",
    "\n",
    "**Recordar tarea para hoy y recuento de la clase**"
   ]
  },
  {
   "cell_type": "markdown",
   "metadata": {},
   "source": [
    "<img src=\"https://raw.githubusercontent.com/louim/in-case-of-fire/master/in_case_of_fire.png\" title=\"In case of fire (https://github.com/louim/in-case-of-fire)\" width=\"200\" height=\"50\" align=\"center\">"
   ]
  },
  {
   "cell_type": "markdown",
   "metadata": {},
   "source": [
    "<script>\n",
    "  $(document).ready(function(){\n",
    "    $('div.prompt').hide();\n",
    "    $('div.back-to-top').hide();\n",
    "    $('nav#menubar').hide();\n",
    "    $('.breadcrumb').hide();\n",
    "    $('.hidden-print').hide();\n",
    "  });\n",
    "</script>\n",
    "\n",
    "<footer id=\"attribution\" style=\"float:right; color:#808080; background:#fff;\">\n",
    "Created with Jupyter by Esteban Jiménez Rodríguez.\n",
    "</footer>"
   ]
  }
 ],
 "metadata": {
  "anaconda-cloud": {},
  "kernelspec": {
   "display_name": "Python 3",
   "language": "python",
   "name": "python3"
  },
  "language_info": {
   "codemirror_mode": {
    "name": "ipython",
    "version": 3
   },
   "file_extension": ".py",
   "mimetype": "text/x-python",
   "name": "python",
   "nbconvert_exporter": "python",
   "pygments_lexer": "ipython3",
   "version": "3.6.5"
  }
 },
 "nbformat": 4,
 "nbformat_minor": 1
}
