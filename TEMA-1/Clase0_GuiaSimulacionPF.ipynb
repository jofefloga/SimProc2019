{
 "cells": [
  {
   "cell_type": "markdown",
   "metadata": {},
   "source": [
    "___\n",
    "<img style=\"float: right; margin: 0px 0px 15px 15px;\" src=\"https://upload.wikimedia.org/wikipedia/commons/thumb/4/4a/Python3-powered_hello-world.svg/1000px-Python3-powered_hello-world.svg.png\" width=\"300px\" height=\"100px\" />\n",
    "\n",
    "\n",
    "## <font color= #8A0829> Simulación de procesos financieros.</font>\n",
    "#### <font color= #2E9AFE>  `Martes - Jueves de 18:00 a 20:00 hrs`</font>\n",
    "- <Strong> Oscar David Jaramillo Zulluaga </Strong>\n",
    "- <Strong> Año </Strong>: 2020\n",
    "- <Strong> Copyright: </Strong> Public Domain como en [CC](https://creativecommons.org/licenses/by/2.0/) (Exepto donde se indique lo contrario)\n",
    "\n",
    "- <Strong> Email: </Strong> <font color=\"blue\"> `odjaramilloz@gmail.com, odjaramilloz@iteso.mx`  </font>"
   ]
  },
  {
   "cell_type": "markdown",
   "metadata": {},
   "source": [
    "___\n",
    "### Presentación mia"
   ]
  },
  {
   "cell_type": "markdown",
   "metadata": {},
   "source": [
    "___\n",
    "### **Presentación de ustedes**"
   ]
  },
  {
   "cell_type": "markdown",
   "metadata": {},
   "source": [
    "___\n",
    "### **Algunas reglas de juego**"
   ]
  },
  {
   "cell_type": "markdown",
   "metadata": {},
   "source": [
    "* No comidas ni bebidas en las clases.\n",
    "* <font color= red> EL CELULAR. </font>\n",
    "* La regla más importante de todas (regla de oro): todas las entregas se realizan a través de canvas con los plazos asignados. No se aceptan trabajos fuera de la plataforma ni fuera de plazo. No insistan en este punto, no hay negocio."
   ]
  },
  {
   "cell_type": "markdown",
   "metadata": {},
   "source": [
    "___\n",
    "### Horario de asesoría\n",
    "<font color = red> Martes 17:00 - 18:00"
   ]
  },
  {
   "cell_type": "markdown",
   "metadata": {},
   "source": [
    "### `Descripción de la asignatura`\n",
    "*Este es un curso básico de simulación utilizando python, por ende vamos a iniciar elaborando programas simples y conforme avancemos el **nivel de exigencia aumentará**, hasta donde el tiempo nos permita.*\n",
    "\n",
    "- Se analiza el comportamiento de procesos financieros mediante diseñar, formular, estructurar, solucionar y dar recomendaciones sobre procesos de simulación financiera para la toma de decisiones, estructurando estrategias dinámicas y políticas apropiadas al sistema.\n",
    "\n",
    "- La asignatura está diseñada para que logres dichos propósitos e inicies un proceso que te permita apropiarte de desempeños profesionales muy útiles en tu formación profesional y en tu futuro, al incorporarte a la industria u organizaciones que te demandarán resolver e implementar la simulación de escenarios bajo diferentes situaciones a través de la sistematización de la solución al problema planteado."
   ]
  },
  {
   "cell_type": "markdown",
   "metadata": {},
   "source": [
    "#### `OBJETIVO GENERAL `\n",
    ">  <p style='text-align: justify;'> Apropiarse de competencias de análisis de sistemas financieros mediante la evaluación del comportamiento en el tiempo obtenido a través de la simulación dinámica de los procesos que lo integran, para la toma de decisiones financieras corporativas sobre valores, créditos, opciones, intereses, monedas, y precios bajo incertidumbre.</p>"
   ]
  },
  {
   "cell_type": "markdown",
   "metadata": {},
   "source": [
    " `TEMA 1`: **Introducción a la Simulación**\n",
    "> En este primer módulo se presentan los contenidos del curso, junto con las herramientas computacionales necesarias para utlizar durante todo el semestre. También, aprenderás a realizar una optimización de los códigos desarrollados usando programación vectorizada y funcional. Finalmente, se estudiarán algunos ejemplos de simulación, para ilustrar las métodologías estudiadas.\n",
    "   \n",
    "   1. Introducción a la simulación.\n",
    "    - Introducción e instalación de software\n",
    "    - Tarea 1.\n",
    "   2. Gestión de proyectos (git, GitHub, GitKraken) I.\n",
    "   3. Gestión de proyectos (git, GitHub, GitKraken) II.\n",
    "    - Tarea 2.\n",
    "   4. Metodología de un estudio de simulación\n",
    "   5. Optimización de código **(Programación vectorizada y funcional).**\n",
    "    - Quiz próxima clase.\n",
    "   6. Generación de Números Pseudoaleatorios\n",
    "    - Quiz próxima clase.\n",
    "   7. Ejemplos simples de aplicación de simulación\n",
    "    - Tarea 3."
   ]
  },
  {
   "cell_type": "markdown",
   "metadata": {},
   "source": [
    "`TEMA 2.`  **Simulación Montecarlo**\n",
    "> En este Tema se recordará formalmente ciertas distribuciones de probabilidad y su respectiva aplicación usando python. También, se estudiarán sus aplicaciones en el mundo ingenieril para modelar diferentes tipos de problemas. Por otro lado, se usarán ciertas herramientas matemáticas, las cuales permiten reducir la varianza cuando necesitamos generar variables aleatorias con cierta distribución de probabilidad.\n",
    "\n",
    "   1. Método Montecarlo crudo\n",
    "      - Tarea 4.\n",
    "   2. Distribuciones de  probabilidad \n",
    "      - Distribución uniforme general\n",
    "      - Distribución triangular\n",
    "      - Distribución normal\n",
    "      - Distribución exponencial\n",
    "      - Distribución de Erlang\n",
    "      - Distribución Binomial\n",
    "      - Distribución de Poisson\n",
    "          - Tarea 5.\n",
    "   3. Generación de observaciones aleatorias a partir de una distribución de probabilidad\n",
    "      - Método de la transformada inversa\n",
    "          - Quiz próxima clase\n",
    "      - Método de aceptación rechazo\n",
    "          - Tarea 6..\n",
    "     - ** Definición del proyecto**\n",
    "\n",
    "   4. Técnicas de reducción de varianza\n",
    "      - Muestreo estratificado\n",
    "      - Método de números aleatorios complementarios\n",
    "          - Quiz próxima clase.\n",
    "   5. Prueba de bondad de ajuste para ajuste de distribuciones de probabilidad\n",
    "      - Tarea 7.\n",
    "   6. Aplicaciones de la simulación.\n",
    "   7. Evaluación 1.\n",
    "   - **Presentación del proyecto**\n"
   ]
  },
  {
   "cell_type": "markdown",
   "metadata": {},
   "source": [
    "`TEMA 3.` **Valuación de Opciones usando Simulación Monte Carlo**\n",
    "> En este Tema final, usando las herramientas aprendidas en los dos Temas previos, se pretende estudiar la valuación de cuatro tipos de opciones, vainilla, Asiática, Americana y Barrera. También, se pretende solucionar ciertos problemas prácticos donde es necesario la valuación de opciones.\n",
    "\n",
    "1. Opciones Plan Vainilla: opción de compra y opción de venta europea\n",
    "    - Tarea 8.\n",
    "2. Opciones Asiáticas\n",
    "    - Tarea 9.\n",
    "    - Quiz próxima clase.\n",
    "3. Opciones americanas\n",
    "    - Tarea 10.\n",
    "    - Quiz próxima clase.\n",
    "4. Opciones de barrera\n",
    "    - Quiz al final de la clase.\n",
    "5. Evaluación 2."
   ]
  },
  {
   "cell_type": "markdown",
   "metadata": {},
   "source": [
    "### `Evaluación`\n",
    "- **10 Tareas 30%**\n",
    " - La evaluación de cada tarea se divide en dos partes \n",
    "   - Primera entrega     40%\n",
    "   - Segunda entrega     60% \n",
    "\n",
    "- **2 Exámenes  30 %**\n",
    " - Examen 1 -> 15%\n",
    " - Examen 2 -> 15%\n",
    " \n",
    "- ** 7 Quices 20%**\n",
    "\n",
    "- <strong> Proyecto (trabajo en equipo)       20%</strong>\n",
    "  - La evaluación de cada proyecto se divide en dos partes \n",
    "   - Reporte     10%\n",
    "   - Exposición  10% \n",
    "    - <font color=\"blue\">Equipos de 2 integrantes mínimo y 3 máximo</font>.\n",
    "    - Si durante algún proyecto las cosas no funcionan entre los integrantes, para el siguiente proyecto se pueden formar equipos nuevos. "
   ]
  },
  {
   "cell_type": "markdown",
   "metadata": {},
   "source": [
    "### `Bibliografía `"
   ]
  },
  {
   "cell_type": "markdown",
   "metadata": {},
   "source": [
    "> ```\n",
    "- Simulation techniques in financial risk management by Ngail Hang Chan and Hoi Ying Wong, year 2015\n",
    "- Monte Carlo methods in finalcial engineering by Paul Glasserman, year 2010\n",
    "- Handbook in Monte Carlo simulation applications in financial engineering, risk management, and economics by Paolo Brandimarte, year 2014```\n",
    "Estos y muchos mas libros los pueden encontrar en la Biblioteca."
   ]
  },
  {
   "cell_type": "markdown",
   "metadata": {},
   "source": [
    "<script>\n",
    "  $(document).ready(function(){\n",
    "    $('div.prompt').hide();\n",
    "    $('div.back-to-top').hide();\n",
    "    $('nav#menubar').hide();\n",
    "    $('.breadcrumb').hide();\n",
    "    $('.hidden-print').hide();\n",
    "  });\n",
    "</script>\n",
    "\n",
    "<footer id=\"attribution\" style=\"float:right; color:#808080; background:#fff;\">\n",
    "Created with Jupyter by Lázaro Alonso. Modified by Oscar David Jaramillo Zuluaga.\n",
    "</footer>"
   ]
  }
 ],
 "metadata": {
  "anaconda-cloud": {},
  "kernelspec": {
   "display_name": "Python 3",
   "language": "python",
   "name": "python3"
  },
  "language_info": {
   "codemirror_mode": {
    "name": "ipython",
    "version": 3
   },
   "file_extension": ".py",
   "mimetype": "text/x-python",
   "name": "python",
   "nbconvert_exporter": "python",
   "pygments_lexer": "ipython3",
   "version": "3.6.5"
  }
 },
 "nbformat": 4,
 "nbformat_minor": 1
}
