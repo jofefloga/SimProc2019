{
 "cells": [
  {
   "cell_type": "markdown",
   "metadata": {},
   "source": [
    "# Clase 7\n",
    "\n",
    "El objetivo con esta sesión es entender las nociones básicas y metodología, para realizar una simulación de algún proceso de nuestra vida cotidiana o profesional. "
   ]
  },
  {
   "cell_type": "markdown",
   "metadata": {},
   "source": [
    "## Etapas para realizar un estudio de simulación\n",
    "\n",
    "> - *Definición del sistema*: determinar la interacción del sistema con otros sistemas, restricciones, interacción e interrelación de variables de interés y los resultados esperados.\n",
    "> - *Formulación de un modelo*: Es necesario definir todas las variables que forman parte del sistema y además definir un diagrama de flujo que describa la forma completa del modelo.\n",
    "> - *Colección de datos*: Definir los datos necesarios para el modelo. Datos pueden provenir de registros contables, órdenes de trabajo, órdenes de compra, opiniones de expertos y si no hay otro remedio por experimentación.\n",
    "> - *Validación*: En esta etapa es posible detectar deficiencias en la formulación del modelo o en los datos sumunistrados al modelo. Formas de validar un modelo son:\n",
    "    - Opinión de expertos.\n",
    "    - Exactitud con que se predicen datos hitóricos.\n",
    "    - Exactitud de la predicción del futuro.\n",
    "    - La aceptación y confianza en el modelo de la persona que hará uso de los resultados que arroje el experimento de simulación.\n",
    "    \n",
    "> - *Experimentación*: La experimentación con el modelo se realiza después de que éste ha sido validado. La experimentación consiste en generar los datos deseados y en realizar el análisis de sensibilidad de los índices requeridos.\n",
    "> - *Interpretación*: Se interpretan los resultados que arroja la simulación y en base a esto se toma una decisión.\n",
    "> - *Documentación*: \n",
    "    - Datos que debe de tener el modelo\n",
    "    - Manual de usurario\n",
    "        "
   ]
  },
  {
   "cell_type": "markdown",
   "metadata": {},
   "source": [
    "# Ejemplo de aplicación- Cafetería Central\n",
    "\n",
    "Premisas para la simulación:\n",
    "- Negocio de alimentos que vende bebidas y alimentos.\n",
    "- Negocio dentro del ITESO.\n",
    "- Negocio en cafetería central.\n",
    "- Tipo de clientes (hombres y mujeres).\n",
    "- Rentabilidad del 60%.\n",
    "\n",
    "## Objetivo\n",
    "Realizar una simulación estimado el tiempo medio que se tardaran los clientes en ser atendidos entre el horario de 6:30 a 1 pm. Además saber el consumo. \n",
    "**Analizar supuestos y limitantes**"
   ]
  },
  {
   "cell_type": "code",
   "execution_count": 1,
   "metadata": {},
   "outputs": [],
   "source": [
    "# Importación de paquetes\n",
    "import numpy as np\n",
    "import matplotlib.pyplot as plt"
   ]
  },
  {
   "cell_type": "code",
   "execution_count": 19,
   "metadata": {},
   "outputs": [
    {
     "data": {
      "image/png": "[encoded data removed]",
      "text/plain": [
       "<Figure size 432x288 with 1 Axes>"
      ]
     },
     "metadata": {
      "needs_background": "light"
     },
     "output_type": "display_data"
    }
   ],
   "source": [
    "np.random.seed(542)\n",
    "N = 30 # número de mediciones\n",
    "t_medio = (120+40)/2\n",
    "t_atencion_hombre = np.ones(N)*t_medio + np.random.rand(N)*40\n",
    "\n",
    "plt.hist(t_atencion_hombre,bins = 30,density=True)\n",
    "plt.show()"
   ]
  },
  {
   "cell_type": "markdown",
   "metadata": {},
   "source": [
    "## Supuestos en simulación\n",
    "Clasificación de clientes: \n",
    "- Mujer  = 1 $\\longrightarrow$ aleatorio < 0.5\n",
    "- Hombre = 0 $\\longrightarrow$ aleatorio $\\geq$ 0.5.\n",
    "\n",
    "Condiciones iniciales:\n",
    "- Tiempo de simulación: 6:30 am - 1:30pm $\\longrightarrow$ T = 7 horas = 25200 seg.\n",
    "- Tiempo de llegada hasta ser atendido: Min=5seg, Max=30seg.\n",
    "- Tiempo que tardan los clientes en ser atendidos:\n",
    "    - Mujer: Min = 1 min= 60seg, Max = 5 min = 300 seg\n",
    "    - Hombre: Min = 40 seg, Max = 2 min= 120 seg\n",
    "- Consumo según el tipo de cliente:\n",
    "    - Mujer: Min = 30 pesos, Max = 100 pesos\n",
    "    - Hombre: Min = 20 pesos, Max = 80 pesos\n"
   ]
  },
  {
   "cell_type": "code",
   "execution_count": 61,
   "metadata": {},
   "outputs": [
    {
     "name": "stdout",
     "output_type": "stream",
     "text": [
      "Los ingresos totales fueron: [433264.598086127, 418011.21485483844, 410302.32893752103, 441328.2695133706, 471097.2583957135]\n",
      "La rentabilidad fue de: [259958.75885168 250806.7289129  246181.39736251 264796.96170802\n",
      " 282658.35503743]\n"
     ]
    }
   ],
   "source": [
    "################## Programa realizado en clase de forma conjunta  de forma ineficiente\n",
    "d = 5\n",
    "T =25200\n",
    "T_at_min = 5; T_at_max = 30\n",
    "T_mujer_min =60; T_mujer_max = 300\n",
    "T_hombre_min = 40; T_hombre_max = 120\n",
    "C_mujer_min = 30; C_mujer_max = 100\n",
    "C_hombre_min = 20; C_hombre_max = 80\n",
    "\n",
    "Personas = np.random.rand(300)\n",
    "# Listas\n",
    "T_atencion = []\n",
    "\n",
    "Can_mujeres = []\n",
    "Can_hombres = []\n",
    "\n",
    "Ganancias = []\n",
    "P_atendidas = []\n",
    "Consu_h = []\n",
    "Consu_m = []\n",
    "# ciclo de los días\n",
    "for j in range(d):\n",
    "    t_atencion = 0 # Tiempo de atención \n",
    "    i = 0 # Personas\n",
    "    N_mujeres = 0 # número de mujeres\n",
    "    N_hombres = 0 # número de hombres\n",
    "    c_hombre = 0  # consumo total hombre\n",
    "    c_mujer = 0  # consumo total mujer\n",
    "    \n",
    "    \n",
    "    # Día de trabajo \n",
    "    while t_atencion <= T:\n",
    "        t_llegada = np.random.uniform(T_at_min,T_at_max)\n",
    "        t_atencion += t_llegada\n",
    "        if Personas[i]<0.5:\n",
    "            t_persona = np.random.uniform(T_mujer_min,T_mujer_max)\n",
    "            t_atencion += t_persona\n",
    "            N_mujeres += 1\n",
    "            c_mujer += np.random.uniform(C_mujer_min,C_mujer_max)\n",
    "        else:\n",
    "            t_persona = np.random.uniform(T_hombre_min,T_hombre_max)\n",
    "            t_atencion += t_persona\n",
    "            N_hombres += 1\n",
    "            c_hombre += np.random.uniform(C_hombre_min,C_hombre_max)\n",
    "        \n",
    "        i += 1\n",
    "        T_atencion.append(t_persona)\n",
    "\n",
    "    Can_mujeres.append(N_mujeres)\n",
    "    Can_hombres.append(N_hombres)\n",
    "\n",
    "    Ganancias.append((c_hombre+c_mujer)*0.6)\n",
    "    P_atendidas.append(i)\n",
    "    Consu_h.append(c_hombre)\n",
    "    Consu_m.append(c_mujer)\n",
    "        \n",
    "# print('Los gastos de hombres en los 5 días fueron:',Consu_h)\n",
    "# print('En promedio los hombres gastaron:',np.mean(Consu_h))\n",
    "# print('Los gastos de mujeres en los 5 días fueron:',Consu_m)\n",
    "# print('En promedio los mujeres gastaron:',np.mean(Consu_m))\n",
    "print('El número de personas atendidas fueron:',np.mean(P_atendidas))\n",
    "# print('En promedio la cantidad de personas atendidas fueron:',np.mean(P_atendidas))\n",
    "# print('El tiempo de atención total fue:',T_atencion)\n",
    "# print('El tiempo de atención promedio fue:',np.mean(T_atencion))\n",
    "# print('Los ingresos totales fueron:',Ganancias)\n",
    "# print('La rentabilidad fue de:',np.array(Ganancias)*.6)\n",
    "# print('La rentabilidad promedio fue:',np.mean(np.array(G_total)*.6))\n",
    "# print('El atención promedio por persona fue:',np.mean(T_atencionPersonas)/60)"
   ]
  },
  {
   "cell_type": "markdown",
   "metadata": {},
   "source": [
    "## Programación funcional y vectorizada"
   ]
  },
  {
   "cell_type": "code",
   "execution_count": 20,
   "metadata": {},
   "outputs": [],
   "source": [
    "# Definición de la función que simula la cafetería del ITESO\n",
    "def SimCafeteria(Personas,T):\n",
    "    # Información suministrada por la cafetería del ITESO\n",
    "#     T = 25200\n",
    "    Tat_min = 5; Tat_max=30\n",
    "    Tmujer_min = 60; Tmujer_max = 150\n",
    "    Thombre_min = 40; Thombre_max = 120\n",
    "    Gmujer_min = 30; Gmujer_max = 100\n",
    "    Ghombre_min = 20; Ghombre_max=80\n",
    "    \n",
    "    # Inicialización de variables usadas para almacenar información solicitada\n",
    "    t_atencion = 0 # Tiempo de atención \n",
    "    i = 0 # Personas\n",
    "    N_mujeres = 0 # número de mujeres\n",
    "    N_hombres = 0 # número de hombres\n",
    "    c_hombre = 0  # consumo total hombre\n",
    "    c_mujer = 0  # consumo total mujer\n",
    "    T_atencion = []   \n",
    "    \n",
    "    # Día de trabajo \n",
    "    while t_atencion <= T:\n",
    "        t_llegada = np.random.uniform(T_at_min,T_at_max)\n",
    "        t_atencion += t_llegada\n",
    "        if Personas[i]<0.5:\n",
    "            t_persona = np.random.uniform(T_mujer_min,T_mujer_max)\n",
    "            t_atencion += t_persona\n",
    "            N_mujeres += 1\n",
    "            c_mujer += np.random.uniform(C_mujer_min,C_mujer_max)\n",
    "        else:\n",
    "            t_persona = np.random.uniform(T_hombre_min,T_hombre_max)\n",
    "            t_atencion += t_persona\n",
    "            N_hombres += 1\n",
    "            c_hombre += np.random.uniform(C_hombre_min,C_hombre_max)\n",
    "        \n",
    "        i += 1\n",
    "        T_atencion.append(t_persona)\n",
    "    \n",
    "    return np.array([N_mujeres,N_hombres,(c_hombre+c_mujer)*0.6,\n",
    "                    i,c_hombre,c_mujer])"
   ]
  },
  {
   "cell_type": "code",
   "execution_count": null,
   "metadata": {},
   "outputs": [],
   "source": [
    "T = 25200\n",
    "dias = 5000\n",
    "Personas = np.random.rand(T)\n",
    "\n",
    "##################### Como llamar una función varias veces\n",
    "\n",
    "# Correr la función usando compresión de listas\n",
    "e1 = [SimCafeteria(Personas,T) for i in range(dias)]\n",
    "e1 = np.array(e1) # Lo convierto a una matriz\n",
    "\n",
    "# Correr la función usando la función map\n",
    "e2 = list(map(lambda x:SimCafeteria(Personas,T),range(dias)))\n",
    "e2 = np.array(e2)\n",
    "np.mean(e2[:,3])"
   ]
  },
  {
   "cell_type": "markdown",
   "metadata": {},
   "source": [
    "# Su trabajo es graficar ya sea e1 o e2 y que arrojen unas gráficas como las que están al final"
   ]
  },
  {
   "cell_type": "code",
   "execution_count": 74,
   "metadata": {},
   "outputs": [
    {
     "data": {
      "image/png": "[encoded data removed]",
      "text/plain": [
       "<matplotlib.figure.Figure at 0x27e275c0d68>"
      ]
     },
     "metadata": {},
     "output_type": "display_data"
    },
    {
     "name": "stdout",
     "output_type": "stream",
     "text": [
      "El número de personas atendidas fueron: 230.176\n"
     ]
    }
   ],
   "source": [
    "# Correr la función la cantidad de veces necesarias\n",
    "T = 25200\n",
    "dias = 500\n",
    "Personas = np.random.rand(T)\n",
    "\n",
    "# Correr la función usando compresión de listas\n",
    "\n",
    "# Correr la función usando la función map\n",
    "\n",
    "# Graficar\n",
    "fig,(ax1,ax2) = plt.subplots(1,2)\n",
    "fig.set_figwidth(10)\n",
    "fig.set_figheight(5)\n",
    "\n",
    "plt.show()\n",
    "# # print(e[:,-1])\n",
    "# # print('Los gastos de hombres en los 5 días fueron:',e[:,1])\n",
    "# # print('En promedio los hombres gastaron:',np.mean(e[:,1]))\n",
    "# # print('Los gastos de mujeres en los 5 días fueron:',e[:,0])\n",
    "# # print('En promedio los mujeres gastaron:',np.mean(e[:,0]))\n",
    "# print('El número de personas atendidas fueron:',np.mean(e[:,-1]))"
   ]
  },
  {
   "cell_type": "markdown",
   "metadata": {},
   "source": [
    "># Tarea 4\n",
    "> ## En canvas subiré los ejercicios que que deben de entregarme junto con el enlace para la entrega de dicha tarea.\n",
    ">* La solución a esta tarea se debe realizar en un notebook de jupyter, utilizando la sintaxis markdown y además se > deben de reportar el código de cómo obtuvieron los resultados de simulación y con estos resultados responder a las > preguntas dadas.\n",
    ">* La fecha de entrega de esta tarea es **25/02/2020** hasta las 6 pm y se debe de entregar a través de Canvas. \n",
    "> Recuerden después de las 11:59 pm del martes se deshabilita en canvas la entrega de la tarea, así que considérenlo para que no vayan a tener inconvenientes. Recuerden lo acordado el primer día de clase."
   ]
  }
 ],
 "metadata": {
  "kernelspec": {
   "display_name": "Python 3",
   "language": "python",
   "name": "python3"
  },
  "language_info": {
   "codemirror_mode": {
    "name": "ipython",
    "version": 3
   },
   "file_extension": ".py",
   "mimetype": "text/x-python",
   "name": "python",
   "nbconvert_exporter": "python",
   "pygments_lexer": "ipython3",
   "version": "3.7.1"
  }
 },
 "nbformat": 4,
 "nbformat_minor": 2
}
